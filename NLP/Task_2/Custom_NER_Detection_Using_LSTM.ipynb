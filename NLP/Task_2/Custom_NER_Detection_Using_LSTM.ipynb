{
  "nbformat": 4,
  "nbformat_minor": 0,
  "metadata": {
    "colab": {
      "name": "NLP_Assignment2_Part1cd.ipynb",
      "provenance": [],
      "collapsed_sections": [
        "8YiDi3cui9C3",
        "PxYO7q8AQRjW",
        "E9J8nmSPjGPw",
        "Vd1zZOnqjS2a",
        "_KYfALCHnOpb",
        "IKATuS4dyHjn",
        "2hDjEL02LfpT",
        "dWG08BGXfr2K"
      ]
    },
    "kernelspec": {
      "name": "python3",
      "display_name": "Python 3"
    },
    "language_info": {
      "name": "python"
    },
    "accelerator": "GPU"
  },
  "cells": [
    {
      "cell_type": "markdown",
      "metadata": {
        "id": "GbVP50CFrlKP"
      },
      "source": [
        "## Downloading Data "
      ]
    },
    {
      "cell_type": "code",
      "metadata": {
        "id": "BNB5nEMdrjF2"
      },
      "source": [
        "#Download Data For Glove Embedding\n",
        "!wget http://nlp.stanford.edu/data/glove.6B.zip\n",
        "!unzip glove*.zip"
      ],
      "execution_count": null,
      "outputs": []
    },
    {
      "cell_type": "code",
      "metadata": {
        "colab": {
          "base_uri": "https://localhost:8080/"
        },
        "id": "XM8mM-hX1KLd",
        "outputId": "96a12ca1-8cf3-4eb5-e339-3135a5964e7e"
      },
      "source": [
        "# Installing mittens for fine tuning Glove Embedding\n",
        "!pip install -U mittens"
      ],
      "execution_count": null,
      "outputs": [
        {
          "output_type": "stream",
          "text": [
            "Collecting mittens\n",
            "  Downloading https://files.pythonhosted.org/packages/ce/c0/6e4fce5b3cb88edde2e657bb4da9885c0aeac232981706beed7f43773b00/mittens-0.2-py3-none-any.whl\n",
            "Requirement already satisfied, skipping upgrade: numpy in /usr/local/lib/python3.7/dist-packages (from mittens) (1.19.5)\n",
            "Installing collected packages: mittens\n",
            "Successfully installed mittens-0.2\n"
          ],
          "name": "stdout"
        }
      ]
    },
    {
      "cell_type": "code",
      "metadata": {
        "id": "fxBjerJ01Nvn",
        "colab": {
          "base_uri": "https://localhost:8080/"
        },
        "outputId": "5b831f3c-8e50-4d5d-90d9-1e719e187f4d"
      },
      "source": [
        "!pip install transformers"
      ],
      "execution_count": null,
      "outputs": [
        {
          "output_type": "stream",
          "text": [
            "Collecting transformers\n",
            "\u001b[?25l  Downloading https://files.pythonhosted.org/packages/b0/9e/5b80becd952d5f7250eaf8fc64b957077b12ccfe73e9c03d37146ab29712/transformers-4.6.0-py3-none-any.whl (2.3MB)\n",
            "\u001b[K     |████████████████████████████████| 2.3MB 6.6MB/s \n",
            "\u001b[?25hCollecting tokenizers<0.11,>=0.10.1\n",
            "\u001b[?25l  Downloading https://files.pythonhosted.org/packages/ae/04/5b870f26a858552025a62f1649c20d29d2672c02ff3c3fb4c688ca46467a/tokenizers-0.10.2-cp37-cp37m-manylinux2010_x86_64.whl (3.3MB)\n",
            "\u001b[K     |████████████████████████████████| 3.3MB 42.1MB/s \n",
            "\u001b[?25hRequirement already satisfied: numpy>=1.17 in /usr/local/lib/python3.7/dist-packages (from transformers) (1.19.5)\n",
            "Requirement already satisfied: regex!=2019.12.17 in /usr/local/lib/python3.7/dist-packages (from transformers) (2019.12.20)\n",
            "Collecting sacremoses\n",
            "\u001b[?25l  Downloading https://files.pythonhosted.org/packages/75/ee/67241dc87f266093c533a2d4d3d69438e57d7a90abb216fa076e7d475d4a/sacremoses-0.0.45-py3-none-any.whl (895kB)\n",
            "\u001b[K     |████████████████████████████████| 901kB 39.5MB/s \n",
            "\u001b[?25hRequirement already satisfied: filelock in /usr/local/lib/python3.7/dist-packages (from transformers) (3.0.12)\n",
            "Requirement already satisfied: requests in /usr/local/lib/python3.7/dist-packages (from transformers) (2.23.0)\n",
            "Requirement already satisfied: tqdm>=4.27 in /usr/local/lib/python3.7/dist-packages (from transformers) (4.41.1)\n",
            "Collecting huggingface-hub==0.0.8\n",
            "  Downloading https://files.pythonhosted.org/packages/a1/88/7b1e45720ecf59c6c6737ff332f41c955963090a18e72acbcbeac6b25e86/huggingface_hub-0.0.8-py3-none-any.whl\n",
            "Requirement already satisfied: importlib-metadata; python_version < \"3.8\" in /usr/local/lib/python3.7/dist-packages (from transformers) (4.0.1)\n",
            "Requirement already satisfied: packaging in /usr/local/lib/python3.7/dist-packages (from transformers) (20.9)\n",
            "Requirement already satisfied: joblib in /usr/local/lib/python3.7/dist-packages (from sacremoses->transformers) (1.0.1)\n",
            "Requirement already satisfied: six in /usr/local/lib/python3.7/dist-packages (from sacremoses->transformers) (1.15.0)\n",
            "Requirement already satisfied: click in /usr/local/lib/python3.7/dist-packages (from sacremoses->transformers) (8.0.0)\n",
            "Requirement already satisfied: certifi>=2017.4.17 in /usr/local/lib/python3.7/dist-packages (from requests->transformers) (2020.12.5)\n",
            "Requirement already satisfied: idna<3,>=2.5 in /usr/local/lib/python3.7/dist-packages (from requests->transformers) (2.10)\n",
            "Requirement already satisfied: chardet<4,>=3.0.2 in /usr/local/lib/python3.7/dist-packages (from requests->transformers) (3.0.4)\n",
            "Requirement already satisfied: urllib3!=1.25.0,!=1.25.1,<1.26,>=1.21.1 in /usr/local/lib/python3.7/dist-packages (from requests->transformers) (1.24.3)\n",
            "Requirement already satisfied: zipp>=0.5 in /usr/local/lib/python3.7/dist-packages (from importlib-metadata; python_version < \"3.8\"->transformers) (3.4.1)\n",
            "Requirement already satisfied: typing-extensions>=3.6.4; python_version < \"3.8\" in /usr/local/lib/python3.7/dist-packages (from importlib-metadata; python_version < \"3.8\"->transformers) (3.7.4.3)\n",
            "Requirement already satisfied: pyparsing>=2.0.2 in /usr/local/lib/python3.7/dist-packages (from packaging->transformers) (2.4.7)\n",
            "Installing collected packages: tokenizers, sacremoses, huggingface-hub, transformers\n",
            "Successfully installed huggingface-hub-0.0.8 sacremoses-0.0.45 tokenizers-0.10.2 transformers-4.6.0\n"
          ],
          "name": "stdout"
        }
      ]
    },
    {
      "cell_type": "code",
      "metadata": {
        "id": "-pXwcR5YabKr"
      },
      "source": [
        "!pip install bert-embedding"
      ],
      "execution_count": null,
      "outputs": []
    },
    {
      "cell_type": "markdown",
      "metadata": {
        "id": "8YiDi3cui9C3"
      },
      "source": [
        "## Loading required libraries"
      ]
    },
    {
      "cell_type": "code",
      "metadata": {
        "id": "ByYQydTZL6qz",
        "colab": {
          "base_uri": "https://localhost:8080/"
        },
        "outputId": "276c43fc-7d44-4897-8705-eac255e6d40e"
      },
      "source": [
        "import re\n",
        "import numpy as np\n",
        "import pandas as pd\n",
        "from tqdm import tqdm\n",
        "import matplotlib.pyplot as plt\n",
        "\n",
        "\n",
        "import nltk\n",
        "from nltk.tag import StanfordNERTagger\n",
        "from nltk.corpus import stopwords \n",
        "from nltk.tokenize import word_tokenize\n",
        "from nltk.stem import WordNetLemmatizer \n",
        "\n",
        "import spacy \n",
        "from spacy import displacy\n",
        "\n",
        "from gensim.models import Word2Vec\n",
        "from gensim.models.fasttext import FastText\n",
        "from mittens import GloVe, Mittens\n",
        "\n",
        "from sklearn.datasets import fetch_20newsgroups\n",
        "\n",
        "from keras.preprocessing.text import Tokenizer\n",
        "from keras.preprocessing.sequence import pad_sequences\n",
        "from keras.models import Sequential\n",
        "from keras.layers import Dense, Bidirectional, LSTM, Dropout, BatchNormalization\n",
        "from keras.layers.embeddings import Embedding\n",
        "from tensorflow.keras.utils import to_categorical\n",
        "\n",
        "from tensorflow.keras import Model,Input\n",
        "from tensorflow.keras.layers import LSTM,Embedding,Dense\n",
        "from tensorflow.keras.layers import TimeDistributed, SpatialDropout1D,Bidirectional\n",
        "\n",
        "import keras\n",
        "import pickle\n",
        "\n",
        "from sklearn.model_selection import train_test_split\n",
        "from sklearn.metrics import classification_report, precision_recall_curve,plot_confusion_matrix,confusion_matrix\n",
        "\n",
        "from collections import Counter\n",
        "from mittens import GloVe, Mittens\n",
        "from sklearn.feature_extraction import stop_words\n",
        "from sklearn.feature_extraction.text import CountVectorizer\n",
        "\n",
        "nltk.download('stopwords')\n",
        "nltk.download('wordnet')\n",
        "nltk.download('punkt')\n",
        "\n",
        "import warnings\n",
        "warnings.filterwarnings('ignore')"
      ],
      "execution_count": null,
      "outputs": [
        {
          "output_type": "stream",
          "text": [
            "/usr/local/lib/python3.7/dist-packages/sklearn/utils/deprecation.py:144: FutureWarning: The sklearn.feature_extraction.stop_words module is  deprecated in version 0.22 and will be removed in version 0.24. The corresponding classes / functions should instead be imported from sklearn.feature_extraction.text. Anything that cannot be imported from sklearn.feature_extraction.text is now part of the private API.\n",
            "  warnings.warn(message, FutureWarning)\n"
          ],
          "name": "stderr"
        },
        {
          "output_type": "stream",
          "text": [
            "[nltk_data] Downloading package stopwords to /root/nltk_data...\n",
            "[nltk_data]   Unzipping corpora/stopwords.zip.\n",
            "[nltk_data] Downloading package wordnet to /root/nltk_data...\n",
            "[nltk_data]   Unzipping corpora/wordnet.zip.\n",
            "[nltk_data] Downloading package punkt to /root/nltk_data...\n",
            "[nltk_data]   Unzipping tokenizers/punkt.zip.\n"
          ],
          "name": "stdout"
        }
      ]
    },
    {
      "cell_type": "markdown",
      "metadata": {
        "id": "PxYO7q8AQRjW"
      },
      "source": [
        "## Required Functions"
      ]
    },
    {
      "cell_type": "code",
      "metadata": {
        "id": "iW0JZRBEQV5U"
      },
      "source": [
        "def decontracted(phrase):\n",
        "    ''' \n",
        "      Function used to decontact the words in the phrase\n",
        "      Input: phrase\n",
        "      Output: decontracted phrase\n",
        "    '''\n",
        "    phrase = re.sub(r\"\\S+@\\S+\",\" \",phrase)\n",
        "    phrase = re.sub(r\"won't\", \"will not\", phrase)\n",
        "    phrase = re.sub(r\"can\\'t\", \"can not\", phrase)\n",
        "    phrase = re.sub(r\"n\\'t\", \" not\", phrase)\n",
        "    phrase = re.sub(r\"\\'re\", \" are\", phrase)\n",
        "    phrase = re.sub(r\"\\'s\", \" is\", phrase)\n",
        "    phrase = re.sub(r\"\\'d\", \" would\", phrase)\n",
        "    phrase = re.sub(r\"\\'ll\", \" will\", phrase)\n",
        "    phrase = re.sub(r\"\\'t\", \" not\", phrase)\n",
        "    phrase = re.sub(r\"\\'ve\", \" have\", phrase)\n",
        "    phrase = re.sub(r\"\\'m\", \" am\", phrase)\n",
        "    phrase = re.sub('[^A-Za-z.]+', ' ', phrase)\n",
        "    return phrase"
      ],
      "execution_count": null,
      "outputs": []
    },
    {
      "cell_type": "markdown",
      "metadata": {
        "id": "E9J8nmSPjGPw"
      },
      "source": [
        "## Downloading the 20newsgroup dataset from sklearn"
      ]
    },
    {
      "cell_type": "code",
      "metadata": {
        "id": "sSNk8EyuRdkZ",
        "colab": {
          "base_uri": "https://localhost:8080/"
        },
        "outputId": "70a51569-77d5-41ba-95b2-ba6a8c4ca563"
      },
      "source": [
        "twenty_data = fetch_20newsgroups(subset='all', shuffle=False, remove=('headers', 'quotes'))"
      ],
      "execution_count": null,
      "outputs": [
        {
          "output_type": "stream",
          "text": [
            "Downloading 20news dataset. This may take a few minutes.\n",
            "Downloading dataset from https://ndownloader.figshare.com/files/5975967 (14 MB)\n"
          ],
          "name": "stderr"
        }
      ]
    },
    {
      "cell_type": "code",
      "metadata": {
        "colab": {
          "base_uri": "https://localhost:8080/"
        },
        "id": "ASY152IjuFKP",
        "outputId": "e5dee126-0073-4684-f171-8cbd26d6b380"
      },
      "source": [
        "twenty_data.data[402]"
      ],
      "execution_count": null,
      "outputs": [
        {
          "output_type": "execute_result",
          "data": {
            "application/vnd.google.colaboratory.intrinsic+json": {
              "type": "string"
            },
            "text/plain": [
              "'\\n\\n\\nHere in the UK, the bandwidth restriction apparently only apply to \\nlocal lines.. ie those used by the average domestic client. Private\\nlines which are run from the local exchange to the leasing client are \\nusually capable of a higher bandwidth if the exchange is digital.\\n\\nDon\\'t quote me on that..... But I think I remember a BT engineer \\nsaying something to that effect when I was doing some work\\nshadowing a few years ago.\\n\\nByeeeee !\\n\\n\\nChris ;-)\\n\\n  +====================================================================+\\n  |Name : Mr Chris Smith       |     Twang on that \\'ole guitar !       |\\n  |Addrs: scst83@uk.ac.liv.csc |                                       |\\n  |Uni  : Liverpool University |Quest: To build more and more hardware |\\n  |Dgree: Computer Science     |                                       |\\n  +====================================================================+\\n\\n \"What ever the sun may be, it is certainly not a ball of flaming gas!\"\\n  -- D.H. Lawrence.\\n\\n * All views expressed are my own, and reflect that of private thought. *\\n'"
            ]
          },
          "metadata": {
            "tags": []
          },
          "execution_count": 7
        }
      ]
    },
    {
      "cell_type": "markdown",
      "metadata": {
        "id": "Vd1zZOnqjS2a"
      },
      "source": [
        "## Cleaning the data"
      ]
    },
    {
      "cell_type": "code",
      "metadata": {
        "colab": {
          "base_uri": "https://localhost:8080/"
        },
        "id": "sZzthKFmk_0L",
        "outputId": "dc5f33f5-d294-48a2-a606-54527d62450b"
      },
      "source": [
        "data = []\n",
        "for i in tqdm(range(len(twenty_data.data))):\n",
        "   temp = twenty_data.data[i]\n",
        "   temp = decontracted(temp) \n",
        "   temp = temp.split('.')\n",
        "   data.extend(temp)"
      ],
      "execution_count": null,
      "outputs": [
        {
          "output_type": "stream",
          "text": [
            "100%|██████████| 18846/18846 [00:02<00:00, 6835.82it/s]\n"
          ],
          "name": "stderr"
        }
      ]
    },
    {
      "cell_type": "code",
      "metadata": {
        "id": "2WCLWqlXA4Q6"
      },
      "source": [
        "max_len = 0\n",
        "for i in data:\n",
        "  if((len(i) < 20) or (len(i) > 500)):\n",
        "    data.remove(i)"
      ],
      "execution_count": null,
      "outputs": []
    },
    {
      "cell_type": "markdown",
      "metadata": {
        "id": "nAYg8GBb_EdQ"
      },
      "source": [
        "# Extracting NER uisng Spacy and creating  annotated documents for NER detection."
      ]
    },
    {
      "cell_type": "code",
      "metadata": {
        "id": "aQ_VVOGy-dIv"
      },
      "source": [
        "nlp = spacy.load(\"en_core_web_sm\")"
      ],
      "execution_count": null,
      "outputs": []
    },
    {
      "cell_type": "code",
      "metadata": {
        "colab": {
          "base_uri": "https://localhost:8080/"
        },
        "id": "8C-AbMG8HSfL",
        "outputId": "ee94a792-3e92-464e-e6a1-39b1879e8cb2"
      },
      "source": [
        "ent_spacy = []\n",
        "lab_spacy = []\n",
        "unique_ent = []\n",
        "for text in tqdm(data):\n",
        "\n",
        "  temp1 = []\n",
        "  temp2 = []\n",
        "\n",
        "  doc = nlp(text)\n",
        "\n",
        "  for token in doc:\n",
        "    temp1.append(str(token))\n",
        "    if token.ent_type_ == '':\n",
        "      ent = 'O'\n",
        "    else: \n",
        "      ent = str(token.ent_type_)\n",
        "    \n",
        "    if ent not in unique_ent:\n",
        "      unique_ent.append(ent)\n",
        "\n",
        "    temp2.append(ent)\n",
        "\n",
        "  lab_spacy.append(temp2[1:])\n",
        "  ent_spacy.append(temp1[1:])\n",
        " \n"
      ],
      "execution_count": null,
      "outputs": [
        {
          "output_type": "stream",
          "text": [
            "100%|██████████| 236391/236391 [3:12:53<00:00, 20.43it/s]\n"
          ],
          "name": "stderr"
        }
      ]
    },
    {
      "cell_type": "code",
      "metadata": {
        "colab": {
          "base_uri": "https://localhost:8080/"
        },
        "id": "WQOHgEZbf7Du",
        "outputId": "fbf82237-72ea-48d2-f382-8f827f14ec13"
      },
      "source": [
        "print(\"Number of unique NER Tag \", len(unique_ent))"
      ],
      "execution_count": null,
      "outputs": [
        {
          "output_type": "stream",
          "text": [
            "Number of unique NER Tag  19\n"
          ],
          "name": "stdout"
        }
      ]
    },
    {
      "cell_type": "code",
      "metadata": {
        "id": "39or9crGT8Q7"
      },
      "source": [
        "dict = {'Sentence': ent_spacy, 'NER_TAG': lab_spacy} \n",
        "     \n",
        "df = pd.DataFrame(dict)\n",
        "df.to_csv('annotated_data.csv')"
      ],
      "execution_count": null,
      "outputs": []
    },
    {
      "cell_type": "code",
      "metadata": {
        "id": "fb8V1_aOBjFV"
      },
      "source": [
        "with open(\"ent_spacy.txt\", \"wb\") as fp:\n",
        "    pickle.dump(ent_spacy, fp)"
      ],
      "execution_count": null,
      "outputs": []
    },
    {
      "cell_type": "code",
      "metadata": {
        "id": "-RuTSZXBBp75"
      },
      "source": [
        "with open(\"lab_spacy.txt\", \"wb\") as fp:\n",
        "    pickle.dump(lab_spacy, fp)"
      ],
      "execution_count": null,
      "outputs": []
    },
    {
      "cell_type": "code",
      "metadata": {
        "id": "n9KGZWBHBqFZ"
      },
      "source": [
        "with open(\"lab_spacy.txt\", \"rb\") as fp:\n",
        "      lab_spacy, = pickle.load(fp)"
      ],
      "execution_count": null,
      "outputs": []
    },
    {
      "cell_type": "code",
      "metadata": {
        "id": "Q7PJHBd0B3zT"
      },
      "source": [
        "with open(\"ent_spacy.txt\", \"rb\") as fp:\n",
        "      ent_spacy = pickle.load(fp)"
      ],
      "execution_count": null,
      "outputs": []
    },
    {
      "cell_type": "markdown",
      "metadata": {
        "id": "_KYfALCHnOpb"
      },
      "source": [
        "# Word2Vec Embedding and LSTM based NER Model"
      ]
    },
    {
      "cell_type": "code",
      "metadata": {
        "id": "uImYllphtFV2"
      },
      "source": [
        "data_u = ent_spacy\n",
        "tags_list = lab_spacy"
      ],
      "execution_count": null,
      "outputs": []
    },
    {
      "cell_type": "code",
      "metadata": {
        "id": "9AySIDilnMH8"
      },
      "source": [
        "# Fine Tune w2v model on data set\n",
        "w2v_model=Word2Vec(data_u,min_count=1,size=50, workers=4)"
      ],
      "execution_count": null,
      "outputs": []
    },
    {
      "cell_type": "code",
      "metadata": {
        "colab": {
          "base_uri": "https://localhost:8080/"
        },
        "id": "-mbaHvbQnbmR",
        "outputId": "e7c565fa-414b-4b93-8407-fc150d474d6f"
      },
      "source": [
        "w2v_words = list(w2v_model.wv.vocab)\n",
        "print(\"number of words that occured minimum 1 times \",len(w2v_words))\n",
        "print(\"sample words \", w2v_words[:20])"
      ],
      "execution_count": null,
      "outputs": [
        {
          "output_type": "stream",
          "text": [
            "number of words that occured minimum 1 times  19835\n",
            "sample words  ['morgan', 'and', 'guzman', 'will', 'have', 'era', 'is', 'run', 'higher', 'than', 'last', 'year', 'the', 'cubs', 'be', 'idiots', 'not', 'pitch', 'harkey', 'as']\n"
          ],
          "name": "stdout"
        }
      ]
    },
    {
      "cell_type": "code",
      "metadata": {
        "id": "z5BGEoLbnbo6"
      },
      "source": [
        "# Finding length of longest review\n",
        "max_length = 128"
      ],
      "execution_count": null,
      "outputs": []
    },
    {
      "cell_type": "code",
      "metadata": {
        "id": "IDjYmBMknbtL"
      },
      "source": [
        "# Tokenizing Data\n",
        "token = Tokenizer()\n",
        "token.fit_on_texts(data_u)\n",
        "vocab_size = len(token.word_index) + 1\n",
        "encoded = token.texts_to_sequences(data)\n",
        "padded_data = pad_sequences(encoded, maxlen=max_length, padding='post')\n",
        "\n",
        "vocab_size = len(token.word_index) + 1"
      ],
      "execution_count": null,
      "outputs": []
    },
    {
      "cell_type": "code",
      "metadata": {
        "id": "mZI-I2Vt2Khv"
      },
      "source": [
        "#Creating Embedding matrix using trained word to vec model\n",
        "embedding_matrix = np.zeros((vocab_size, 50))\n",
        "for word, i in token.word_index.items():\n",
        "    try: \n",
        "      embedding_vector = w2v_model.wv[word]\n",
        "    except:\n",
        "      embedding_vector  = None\n",
        "\n",
        "    if embedding_vector is not None:\n",
        "        embedding_matrix[i] = embedding_vector"
      ],
      "execution_count": null,
      "outputs": []
    },
    {
      "cell_type": "code",
      "metadata": {
        "colab": {
          "base_uri": "https://localhost:8080/"
        },
        "id": "ZXw5-Fuk5-Xr",
        "outputId": "130c384d-b9ae-4f06-9464-040bce603655"
      },
      "source": [
        "# Creating Tag Mapping and Encoding the Tags\n",
        "tags=list(set(unique_ent))\n",
        "print(tags)\n",
        "num_tags=len(tags)\n",
        "print(\"Number of Tags \",num_tags)\n",
        "\n",
        "tags_map={tag:i for i,tag in enumerate(tags)}\n",
        "print(\"Tags Map \",tags_map)"
      ],
      "execution_count": null,
      "outputs": [
        {
          "output_type": "stream",
          "text": [
            "['LOC', 'PRODUCT', 'LANGUAGE', 'DATE', 'EVENT', 'ORDINAL', 'CARDINAL', 'PERSON', 'LAW', 'WORK_OF_ART', 'O', 'NORP', 'ORG', 'GPE', 'TIME', 'QUANTITY', 'MONEY', 'PERCENT', 'FAC']\n",
            "Number of Tags  19\n",
            "Tags Map  {'LOC': 0, 'PRODUCT': 1, 'LANGUAGE': 2, 'DATE': 3, 'EVENT': 4, 'ORDINAL': 5, 'CARDINAL': 6, 'PERSON': 7, 'LAW': 8, 'WORK_OF_ART': 9, 'O': 10, 'NORP': 11, 'ORG': 12, 'GPE': 13, 'TIME': 14, 'QUANTITY': 15, 'MONEY': 16, 'PERCENT': 17, 'FAC': 18}\n"
          ],
          "name": "stdout"
        }
      ]
    },
    {
      "cell_type": "code",
      "metadata": {
        "id": "IRYhxDPq6PNW"
      },
      "source": [
        "# Creating Reverse tag Map\n",
        "reverse_tag_map={v: k for k, v in tags_map.items()}"
      ],
      "execution_count": null,
      "outputs": []
    },
    {
      "cell_type": "code",
      "metadata": {
        "colab": {
          "base_uri": "https://localhost:8080/"
        },
        "id": "fPPRWPEX6XjH",
        "outputId": "c0d116ba-c079-416e-9380-b3a7e1d6a3df"
      },
      "source": [
        "# Encoding taggs\n",
        "encoded_tags=[[tags_map[w] for w in tag] for tag in tags_list]\n",
        "print(\"First Sentence \",data[0])\n",
        "print('First Sentence Original Tags ',tags_list[0])\n",
        "print(\"First Sentence Encoded Tags \",encoded_tags[0])\n",
        "print(\"Is length of Original Tags and Encoded Tags same \",len(tags_list[0])==len(encoded_tags[0]))\n",
        "print(\"Length of Tags for First Sentence \",len(encoded_tags[0]))"
      ],
      "execution_count": null,
      "outputs": [
        {
          "output_type": "stream",
          "text": [
            "First Sentence   morgan and guzman will have era is run higher than last year and the cubs will be idiots and not pitch harkey as much as hibbard\n",
            "First Sentence Original Tags  ['PERSON', 'O', 'ORG', 'O', 'O', 'O', 'O', 'O', 'O', 'O', 'DATE', 'DATE', 'O', 'O', 'O', 'O', 'O', 'O', 'O', 'O', 'O', 'O', 'O', 'O', 'O', 'O']\n",
            "First Sentence Encoded Tags  [7, 10, 12, 10, 10, 10, 10, 10, 10, 10, 3, 3, 10, 10, 10, 10, 10, 10, 10, 10, 10, 10, 10, 10, 10, 10]\n",
            "Is length of Original Tags and Encoded Tags same  True\n",
            "Length of Tags for First Sentence  26\n"
          ],
          "name": "stdout"
        }
      ]
    },
    {
      "cell_type": "code",
      "metadata": {
        "id": "XF1O1bK26Xlo"
      },
      "source": [
        "# Add padding to encoded text\n",
        "padded_encoded_tags=pad_sequences(maxlen=max_length,sequences=encoded_tags,padding=\"post\",value=tags_map['O'])"
      ],
      "execution_count": null,
      "outputs": []
    },
    {
      "cell_type": "code",
      "metadata": {
        "id": "NGG7eQ7r6Xoh"
      },
      "source": [
        "padded_encoded_tags.shape"
      ],
      "execution_count": null,
      "outputs": []
    },
    {
      "cell_type": "code",
      "metadata": {
        "colab": {
          "base_uri": "https://localhost:8080/"
        },
        "id": "SAxGCfNb5Ohj",
        "outputId": "f6de5f06-d893-4655-a03f-af20d006845e"
      },
      "source": [
        "target= np.array([np.array(to_categorical(i,num_classes = num_tags)) for i in  padded_encoded_tags])\n",
        "print(\"Shape of Labels  after converting to Categorical\",target.shape)"
      ],
      "execution_count": null,
      "outputs": [
        {
          "output_type": "stream",
          "text": [
            "Shape of Labels  after converting to Categorical (10000, 128, 19)\n"
          ],
          "name": "stdout"
        }
      ]
    },
    {
      "cell_type": "code",
      "metadata": {
        "id": "81k2QCpD5Oj6"
      },
      "source": [
        "# Train and test split in 8:2 ratio\n",
        "x_train, x_test, y_train, y_test = train_test_split(padded_data, target, test_size=0.2)"
      ],
      "execution_count": null,
      "outputs": []
    },
    {
      "cell_type": "markdown",
      "metadata": {
        "id": "zdeXdZVUwhDn"
      },
      "source": [
        "Creating LSTM Model"
      ]
    },
    {
      "cell_type": "code",
      "metadata": {
        "colab": {
          "base_uri": "https://localhost:8080/"
        },
        "id": "vohOBWQzK94L",
        "outputId": "161f3c43-41ac-4ba3-9710-5cec4a2e7215"
      },
      "source": [
        "\n",
        "lstm_units=128\n",
        "max_len=128\n",
        "embedding_dim=128\n",
        "\n",
        "input_word = Input(shape = (max_len))\n",
        "model = Embedding(vocab_size, 50, input_length=max_length, weights=[embedding_matrix], trainable=True)(input_word)\n",
        "\n",
        "model = LSTM(units=embedding_dim,return_sequences=True)(model)\n",
        "model = Dropout(0.2)(model)\n",
        "model = BatchNormalization()(model)\n",
        "out = TimeDistributed(Dense(num_tags,activation = 'softmax'))(model)\n",
        "model = Model(input_word,out)\n",
        "\n",
        "model.compile(optimizer = 'adam',loss = 'categorical_crossentropy',metrics = ['accuracy'])\n",
        "model.summary()"
      ],
      "execution_count": null,
      "outputs": [
        {
          "output_type": "stream",
          "text": [
            "Model: \"model_12\"\n",
            "_________________________________________________________________\n",
            "Layer (type)                 Output Shape              Param #   \n",
            "=================================================================\n",
            "input_16 (InputLayer)        [(None, 128)]             0         \n",
            "_________________________________________________________________\n",
            "embedding_22 (Embedding)     (None, 128, 50)           834200    \n",
            "_________________________________________________________________\n",
            "lstm_29 (LSTM)               (None, 128, 128)          91648     \n",
            "_________________________________________________________________\n",
            "dropout_13 (Dropout)         (None, 128, 128)          0         \n",
            "_________________________________________________________________\n",
            "batch_normalization_12 (Batc (None, 128, 128)          512       \n",
            "_________________________________________________________________\n",
            "time_distributed_13 (TimeDis (None, 128, 19)           2451      \n",
            "=================================================================\n",
            "Total params: 928,811\n",
            "Trainable params: 928,555\n",
            "Non-trainable params: 256\n",
            "_________________________________________________________________\n"
          ],
          "name": "stdout"
        }
      ]
    },
    {
      "cell_type": "code",
      "metadata": {
        "colab": {
          "base_uri": "https://localhost:8080/"
        },
        "id": "t2R3oQM_IdY6",
        "outputId": "1781da38-9e39-4f33-dff9-20663ebb49f1"
      },
      "source": [
        "## Fit train data\n",
        "history = model.fit(x_train,y_train,validation_split=0.2,batch_size=32, epochs =10)"
      ],
      "execution_count": null,
      "outputs": [
        {
          "output_type": "stream",
          "text": [
            "Epoch 1/10\n",
            "200/200 [==============================] - 37s 176ms/step - loss: 1.9199 - accuracy: 0.8195 - val_loss: 0.1066 - val_accuracy: 0.9874\n",
            "Epoch 2/10\n",
            "200/200 [==============================] - 35s 174ms/step - loss: 0.0632 - accuracy: 0.9894 - val_loss: 0.0881 - val_accuracy: 0.9874\n",
            "Epoch 3/10\n",
            "200/200 [==============================] - 35s 175ms/step - loss: 0.0407 - accuracy: 0.9913 - val_loss: 0.0628 - val_accuracy: 0.9875\n",
            "Epoch 4/10\n",
            "200/200 [==============================] - 35s 175ms/step - loss: 0.0282 - accuracy: 0.9935 - val_loss: 0.0432 - val_accuracy: 0.9904\n",
            "Epoch 5/10\n",
            "200/200 [==============================] - 35s 176ms/step - loss: 0.0219 - accuracy: 0.9945 - val_loss: 0.0433 - val_accuracy: 0.9904\n",
            "Epoch 6/10\n",
            "200/200 [==============================] - 35s 175ms/step - loss: 0.0194 - accuracy: 0.9951 - val_loss: 0.0458 - val_accuracy: 0.9897\n",
            "Epoch 7/10\n",
            "200/200 [==============================] - 35s 175ms/step - loss: 0.0168 - accuracy: 0.9955 - val_loss: 0.0492 - val_accuracy: 0.9904\n",
            "Epoch 8/10\n",
            "200/200 [==============================] - 35s 175ms/step - loss: 0.0153 - accuracy: 0.9959 - val_loss: 0.0495 - val_accuracy: 0.9895\n",
            "Epoch 9/10\n",
            "200/200 [==============================] - 35s 175ms/step - loss: 0.0181 - accuracy: 0.9954 - val_loss: 0.0511 - val_accuracy: 0.9902\n",
            "Epoch 10/10\n",
            "200/200 [==============================] - 35s 174ms/step - loss: 0.0121 - accuracy: 0.9965 - val_loss: 0.0547 - val_accuracy: 0.9898\n"
          ],
          "name": "stdout"
        }
      ]
    },
    {
      "cell_type": "code",
      "metadata": {
        "id": "Jm8dV-3w6upa"
      },
      "source": [
        "t_loss = history.history['loss']\n",
        "v_loss = history.history['val_loss']\n",
        "accuracy = history.history['accuracy']\n",
        "val_accuracy = history.history['val_accuracy']"
      ],
      "execution_count": null,
      "outputs": []
    },
    {
      "cell_type": "code",
      "metadata": {
        "colab": {
          "base_uri": "https://localhost:8080/",
          "height": 295
        },
        "id": "PQNlcFE56upc",
        "outputId": "e328f4eb-7e1e-455c-89bf-58554e009947"
      },
      "source": [
        "\n",
        "x = [i for i in range(1,11)]\n",
        "\n",
        "plt.title(\" Training and Validation Loss\")\n",
        "plt.xlabel('Epoch')\n",
        "plt.ylabel('Loss')\n",
        "\n",
        "plt.plot(x,t_loss,label='Training Loss')\n",
        "plt.plot(x,v_loss,label='Validation Loss')\n",
        "\n",
        "plt.legend()\n",
        "plt.show()"
      ],
      "execution_count": null,
      "outputs": [
        {
          "output_type": "display_data",
          "data": {
            "image/png": "[encoded data removed]",
            "text/plain": [
              "<Figure size 432x288 with 1 Axes>"
            ]
          },
          "metadata": {
            "tags": [],
            "needs_background": "light"
          }
        }
      ]
    },
    {
      "cell_type": "code",
      "metadata": {
        "colab": {
          "base_uri": "https://localhost:8080/",
          "height": 295
        },
        "id": "_hsHea-86upf",
        "outputId": "0d5ef7ba-ebbe-4e56-a191-4fefea1ce498"
      },
      "source": [
        "x = [i for i in range(1,11)]\n",
        "\n",
        "plt.title(\" Training and Validation Accuracy\")\n",
        "\n",
        "plt.xlabel('Epoch')\n",
        "plt.ylabel('Accuracy')\n",
        "\n",
        "plt.plot(x,accuracy,label='Training Accuracy')\n",
        "plt.plot(x,val_accuracy,label='Validation Validation')\n",
        "\n",
        "plt.legend()\n",
        "plt.show()"
      ],
      "execution_count": null,
      "outputs": [
        {
          "output_type": "display_data",
          "data": {
            "image/png": "[encoded data removed]",
            "text/plain": [
              "<Figure size 432x288 with 1 Axes>"
            ]
          },
          "metadata": {
            "tags": [],
            "needs_background": "light"
          }
        }
      ]
    },
    {
      "cell_type": "markdown",
      "metadata": {
        "id": "lwfF8uXPxA_8"
      },
      "source": [
        "**Evaluating the Model**\n",
        "\n",
        "To evaluate the model, we will have to remove the padded portion and identify the accuracy. For this, for every test data, let us create a dataframe wuth the tokens and the actual and predicted value - and use it to calculate the metrics"
      ]
    },
    {
      "cell_type": "code",
      "metadata": {
        "id": "70UjDg0huizQ"
      },
      "source": [
        "def evaluatePredictions(test_data,preds,actual_preds):\n",
        "    print(\"Shape of Test Data Array\",test_data.shape)\n",
        "    y_actual=np.argmax(np.array(actual_preds),axis=2)\n",
        "    y_pred=np.argmax(preds,axis=2)\n",
        "    num_test_data=test_data.shape[0]\n",
        "    print(\"Number of Test Data Points \",num_test_data)\n",
        "    data=pd.DataFrame()\n",
        "    df_list=[]\n",
        "    for i in range(num_test_data):\n",
        "        test_str=list(test_data[i])\n",
        "        df=pd.DataFrame()\n",
        "        df['test_tokens']=test_str\n",
        "        df['tokens']=df['test_tokens'].apply(lambda x:token.index_word[x] if x!=0 else '<PAD>')\n",
        "        df['actual_target_index']=list(y_actual[i])\n",
        "        df['pred_target_index']=list(y_pred[i])\n",
        "        df['actual_target_tag']=df['actual_target_index'].apply(lambda x:reverse_tag_map[x])\n",
        "        df['pred_target_tag']=df['pred_target_index'].apply(lambda x:reverse_tag_map[x])\n",
        "        df['id']=i+1\n",
        "        df_list.append(df)\n",
        "    data=pd.concat(df_list)\n",
        "    pred_data=data[data['tokens']!='<PAD>']\n",
        "    accuracy=pred_data[pred_data['actual_target_tag']==pred_data['pred_target_tag']].shape[0]/pred_data.shape[0]\n",
        "    \n",
        "    \n",
        "    return pred_data,accuracy"
      ],
      "execution_count": null,
      "outputs": []
    },
    {
      "cell_type": "code",
      "metadata": {
        "id": "RBtGmFRChrwo"
      },
      "source": [
        "y_pred = model.predict(x_test)"
      ],
      "execution_count": null,
      "outputs": []
    },
    {
      "cell_type": "code",
      "metadata": {
        "colab": {
          "base_uri": "https://localhost:8080/"
        },
        "id": "qNBP1Ca1ui3q",
        "outputId": "7bd13250-a9a5-4c35-bda1-f22944a550fa"
      },
      "source": [
        "pred_data,accuracy=evaluatePredictions(x_test,y_pred,y_test)"
      ],
      "execution_count": null,
      "outputs": [
        {
          "output_type": "stream",
          "text": [
            "Shape of Test Data Array (2000, 128)\n",
            "Number of Test Data Points  2000\n"
          ],
          "name": "stdout"
        }
      ]
    },
    {
      "cell_type": "code",
      "metadata": {
        "colab": {
          "base_uri": "https://localhost:8080/"
        },
        "id": "bkbHpqSUxNFg",
        "outputId": "ef4c7412-3d82-4da3-8ef1-f027287cee59"
      },
      "source": [
        "print(\"Accuracy on test data is : \",round(accuracy,2))"
      ],
      "execution_count": null,
      "outputs": [
        {
          "output_type": "stream",
          "text": [
            "Accuracy on test data is :  0.93\n"
          ],
          "name": "stdout"
        }
      ]
    },
    {
      "cell_type": "code",
      "metadata": {
        "id": "9PasDip_ui6O"
      },
      "source": [
        "y_pred=pred_data['pred_target_tag'].tolist()\n",
        "y_actual=pred_data['actual_target_tag'].tolist()"
      ],
      "execution_count": null,
      "outputs": []
    },
    {
      "cell_type": "code",
      "metadata": {
        "colab": {
          "base_uri": "https://localhost:8080/"
        },
        "id": "IMO2v8Q9vmNK",
        "outputId": "f22b41e7-343d-4cb2-957e-d62eea24995f"
      },
      "source": [
        "print(classification_report(y_actual,y_pred))"
      ],
      "execution_count": null,
      "outputs": [
        {
          "output_type": "stream",
          "text": [
            "/usr/local/lib/python3.7/dist-packages/sklearn/metrics/_classification.py:1272: UndefinedMetricWarning: Precision and F-score are ill-defined and being set to 0.0 in labels with no predicted samples. Use `zero_division` parameter to control this behavior.\n",
            "  _warn_prf(average, modifier, msg_start, len(result))\n",
            "/usr/local/lib/python3.7/dist-packages/sklearn/metrics/_classification.py:1272: UndefinedMetricWarning: Recall and F-score are ill-defined and being set to 0.0 in labels with no true samples. Use `zero_division` parameter to control this behavior.\n",
            "  _warn_prf(average, modifier, msg_start, len(result))\n"
          ],
          "name": "stderr"
        },
        {
          "output_type": "stream",
          "text": [
            "              precision    recall  f1-score   support\n",
            "\n",
            "    CARDINAL       0.67      0.56      0.61       177\n",
            "        DATE       0.72      0.31      0.44       249\n",
            "       EVENT       0.00      0.00      0.00        19\n",
            "         FAC       0.27      0.08      0.12        52\n",
            "         GPE       0.65      0.47      0.55       289\n",
            "    LANGUAGE       0.00      0.00      0.00         0\n",
            "         LAW       0.44      0.19      0.26        37\n",
            "         LOC       0.65      0.50      0.57       110\n",
            "       MONEY       0.00      0.00      0.00        11\n",
            "        NORP       0.77      0.64      0.69       181\n",
            "           O       0.95      0.98      0.96     33941\n",
            "     ORDINAL       0.73      0.88      0.80        58\n",
            "         ORG       0.43      0.32      0.37      1074\n",
            "      PERSON       0.73      0.40      0.52       836\n",
            "     PRODUCT       0.18      0.02      0.03       156\n",
            "    QUANTITY       0.00      0.00      0.00        21\n",
            "        TIME       0.52      0.32      0.39        47\n",
            " WORK_OF_ART       0.56      0.16      0.25        57\n",
            "\n",
            "    accuracy                           0.93     37315\n",
            "   macro avg       0.46      0.32      0.36     37315\n",
            "weighted avg       0.91      0.93      0.92     37315\n",
            "\n"
          ],
          "name": "stdout"
        }
      ]
    },
    {
      "cell_type": "code",
      "metadata": {
        "colab": {
          "base_uri": "https://localhost:8080/",
          "height": 419
        },
        "id": "dI3SHCumvmRw",
        "outputId": "f9d3cda4-12f7-46e1-abc9-4a5dc9b086c0"
      },
      "source": [
        "pred_data[pred_data['actual_target_tag']=='LOC']"
      ],
      "execution_count": null,
      "outputs": [
        {
          "output_type": "execute_result",
          "data": {
            "text/html": [
              "<div>\n",
              "<style scoped>\n",
              "    .dataframe tbody tr th:only-of-type {\n",
              "        vertical-align: middle;\n",
              "    }\n",
              "\n",
              "    .dataframe tbody tr th {\n",
              "        vertical-align: top;\n",
              "    }\n",
              "\n",
              "    .dataframe thead th {\n",
              "        text-align: right;\n",
              "    }\n",
              "</style>\n",
              "<table border=\"1\" class=\"dataframe\">\n",
              "  <thead>\n",
              "    <tr style=\"text-align: right;\">\n",
              "      <th></th>\n",
              "      <th>test_tokens</th>\n",
              "      <th>tokens</th>\n",
              "      <th>actual_target_index</th>\n",
              "      <th>pred_target_index</th>\n",
              "      <th>actual_target_tag</th>\n",
              "      <th>pred_target_tag</th>\n",
              "      <th>id</th>\n",
              "    </tr>\n",
              "  </thead>\n",
              "  <tbody>\n",
              "    <tr>\n",
              "      <th>10</th>\n",
              "      <td>2</td>\n",
              "      <td>the</td>\n",
              "      <td>0</td>\n",
              "      <td>10</td>\n",
              "      <td>LOC</td>\n",
              "      <td>O</td>\n",
              "      <td>132</td>\n",
              "    </tr>\n",
              "    <tr>\n",
              "      <th>11</th>\n",
              "      <td>763</td>\n",
              "      <td>southern</td>\n",
              "      <td>0</td>\n",
              "      <td>0</td>\n",
              "      <td>LOC</td>\n",
              "      <td>LOC</td>\n",
              "      <td>132</td>\n",
              "    </tr>\n",
              "    <tr>\n",
              "      <th>12</th>\n",
              "      <td>1190</td>\n",
              "      <td>hemisphere</td>\n",
              "      <td>0</td>\n",
              "      <td>0</td>\n",
              "      <td>LOC</td>\n",
              "      <td>LOC</td>\n",
              "      <td>132</td>\n",
              "    </tr>\n",
              "    <tr>\n",
              "      <th>3</th>\n",
              "      <td>247</td>\n",
              "      <td>south</td>\n",
              "      <td>0</td>\n",
              "      <td>0</td>\n",
              "      <td>LOC</td>\n",
              "      <td>LOC</td>\n",
              "      <td>412</td>\n",
              "    </tr>\n",
              "    <tr>\n",
              "      <th>4</th>\n",
              "      <td>482</td>\n",
              "      <td>georgia</td>\n",
              "      <td>0</td>\n",
              "      <td>0</td>\n",
              "      <td>LOC</td>\n",
              "      <td>LOC</td>\n",
              "      <td>412</td>\n",
              "    </tr>\n",
              "    <tr>\n",
              "      <th>...</th>\n",
              "      <td>...</td>\n",
              "      <td>...</td>\n",
              "      <td>...</td>\n",
              "      <td>...</td>\n",
              "      <td>...</td>\n",
              "      <td>...</td>\n",
              "      <td>...</td>\n",
              "    </tr>\n",
              "    <tr>\n",
              "      <th>9</th>\n",
              "      <td>7882</td>\n",
              "      <td>xmnblinkrate</td>\n",
              "      <td>0</td>\n",
              "      <td>1</td>\n",
              "      <td>LOC</td>\n",
              "      <td>PRODUCT</td>\n",
              "      <td>1954</td>\n",
              "    </tr>\n",
              "    <tr>\n",
              "      <th>30</th>\n",
              "      <td>247</td>\n",
              "      <td>south</td>\n",
              "      <td>0</td>\n",
              "      <td>0</td>\n",
              "      <td>LOC</td>\n",
              "      <td>LOC</td>\n",
              "      <td>1974</td>\n",
              "    </tr>\n",
              "    <tr>\n",
              "      <th>31</th>\n",
              "      <td>482</td>\n",
              "      <td>georgia</td>\n",
              "      <td>0</td>\n",
              "      <td>0</td>\n",
              "      <td>LOC</td>\n",
              "      <td>LOC</td>\n",
              "      <td>1974</td>\n",
              "    </tr>\n",
              "    <tr>\n",
              "      <th>32</th>\n",
              "      <td>385</td>\n",
              "      <td>island</td>\n",
              "      <td>0</td>\n",
              "      <td>0</td>\n",
              "      <td>LOC</td>\n",
              "      <td>LOC</td>\n",
              "      <td>1974</td>\n",
              "    </tr>\n",
              "    <tr>\n",
              "      <th>5</th>\n",
              "      <td>1143</td>\n",
              "      <td>marina</td>\n",
              "      <td>0</td>\n",
              "      <td>0</td>\n",
              "      <td>LOC</td>\n",
              "      <td>LOC</td>\n",
              "      <td>1981</td>\n",
              "    </tr>\n",
              "  </tbody>\n",
              "</table>\n",
              "<p>110 rows × 7 columns</p>\n",
              "</div>"
            ],
            "text/plain": [
              "    test_tokens        tokens  ...  pred_target_tag    id\n",
              "10            2           the  ...                O   132\n",
              "11          763      southern  ...              LOC   132\n",
              "12         1190    hemisphere  ...              LOC   132\n",
              "3           247         south  ...              LOC   412\n",
              "4           482       georgia  ...              LOC   412\n",
              "..          ...           ...  ...              ...   ...\n",
              "9          7882  xmnblinkrate  ...          PRODUCT  1954\n",
              "30          247         south  ...              LOC  1974\n",
              "31          482       georgia  ...              LOC  1974\n",
              "32          385        island  ...              LOC  1974\n",
              "5          1143        marina  ...              LOC  1981\n",
              "\n",
              "[110 rows x 7 columns]"
            ]
          },
          "metadata": {
            "tags": []
          },
          "execution_count": 246
        }
      ]
    },
    {
      "cell_type": "markdown",
      "metadata": {
        "id": "IKATuS4dyHjn"
      },
      "source": [
        "# Glove Embedding and LSTM based NER Model"
      ]
    },
    {
      "cell_type": "code",
      "metadata": {
        "id": "hyC3q7CgyTdA"
      },
      "source": [
        "data_u = ent_spacy\n",
        "tags_list = lab_spacy"
      ],
      "execution_count": null,
      "outputs": []
    },
    {
      "cell_type": "code",
      "metadata": {
        "id": "EgztMg4pyGvq"
      },
      "source": [
        "# Reading glove embedding file and creating embedding dictionary\n",
        "# Using 50 dimension embedding vector\n",
        "initial_embeddings = dict()\n",
        "f = open('./glove.6B.50d.txt')\n",
        "for line in f:\n",
        "    values = line.split()\n",
        "    word = values[0]\n",
        "    coefs = np.asarray(values[1:], dtype='float32')\n",
        "    initial_embeddings[word] = coefs\n",
        "f.close()"
      ],
      "execution_count": null,
      "outputs": []
    },
    {
      "cell_type": "code",
      "metadata": {
        "colab": {
          "base_uri": "https://localhost:8080/"
        },
        "id": "OvOSrUKQ-mut",
        "outputId": "37636c04-a04a-4c53-8cb3-71d6832c6550"
      },
      "source": [
        "#Finding words not in vocabolary\n",
        "oov = []\n",
        "for i in data:\n",
        "  for j in i :\n",
        "    if ((j not in initial_embeddings.keys()) and (j not in oov)):\n",
        "      oov.append(j)\n",
        "corp_vocab = list(set(oov))\n",
        "\n",
        "cv = CountVectorizer(ngram_range=(1,1), vocabulary=corp_vocab)\n",
        "X = cv.fit_transform(data)\n",
        "Xc = (X.T * X)\n",
        "Xc.setdiag(0)\n",
        "coocc_ar = Xc.toarray()\n"
      ],
      "execution_count": null,
      "outputs": [
        {
          "output_type": "stream",
          "text": [
            "/usr/local/lib/python3.7/dist-packages/scipy/sparse/_index.py:126: SparseEfficiencyWarning: Changing the sparsity structure of a csc_matrix is expensive. lil_matrix is more efficient.\n",
            "  self._set_arrayXarray(i, j, x)\n"
          ],
          "name": "stderr"
        }
      ]
    },
    {
      "cell_type": "code",
      "metadata": {
        "colab": {
          "base_uri": "https://localhost:8080/"
        },
        "id": "6gQYfGs0-vwx",
        "outputId": "55656c71-22cf-4544-fc7f-0d4ff9185d3f"
      },
      "source": [
        "mittens_model = Mittens(n=50, max_iter=500)\n",
        "new_embeddings = mittens_model.fit(\n",
        "    coocc_ar,\n",
        "    vocab=corp_vocab,\n",
        "    initial_embedding_dict= initial_embeddings)"
      ],
      "execution_count": null,
      "outputs": [
        {
          "output_type": "stream",
          "text": [
            "WARNING:tensorflow:From /usr/local/lib/python3.7/dist-packages/tensorflow/python/training/adagrad.py:77: calling Constant.__init__ (from tensorflow.python.ops.init_ops) with dtype is deprecated and will be removed in a future version.\n",
            "Instructions for updating:\n",
            "Call initializer instance with the dtype argument instead of passing it to the constructor\n"
          ],
          "name": "stdout"
        }
      ]
    },
    {
      "cell_type": "code",
      "metadata": {
        "id": "JGTFq-P8GgBf"
      },
      "source": [
        "max_length = 128"
      ],
      "execution_count": null,
      "outputs": []
    },
    {
      "cell_type": "code",
      "metadata": {
        "id": "-m1A3-hQ1-z-"
      },
      "source": [
        "# Tokenizing Data\n",
        "token = Tokenizer()\n",
        "token.fit_on_texts(data_u)\n",
        "vocab_size = len(token.word_index) + 1\n",
        "encoded = token.texts_to_sequences(data_u)\n",
        "padded_data = pad_sequences(encoded, maxlen=128, padding='post')"
      ],
      "execution_count": null,
      "outputs": []
    },
    {
      "cell_type": "code",
      "metadata": {
        "id": "QaFOxc2cG3hi"
      },
      "source": [
        "embeddings_index = initial_embeddings\n",
        "for i in range(len(oov)):\n",
        "  embeddings_index[oov[i]] = new_embeddings[i]"
      ],
      "execution_count": null,
      "outputs": []
    },
    {
      "cell_type": "code",
      "metadata": {
        "id": "6eKmmF42yYPZ"
      },
      "source": [
        "#Creating Embedding matrix using Glove Vector\n",
        "embedding_matrix = np.zeros((vocab_size, 50))\n",
        "for word, i in token.word_index.items():\n",
        "    embedding_vector = embeddings_index.get(word)\n",
        "    if embedding_vector is not None:\n",
        "        embedding_matrix[i] = embedding_vector"
      ],
      "execution_count": null,
      "outputs": []
    },
    {
      "cell_type": "code",
      "metadata": {
        "colab": {
          "base_uri": "https://localhost:8080/"
        },
        "id": "55z3vIp3yTdb",
        "outputId": "cebd65fc-7742-4bf0-c8ef-bd993611ed89"
      },
      "source": [
        "# Creating Tag Mapping and Encoding the Tags\n",
        "tags=list(set(unique_ent))\n",
        "print(tags)\n",
        "num_tags=len(tags)\n",
        "print(\"Number of Tags \",num_tags)\n",
        "\n",
        "tags_map={tag:i for i,tag in enumerate(tags)}\n",
        "print(\"Tags Map \",tags_map)"
      ],
      "execution_count": null,
      "outputs": [
        {
          "output_type": "stream",
          "text": [
            "['TIME', 'PERCENT', 'WORK_OF_ART', 'PRODUCT', 'LOC', 'ORDINAL', 'DATE', 'CARDINAL', 'QUANTITY', 'FAC', 'PERSON', 'ORG', 'EVENT', 'NORP', 'GPE', 'LAW', 'LANGUAGE', 'O', 'MONEY']\n",
            "Number of Tags  19\n",
            "Tags Map  {'TIME': 0, 'PERCENT': 1, 'WORK_OF_ART': 2, 'PRODUCT': 3, 'LOC': 4, 'ORDINAL': 5, 'DATE': 6, 'CARDINAL': 7, 'QUANTITY': 8, 'FAC': 9, 'PERSON': 10, 'ORG': 11, 'EVENT': 12, 'NORP': 13, 'GPE': 14, 'LAW': 15, 'LANGUAGE': 16, 'O': 17, 'MONEY': 18}\n"
          ],
          "name": "stdout"
        }
      ]
    },
    {
      "cell_type": "code",
      "metadata": {
        "id": "NQhEdWsvyTdc"
      },
      "source": [
        "# Creating Reverse tag Map\n",
        "reverse_tag_map={v: k for k, v in tags_map.items()}"
      ],
      "execution_count": null,
      "outputs": []
    },
    {
      "cell_type": "code",
      "metadata": {
        "colab": {
          "base_uri": "https://localhost:8080/"
        },
        "id": "Y3vaYbFgyTdc",
        "outputId": "01c3d03a-9034-4d42-c6eb-10f0acf07dbd"
      },
      "source": [
        "# Encoding taggs\n",
        "encoded_tags=[[tags_map[w] for w in tag] for tag in tags_list]\n",
        "print(\"First Sentence \",data[0])\n",
        "print('First Sentence Original Tags ',tags_list[0])\n",
        "print(\"First Sentence Encoded Tags \",encoded_tags[0])\n",
        "print(\"Is length of Original Tags and Encoded Tags same \",len(tags_list[0])==len(encoded_tags[0]))\n",
        "print(\"Length of Tags for First Sentence \",len(encoded_tags[0]))"
      ],
      "execution_count": null,
      "outputs": [
        {
          "output_type": "stream",
          "text": [
            "First Sentence   morgan and guzman will have era is run higher than last year and the cubs will be idiots and not pitch harkey as much as hibbard\n",
            "First Sentence Original Tags  ['PERSON', 'O', 'ORG', 'O', 'O', 'O', 'O', 'O', 'O', 'O', 'DATE', 'DATE', 'O', 'O', 'O', 'O', 'O', 'O', 'O', 'O', 'O', 'O', 'O', 'O', 'O', 'O']\n",
            "First Sentence Encoded Tags  [10, 17, 11, 17, 17, 17, 17, 17, 17, 17, 6, 6, 17, 17, 17, 17, 17, 17, 17, 17, 17, 17, 17, 17, 17, 17]\n",
            "Is length of Original Tags and Encoded Tags same  True\n",
            "Length of Tags for First Sentence  26\n"
          ],
          "name": "stdout"
        }
      ]
    },
    {
      "cell_type": "code",
      "metadata": {
        "id": "FICdDw50yTdd"
      },
      "source": [
        "# Add padding to encoded text\n",
        "padded_encoded_tags=pad_sequences(maxlen=max_length,sequences=encoded_tags,padding=\"post\",value=tags_map['O'])"
      ],
      "execution_count": null,
      "outputs": []
    },
    {
      "cell_type": "code",
      "metadata": {
        "id": "vHiiETACyTdd"
      },
      "source": [
        "padded_encoded_tags.shape"
      ],
      "execution_count": null,
      "outputs": []
    },
    {
      "cell_type": "code",
      "metadata": {
        "colab": {
          "base_uri": "https://localhost:8080/"
        },
        "id": "wYtalhSjyTde",
        "outputId": "c5ed7d3e-5c40-4c64-c333-146a453f1315"
      },
      "source": [
        "target= np.array([np.array(to_categorical(i,num_classes = num_tags)) for i in  padded_encoded_tags])\n",
        "print(\"Shape of Labels  after converting to Categorical\",target.shape)"
      ],
      "execution_count": null,
      "outputs": [
        {
          "output_type": "stream",
          "text": [
            "Shape of Labels  after converting to Categorical (5000, 128, 19)\n"
          ],
          "name": "stdout"
        }
      ]
    },
    {
      "cell_type": "code",
      "metadata": {
        "id": "dTNfq0XHyTde"
      },
      "source": [
        "# Train and test split in 8:2 ratio\n",
        "x_train, x_test, y_train, y_test = train_test_split(padded_data, target, test_size=0.2)"
      ],
      "execution_count": null,
      "outputs": []
    },
    {
      "cell_type": "markdown",
      "metadata": {
        "id": "7Y-NsjOoyTde"
      },
      "source": [
        "Creating LSTM Model"
      ]
    },
    {
      "cell_type": "code",
      "metadata": {
        "colab": {
          "base_uri": "https://localhost:8080/"
        },
        "id": "6klbGRWfyTdf",
        "outputId": "f8d8ae16-4519-4a95-f1aa-be194f0a7024"
      },
      "source": [
        "\n",
        "lstm_units=128\n",
        "max_len=128\n",
        "embedding_dim=128\n",
        "\n",
        "input_word = Input(shape = (max_len))\n",
        "model = Embedding(vocab_size, 50, input_length=max_length, weights=[embedding_matrix], trainable=True)(input_word)\n",
        "\n",
        "model = LSTM(units=embedding_dim,return_sequences=True)(model)\n",
        "out = TimeDistributed(Dense(num_tags,activation = 'softmax'))(model)\n",
        "model = Model(input_word,out)\n",
        "\n",
        "model.compile(optimizer = 'adam',loss = 'categorical_crossentropy',metrics = ['accuracy'])\n",
        "model.summary()"
      ],
      "execution_count": null,
      "outputs": [
        {
          "output_type": "stream",
          "text": [
            "Model: \"model\"\n",
            "_________________________________________________________________\n",
            "Layer (type)                 Output Shape              Param #   \n",
            "=================================================================\n",
            "input_1 (InputLayer)         [(None, 128)]             0         \n",
            "_________________________________________________________________\n",
            "embedding (Embedding)        (None, 128, 50)           533350    \n",
            "_________________________________________________________________\n",
            "lstm (LSTM)                  (None, 128, 128)          91648     \n",
            "_________________________________________________________________\n",
            "time_distributed (TimeDistri (None, 128, 19)           2451      \n",
            "=================================================================\n",
            "Total params: 627,449\n",
            "Trainable params: 627,449\n",
            "Non-trainable params: 0\n",
            "_________________________________________________________________\n"
          ],
          "name": "stdout"
        }
      ]
    },
    {
      "cell_type": "code",
      "metadata": {
        "colab": {
          "base_uri": "https://localhost:8080/"
        },
        "id": "oSo1-g0WyTdf",
        "outputId": "8314f965-d7a4-4928-c49f-73fba125c1c6"
      },
      "source": [
        "## Fit train data\n",
        "history = model.fit(x_train,y_train,validation_split=0.2,batch_size=32, epochs =10)"
      ],
      "execution_count": null,
      "outputs": [
        {
          "output_type": "stream",
          "text": [
            "Train on 3200 samples, validate on 800 samples\n",
            "Epoch 1/10\n",
            "3200/3200 [==============================] - ETA: 0s - loss: 0.3743 - accuracy: 0.9743"
          ],
          "name": "stdout"
        },
        {
          "output_type": "stream",
          "text": [
            "/usr/local/lib/python3.7/dist-packages/tensorflow/python/keras/engine/training.py:2325: UserWarning: `Model.state_updates` will be removed in a future version. This property should not be used in TensorFlow 2.0, as `updates` are applied automatically.\n",
            "  warnings.warn('`Model.state_updates` will be removed in a future version. '\n"
          ],
          "name": "stderr"
        },
        {
          "output_type": "stream",
          "text": [
            "3200/3200 [==============================] - 20s 6ms/sample - loss: 0.3743 - accuracy: 0.9743 - val_loss: 0.0836 - val_accuracy: 0.9875\n",
            "Epoch 2/10\n",
            "3200/3200 [==============================] - 19s 6ms/sample - loss: 0.0722 - accuracy: 0.9874 - val_loss: 0.0620 - val_accuracy: 0.9876\n",
            "Epoch 3/10\n",
            "3200/3200 [==============================] - 19s 6ms/sample - loss: 0.0557 - accuracy: 0.9877 - val_loss: 0.0519 - val_accuracy: 0.9879\n",
            "Epoch 4/10\n",
            "3200/3200 [==============================] - 19s 6ms/sample - loss: 0.0471 - accuracy: 0.9885 - val_loss: 0.0461 - val_accuracy: 0.9889\n",
            "Epoch 5/10\n",
            "3200/3200 [==============================] - 19s 6ms/sample - loss: 0.0415 - accuracy: 0.9897 - val_loss: 0.0422 - val_accuracy: 0.9896\n",
            "Epoch 6/10\n",
            "3200/3200 [==============================] - 19s 6ms/sample - loss: 0.0374 - accuracy: 0.9905 - val_loss: 0.0406 - val_accuracy: 0.9898\n",
            "Epoch 7/10\n",
            "3200/3200 [==============================] - 19s 6ms/sample - loss: 0.0343 - accuracy: 0.9911 - val_loss: 0.0387 - val_accuracy: 0.9903\n",
            "Epoch 8/10\n",
            "3200/3200 [==============================] - 19s 6ms/sample - loss: 0.0315 - accuracy: 0.9918 - val_loss: 0.0373 - val_accuracy: 0.9908\n",
            "Epoch 9/10\n",
            "3200/3200 [==============================] - 19s 6ms/sample - loss: 0.0294 - accuracy: 0.9923 - val_loss: 0.0361 - val_accuracy: 0.9911\n",
            "Epoch 10/10\n",
            "3200/3200 [==============================] - 19s 6ms/sample - loss: 0.0269 - accuracy: 0.9928 - val_loss: 0.0354 - val_accuracy: 0.9912\n"
          ],
          "name": "stdout"
        }
      ]
    },
    {
      "cell_type": "code",
      "metadata": {
        "id": "cbILAt1lyTdf"
      },
      "source": [
        "t_loss = history.history['loss']\n",
        "v_loss = history.history['val_loss']\n",
        "accuracy = history.history['accuracy']\n",
        "val_accuracy = history.history['val_accuracy']"
      ],
      "execution_count": null,
      "outputs": []
    },
    {
      "cell_type": "code",
      "metadata": {
        "colab": {
          "base_uri": "https://localhost:8080/",
          "height": 295
        },
        "id": "5HliRQmXyTdf",
        "outputId": "7c3c31d0-fe5d-4bd0-df33-508e01026edb"
      },
      "source": [
        "\n",
        "x = [i for i in range(1,11)]\n",
        "\n",
        "plt.title(\" Training and Validation Loss\")\n",
        "plt.xlabel('Epoch')\n",
        "plt.ylabel('Loss')\n",
        "\n",
        "plt.plot(x,t_loss,label='Training Loss')\n",
        "plt.plot(x,v_loss,label='Validation Loss')\n",
        "\n",
        "plt.legend()\n",
        "plt.show()"
      ],
      "execution_count": null,
      "outputs": [
        {
          "output_type": "display_data",
          "data": {
            "image/png": "[encoded data removed]",
            "text/plain": [
              "<Figure size 432x288 with 1 Axes>"
            ]
          },
          "metadata": {
            "tags": [],
            "needs_background": "light"
          }
        }
      ]
    },
    {
      "cell_type": "code",
      "metadata": {
        "colab": {
          "base_uri": "https://localhost:8080/",
          "height": 295
        },
        "id": "8Nb0-JbfyTdg",
        "outputId": "3e99e246-3799-40f5-ce2f-8d7e5bea426e"
      },
      "source": [
        "x = [i for i in range(1,11)]\n",
        "\n",
        "plt.title(\" Training and Validation Accuracy\")\n",
        "\n",
        "plt.xlabel('Epoch')\n",
        "plt.ylabel('Accuracy')\n",
        "\n",
        "plt.plot(x,accuracy,label='Training Accuracy')\n",
        "plt.plot(x,val_accuracy,label='Validation Validation')\n",
        "\n",
        "plt.legend()\n",
        "plt.show()"
      ],
      "execution_count": null,
      "outputs": [
        {
          "output_type": "display_data",
          "data": {
            "image/png": "[encoded data removed]",
            "text/plain": [
              "<Figure size 432x288 with 1 Axes>"
            ]
          },
          "metadata": {
            "tags": [],
            "needs_background": "light"
          }
        }
      ]
    },
    {
      "cell_type": "markdown",
      "metadata": {
        "id": "tsrPRUUAyTdg"
      },
      "source": [
        "**Evaluating the Model**\n",
        "\n",
        "To evaluate the model, we will have to remove the padded portion and identify the accuracy. For this, for every test data, let us create a dataframe wuth the tokens and the actual and predicted value - and use it to calculate the metrics"
      ]
    },
    {
      "cell_type": "code",
      "metadata": {
        "id": "QAVznwGTyTdh"
      },
      "source": [
        "def evaluatePredictions(test_data,preds,actual_preds):\n",
        "    print(\"Shape of Test Data Array\",test_data.shape)\n",
        "    y_actual=np.argmax(np.array(actual_preds),axis=2)\n",
        "    y_pred=np.argmax(preds,axis=2)\n",
        "    num_test_data=test_data.shape[0]\n",
        "    print(\"Number of Test Data Points \",num_test_data)\n",
        "    data=pd.DataFrame()\n",
        "    df_list=[]\n",
        "    for i in range(num_test_data):\n",
        "        test_str=list(test_data[i])\n",
        "        df=pd.DataFrame()\n",
        "        df['test_tokens']=test_str\n",
        "        df['tokens']=df['test_tokens'].apply(lambda x:token.index_word[x] if x!=0 else '<PAD>')\n",
        "        df['actual_target_index']=list(y_actual[i])\n",
        "        df['pred_target_index']=list(y_pred[i])\n",
        "        df['actual_target_tag']=df['actual_target_index'].apply(lambda x:reverse_tag_map[x])\n",
        "        df['pred_target_tag']=df['pred_target_index'].apply(lambda x:reverse_tag_map[x])\n",
        "        df['id']=i+1\n",
        "        df_list.append(df)\n",
        "    data=pd.concat(df_list)\n",
        "    pred_data=data[data['tokens']!='<PAD>']\n",
        "    accuracy=pred_data[pred_data['actual_target_tag']==pred_data['pred_target_tag']].shape[0]/pred_data.shape[0]\n",
        "    \n",
        "    \n",
        "    return pred_data,accuracy"
      ],
      "execution_count": null,
      "outputs": []
    },
    {
      "cell_type": "code",
      "metadata": {
        "id": "je5BQJrAyTdh",
        "colab": {
          "base_uri": "https://localhost:8080/"
        },
        "outputId": "0636a73c-f742-4ac4-e367-87d92dce1fd6"
      },
      "source": [
        "y_pred = model.predict(x_test)"
      ],
      "execution_count": null,
      "outputs": [
        {
          "output_type": "stream",
          "text": [
            "/usr/local/lib/python3.7/dist-packages/tensorflow/python/keras/engine/training.py:2325: UserWarning: `Model.state_updates` will be removed in a future version. This property should not be used in TensorFlow 2.0, as `updates` are applied automatically.\n",
            "  warnings.warn('`Model.state_updates` will be removed in a future version. '\n"
          ],
          "name": "stderr"
        }
      ]
    },
    {
      "cell_type": "code",
      "metadata": {
        "colab": {
          "base_uri": "https://localhost:8080/"
        },
        "id": "wZPQuAu0yTdh",
        "outputId": "bddef380-0bfc-42c7-d6be-c4706971bb04"
      },
      "source": [
        "pred_data,accuracy=evaluatePredictions(x_test,y_pred,y_test)"
      ],
      "execution_count": null,
      "outputs": [
        {
          "output_type": "stream",
          "text": [
            "Shape of Test Data Array (1000, 128)\n",
            "Number of Test Data Points  1000\n"
          ],
          "name": "stdout"
        }
      ]
    },
    {
      "cell_type": "code",
      "metadata": {
        "colab": {
          "base_uri": "https://localhost:8080/"
        },
        "id": "NgTO0RVQyTdh",
        "outputId": "332af0ef-2f33-450b-a19b-1981153e69a1"
      },
      "source": [
        "print(\"Accuracy on test data is : \",round(accuracy,2))"
      ],
      "execution_count": null,
      "outputs": [
        {
          "output_type": "stream",
          "text": [
            "Accuracy on test data is :  0.93\n"
          ],
          "name": "stdout"
        }
      ]
    },
    {
      "cell_type": "code",
      "metadata": {
        "id": "Q4eh-SUmyTdi"
      },
      "source": [
        "y_pred=pred_data['pred_target_tag'].tolist()\n",
        "y_actual=pred_data['actual_target_tag'].tolist()"
      ],
      "execution_count": null,
      "outputs": []
    },
    {
      "cell_type": "code",
      "metadata": {
        "colab": {
          "base_uri": "https://localhost:8080/"
        },
        "id": "vaeXHFWyyTdi",
        "outputId": "ecfd924b-61e3-4f5d-8845-0cb368798f2f"
      },
      "source": [
        "print(classification_report(y_actual,y_pred))"
      ],
      "execution_count": null,
      "outputs": [
        {
          "output_type": "stream",
          "text": [
            "              precision    recall  f1-score   support\n",
            "\n",
            "    CARDINAL       0.68      0.63      0.66        95\n",
            "        DATE       0.64      0.53      0.58       136\n",
            "       EVENT       0.00      0.00      0.00        15\n",
            "         FAC       0.00      0.00      0.00        20\n",
            "         GPE       0.63      0.61      0.62       122\n",
            "    LANGUAGE       0.00      0.00      0.00         1\n",
            "         LAW       0.00      0.00      0.00        17\n",
            "         LOC       0.68      0.55      0.61        58\n",
            "       MONEY       0.00      0.00      0.00         9\n",
            "        NORP       0.77      0.82      0.79        68\n",
            "           O       0.96      0.98      0.97     15067\n",
            "     ORDINAL       0.89      0.89      0.89        37\n",
            "         ORG       0.50      0.36      0.42       513\n",
            "     PERCENT       0.00      0.00      0.00         0\n",
            "      PERSON       0.62      0.56      0.59       328\n",
            "     PRODUCT       0.00      0.00      0.00        21\n",
            "    QUANTITY       0.00      0.00      0.00         5\n",
            "        TIME       0.00      0.00      0.00        35\n",
            " WORK_OF_ART       0.00      0.00      0.00        30\n",
            "\n",
            "    accuracy                           0.93     16577\n",
            "   macro avg       0.34      0.31      0.32     16577\n",
            "weighted avg       0.92      0.93      0.93     16577\n",
            "\n"
          ],
          "name": "stdout"
        },
        {
          "output_type": "stream",
          "text": [
            "/usr/local/lib/python3.7/dist-packages/sklearn/metrics/_classification.py:1272: UndefinedMetricWarning: Precision and F-score are ill-defined and being set to 0.0 in labels with no predicted samples. Use `zero_division` parameter to control this behavior.\n",
            "  _warn_prf(average, modifier, msg_start, len(result))\n",
            "/usr/local/lib/python3.7/dist-packages/sklearn/metrics/_classification.py:1272: UndefinedMetricWarning: Recall and F-score are ill-defined and being set to 0.0 in labels with no true samples. Use `zero_division` parameter to control this behavior.\n",
            "  _warn_prf(average, modifier, msg_start, len(result))\n"
          ],
          "name": "stderr"
        }
      ]
    },
    {
      "cell_type": "code",
      "metadata": {
        "colab": {
          "base_uri": "https://localhost:8080/",
          "height": 1000
        },
        "id": "8t0sLz-oyTdi",
        "outputId": "a834efeb-937b-4160-86a3-f3b605bfe37b"
      },
      "source": [
        "pred_data[pred_data['actual_target_tag']=='LOC']"
      ],
      "execution_count": null,
      "outputs": [
        {
          "output_type": "execute_result",
          "data": {
            "text/html": [
              "<div>\n",
              "<style scoped>\n",
              "    .dataframe tbody tr th:only-of-type {\n",
              "        vertical-align: middle;\n",
              "    }\n",
              "\n",
              "    .dataframe tbody tr th {\n",
              "        vertical-align: top;\n",
              "    }\n",
              "\n",
              "    .dataframe thead th {\n",
              "        text-align: right;\n",
              "    }\n",
              "</style>\n",
              "<table border=\"1\" class=\"dataframe\">\n",
              "  <thead>\n",
              "    <tr style=\"text-align: right;\">\n",
              "      <th></th>\n",
              "      <th>test_tokens</th>\n",
              "      <th>tokens</th>\n",
              "      <th>actual_target_index</th>\n",
              "      <th>pred_target_index</th>\n",
              "      <th>actual_target_tag</th>\n",
              "      <th>pred_target_tag</th>\n",
              "      <th>id</th>\n",
              "    </tr>\n",
              "  </thead>\n",
              "  <tbody>\n",
              "    <tr>\n",
              "      <th>5</th>\n",
              "      <td>1685</td>\n",
              "      <td>latin</td>\n",
              "      <td>4</td>\n",
              "      <td>14</td>\n",
              "      <td>LOC</td>\n",
              "      <td>GPE</td>\n",
              "      <td>50</td>\n",
              "    </tr>\n",
              "    <tr>\n",
              "      <th>6</th>\n",
              "      <td>456</td>\n",
              "      <td>america</td>\n",
              "      <td>4</td>\n",
              "      <td>14</td>\n",
              "      <td>LOC</td>\n",
              "      <td>GPE</td>\n",
              "      <td>50</td>\n",
              "    </tr>\n",
              "    <tr>\n",
              "      <th>0</th>\n",
              "      <td>813</td>\n",
              "      <td>earth</td>\n",
              "      <td>4</td>\n",
              "      <td>17</td>\n",
              "      <td>LOC</td>\n",
              "      <td>O</td>\n",
              "      <td>54</td>\n",
              "    </tr>\n",
              "    <tr>\n",
              "      <th>12</th>\n",
              "      <td>1</td>\n",
              "      <td>the</td>\n",
              "      <td>4</td>\n",
              "      <td>17</td>\n",
              "      <td>LOC</td>\n",
              "      <td>O</td>\n",
              "      <td>75</td>\n",
              "    </tr>\n",
              "    <tr>\n",
              "      <th>13</th>\n",
              "      <td>132</td>\n",
              "      <td>south</td>\n",
              "      <td>4</td>\n",
              "      <td>4</td>\n",
              "      <td>LOC</td>\n",
              "      <td>LOC</td>\n",
              "      <td>75</td>\n",
              "    </tr>\n",
              "    <tr>\n",
              "      <th>14</th>\n",
              "      <td>333</td>\n",
              "      <td>atlantic</td>\n",
              "      <td>4</td>\n",
              "      <td>4</td>\n",
              "      <td>LOC</td>\n",
              "      <td>LOC</td>\n",
              "      <td>75</td>\n",
              "    </tr>\n",
              "    <tr>\n",
              "      <th>13</th>\n",
              "      <td>920</td>\n",
              "      <td>northern</td>\n",
              "      <td>4</td>\n",
              "      <td>4</td>\n",
              "      <td>LOC</td>\n",
              "      <td>LOC</td>\n",
              "      <td>92</td>\n",
              "    </tr>\n",
              "    <tr>\n",
              "      <th>14</th>\n",
              "      <td>557</td>\n",
              "      <td>hemisphere</td>\n",
              "      <td>4</td>\n",
              "      <td>4</td>\n",
              "      <td>LOC</td>\n",
              "      <td>LOC</td>\n",
              "      <td>92</td>\n",
              "    </tr>\n",
              "    <tr>\n",
              "      <th>13</th>\n",
              "      <td>1</td>\n",
              "      <td>the</td>\n",
              "      <td>4</td>\n",
              "      <td>17</td>\n",
              "      <td>LOC</td>\n",
              "      <td>O</td>\n",
              "      <td>97</td>\n",
              "    </tr>\n",
              "    <tr>\n",
              "      <th>14</th>\n",
              "      <td>132</td>\n",
              "      <td>south</td>\n",
              "      <td>4</td>\n",
              "      <td>4</td>\n",
              "      <td>LOC</td>\n",
              "      <td>LOC</td>\n",
              "      <td>97</td>\n",
              "    </tr>\n",
              "    <tr>\n",
              "      <th>15</th>\n",
              "      <td>333</td>\n",
              "      <td>atlantic</td>\n",
              "      <td>4</td>\n",
              "      <td>4</td>\n",
              "      <td>LOC</td>\n",
              "      <td>LOC</td>\n",
              "      <td>97</td>\n",
              "    </tr>\n",
              "    <tr>\n",
              "      <th>1</th>\n",
              "      <td>132</td>\n",
              "      <td>south</td>\n",
              "      <td>4</td>\n",
              "      <td>4</td>\n",
              "      <td>LOC</td>\n",
              "      <td>LOC</td>\n",
              "      <td>138</td>\n",
              "    </tr>\n",
              "    <tr>\n",
              "      <th>2</th>\n",
              "      <td>1015</td>\n",
              "      <td>pacific</td>\n",
              "      <td>4</td>\n",
              "      <td>4</td>\n",
              "      <td>LOC</td>\n",
              "      <td>LOC</td>\n",
              "      <td>138</td>\n",
              "    </tr>\n",
              "    <tr>\n",
              "      <th>2</th>\n",
              "      <td>530</td>\n",
              "      <td>marina</td>\n",
              "      <td>4</td>\n",
              "      <td>14</td>\n",
              "      <td>LOC</td>\n",
              "      <td>GPE</td>\n",
              "      <td>226</td>\n",
              "    </tr>\n",
              "    <tr>\n",
              "      <th>10</th>\n",
              "      <td>1</td>\n",
              "      <td>the</td>\n",
              "      <td>4</td>\n",
              "      <td>17</td>\n",
              "      <td>LOC</td>\n",
              "      <td>O</td>\n",
              "      <td>232</td>\n",
              "    </tr>\n",
              "    <tr>\n",
              "      <th>11</th>\n",
              "      <td>494</td>\n",
              "      <td>southern</td>\n",
              "      <td>4</td>\n",
              "      <td>4</td>\n",
              "      <td>LOC</td>\n",
              "      <td>LOC</td>\n",
              "      <td>232</td>\n",
              "    </tr>\n",
              "    <tr>\n",
              "      <th>12</th>\n",
              "      <td>557</td>\n",
              "      <td>hemisphere</td>\n",
              "      <td>4</td>\n",
              "      <td>4</td>\n",
              "      <td>LOC</td>\n",
              "      <td>LOC</td>\n",
              "      <td>232</td>\n",
              "    </tr>\n",
              "    <tr>\n",
              "      <th>18</th>\n",
              "      <td>2384</td>\n",
              "      <td>global</td>\n",
              "      <td>4</td>\n",
              "      <td>17</td>\n",
              "      <td>LOC</td>\n",
              "      <td>O</td>\n",
              "      <td>249</td>\n",
              "    </tr>\n",
              "    <tr>\n",
              "      <th>19</th>\n",
              "      <td>8715</td>\n",
              "      <td>village</td>\n",
              "      <td>4</td>\n",
              "      <td>17</td>\n",
              "      <td>LOC</td>\n",
              "      <td>O</td>\n",
              "      <td>249</td>\n",
              "    </tr>\n",
              "    <tr>\n",
              "      <th>12</th>\n",
              "      <td>333</td>\n",
              "      <td>atlantic</td>\n",
              "      <td>4</td>\n",
              "      <td>4</td>\n",
              "      <td>LOC</td>\n",
              "      <td>LOC</td>\n",
              "      <td>281</td>\n",
              "    </tr>\n",
              "    <tr>\n",
              "      <th>2</th>\n",
              "      <td>953</td>\n",
              "      <td>azerbaijanis</td>\n",
              "      <td>4</td>\n",
              "      <td>17</td>\n",
              "      <td>LOC</td>\n",
              "      <td>O</td>\n",
              "      <td>365</td>\n",
              "    </tr>\n",
              "    <tr>\n",
              "      <th>16</th>\n",
              "      <td>1</td>\n",
              "      <td>the</td>\n",
              "      <td>4</td>\n",
              "      <td>17</td>\n",
              "      <td>LOC</td>\n",
              "      <td>O</td>\n",
              "      <td>476</td>\n",
              "    </tr>\n",
              "    <tr>\n",
              "      <th>17</th>\n",
              "      <td>920</td>\n",
              "      <td>northern</td>\n",
              "      <td>4</td>\n",
              "      <td>4</td>\n",
              "      <td>LOC</td>\n",
              "      <td>LOC</td>\n",
              "      <td>476</td>\n",
              "    </tr>\n",
              "    <tr>\n",
              "      <th>18</th>\n",
              "      <td>557</td>\n",
              "      <td>hemisphere</td>\n",
              "      <td>4</td>\n",
              "      <td>4</td>\n",
              "      <td>LOC</td>\n",
              "      <td>LOC</td>\n",
              "      <td>476</td>\n",
              "    </tr>\n",
              "    <tr>\n",
              "      <th>29</th>\n",
              "      <td>1</td>\n",
              "      <td>the</td>\n",
              "      <td>4</td>\n",
              "      <td>17</td>\n",
              "      <td>LOC</td>\n",
              "      <td>O</td>\n",
              "      <td>476</td>\n",
              "    </tr>\n",
              "    <tr>\n",
              "      <th>30</th>\n",
              "      <td>494</td>\n",
              "      <td>southern</td>\n",
              "      <td>4</td>\n",
              "      <td>4</td>\n",
              "      <td>LOC</td>\n",
              "      <td>LOC</td>\n",
              "      <td>476</td>\n",
              "    </tr>\n",
              "    <tr>\n",
              "      <th>31</th>\n",
              "      <td>557</td>\n",
              "      <td>hemisphere</td>\n",
              "      <td>4</td>\n",
              "      <td>4</td>\n",
              "      <td>LOC</td>\n",
              "      <td>LOC</td>\n",
              "      <td>476</td>\n",
              "    </tr>\n",
              "    <tr>\n",
              "      <th>0</th>\n",
              "      <td>530</td>\n",
              "      <td>marina</td>\n",
              "      <td>4</td>\n",
              "      <td>14</td>\n",
              "      <td>LOC</td>\n",
              "      <td>GPE</td>\n",
              "      <td>513</td>\n",
              "    </tr>\n",
              "    <tr>\n",
              "      <th>6</th>\n",
              "      <td>3456</td>\n",
              "      <td>karina</td>\n",
              "      <td>4</td>\n",
              "      <td>17</td>\n",
              "      <td>LOC</td>\n",
              "      <td>O</td>\n",
              "      <td>549</td>\n",
              "    </tr>\n",
              "    <tr>\n",
              "      <th>0</th>\n",
              "      <td>132</td>\n",
              "      <td>south</td>\n",
              "      <td>4</td>\n",
              "      <td>4</td>\n",
              "      <td>LOC</td>\n",
              "      <td>LOC</td>\n",
              "      <td>564</td>\n",
              "    </tr>\n",
              "    <tr>\n",
              "      <th>1</th>\n",
              "      <td>255</td>\n",
              "      <td>georgia</td>\n",
              "      <td>4</td>\n",
              "      <td>14</td>\n",
              "      <td>LOC</td>\n",
              "      <td>GPE</td>\n",
              "      <td>564</td>\n",
              "    </tr>\n",
              "    <tr>\n",
              "      <th>2</th>\n",
              "      <td>214</td>\n",
              "      <td>island</td>\n",
              "      <td>4</td>\n",
              "      <td>4</td>\n",
              "      <td>LOC</td>\n",
              "      <td>LOC</td>\n",
              "      <td>564</td>\n",
              "    </tr>\n",
              "    <tr>\n",
              "      <th>7</th>\n",
              "      <td>1</td>\n",
              "      <td>the</td>\n",
              "      <td>4</td>\n",
              "      <td>17</td>\n",
              "      <td>LOC</td>\n",
              "      <td>O</td>\n",
              "      <td>690</td>\n",
              "    </tr>\n",
              "    <tr>\n",
              "      <th>8</th>\n",
              "      <td>132</td>\n",
              "      <td>south</td>\n",
              "      <td>4</td>\n",
              "      <td>4</td>\n",
              "      <td>LOC</td>\n",
              "      <td>LOC</td>\n",
              "      <td>690</td>\n",
              "    </tr>\n",
              "    <tr>\n",
              "      <th>9</th>\n",
              "      <td>1015</td>\n",
              "      <td>pacific</td>\n",
              "      <td>4</td>\n",
              "      <td>4</td>\n",
              "      <td>LOC</td>\n",
              "      <td>LOC</td>\n",
              "      <td>690</td>\n",
              "    </tr>\n",
              "    <tr>\n",
              "      <th>10</th>\n",
              "      <td>784</td>\n",
              "      <td>stealth</td>\n",
              "      <td>4</td>\n",
              "      <td>17</td>\n",
              "      <td>LOC</td>\n",
              "      <td>O</td>\n",
              "      <td>690</td>\n",
              "    </tr>\n",
              "    <tr>\n",
              "      <th>16</th>\n",
              "      <td>132</td>\n",
              "      <td>south</td>\n",
              "      <td>4</td>\n",
              "      <td>4</td>\n",
              "      <td>LOC</td>\n",
              "      <td>LOC</td>\n",
              "      <td>705</td>\n",
              "    </tr>\n",
              "    <tr>\n",
              "      <th>17</th>\n",
              "      <td>255</td>\n",
              "      <td>georgia</td>\n",
              "      <td>4</td>\n",
              "      <td>4</td>\n",
              "      <td>LOC</td>\n",
              "      <td>LOC</td>\n",
              "      <td>705</td>\n",
              "    </tr>\n",
              "    <tr>\n",
              "      <th>18</th>\n",
              "      <td>214</td>\n",
              "      <td>island</td>\n",
              "      <td>4</td>\n",
              "      <td>4</td>\n",
              "      <td>LOC</td>\n",
              "      <td>LOC</td>\n",
              "      <td>705</td>\n",
              "    </tr>\n",
              "    <tr>\n",
              "      <th>12</th>\n",
              "      <td>1</td>\n",
              "      <td>the</td>\n",
              "      <td>4</td>\n",
              "      <td>17</td>\n",
              "      <td>LOC</td>\n",
              "      <td>O</td>\n",
              "      <td>723</td>\n",
              "    </tr>\n",
              "    <tr>\n",
              "      <th>13</th>\n",
              "      <td>132</td>\n",
              "      <td>south</td>\n",
              "      <td>4</td>\n",
              "      <td>4</td>\n",
              "      <td>LOC</td>\n",
              "      <td>LOC</td>\n",
              "      <td>723</td>\n",
              "    </tr>\n",
              "    <tr>\n",
              "      <th>14</th>\n",
              "      <td>333</td>\n",
              "      <td>atlantic</td>\n",
              "      <td>4</td>\n",
              "      <td>4</td>\n",
              "      <td>LOC</td>\n",
              "      <td>LOC</td>\n",
              "      <td>723</td>\n",
              "    </tr>\n",
              "    <tr>\n",
              "      <th>10</th>\n",
              "      <td>6338</td>\n",
              "      <td>ascension</td>\n",
              "      <td>4</td>\n",
              "      <td>17</td>\n",
              "      <td>LOC</td>\n",
              "      <td>O</td>\n",
              "      <td>733</td>\n",
              "    </tr>\n",
              "    <tr>\n",
              "      <th>11</th>\n",
              "      <td>214</td>\n",
              "      <td>island</td>\n",
              "      <td>4</td>\n",
              "      <td>17</td>\n",
              "      <td>LOC</td>\n",
              "      <td>O</td>\n",
              "      <td>733</td>\n",
              "    </tr>\n",
              "    <tr>\n",
              "      <th>0</th>\n",
              "      <td>530</td>\n",
              "      <td>marina</td>\n",
              "      <td>4</td>\n",
              "      <td>14</td>\n",
              "      <td>LOC</td>\n",
              "      <td>GPE</td>\n",
              "      <td>856</td>\n",
              "    </tr>\n",
              "    <tr>\n",
              "      <th>5</th>\n",
              "      <td>530</td>\n",
              "      <td>marina</td>\n",
              "      <td>4</td>\n",
              "      <td>17</td>\n",
              "      <td>LOC</td>\n",
              "      <td>O</td>\n",
              "      <td>857</td>\n",
              "    </tr>\n",
              "    <tr>\n",
              "      <th>19</th>\n",
              "      <td>132</td>\n",
              "      <td>south</td>\n",
              "      <td>4</td>\n",
              "      <td>4</td>\n",
              "      <td>LOC</td>\n",
              "      <td>LOC</td>\n",
              "      <td>866</td>\n",
              "    </tr>\n",
              "    <tr>\n",
              "      <th>20</th>\n",
              "      <td>255</td>\n",
              "      <td>georgia</td>\n",
              "      <td>4</td>\n",
              "      <td>14</td>\n",
              "      <td>LOC</td>\n",
              "      <td>GPE</td>\n",
              "      <td>866</td>\n",
              "    </tr>\n",
              "    <tr>\n",
              "      <th>21</th>\n",
              "      <td>214</td>\n",
              "      <td>island</td>\n",
              "      <td>4</td>\n",
              "      <td>4</td>\n",
              "      <td>LOC</td>\n",
              "      <td>LOC</td>\n",
              "      <td>866</td>\n",
              "    </tr>\n",
              "    <tr>\n",
              "      <th>5</th>\n",
              "      <td>132</td>\n",
              "      <td>south</td>\n",
              "      <td>4</td>\n",
              "      <td>4</td>\n",
              "      <td>LOC</td>\n",
              "      <td>LOC</td>\n",
              "      <td>927</td>\n",
              "    </tr>\n",
              "    <tr>\n",
              "      <th>6</th>\n",
              "      <td>255</td>\n",
              "      <td>georgia</td>\n",
              "      <td>4</td>\n",
              "      <td>4</td>\n",
              "      <td>LOC</td>\n",
              "      <td>LOC</td>\n",
              "      <td>927</td>\n",
              "    </tr>\n",
              "    <tr>\n",
              "      <th>7</th>\n",
              "      <td>214</td>\n",
              "      <td>island</td>\n",
              "      <td>4</td>\n",
              "      <td>4</td>\n",
              "      <td>LOC</td>\n",
              "      <td>LOC</td>\n",
              "      <td>927</td>\n",
              "    </tr>\n",
              "    <tr>\n",
              "      <th>4</th>\n",
              "      <td>1</td>\n",
              "      <td>the</td>\n",
              "      <td>4</td>\n",
              "      <td>17</td>\n",
              "      <td>LOC</td>\n",
              "      <td>O</td>\n",
              "      <td>972</td>\n",
              "    </tr>\n",
              "    <tr>\n",
              "      <th>5</th>\n",
              "      <td>3011</td>\n",
              "      <td>mid</td>\n",
              "      <td>4</td>\n",
              "      <td>6</td>\n",
              "      <td>LOC</td>\n",
              "      <td>DATE</td>\n",
              "      <td>972</td>\n",
              "    </tr>\n",
              "    <tr>\n",
              "      <th>6</th>\n",
              "      <td>333</td>\n",
              "      <td>atlantic</td>\n",
              "      <td>4</td>\n",
              "      <td>4</td>\n",
              "      <td>LOC</td>\n",
              "      <td>LOC</td>\n",
              "      <td>972</td>\n",
              "    </tr>\n",
              "    <tr>\n",
              "      <th>21</th>\n",
              "      <td>1</td>\n",
              "      <td>the</td>\n",
              "      <td>4</td>\n",
              "      <td>17</td>\n",
              "      <td>LOC</td>\n",
              "      <td>O</td>\n",
              "      <td>972</td>\n",
              "    </tr>\n",
              "    <tr>\n",
              "      <th>22</th>\n",
              "      <td>132</td>\n",
              "      <td>south</td>\n",
              "      <td>4</td>\n",
              "      <td>4</td>\n",
              "      <td>LOC</td>\n",
              "      <td>LOC</td>\n",
              "      <td>972</td>\n",
              "    </tr>\n",
              "    <tr>\n",
              "      <th>23</th>\n",
              "      <td>333</td>\n",
              "      <td>atlantic</td>\n",
              "      <td>4</td>\n",
              "      <td>4</td>\n",
              "      <td>LOC</td>\n",
              "      <td>LOC</td>\n",
              "      <td>972</td>\n",
              "    </tr>\n",
              "  </tbody>\n",
              "</table>\n",
              "</div>"
            ],
            "text/plain": [
              "    test_tokens        tokens  ...  pred_target_tag   id\n",
              "5          1685         latin  ...              GPE   50\n",
              "6           456       america  ...              GPE   50\n",
              "0           813         earth  ...                O   54\n",
              "12            1           the  ...                O   75\n",
              "13          132         south  ...              LOC   75\n",
              "14          333      atlantic  ...              LOC   75\n",
              "13          920      northern  ...              LOC   92\n",
              "14          557    hemisphere  ...              LOC   92\n",
              "13            1           the  ...                O   97\n",
              "14          132         south  ...              LOC   97\n",
              "15          333      atlantic  ...              LOC   97\n",
              "1           132         south  ...              LOC  138\n",
              "2          1015       pacific  ...              LOC  138\n",
              "2           530        marina  ...              GPE  226\n",
              "10            1           the  ...                O  232\n",
              "11          494      southern  ...              LOC  232\n",
              "12          557    hemisphere  ...              LOC  232\n",
              "18         2384        global  ...                O  249\n",
              "19         8715       village  ...                O  249\n",
              "12          333      atlantic  ...              LOC  281\n",
              "2           953  azerbaijanis  ...                O  365\n",
              "16            1           the  ...                O  476\n",
              "17          920      northern  ...              LOC  476\n",
              "18          557    hemisphere  ...              LOC  476\n",
              "29            1           the  ...                O  476\n",
              "30          494      southern  ...              LOC  476\n",
              "31          557    hemisphere  ...              LOC  476\n",
              "0           530        marina  ...              GPE  513\n",
              "6          3456        karina  ...                O  549\n",
              "0           132         south  ...              LOC  564\n",
              "1           255       georgia  ...              GPE  564\n",
              "2           214        island  ...              LOC  564\n",
              "7             1           the  ...                O  690\n",
              "8           132         south  ...              LOC  690\n",
              "9          1015       pacific  ...              LOC  690\n",
              "10          784       stealth  ...                O  690\n",
              "16          132         south  ...              LOC  705\n",
              "17          255       georgia  ...              LOC  705\n",
              "18          214        island  ...              LOC  705\n",
              "12            1           the  ...                O  723\n",
              "13          132         south  ...              LOC  723\n",
              "14          333      atlantic  ...              LOC  723\n",
              "10         6338     ascension  ...                O  733\n",
              "11          214        island  ...                O  733\n",
              "0           530        marina  ...              GPE  856\n",
              "5           530        marina  ...                O  857\n",
              "19          132         south  ...              LOC  866\n",
              "20          255       georgia  ...              GPE  866\n",
              "21          214        island  ...              LOC  866\n",
              "5           132         south  ...              LOC  927\n",
              "6           255       georgia  ...              LOC  927\n",
              "7           214        island  ...              LOC  927\n",
              "4             1           the  ...                O  972\n",
              "5          3011           mid  ...             DATE  972\n",
              "6           333      atlantic  ...              LOC  972\n",
              "21            1           the  ...                O  972\n",
              "22          132         south  ...              LOC  972\n",
              "23          333      atlantic  ...              LOC  972\n",
              "\n",
              "[58 rows x 7 columns]"
            ]
          },
          "metadata": {
            "tags": []
          },
          "execution_count": 38
        }
      ]
    },
    {
      "cell_type": "markdown",
      "metadata": {
        "id": "2hDjEL02LfpT"
      },
      "source": [
        "# Fast Text Embedding and LSTM based NER Model"
      ]
    },
    {
      "cell_type": "code",
      "metadata": {
        "id": "JsS_N8dHLuW5"
      },
      "source": [
        "data_u = ent_spacy\n",
        "tags_list = lab_spacy"
      ],
      "execution_count": null,
      "outputs": []
    },
    {
      "cell_type": "code",
      "metadata": {
        "id": "Nby8kSxYMmpa"
      },
      "source": [
        "# Defining values for parameters\n",
        "embedding_size = 50\n",
        "window_size = 5\n",
        "min_word = 5\n",
        "down_sampling = 1e-2\n",
        "\n",
        "fast_Text_model = FastText(data_u,\n",
        "                      size=embedding_size,\n",
        "                      window=window_size,\n",
        "                      min_count=min_word,\n",
        "                      sample=down_sampling,\n",
        "                      workers = 4,\n",
        "                      sg=1,\n",
        "                      iter=100)"
      ],
      "execution_count": null,
      "outputs": []
    },
    {
      "cell_type": "code",
      "metadata": {
        "colab": {
          "base_uri": "https://localhost:8080/"
        },
        "id": "vizsGk9ALuXE",
        "outputId": "2c413033-738c-4722-f8a6-11ea4323fc66"
      },
      "source": [
        "fast_text_words = list(fast_Text_model.wv.vocab)\n",
        "print(\"number of words \",len(fast_text_words))\n",
        "print(\"sample words \", fast_text_words[:20])"
      ],
      "execution_count": null,
      "outputs": [
        {
          "output_type": "stream",
          "text": [
            "number of words  2248\n",
            "sample words  ['and', 'will', 'have', 'is', 'run', 'higher', 'than', 'last', 'year', 'the', 'be', 'not', 'as', 'much', 'good', 'i', 'think', 'he', 'a', 'This']\n"
          ],
          "name": "stdout"
        }
      ]
    },
    {
      "cell_type": "code",
      "metadata": {
        "id": "bOS_cUzyLuXF"
      },
      "source": [
        "# Finding length of longest review\n",
        "max_length = 128"
      ],
      "execution_count": null,
      "outputs": []
    },
    {
      "cell_type": "code",
      "metadata": {
        "id": "WvgQievPLuXF"
      },
      "source": [
        "# Tokenizing Data\n",
        "token = Tokenizer()\n",
        "token.fit_on_texts(data_u)\n",
        "vocab_size = len(token.word_index) + 1\n",
        "encoded = token.texts_to_sequences(data)\n",
        "padded_data = pad_sequences(encoded, maxlen=max_length, padding='post')\n",
        "\n",
        "vocab_size = len(token.word_index) + 1"
      ],
      "execution_count": null,
      "outputs": []
    },
    {
      "cell_type": "code",
      "metadata": {
        "id": "rr9FG6RCLuXF"
      },
      "source": [
        "#Creating Embedding matrix using trained word to vec model\n",
        "embedding_matrix = np.zeros((vocab_size, 50))\n",
        "for word, i in token.word_index.items():\n",
        "    try: \n",
        "      embedding_vector = fast_Text_model.wv[word]\n",
        "    except:\n",
        "      embedding_vector  = None\n",
        "\n",
        "    if embedding_vector is not None:\n",
        "        embedding_matrix[i] = embedding_vector"
      ],
      "execution_count": null,
      "outputs": []
    },
    {
      "cell_type": "code",
      "metadata": {
        "colab": {
          "base_uri": "https://localhost:8080/"
        },
        "id": "dZcVOc1MLuXG",
        "outputId": "d4fd8d7d-70a5-403b-a610-fbb25beb024a"
      },
      "source": [
        "# Creating Tag Mapping and Encoding the Tags\n",
        "tags=list(set(unique_ent))\n",
        "print(tags)\n",
        "num_tags=len(tags)\n",
        "print(\"Number of Tags \",num_tags)\n",
        "\n",
        "tags_map={tag:i for i,tag in enumerate(tags)}\n",
        "print(\"Tags Map \",tags_map)"
      ],
      "execution_count": null,
      "outputs": [
        {
          "output_type": "stream",
          "text": [
            "['TIME', 'PERCENT', 'WORK_OF_ART', 'PRODUCT', 'LOC', 'ORDINAL', 'DATE', 'CARDINAL', 'QUANTITY', 'FAC', 'PERSON', 'ORG', 'EVENT', 'NORP', 'GPE', 'LAW', 'LANGUAGE', 'O', 'MONEY']\n",
            "Number of Tags  19\n",
            "Tags Map  {'TIME': 0, 'PERCENT': 1, 'WORK_OF_ART': 2, 'PRODUCT': 3, 'LOC': 4, 'ORDINAL': 5, 'DATE': 6, 'CARDINAL': 7, 'QUANTITY': 8, 'FAC': 9, 'PERSON': 10, 'ORG': 11, 'EVENT': 12, 'NORP': 13, 'GPE': 14, 'LAW': 15, 'LANGUAGE': 16, 'O': 17, 'MONEY': 18}\n"
          ],
          "name": "stdout"
        }
      ]
    },
    {
      "cell_type": "code",
      "metadata": {
        "id": "K_3nuhpFLuXG"
      },
      "source": [
        "# Creating Reverse tag Map\n",
        "reverse_tag_map={v: k for k, v in tags_map.items()}"
      ],
      "execution_count": null,
      "outputs": []
    },
    {
      "cell_type": "code",
      "metadata": {
        "colab": {
          "base_uri": "https://localhost:8080/"
        },
        "id": "X1hH4DHDLuXG",
        "outputId": "64f98480-1aed-4a0d-c16e-96b0b4f10c40"
      },
      "source": [
        "# Encoding taggs\n",
        "encoded_tags=[[tags_map[w] for w in tag] for tag in tags_list]\n",
        "print(\"First Sentence \",data[0])\n",
        "print('First Sentence Original Tags ',tags_list[0])\n",
        "print(\"First Sentence Encoded Tags \",encoded_tags[0])\n",
        "print(\"Is length of Original Tags and Encoded Tags same \",len(tags_list[0])==len(encoded_tags[0]))\n",
        "print(\"Length of Tags for First Sentence \",len(encoded_tags[0]))"
      ],
      "execution_count": null,
      "outputs": [
        {
          "output_type": "stream",
          "text": [
            "First Sentence   morgan and guzman will have era is run higher than last year and the cubs will be idiots and not pitch harkey as much as hibbard\n",
            "First Sentence Original Tags  ['PERSON', 'O', 'ORG', 'O', 'O', 'O', 'O', 'O', 'O', 'O', 'DATE', 'DATE', 'O', 'O', 'O', 'O', 'O', 'O', 'O', 'O', 'O', 'O', 'O', 'O', 'O', 'O']\n",
            "First Sentence Encoded Tags  [10, 17, 11, 17, 17, 17, 17, 17, 17, 17, 6, 6, 17, 17, 17, 17, 17, 17, 17, 17, 17, 17, 17, 17, 17, 17]\n",
            "Is length of Original Tags and Encoded Tags same  True\n",
            "Length of Tags for First Sentence  26\n"
          ],
          "name": "stdout"
        }
      ]
    },
    {
      "cell_type": "code",
      "metadata": {
        "id": "Xi7AQ-bGLuXH"
      },
      "source": [
        "# Add padding to encoded text\n",
        "padded_encoded_tags=pad_sequences(maxlen=max_length,sequences=encoded_tags,padding=\"post\",value=tags_map['O'])"
      ],
      "execution_count": null,
      "outputs": []
    },
    {
      "cell_type": "code",
      "metadata": {
        "id": "pjyLkl2xLuXH"
      },
      "source": [
        "padded_encoded_tags.shape"
      ],
      "execution_count": null,
      "outputs": []
    },
    {
      "cell_type": "code",
      "metadata": {
        "colab": {
          "base_uri": "https://localhost:8080/"
        },
        "id": "YdYrZEbjLuXH",
        "outputId": "ef5e34f1-c39c-47da-f242-04545c3a9135"
      },
      "source": [
        "target= np.array([np.array(to_categorical(i,num_classes = num_tags)) for i in  padded_encoded_tags])\n",
        "print(\"Shape of Labels  after converting to Categorical\",target.shape)"
      ],
      "execution_count": null,
      "outputs": [
        {
          "output_type": "stream",
          "text": [
            "Shape of Labels  after converting to Categorical (5000, 128, 19)\n"
          ],
          "name": "stdout"
        }
      ]
    },
    {
      "cell_type": "code",
      "metadata": {
        "id": "qcSwVzKrLuXH"
      },
      "source": [
        "# Train and test split in 8:2 ratio\n",
        "x_train, x_test, y_train, y_test = train_test_split(padded_data, target, test_size=0.2)"
      ],
      "execution_count": null,
      "outputs": []
    },
    {
      "cell_type": "markdown",
      "metadata": {
        "id": "hBQsLpKFLuXI"
      },
      "source": [
        "Creating LSTM Model"
      ]
    },
    {
      "cell_type": "code",
      "metadata": {
        "colab": {
          "base_uri": "https://localhost:8080/"
        },
        "id": "0d196stdLuXI",
        "outputId": "b32dc5b4-e38f-4b95-9eb1-b85a3501d047"
      },
      "source": [
        "\n",
        "lstm_units=128\n",
        "max_len=128\n",
        "embedding_dim=128\n",
        "\n",
        "input_word = Input(shape = (max_len))\n",
        "model = Embedding(vocab_size, 50, input_length=max_length, weights=[embedding_matrix], trainable=True)(input_word)\n",
        "\n",
        "model = LSTM(units=embedding_dim,return_sequences=True)(model)\n",
        "model = Dropout(0.2)(model)\n",
        "model = BatchNormalization()(model)\n",
        "out = TimeDistributed(Dense(num_tags,activation = 'softmax'))(model)\n",
        "model = Model(input_word,out)\n",
        "\n",
        "model.compile(optimizer = 'adam',loss = 'categorical_crossentropy',metrics = ['accuracy'])\n",
        "model.summary()"
      ],
      "execution_count": null,
      "outputs": [
        {
          "output_type": "stream",
          "text": [
            "Model: \"model_1\"\n",
            "_________________________________________________________________\n",
            "Layer (type)                 Output Shape              Param #   \n",
            "=================================================================\n",
            "input_2 (InputLayer)         [(None, 128)]             0         \n",
            "_________________________________________________________________\n",
            "embedding_1 (Embedding)      (None, 128, 50)           533350    \n",
            "_________________________________________________________________\n",
            "lstm_1 (LSTM)                (None, 128, 128)          91648     \n",
            "_________________________________________________________________\n",
            "dropout (Dropout)            (None, 128, 128)          0         \n",
            "_________________________________________________________________\n",
            "batch_normalization (BatchNo (None, 128, 128)          512       \n",
            "_________________________________________________________________\n",
            "time_distributed_1 (TimeDist (None, 128, 19)           2451      \n",
            "=================================================================\n",
            "Total params: 627,961\n",
            "Trainable params: 627,705\n",
            "Non-trainable params: 256\n",
            "_________________________________________________________________\n"
          ],
          "name": "stdout"
        }
      ]
    },
    {
      "cell_type": "code",
      "metadata": {
        "colab": {
          "base_uri": "https://localhost:8080/"
        },
        "id": "011vS0o3LuXI",
        "outputId": "d59b323c-80fe-416f-a865-216e6763d81e"
      },
      "source": [
        "## Fit train data\n",
        "history = model.fit(x_train,y_train,validation_split=0.2,batch_size=32, epochs =10)"
      ],
      "execution_count": null,
      "outputs": [
        {
          "output_type": "stream",
          "text": [
            "Train on 3200 samples, validate on 800 samples\n",
            "Epoch 1/10\n",
            "3200/3200 [==============================] - ETA: 0s - loss: 1.9340 - accuracy: 0.8629"
          ],
          "name": "stdout"
        },
        {
          "output_type": "stream",
          "text": [
            "/usr/local/lib/python3.7/dist-packages/tensorflow/python/keras/engine/training.py:2325: UserWarning: `Model.state_updates` will be removed in a future version. This property should not be used in TensorFlow 2.0, as `updates` are applied automatically.\n",
            "  warnings.warn('`Model.state_updates` will be removed in a future version. '\n"
          ],
          "name": "stderr"
        },
        {
          "output_type": "stream",
          "text": [
            "3200/3200 [==============================] - 22s 7ms/sample - loss: 1.9340 - accuracy: 0.8629 - val_loss: 0.4413 - val_accuracy: 0.9868\n",
            "Epoch 2/10\n",
            "3200/3200 [==============================] - 21s 7ms/sample - loss: 0.1983 - accuracy: 0.9834 - val_loss: 0.1033 - val_accuracy: 0.9876\n",
            "Epoch 3/10\n",
            "3200/3200 [==============================] - 21s 7ms/sample - loss: 0.0780 - accuracy: 0.9876 - val_loss: 0.0927 - val_accuracy: 0.9878\n",
            "Epoch 4/10\n",
            "3200/3200 [==============================] - 21s 7ms/sample - loss: 0.0595 - accuracy: 0.9885 - val_loss: 0.0890 - val_accuracy: 0.9878\n",
            "Epoch 5/10\n",
            "3200/3200 [==============================] - 21s 7ms/sample - loss: 0.0505 - accuracy: 0.9894 - val_loss: 0.0796 - val_accuracy: 0.9878\n",
            "Epoch 6/10\n",
            "3200/3200 [==============================] - 21s 7ms/sample - loss: 0.0453 - accuracy: 0.9898 - val_loss: 0.0651 - val_accuracy: 0.9879\n",
            "Epoch 7/10\n",
            "3200/3200 [==============================] - 21s 7ms/sample - loss: 0.0409 - accuracy: 0.9905 - val_loss: 0.0544 - val_accuracy: 0.9885\n",
            "Epoch 8/10\n",
            "3200/3200 [==============================] - 21s 7ms/sample - loss: 0.0376 - accuracy: 0.9909 - val_loss: 0.0459 - val_accuracy: 0.9898\n",
            "Epoch 9/10\n",
            "3200/3200 [==============================] - 21s 7ms/sample - loss: 0.0342 - accuracy: 0.9915 - val_loss: 0.0444 - val_accuracy: 0.9898\n",
            "Epoch 10/10\n",
            "3200/3200 [==============================] - 21s 7ms/sample - loss: 0.0324 - accuracy: 0.9920 - val_loss: 0.0448 - val_accuracy: 0.9899\n"
          ],
          "name": "stdout"
        }
      ]
    },
    {
      "cell_type": "code",
      "metadata": {
        "id": "nNMMO5ZILuXI"
      },
      "source": [
        "t_loss = history.history['loss']\n",
        "v_loss = history.history['val_loss']\n",
        "accuracy = history.history['accuracy']\n",
        "val_accuracy = history.history['val_accuracy']"
      ],
      "execution_count": null,
      "outputs": []
    },
    {
      "cell_type": "code",
      "metadata": {
        "colab": {
          "base_uri": "https://localhost:8080/",
          "height": 295
        },
        "id": "6WiN8oDdLuXJ",
        "outputId": "e2f7ac26-2c8c-4519-82c8-7b645884e35a"
      },
      "source": [
        "\n",
        "x = [i for i in range(1,11)]\n",
        "\n",
        "plt.title(\" Training and Validation Loss\")\n",
        "plt.xlabel('Epoch')\n",
        "plt.ylabel('Loss')\n",
        "\n",
        "plt.plot(x,t_loss,label='Training Loss')\n",
        "plt.plot(x,v_loss,label='Validation Loss')\n",
        "\n",
        "plt.legend()\n",
        "plt.show()"
      ],
      "execution_count": null,
      "outputs": [
        {
          "output_type": "display_data",
          "data": {
            "image/png": "[encoded data removed]",
            "text/plain": [
              "<Figure size 432x288 with 1 Axes>"
            ]
          },
          "metadata": {
            "tags": [],
            "needs_background": "light"
          }
        }
      ]
    },
    {
      "cell_type": "code",
      "metadata": {
        "colab": {
          "base_uri": "https://localhost:8080/",
          "height": 295
        },
        "id": "PnK3yqrzLuXJ",
        "outputId": "f2776be5-528f-4b9a-f0d5-4f1fe590b3c6"
      },
      "source": [
        "x = [i for i in range(1,11)]\n",
        "\n",
        "plt.title(\" Training and Validation Accuracy\")\n",
        "\n",
        "plt.xlabel('Epoch')\n",
        "plt.ylabel('Accuracy')\n",
        "\n",
        "plt.plot(x,accuracy,label='Training Accuracy')\n",
        "plt.plot(x,val_accuracy,label='Validation Validation')\n",
        "\n",
        "plt.legend()\n",
        "plt.show()"
      ],
      "execution_count": null,
      "outputs": [
        {
          "output_type": "display_data",
          "data": {
            "image/png": "[encoded data removed]",
            "text/plain": [
              "<Figure size 432x288 with 1 Axes>"
            ]
          },
          "metadata": {
            "tags": [],
            "needs_background": "light"
          }
        }
      ]
    },
    {
      "cell_type": "markdown",
      "metadata": {
        "id": "rG6ZrxXlLuXJ"
      },
      "source": [
        "**Evaluating the Model**\n",
        "\n",
        "To evaluate the model, we will have to remove the padded portion and identify the accuracy. For this, for every test data, let us create a dataframe wuth the tokens and the actual and predicted value - and use it to calculate the metrics"
      ]
    },
    {
      "cell_type": "code",
      "metadata": {
        "id": "RkckLnvMLuXK"
      },
      "source": [
        "def evaluatePredictions(test_data,preds,actual_preds):\n",
        "    print(\"Shape of Test Data Array\",test_data.shape)\n",
        "    y_actual=np.argmax(np.array(actual_preds),axis=2)\n",
        "    y_pred=np.argmax(preds,axis=2)\n",
        "    num_test_data=test_data.shape[0]\n",
        "    print(\"Number of Test Data Points \",num_test_data)\n",
        "    data=pd.DataFrame()\n",
        "    df_list=[]\n",
        "    for i in range(num_test_data):\n",
        "        test_str=list(test_data[i])\n",
        "        df=pd.DataFrame()\n",
        "        df['test_tokens']=test_str\n",
        "        df['tokens']=df['test_tokens'].apply(lambda x:token.index_word[x] if x!=0 else '<PAD>')\n",
        "        df['actual_target_index']=list(y_actual[i])\n",
        "        df['pred_target_index']=list(y_pred[i])\n",
        "        df['actual_target_tag']=df['actual_target_index'].apply(lambda x:reverse_tag_map[x])\n",
        "        df['pred_target_tag']=df['pred_target_index'].apply(lambda x:reverse_tag_map[x])\n",
        "        df['id']=i+1\n",
        "        df_list.append(df)\n",
        "    data=pd.concat(df_list)\n",
        "    pred_data=data[data['tokens']!='<PAD>']\n",
        "    accuracy=pred_data[pred_data['actual_target_tag']==pred_data['pred_target_tag']].shape[0]/pred_data.shape[0]\n",
        "    \n",
        "    \n",
        "    return pred_data,accuracy"
      ],
      "execution_count": null,
      "outputs": []
    },
    {
      "cell_type": "code",
      "metadata": {
        "colab": {
          "base_uri": "https://localhost:8080/"
        },
        "id": "ligmLemkLuXK",
        "outputId": "2d159ba8-afd8-42a9-8a34-8a958274f993"
      },
      "source": [
        "y_pred = model.predict(x_test)"
      ],
      "execution_count": null,
      "outputs": [
        {
          "output_type": "stream",
          "text": [
            "/usr/local/lib/python3.7/dist-packages/tensorflow/python/keras/engine/training.py:2325: UserWarning: `Model.state_updates` will be removed in a future version. This property should not be used in TensorFlow 2.0, as `updates` are applied automatically.\n",
            "  warnings.warn('`Model.state_updates` will be removed in a future version. '\n"
          ],
          "name": "stderr"
        }
      ]
    },
    {
      "cell_type": "code",
      "metadata": {
        "colab": {
          "base_uri": "https://localhost:8080/"
        },
        "id": "-5cyMjSdLuXK",
        "outputId": "693d0376-0b64-4e45-af5d-dc3c97f8a8aa"
      },
      "source": [
        "pred_data,accuracy=evaluatePredictions(x_test,y_pred,y_test)"
      ],
      "execution_count": null,
      "outputs": [
        {
          "output_type": "stream",
          "text": [
            "Shape of Test Data Array (1000, 128)\n",
            "Number of Test Data Points  1000\n"
          ],
          "name": "stdout"
        }
      ]
    },
    {
      "cell_type": "code",
      "metadata": {
        "colab": {
          "base_uri": "https://localhost:8080/"
        },
        "id": "zR9HTwX3LuXK",
        "outputId": "507fe5df-f365-40d9-9772-42e86edbecd4"
      },
      "source": [
        "print(\"Accuracy on test data is : \",round(accuracy,2))"
      ],
      "execution_count": null,
      "outputs": [
        {
          "output_type": "stream",
          "text": [
            "Accuracy on test data is :  0.93\n"
          ],
          "name": "stdout"
        }
      ]
    },
    {
      "cell_type": "code",
      "metadata": {
        "id": "D4WXuwSZLuXL"
      },
      "source": [
        "y_pred=pred_data['pred_target_tag'].tolist()\n",
        "y_actual=pred_data['actual_target_tag'].tolist()"
      ],
      "execution_count": null,
      "outputs": []
    },
    {
      "cell_type": "code",
      "metadata": {
        "colab": {
          "base_uri": "https://localhost:8080/"
        },
        "id": "GrRqx6BfLuXL",
        "outputId": "9bfa5abd-10cf-41ff-9721-c65fff2cde5e"
      },
      "source": [
        "print(classification_report(y_actual,y_pred))"
      ],
      "execution_count": null,
      "outputs": [
        {
          "output_type": "stream",
          "text": [
            "              precision    recall  f1-score   support\n",
            "\n",
            "    CARDINAL       0.70      0.32      0.44        94\n",
            "        DATE       0.73      0.37      0.49       189\n",
            "       EVENT       1.00      0.20      0.33        10\n",
            "         FAC       0.00      0.00      0.00        27\n",
            "         GPE       0.73      0.45      0.55       101\n",
            "    LANGUAGE       0.00      0.00      0.00         2\n",
            "         LAW       0.00      0.00      0.00         5\n",
            "         LOC       0.98      0.56      0.71        73\n",
            "       MONEY       0.00      0.00      0.00        11\n",
            "        NORP       0.82      0.54      0.65        78\n",
            "           O       0.94      0.99      0.97     15719\n",
            "     ORDINAL       0.83      0.73      0.78        26\n",
            "         ORG       0.46      0.16      0.23       463\n",
            "      PERSON       0.59      0.35      0.44       382\n",
            "     PRODUCT       0.00      0.00      0.00        27\n",
            "    QUANTITY       0.00      0.00      0.00         6\n",
            "        TIME       0.73      0.24      0.36        34\n",
            " WORK_OF_ART       0.67      0.25      0.36         8\n",
            "\n",
            "    accuracy                           0.93     17255\n",
            "   macro avg       0.51      0.29      0.35     17255\n",
            "weighted avg       0.91      0.93      0.92     17255\n",
            "\n"
          ],
          "name": "stdout"
        },
        {
          "output_type": "stream",
          "text": [
            "/usr/local/lib/python3.7/dist-packages/sklearn/metrics/_classification.py:1272: UndefinedMetricWarning: Precision and F-score are ill-defined and being set to 0.0 in labels with no predicted samples. Use `zero_division` parameter to control this behavior.\n",
            "  _warn_prf(average, modifier, msg_start, len(result))\n"
          ],
          "name": "stderr"
        }
      ]
    },
    {
      "cell_type": "code",
      "metadata": {
        "colab": {
          "base_uri": "https://localhost:8080/",
          "height": 419
        },
        "id": "7E7VzAv5LuXL",
        "outputId": "30a7b4b1-e5ad-4a36-a83a-bbc2248429db"
      },
      "source": [
        "pred_data[pred_data['actual_target_tag']=='LOC']"
      ],
      "execution_count": null,
      "outputs": [
        {
          "output_type": "execute_result",
          "data": {
            "text/html": [
              "<div>\n",
              "<style scoped>\n",
              "    .dataframe tbody tr th:only-of-type {\n",
              "        vertical-align: middle;\n",
              "    }\n",
              "\n",
              "    .dataframe tbody tr th {\n",
              "        vertical-align: top;\n",
              "    }\n",
              "\n",
              "    .dataframe thead th {\n",
              "        text-align: right;\n",
              "    }\n",
              "</style>\n",
              "<table border=\"1\" class=\"dataframe\">\n",
              "  <thead>\n",
              "    <tr style=\"text-align: right;\">\n",
              "      <th></th>\n",
              "      <th>test_tokens</th>\n",
              "      <th>tokens</th>\n",
              "      <th>actual_target_index</th>\n",
              "      <th>pred_target_index</th>\n",
              "      <th>actual_target_tag</th>\n",
              "      <th>pred_target_tag</th>\n",
              "      <th>id</th>\n",
              "    </tr>\n",
              "  </thead>\n",
              "  <tbody>\n",
              "    <tr>\n",
              "      <th>10</th>\n",
              "      <td>132</td>\n",
              "      <td>south</td>\n",
              "      <td>4</td>\n",
              "      <td>4</td>\n",
              "      <td>LOC</td>\n",
              "      <td>LOC</td>\n",
              "      <td>31</td>\n",
              "    </tr>\n",
              "    <tr>\n",
              "      <th>11</th>\n",
              "      <td>255</td>\n",
              "      <td>georgia</td>\n",
              "      <td>4</td>\n",
              "      <td>4</td>\n",
              "      <td>LOC</td>\n",
              "      <td>LOC</td>\n",
              "      <td>31</td>\n",
              "    </tr>\n",
              "    <tr>\n",
              "      <th>12</th>\n",
              "      <td>214</td>\n",
              "      <td>island</td>\n",
              "      <td>4</td>\n",
              "      <td>4</td>\n",
              "      <td>LOC</td>\n",
              "      <td>LOC</td>\n",
              "      <td>31</td>\n",
              "    </tr>\n",
              "    <tr>\n",
              "      <th>12</th>\n",
              "      <td>5710</td>\n",
              "      <td>orient</td>\n",
              "      <td>4</td>\n",
              "      <td>17</td>\n",
              "      <td>LOC</td>\n",
              "      <td>O</td>\n",
              "      <td>67</td>\n",
              "    </tr>\n",
              "    <tr>\n",
              "      <th>0</th>\n",
              "      <td>1</td>\n",
              "      <td>the</td>\n",
              "      <td>4</td>\n",
              "      <td>17</td>\n",
              "      <td>LOC</td>\n",
              "      <td>O</td>\n",
              "      <td>107</td>\n",
              "    </tr>\n",
              "    <tr>\n",
              "      <th>...</th>\n",
              "      <td>...</td>\n",
              "      <td>...</td>\n",
              "      <td>...</td>\n",
              "      <td>...</td>\n",
              "      <td>...</td>\n",
              "      <td>...</td>\n",
              "      <td>...</td>\n",
              "    </tr>\n",
              "    <tr>\n",
              "      <th>13</th>\n",
              "      <td>920</td>\n",
              "      <td>northern</td>\n",
              "      <td>4</td>\n",
              "      <td>17</td>\n",
              "      <td>LOC</td>\n",
              "      <td>O</td>\n",
              "      <td>955</td>\n",
              "    </tr>\n",
              "    <tr>\n",
              "      <th>14</th>\n",
              "      <td>557</td>\n",
              "      <td>hemisphere</td>\n",
              "      <td>4</td>\n",
              "      <td>4</td>\n",
              "      <td>LOC</td>\n",
              "      <td>LOC</td>\n",
              "      <td>955</td>\n",
              "    </tr>\n",
              "    <tr>\n",
              "      <th>5</th>\n",
              "      <td>1</td>\n",
              "      <td>the</td>\n",
              "      <td>4</td>\n",
              "      <td>17</td>\n",
              "      <td>LOC</td>\n",
              "      <td>O</td>\n",
              "      <td>965</td>\n",
              "    </tr>\n",
              "    <tr>\n",
              "      <th>6</th>\n",
              "      <td>670</td>\n",
              "      <td>third</td>\n",
              "      <td>4</td>\n",
              "      <td>5</td>\n",
              "      <td>LOC</td>\n",
              "      <td>ORDINAL</td>\n",
              "      <td>965</td>\n",
              "    </tr>\n",
              "    <tr>\n",
              "      <th>7</th>\n",
              "      <td>855</td>\n",
              "      <td>entryway</td>\n",
              "      <td>4</td>\n",
              "      <td>17</td>\n",
              "      <td>LOC</td>\n",
              "      <td>O</td>\n",
              "      <td>965</td>\n",
              "    </tr>\n",
              "  </tbody>\n",
              "</table>\n",
              "<p>73 rows × 7 columns</p>\n",
              "</div>"
            ],
            "text/plain": [
              "    test_tokens      tokens  ...  pred_target_tag   id\n",
              "10          132       south  ...              LOC   31\n",
              "11          255     georgia  ...              LOC   31\n",
              "12          214      island  ...              LOC   31\n",
              "12         5710      orient  ...                O   67\n",
              "0             1         the  ...                O  107\n",
              "..          ...         ...  ...              ...  ...\n",
              "13          920    northern  ...                O  955\n",
              "14          557  hemisphere  ...              LOC  955\n",
              "5             1         the  ...                O  965\n",
              "6           670       third  ...          ORDINAL  965\n",
              "7           855    entryway  ...                O  965\n",
              "\n",
              "[73 rows x 7 columns]"
            ]
          },
          "metadata": {
            "tags": []
          },
          "execution_count": 69
        }
      ]
    },
    {
      "cell_type": "markdown",
      "metadata": {
        "id": "FCLFIS8qPIp4"
      },
      "source": [
        "# BERT Embedding and LSTM based NER *Model*"
      ]
    },
    {
      "cell_type": "code",
      "metadata": {
        "id": "UJ4NXkPwPjWt"
      },
      "source": [
        "from bert_embedding import BertEmbedding\n",
        "bert_embedding= BertEmbedding()"
      ],
      "execution_count": null,
      "outputs": []
    },
    {
      "cell_type": "code",
      "metadata": {
        "id": "DiHpiTQWPaIx"
      },
      "source": [
        "data_u = ent_spacy\n",
        "tags_list = lab_spacy"
      ],
      "execution_count": null,
      "outputs": []
    },
    {
      "cell_type": "code",
      "metadata": {
        "id": "syXnKvDZPaJA"
      },
      "source": [
        "# Finding length of longest review\n",
        "max_length = 128"
      ],
      "execution_count": null,
      "outputs": []
    },
    {
      "cell_type": "code",
      "metadata": {
        "id": "HyLLJHoUPaJA"
      },
      "source": [
        "# Tokenizing Data\n",
        "token = Tokenizer()\n",
        "token.fit_on_texts(data_u)\n",
        "vocab_size = len(token.word_index) + 1\n",
        "encoded = token.texts_to_sequences(data)\n",
        "padded_data = pad_sequences(encoded, maxlen=max_length, padding='post')\n",
        "\n",
        "vocab_size = len(token.word_index) + 1"
      ],
      "execution_count": null,
      "outputs": []
    },
    {
      "cell_type": "code",
      "metadata": {
        "colab": {
          "base_uri": "https://localhost:8080/"
        },
        "id": "rGvRqRCklLTh",
        "outputId": "0b824a2e-1932-48e2-ea0b-88fa07ee8776"
      },
      "source": [
        "#Creating Embedding matrix \n",
        "embedding_matrix = np.zeros((vocab_size, 768))\n",
        "for word, i in tqdm(token.word_index.items()):\n",
        "    try:\n",
        "      temp =  bert_embedding([word])\n",
        "      embedding_vector = temp[0][1][0]\n",
        "    except:\n",
        "      embedding_vector  = None\n",
        "\n",
        "    if embedding_vector is not None:\n",
        "        embedding_matrix[i] = embedding_vector"
      ],
      "execution_count": null,
      "outputs": [
        {
          "output_type": "stream",
          "text": [
            "100%|██████████| 3637/3637 [18:48<00:00,  3.22it/s]\n"
          ],
          "name": "stderr"
        }
      ]
    },
    {
      "cell_type": "code",
      "metadata": {
        "colab": {
          "base_uri": "https://localhost:8080/"
        },
        "id": "t5yoalJWPaJB",
        "outputId": "f7475190-ba1f-4756-98c0-22287b46f054"
      },
      "source": [
        "# Creating Tag Mapping and Encoding the Tags\n",
        "tags=list(set(unique_ent))\n",
        "print(tags)\n",
        "num_tags=len(tags)\n",
        "print(\"Number of Tags \",num_tags)\n",
        "\n",
        "tags_map={tag:i for i,tag in enumerate(tags)}\n",
        "print(\"Tags Map \",tags_map)"
      ],
      "execution_count": null,
      "outputs": [
        {
          "output_type": "stream",
          "text": [
            "['CARDINAL', 'TIME', 'NORP', 'ORG', 'DATE', 'O', 'PERSON', 'PRODUCT', 'LOC', 'ORDINAL', 'MONEY', 'WORK_OF_ART', 'EVENT', 'FAC', 'QUANTITY', 'LANGUAGE', 'LAW', 'GPE']\n",
            "Number of Tags  18\n",
            "Tags Map  {'CARDINAL': 0, 'TIME': 1, 'NORP': 2, 'ORG': 3, 'DATE': 4, 'O': 5, 'PERSON': 6, 'PRODUCT': 7, 'LOC': 8, 'ORDINAL': 9, 'MONEY': 10, 'WORK_OF_ART': 11, 'EVENT': 12, 'FAC': 13, 'QUANTITY': 14, 'LANGUAGE': 15, 'LAW': 16, 'GPE': 17}\n"
          ],
          "name": "stdout"
        }
      ]
    },
    {
      "cell_type": "code",
      "metadata": {
        "id": "huBrVz9TPaJB"
      },
      "source": [
        "# Creating Reverse tag Map\n",
        "reverse_tag_map={v: k for k, v in tags_map.items()}"
      ],
      "execution_count": null,
      "outputs": []
    },
    {
      "cell_type": "code",
      "metadata": {
        "colab": {
          "base_uri": "https://localhost:8080/"
        },
        "id": "AIsA4tk-PaJC",
        "outputId": "86ad48a9-e19b-4718-84de-ea6e3d454cd6"
      },
      "source": [
        "# Encoding taggs\n",
        "encoded_tags=[[tags_map[w] for w in tag] for tag in tags_list]\n",
        "print(\"First Sentence \",data[0])\n",
        "print('First Sentence Original Tags ',tags_list[0])\n",
        "print(\"First Sentence Encoded Tags \",encoded_tags[0])\n",
        "print(\"Is length of Original Tags and Encoded Tags same \",len(tags_list[0])==len(encoded_tags[0]))\n",
        "print(\"Length of Tags for First Sentence \",len(encoded_tags[0]))"
      ],
      "execution_count": null,
      "outputs": [
        {
          "output_type": "stream",
          "text": [
            "First Sentence   morgan and guzman will have era is run higher than last year and the cubs will be idiots and not pitch harkey as much as hibbard\n",
            "First Sentence Original Tags  ['PERSON', 'O', 'ORG', 'O', 'O', 'O', 'O', 'O', 'O', 'O', 'DATE', 'DATE', 'O', 'O', 'O', 'O', 'O', 'O', 'O', 'O', 'O', 'O', 'O', 'O', 'O', 'O']\n",
            "First Sentence Encoded Tags  [6, 5, 3, 5, 5, 5, 5, 5, 5, 5, 4, 4, 5, 5, 5, 5, 5, 5, 5, 5, 5, 5, 5, 5, 5, 5]\n",
            "Is length of Original Tags and Encoded Tags same  True\n",
            "Length of Tags for First Sentence  26\n"
          ],
          "name": "stdout"
        }
      ]
    },
    {
      "cell_type": "code",
      "metadata": {
        "id": "O3ToQwomPaJC"
      },
      "source": [
        "# Add padding to encoded text\n",
        "padded_encoded_tags=pad_sequences(maxlen=max_length,sequences=encoded_tags,padding=\"post\",value=tags_map['O'])"
      ],
      "execution_count": null,
      "outputs": []
    },
    {
      "cell_type": "code",
      "metadata": {
        "id": "YFWhbYSdPaJC"
      },
      "source": [
        "padded_encoded_tags.shape"
      ],
      "execution_count": null,
      "outputs": []
    },
    {
      "cell_type": "code",
      "metadata": {
        "colab": {
          "base_uri": "https://localhost:8080/"
        },
        "id": "QLMkvW0DPaJD",
        "outputId": "9732bfe7-23ef-4570-9e51-5a64e2aae12a"
      },
      "source": [
        "target= np.array([np.array(to_categorical(i,num_classes = num_tags)) for i in  padded_encoded_tags])\n",
        "print(\"Shape of Labels  after converting to Categorical\",target.shape)"
      ],
      "execution_count": null,
      "outputs": [
        {
          "output_type": "stream",
          "text": [
            "Shape of Labels  after converting to Categorical (1000, 128, 18)\n"
          ],
          "name": "stdout"
        }
      ]
    },
    {
      "cell_type": "code",
      "metadata": {
        "id": "SSY5_xdzPaJD"
      },
      "source": [
        "# Train and test split in 8:2 ratio\n",
        "x_train, x_test, y_train, y_test = train_test_split(padded_data, target, test_size=0.2)"
      ],
      "execution_count": null,
      "outputs": []
    },
    {
      "cell_type": "markdown",
      "metadata": {
        "id": "2JRRSWDhPaJD"
      },
      "source": [
        "Creating LSTM Model"
      ]
    },
    {
      "cell_type": "code",
      "metadata": {
        "colab": {
          "base_uri": "https://localhost:8080/"
        },
        "id": "VTW1lYJ6PaJD",
        "outputId": "52e6ffbe-2ca2-481f-967a-aa3c5de32e5a"
      },
      "source": [
        "\n",
        "lstm_units=128\n",
        "max_len=128\n",
        "embedding_dim=128\n",
        "\n",
        "input_word = Input(shape = (max_len))\n",
        "model = Embedding(vocab_size, 768, input_length=max_length, weights=[embedding_matrix], trainable=True)(input_word)\n",
        "\n",
        "model = LSTM(units=embedding_dim,return_sequences=True)(model)\n",
        "model = Dropout(0.2)(model)\n",
        "model = BatchNormalization()(model)\n",
        "out = TimeDistributed(Dense(num_tags,activation = 'softmax'))(model)\n",
        "model = Model(input_word,out)\n",
        "\n",
        "model.compile(optimizer = 'adam',loss = 'categorical_crossentropy',metrics = ['accuracy'])\n",
        "model.summary()"
      ],
      "execution_count": null,
      "outputs": [
        {
          "output_type": "stream",
          "text": [
            "Model: \"model\"\n",
            "_________________________________________________________________\n",
            "Layer (type)                 Output Shape              Param #   \n",
            "=================================================================\n",
            "input_2 (InputLayer)         [(None, 128)]             0         \n",
            "_________________________________________________________________\n",
            "embedding_1 (Embedding)      (None, 128, 768)          2793984   \n",
            "_________________________________________________________________\n",
            "lstm (LSTM)                  (None, 128, 128)          459264    \n",
            "_________________________________________________________________\n",
            "dropout (Dropout)            (None, 128, 128)          0         \n",
            "_________________________________________________________________\n",
            "batch_normalization (BatchNo (None, 128, 128)          512       \n",
            "_________________________________________________________________\n",
            "time_distributed (TimeDistri (None, 128, 18)           2322      \n",
            "=================================================================\n",
            "Total params: 3,256,082\n",
            "Trainable params: 3,255,826\n",
            "Non-trainable params: 256\n",
            "_________________________________________________________________\n"
          ],
          "name": "stdout"
        }
      ]
    },
    {
      "cell_type": "code",
      "metadata": {
        "colab": {
          "base_uri": "https://localhost:8080/"
        },
        "id": "2WGzLwryPaJE",
        "outputId": "5393049b-1cd7-48a7-e258-1b5a8173a23d"
      },
      "source": [
        "## Fit train data\n",
        "history = model.fit(x_train,y_train,validation_split=0.2,batch_size=32, epochs =10)"
      ],
      "execution_count": null,
      "outputs": [
        {
          "output_type": "stream",
          "text": [
            "Train on 640 samples, validate on 160 samples\n",
            "Epoch 1/10\n",
            "640/640 [==============================] - 15s 24ms/sample - loss: 2.9050 - accuracy: 0.6104 - val_loss: 2.5864 - val_accuracy: 0.8963\n",
            "Epoch 2/10\n",
            "640/640 [==============================] - 14s 22ms/sample - loss: 2.1235 - accuracy: 0.8747 - val_loss: 2.2697 - val_accuracy: 0.9316\n",
            "Epoch 3/10\n",
            "640/640 [==============================] - 14s 22ms/sample - loss: 1.2506 - accuracy: 0.9286 - val_loss: 1.8678 - val_accuracy: 0.9550\n",
            "Epoch 4/10\n",
            "640/640 [==============================] - 14s 23ms/sample - loss: 0.7548 - accuracy: 0.9549 - val_loss: 1.4324 - val_accuracy: 0.9612\n",
            "Epoch 5/10\n",
            "640/640 [==============================] - 14s 22ms/sample - loss: 0.5827 - accuracy: 0.9628 - val_loss: 1.1774 - val_accuracy: 0.9624\n",
            "Epoch 6/10\n",
            "640/640 [==============================] - 14s 23ms/sample - loss: 0.5270 - accuracy: 0.9646 - val_loss: 1.0156 - val_accuracy: 0.9639\n",
            "Epoch 7/10\n",
            "640/640 [==============================] - 14s 22ms/sample - loss: 0.5006 - accuracy: 0.9660 - val_loss: 0.9138 - val_accuracy: 0.9639\n",
            "Epoch 8/10\n",
            "640/640 [==============================] - 15s 23ms/sample - loss: 0.4849 - accuracy: 0.9672 - val_loss: 0.8144 - val_accuracy: 0.9646\n",
            "Epoch 9/10\n",
            "640/640 [==============================] - 14s 22ms/sample - loss: 0.4722 - accuracy: 0.9678 - val_loss: 0.7219 - val_accuracy: 0.9655\n",
            "Epoch 10/10\n",
            "640/640 [==============================] - 14s 22ms/sample - loss: 0.4496 - accuracy: 0.9689 - val_loss: 0.5956 - val_accuracy: 0.9717\n"
          ],
          "name": "stdout"
        }
      ]
    },
    {
      "cell_type": "code",
      "metadata": {
        "id": "BS7EXFwOPaJE"
      },
      "source": [
        "t_loss = history.history['loss']\n",
        "v_loss = history.history['val_loss']\n",
        "accuracy = history.history['accuracy']\n",
        "val_accuracy = history.history['val_accuracy']"
      ],
      "execution_count": null,
      "outputs": []
    },
    {
      "cell_type": "code",
      "metadata": {
        "colab": {
          "base_uri": "https://localhost:8080/",
          "height": 295
        },
        "id": "puwx81l3PaJE",
        "outputId": "f9dd10e0-11c3-4423-ff92-97cf2474da35"
      },
      "source": [
        "\n",
        "x = [i for i in range(1,11)]\n",
        "\n",
        "plt.title(\" Training and Validation Loss\")\n",
        "plt.xlabel('Epoch')\n",
        "plt.ylabel('Loss')\n",
        "\n",
        "plt.plot(x,t_loss,label='Training Loss')\n",
        "plt.plot(x,v_loss,label='Validation Loss')\n",
        "\n",
        "plt.legend()\n",
        "plt.show()"
      ],
      "execution_count": null,
      "outputs": [
        {
          "output_type": "display_data",
          "data": {
            "image/png": "[encoded data removed]",
            "text/plain": [
              "<Figure size 432x288 with 1 Axes>"
            ]
          },
          "metadata": {
            "tags": [],
            "needs_background": "light"
          }
        }
      ]
    },
    {
      "cell_type": "code",
      "metadata": {
        "colab": {
          "base_uri": "https://localhost:8080/",
          "height": 295
        },
        "id": "uoby41MYPaJF",
        "outputId": "cf3351f5-992c-4c33-f20d-b3d63a2a970e"
      },
      "source": [
        "x = [i for i in range(1,11)]\n",
        "\n",
        "plt.title(\" Training and Validation Accuracy\")\n",
        "\n",
        "plt.xlabel('Epoch')\n",
        "plt.ylabel('Accuracy')\n",
        "\n",
        "plt.plot(x,accuracy,label='Training Accuracy')\n",
        "plt.plot(x,val_accuracy,label='Validation Validation')\n",
        "\n",
        "plt.legend()\n",
        "plt.show()"
      ],
      "execution_count": null,
      "outputs": [
        {
          "output_type": "display_data",
          "data": {
            "image/png": "[encoded data removed]",
            "text/plain": [
              "<Figure size 432x288 with 1 Axes>"
            ]
          },
          "metadata": {
            "tags": [],
            "needs_background": "light"
          }
        }
      ]
    },
    {
      "cell_type": "markdown",
      "metadata": {
        "id": "9U4DFbRfPaJF"
      },
      "source": [
        "**Evaluating the Model**\n",
        "\n",
        "To evaluate the model, we will have to remove the padded portion and identify the accuracy. For this, for every test data, let us create a dataframe wuth the tokens and the actual and predicted value - and use it to calculate the metrics"
      ]
    },
    {
      "cell_type": "code",
      "metadata": {
        "id": "v36gkHlWPaJF"
      },
      "source": [
        "def evaluatePredictions(test_data,preds,actual_preds):\n",
        "    print(\"Shape of Test Data Array\",test_data.shape)\n",
        "    y_actual=np.argmax(np.array(actual_preds),axis=2)\n",
        "    y_pred=np.argmax(preds,axis=2)\n",
        "    num_test_data=test_data.shape[0]\n",
        "    print(\"Number of Test Data Points \",num_test_data)\n",
        "    data=pd.DataFrame()\n",
        "    df_list=[]\n",
        "    for i in range(num_test_data):\n",
        "        test_str=list(test_data[i])\n",
        "        df=pd.DataFrame()\n",
        "        df['test_tokens']=test_str\n",
        "        df['tokens']=df['test_tokens'].apply(lambda x:token.index_word[x] if x!=0 else '<PAD>')\n",
        "        df['actual_target_index']=list(y_actual[i])\n",
        "        df['pred_target_index']=list(y_pred[i])\n",
        "        df['actual_target_tag']=df['actual_target_index'].apply(lambda x:reverse_tag_map[x])\n",
        "        df['pred_target_tag']=df['pred_target_index'].apply(lambda x:reverse_tag_map[x])\n",
        "        df['id']=i+1\n",
        "        df_list.append(df)\n",
        "    data=pd.concat(df_list)\n",
        "    pred_data=data[data['tokens']!='<PAD>']\n",
        "    accuracy=pred_data[pred_data['actual_target_tag']==pred_data['pred_target_tag']].shape[0]/pred_data.shape[0]\n",
        "    \n",
        "    \n",
        "    return pred_data,accuracy"
      ],
      "execution_count": null,
      "outputs": []
    },
    {
      "cell_type": "code",
      "metadata": {
        "id": "_1mCDbwbPaJG"
      },
      "source": [
        "y_pred = model.predict(x_test)"
      ],
      "execution_count": null,
      "outputs": []
    },
    {
      "cell_type": "code",
      "metadata": {
        "colab": {
          "base_uri": "https://localhost:8080/"
        },
        "id": "hRLj3t4HPaJG",
        "outputId": "abba23fa-e04a-483b-d119-f6c3ed49a312"
      },
      "source": [
        "pred_data,accuracy=evaluatePredictions(x_test,y_pred,y_test)"
      ],
      "execution_count": null,
      "outputs": [
        {
          "output_type": "stream",
          "text": [
            "Shape of Test Data Array (200, 128)\n",
            "Number of Test Data Points  200\n"
          ],
          "name": "stdout"
        }
      ]
    },
    {
      "cell_type": "code",
      "metadata": {
        "colab": {
          "base_uri": "https://localhost:8080/"
        },
        "id": "vBUdwVChPaJG",
        "outputId": "93457869-8442-41e1-a62b-bed5a55a5c93"
      },
      "source": [
        "print(\"Accuracy on test data is : \",round(accuracy,2))"
      ],
      "execution_count": null,
      "outputs": [
        {
          "output_type": "stream",
          "text": [
            "Accuracy on test data is :  0.79\n"
          ],
          "name": "stdout"
        }
      ]
    },
    {
      "cell_type": "code",
      "metadata": {
        "id": "7KWmhceOPaJG"
      },
      "source": [
        "y_pred=pred_data['pred_target_tag'].tolist()\n",
        "y_actual=pred_data['actual_target_tag'].tolist()"
      ],
      "execution_count": null,
      "outputs": []
    },
    {
      "cell_type": "code",
      "metadata": {
        "colab": {
          "base_uri": "https://localhost:8080/"
        },
        "id": "dU1tW_iWPaJH",
        "outputId": "a32b3a74-1af1-4a03-ac40-c638ff2346bb"
      },
      "source": [
        "print(classification_report(y_actual,y_pred))"
      ],
      "execution_count": null,
      "outputs": [
        {
          "output_type": "stream",
          "text": [
            "              precision    recall  f1-score   support\n",
            "\n",
            "    CARDINAL       0.42      0.50      0.46        16\n",
            "        DATE       0.25      0.48      0.32        52\n",
            "       EVENT       0.08      0.40      0.14         5\n",
            "         GPE       0.40      0.68      0.50        31\n",
            "         LOC       0.60      0.62      0.61        40\n",
            "       MONEY       0.00      0.00      0.00         4\n",
            "        NORP       0.24      0.67      0.35         9\n",
            "           O       0.96      0.82      0.88      3150\n",
            "     ORDINAL       0.80      0.80      0.80         5\n",
            "         ORG       0.11      0.40      0.17        80\n",
            "      PERSON       0.26      0.59      0.36        56\n",
            "     PRODUCT       0.00      0.00      0.00         6\n",
            "        TIME       0.21      0.43      0.29         7\n",
            " WORK_OF_ART       0.00      0.00      0.00         3\n",
            "\n",
            "    accuracy                           0.79      3464\n",
            "   macro avg       0.31      0.46      0.35      3464\n",
            "weighted avg       0.89      0.79      0.83      3464\n",
            "\n"
          ],
          "name": "stdout"
        }
      ]
    },
    {
      "cell_type": "code",
      "metadata": {
        "colab": {
          "base_uri": "https://localhost:8080/",
          "height": 1000
        },
        "id": "gDNlY8wUPaJH",
        "outputId": "91bf3551-c032-4f91-8076-a965938cf597"
      },
      "source": [
        "pred_data[pred_data['actual_target_tag']=='LOC']"
      ],
      "execution_count": null,
      "outputs": [
        {
          "output_type": "execute_result",
          "data": {
            "text/html": [
              "<div>\n",
              "<style scoped>\n",
              "    .dataframe tbody tr th:only-of-type {\n",
              "        vertical-align: middle;\n",
              "    }\n",
              "\n",
              "    .dataframe tbody tr th {\n",
              "        vertical-align: top;\n",
              "    }\n",
              "\n",
              "    .dataframe thead th {\n",
              "        text-align: right;\n",
              "    }\n",
              "</style>\n",
              "<table border=\"1\" class=\"dataframe\">\n",
              "  <thead>\n",
              "    <tr style=\"text-align: right;\">\n",
              "      <th></th>\n",
              "      <th>test_tokens</th>\n",
              "      <th>tokens</th>\n",
              "      <th>actual_target_index</th>\n",
              "      <th>pred_target_index</th>\n",
              "      <th>actual_target_tag</th>\n",
              "      <th>pred_target_tag</th>\n",
              "      <th>id</th>\n",
              "    </tr>\n",
              "  </thead>\n",
              "  <tbody>\n",
              "    <tr>\n",
              "      <th>5</th>\n",
              "      <td>2</td>\n",
              "      <td>the</td>\n",
              "      <td>8</td>\n",
              "      <td>5</td>\n",
              "      <td>LOC</td>\n",
              "      <td>O</td>\n",
              "      <td>7</td>\n",
              "    </tr>\n",
              "    <tr>\n",
              "      <th>6</th>\n",
              "      <td>62</td>\n",
              "      <td>south</td>\n",
              "      <td>8</td>\n",
              "      <td>8</td>\n",
              "      <td>LOC</td>\n",
              "      <td>LOC</td>\n",
              "      <td>7</td>\n",
              "    </tr>\n",
              "    <tr>\n",
              "      <th>7</th>\n",
              "      <td>245</td>\n",
              "      <td>atlantic</td>\n",
              "      <td>8</td>\n",
              "      <td>8</td>\n",
              "      <td>LOC</td>\n",
              "      <td>LOC</td>\n",
              "      <td>7</td>\n",
              "    </tr>\n",
              "    <tr>\n",
              "      <th>17</th>\n",
              "      <td>2659</td>\n",
              "      <td>hayden</td>\n",
              "      <td>8</td>\n",
              "      <td>5</td>\n",
              "      <td>LOC</td>\n",
              "      <td>O</td>\n",
              "      <td>47</td>\n",
              "    </tr>\n",
              "    <tr>\n",
              "      <th>18</th>\n",
              "      <td>1271</td>\n",
              "      <td>lake</td>\n",
              "      <td>8</td>\n",
              "      <td>3</td>\n",
              "      <td>LOC</td>\n",
              "      <td>ORG</td>\n",
              "      <td>47</td>\n",
              "    </tr>\n",
              "    <tr>\n",
              "      <th>19</th>\n",
              "      <td>483</td>\n",
              "      <td>idaho</td>\n",
              "      <td>8</td>\n",
              "      <td>3</td>\n",
              "      <td>LOC</td>\n",
              "      <td>ORG</td>\n",
              "      <td>47</td>\n",
              "    </tr>\n",
              "    <tr>\n",
              "      <th>5</th>\n",
              "      <td>62</td>\n",
              "      <td>south</td>\n",
              "      <td>8</td>\n",
              "      <td>8</td>\n",
              "      <td>LOC</td>\n",
              "      <td>LOC</td>\n",
              "      <td>49</td>\n",
              "    </tr>\n",
              "    <tr>\n",
              "      <th>6</th>\n",
              "      <td>128</td>\n",
              "      <td>georgia</td>\n",
              "      <td>8</td>\n",
              "      <td>8</td>\n",
              "      <td>LOC</td>\n",
              "      <td>LOC</td>\n",
              "      <td>49</td>\n",
              "    </tr>\n",
              "    <tr>\n",
              "      <th>7</th>\n",
              "      <td>84</td>\n",
              "      <td>island</td>\n",
              "      <td>8</td>\n",
              "      <td>8</td>\n",
              "      <td>LOC</td>\n",
              "      <td>LOC</td>\n",
              "      <td>49</td>\n",
              "    </tr>\n",
              "    <tr>\n",
              "      <th>27</th>\n",
              "      <td>62</td>\n",
              "      <td>south</td>\n",
              "      <td>8</td>\n",
              "      <td>8</td>\n",
              "      <td>LOC</td>\n",
              "      <td>LOC</td>\n",
              "      <td>53</td>\n",
              "    </tr>\n",
              "    <tr>\n",
              "      <th>28</th>\n",
              "      <td>128</td>\n",
              "      <td>georgia</td>\n",
              "      <td>8</td>\n",
              "      <td>8</td>\n",
              "      <td>LOC</td>\n",
              "      <td>LOC</td>\n",
              "      <td>53</td>\n",
              "    </tr>\n",
              "    <tr>\n",
              "      <th>29</th>\n",
              "      <td>84</td>\n",
              "      <td>island</td>\n",
              "      <td>8</td>\n",
              "      <td>8</td>\n",
              "      <td>LOC</td>\n",
              "      <td>LOC</td>\n",
              "      <td>53</td>\n",
              "    </tr>\n",
              "    <tr>\n",
              "      <th>24</th>\n",
              "      <td>62</td>\n",
              "      <td>south</td>\n",
              "      <td>8</td>\n",
              "      <td>8</td>\n",
              "      <td>LOC</td>\n",
              "      <td>LOC</td>\n",
              "      <td>67</td>\n",
              "    </tr>\n",
              "    <tr>\n",
              "      <th>25</th>\n",
              "      <td>650</td>\n",
              "      <td>pacific</td>\n",
              "      <td>8</td>\n",
              "      <td>8</td>\n",
              "      <td>LOC</td>\n",
              "      <td>LOC</td>\n",
              "      <td>67</td>\n",
              "    </tr>\n",
              "    <tr>\n",
              "      <th>9</th>\n",
              "      <td>2</td>\n",
              "      <td>the</td>\n",
              "      <td>8</td>\n",
              "      <td>5</td>\n",
              "      <td>LOC</td>\n",
              "      <td>O</td>\n",
              "      <td>74</td>\n",
              "    </tr>\n",
              "    <tr>\n",
              "      <th>10</th>\n",
              "      <td>137</td>\n",
              "      <td>southern</td>\n",
              "      <td>8</td>\n",
              "      <td>5</td>\n",
              "      <td>LOC</td>\n",
              "      <td>O</td>\n",
              "      <td>74</td>\n",
              "    </tr>\n",
              "    <tr>\n",
              "      <th>11</th>\n",
              "      <td>143</td>\n",
              "      <td>hemisphere</td>\n",
              "      <td>8</td>\n",
              "      <td>8</td>\n",
              "      <td>LOC</td>\n",
              "      <td>LOC</td>\n",
              "      <td>74</td>\n",
              "    </tr>\n",
              "    <tr>\n",
              "      <th>12</th>\n",
              "      <td>62</td>\n",
              "      <td>south</td>\n",
              "      <td>8</td>\n",
              "      <td>8</td>\n",
              "      <td>LOC</td>\n",
              "      <td>LOC</td>\n",
              "      <td>90</td>\n",
              "    </tr>\n",
              "    <tr>\n",
              "      <th>13</th>\n",
              "      <td>128</td>\n",
              "      <td>georgia</td>\n",
              "      <td>8</td>\n",
              "      <td>8</td>\n",
              "      <td>LOC</td>\n",
              "      <td>LOC</td>\n",
              "      <td>90</td>\n",
              "    </tr>\n",
              "    <tr>\n",
              "      <th>14</th>\n",
              "      <td>84</td>\n",
              "      <td>island</td>\n",
              "      <td>8</td>\n",
              "      <td>8</td>\n",
              "      <td>LOC</td>\n",
              "      <td>LOC</td>\n",
              "      <td>90</td>\n",
              "    </tr>\n",
              "    <tr>\n",
              "      <th>15</th>\n",
              "      <td>62</td>\n",
              "      <td>south</td>\n",
              "      <td>8</td>\n",
              "      <td>8</td>\n",
              "      <td>LOC</td>\n",
              "      <td>LOC</td>\n",
              "      <td>114</td>\n",
              "    </tr>\n",
              "    <tr>\n",
              "      <th>16</th>\n",
              "      <td>128</td>\n",
              "      <td>georgia</td>\n",
              "      <td>8</td>\n",
              "      <td>8</td>\n",
              "      <td>LOC</td>\n",
              "      <td>LOC</td>\n",
              "      <td>114</td>\n",
              "    </tr>\n",
              "    <tr>\n",
              "      <th>17</th>\n",
              "      <td>84</td>\n",
              "      <td>island</td>\n",
              "      <td>8</td>\n",
              "      <td>8</td>\n",
              "      <td>LOC</td>\n",
              "      <td>LOC</td>\n",
              "      <td>114</td>\n",
              "    </tr>\n",
              "    <tr>\n",
              "      <th>21</th>\n",
              "      <td>62</td>\n",
              "      <td>south</td>\n",
              "      <td>8</td>\n",
              "      <td>8</td>\n",
              "      <td>LOC</td>\n",
              "      <td>LOC</td>\n",
              "      <td>117</td>\n",
              "    </tr>\n",
              "    <tr>\n",
              "      <th>22</th>\n",
              "      <td>84</td>\n",
              "      <td>island</td>\n",
              "      <td>8</td>\n",
              "      <td>8</td>\n",
              "      <td>LOC</td>\n",
              "      <td>LOC</td>\n",
              "      <td>117</td>\n",
              "    </tr>\n",
              "    <tr>\n",
              "      <th>6</th>\n",
              "      <td>2</td>\n",
              "      <td>the</td>\n",
              "      <td>8</td>\n",
              "      <td>5</td>\n",
              "      <td>LOC</td>\n",
              "      <td>O</td>\n",
              "      <td>129</td>\n",
              "    </tr>\n",
              "    <tr>\n",
              "      <th>7</th>\n",
              "      <td>2934</td>\n",
              "      <td>sf</td>\n",
              "      <td>8</td>\n",
              "      <td>5</td>\n",
              "      <td>LOC</td>\n",
              "      <td>O</td>\n",
              "      <td>129</td>\n",
              "    </tr>\n",
              "    <tr>\n",
              "      <th>8</th>\n",
              "      <td>2935</td>\n",
              "      <td>bay</td>\n",
              "      <td>8</td>\n",
              "      <td>5</td>\n",
              "      <td>LOC</td>\n",
              "      <td>O</td>\n",
              "      <td>129</td>\n",
              "    </tr>\n",
              "    <tr>\n",
              "      <th>9</th>\n",
              "      <td>826</td>\n",
              "      <td>area</td>\n",
              "      <td>8</td>\n",
              "      <td>8</td>\n",
              "      <td>LOC</td>\n",
              "      <td>LOC</td>\n",
              "      <td>129</td>\n",
              "    </tr>\n",
              "    <tr>\n",
              "      <th>17</th>\n",
              "      <td>2045</td>\n",
              "      <td>stanley</td>\n",
              "      <td>8</td>\n",
              "      <td>5</td>\n",
              "      <td>LOC</td>\n",
              "      <td>O</td>\n",
              "      <td>153</td>\n",
              "    </tr>\n",
              "    <tr>\n",
              "      <th>18</th>\n",
              "      <td>2046</td>\n",
              "      <td>cup</td>\n",
              "      <td>8</td>\n",
              "      <td>5</td>\n",
              "      <td>LOC</td>\n",
              "      <td>O</td>\n",
              "      <td>153</td>\n",
              "    </tr>\n",
              "    <tr>\n",
              "      <th>10</th>\n",
              "      <td>2</td>\n",
              "      <td>the</td>\n",
              "      <td>8</td>\n",
              "      <td>5</td>\n",
              "      <td>LOC</td>\n",
              "      <td>O</td>\n",
              "      <td>154</td>\n",
              "    </tr>\n",
              "    <tr>\n",
              "      <th>11</th>\n",
              "      <td>137</td>\n",
              "      <td>southern</td>\n",
              "      <td>8</td>\n",
              "      <td>5</td>\n",
              "      <td>LOC</td>\n",
              "      <td>O</td>\n",
              "      <td>154</td>\n",
              "    </tr>\n",
              "    <tr>\n",
              "      <th>12</th>\n",
              "      <td>143</td>\n",
              "      <td>hemisphere</td>\n",
              "      <td>8</td>\n",
              "      <td>8</td>\n",
              "      <td>LOC</td>\n",
              "      <td>LOC</td>\n",
              "      <td>154</td>\n",
              "    </tr>\n",
              "    <tr>\n",
              "      <th>10</th>\n",
              "      <td>2</td>\n",
              "      <td>the</td>\n",
              "      <td>8</td>\n",
              "      <td>5</td>\n",
              "      <td>LOC</td>\n",
              "      <td>O</td>\n",
              "      <td>172</td>\n",
              "    </tr>\n",
              "    <tr>\n",
              "      <th>11</th>\n",
              "      <td>137</td>\n",
              "      <td>southern</td>\n",
              "      <td>8</td>\n",
              "      <td>5</td>\n",
              "      <td>LOC</td>\n",
              "      <td>O</td>\n",
              "      <td>172</td>\n",
              "    </tr>\n",
              "    <tr>\n",
              "      <th>12</th>\n",
              "      <td>143</td>\n",
              "      <td>hemisphere</td>\n",
              "      <td>8</td>\n",
              "      <td>8</td>\n",
              "      <td>LOC</td>\n",
              "      <td>LOC</td>\n",
              "      <td>172</td>\n",
              "    </tr>\n",
              "    <tr>\n",
              "      <th>9</th>\n",
              "      <td>62</td>\n",
              "      <td>south</td>\n",
              "      <td>8</td>\n",
              "      <td>8</td>\n",
              "      <td>LOC</td>\n",
              "      <td>LOC</td>\n",
              "      <td>199</td>\n",
              "    </tr>\n",
              "    <tr>\n",
              "      <th>10</th>\n",
              "      <td>128</td>\n",
              "      <td>georgia</td>\n",
              "      <td>8</td>\n",
              "      <td>8</td>\n",
              "      <td>LOC</td>\n",
              "      <td>LOC</td>\n",
              "      <td>199</td>\n",
              "    </tr>\n",
              "    <tr>\n",
              "      <th>11</th>\n",
              "      <td>84</td>\n",
              "      <td>island</td>\n",
              "      <td>8</td>\n",
              "      <td>8</td>\n",
              "      <td>LOC</td>\n",
              "      <td>LOC</td>\n",
              "      <td>199</td>\n",
              "    </tr>\n",
              "  </tbody>\n",
              "</table>\n",
              "</div>"
            ],
            "text/plain": [
              "    test_tokens      tokens  ...  pred_target_tag   id\n",
              "5             2         the  ...                O    7\n",
              "6            62       south  ...              LOC    7\n",
              "7           245    atlantic  ...              LOC    7\n",
              "17         2659      hayden  ...                O   47\n",
              "18         1271        lake  ...              ORG   47\n",
              "19          483       idaho  ...              ORG   47\n",
              "5            62       south  ...              LOC   49\n",
              "6           128     georgia  ...              LOC   49\n",
              "7            84      island  ...              LOC   49\n",
              "27           62       south  ...              LOC   53\n",
              "28          128     georgia  ...              LOC   53\n",
              "29           84      island  ...              LOC   53\n",
              "24           62       south  ...              LOC   67\n",
              "25          650     pacific  ...              LOC   67\n",
              "9             2         the  ...                O   74\n",
              "10          137    southern  ...                O   74\n",
              "11          143  hemisphere  ...              LOC   74\n",
              "12           62       south  ...              LOC   90\n",
              "13          128     georgia  ...              LOC   90\n",
              "14           84      island  ...              LOC   90\n",
              "15           62       south  ...              LOC  114\n",
              "16          128     georgia  ...              LOC  114\n",
              "17           84      island  ...              LOC  114\n",
              "21           62       south  ...              LOC  117\n",
              "22           84      island  ...              LOC  117\n",
              "6             2         the  ...                O  129\n",
              "7          2934          sf  ...                O  129\n",
              "8          2935         bay  ...                O  129\n",
              "9           826        area  ...              LOC  129\n",
              "17         2045     stanley  ...                O  153\n",
              "18         2046         cup  ...                O  153\n",
              "10            2         the  ...                O  154\n",
              "11          137    southern  ...                O  154\n",
              "12          143  hemisphere  ...              LOC  154\n",
              "10            2         the  ...                O  172\n",
              "11          137    southern  ...                O  172\n",
              "12          143  hemisphere  ...              LOC  172\n",
              "9            62       south  ...              LOC  199\n",
              "10          128     georgia  ...              LOC  199\n",
              "11           84      island  ...              LOC  199\n",
              "\n",
              "[40 rows x 7 columns]"
            ]
          },
          "metadata": {
            "tags": []
          },
          "execution_count": 45
        }
      ]
    },
    {
      "cell_type": "markdown",
      "metadata": {
        "id": "dWG08BGXfr2K"
      },
      "source": [
        "# Bert Based NER Model"
      ]
    },
    {
      "cell_type": "code",
      "metadata": {
        "colab": {
          "base_uri": "https://localhost:8080/"
        },
        "id": "hGmncuS3g7s9",
        "outputId": "68811e41-9d45-4756-e3a8-a3e898bcf908"
      },
      "source": [
        "import torch\n",
        "\n",
        "if torch.cuda.is_available():        \n",
        "    device = torch.device(\"cuda\")\n",
        "else:\n",
        "    device = torch.device(\"cpu\")\n",
        "    \n",
        "print(device)"
      ],
      "execution_count": null,
      "outputs": [
        {
          "output_type": "stream",
          "text": [
            "cpu\n"
          ],
          "name": "stdout"
        }
      ]
    },
    {
      "cell_type": "markdown",
      "metadata": {
        "id": "LXMBTJPahGV-"
      },
      "source": [
        "Tokenization and Input Formatting"
      ]
    },
    {
      "cell_type": "code",
      "metadata": {
        "id": "MU9CC57iipYQ"
      },
      "source": [
        "!pip install transformers -U"
      ],
      "execution_count": null,
      "outputs": []
    },
    {
      "cell_type": "code",
      "metadata": {
        "id": "B9Z9VHNckGOS"
      },
      "source": [
        "import joblib\n",
        "import torch\n",
        "import torch.nn as nn\n",
        "import transformers\n",
        "\n",
        "import numpy as np\n",
        "import pandas as pd\n",
        "\n",
        "from sklearn import preprocessing\n",
        "from sklearn import model_selection\n",
        "\n",
        "from tqdm import tqdm\n",
        "from transformers import AdamW\n",
        "from transformers import get_linear_schedule_with_warmup"
      ],
      "execution_count": null,
      "outputs": []
    },
    {
      "cell_type": "code",
      "metadata": {
        "id": "2ue1Qu8Ciljy"
      },
      "source": [
        "class config:\n",
        "    MAX_LEN = 128\n",
        "    TRAIN_BATCH_SIZE = 32\n",
        "    VALID_BATCH_SIZE = 8\n",
        "    EPOCHS = 3\n",
        "    #BASE_MODEL_PATH = \"../input/bert-base-uncased/\"\n",
        "    MODEL_PATH = \"model.bin\"\n",
        "    #TRAINING_FILE = \"../input/entity-annotated-corpus/ner_dataset.csv\"\n",
        "    TOKENIZER = transformers.BertTokenizer.from_pretrained(\n",
        "        BASE_MODEL_PATH,\n",
        "        do_lower_case=True\n",
        "    )"
      ],
      "execution_count": null,
      "outputs": []
    },
    {
      "cell_type": "code",
      "metadata": {
        "id": "-K3sC_EnjV9R"
      },
      "source": [
        "MAX_LEN = 128\n",
        "TRAIN_BATCH_SIZE = 32\n",
        "VALID_BATCH_SIZE = 8\n",
        "EPOCHS = 3"
      ],
      "execution_count": null,
      "outputs": []
    },
    {
      "cell_type": "code",
      "metadata": {
        "id": "qSefAUoojOKT"
      },
      "source": [
        "from transformers import BertTokenizer\n",
        "\n",
        "# Load the BERT tokenizer.\n",
        "TOKENIZER = BertTokenizer.from_pretrained('bert-base-uncased', do_lower_case=True)"
      ],
      "execution_count": null,
      "outputs": []
    },
    {
      "cell_type": "code",
      "metadata": {
        "id": "zhBtZpO_i01R"
      },
      "source": [
        "class EntityDataset:\n",
        "    def __init__(self, texts, tags):\n",
        "        self.texts = texts\n",
        "        self.tags = tags\n",
        "    \n",
        "    def __len__(self):\n",
        "        return len(self.texts)\n",
        "    \n",
        "    def __getitem__(self, item):\n",
        "        text = self.texts[item]\n",
        "        tags = self.tags[item]\n",
        "\n",
        "        ids = []\n",
        "        target_tag =[]\n",
        "\n",
        "        for i, s in enumerate(text):\n",
        "            inputs = TOKENIZER.encode(\n",
        "                s,\n",
        "                add_special_tokens=False\n",
        "            )\n",
        "\n",
        "            input_len = len(inputs)\n",
        "            ids.extend(inputs)\n",
        "            target_tag.extend([tags[i]] * input_len)\n",
        "\n",
        "        ids = ids[:MAX_LEN - 2]\n",
        "        target_tag = target_tag[:MAX_LEN - 2]\n",
        "\n",
        "        ids = [101] + ids + [102]\n",
        "        target_tag = [0] + target_tag + [0]\n",
        "\n",
        "        mask = [1] * len(ids)\n",
        "        token_type_ids = [0] * len(ids)\n",
        "\n",
        "        padding_len = MAX_LEN - len(ids)\n",
        "\n",
        "        ids = ids + ([0] * padding_len)\n",
        "        mask = mask + ([0] * padding_len)\n",
        "        token_type_ids = token_type_ids + ([0] * padding_len)\n",
        "        target_tag = target_tag + ([0] * padding_len)\n",
        "\n",
        "        return {\n",
        "            \"ids\": torch.tensor(ids, dtype=torch.long),\n",
        "            \"mask\": torch.tensor(mask, dtype=torch.long),\n",
        "            \"token_type_ids\": torch.tensor(token_type_ids, dtype=torch.long),\n",
        "            \"target_tag\": torch.tensor(target_tag, dtype=torch.long),\n",
        "        }"
      ],
      "execution_count": null,
      "outputs": []
    },
    {
      "cell_type": "code",
      "metadata": {
        "id": "cnVDhlxvkakr"
      },
      "source": [
        "def train_fn(data_loader, model, optimizer, device, scheduler):\n",
        "    model.train()\n",
        "    final_loss = 0\n",
        "    for data in tqdm(data_loader, total=len(data_loader)):\n",
        "        for k, v in data.items():\n",
        "            data[k] = v.to(device)\n",
        "        optimizer.zero_grad()\n",
        "        _, _, loss = model(**data)\n",
        "        loss.backward()\n",
        "        optimizer.step()\n",
        "        scheduler.step()\n",
        "        final_loss += loss.item()\n",
        "    return final_loss / len(data_loader)\n",
        "\n",
        "\n",
        "def eval_fn(data_loader, model, device):\n",
        "    model.eval()\n",
        "    final_loss = 0\n",
        "    for data in tqdm(data_loader, total=len(data_loader)):\n",
        "        for k, v in data.items():\n",
        "            data[k] = v.to(device)\n",
        "        _, _, loss = model(**data)\n",
        "        final_loss += loss.item()\n",
        "    return final_loss / len(data_loader)"
      ],
      "execution_count": null,
      "outputs": []
    },
    {
      "cell_type": "code",
      "metadata": {
        "id": "M4McIrHzka2R"
      },
      "source": [
        "def loss_fn(output, target, mask, num_labels):\n",
        "    lfn = nn.CrossEntropyLoss()\n",
        "    active_loss = mask.view(-1) == 1\n",
        "    active_logits = output.view(-1, num_labels)\n",
        "    active_labels = torch.where(\n",
        "        active_loss,\n",
        "        target.view(-1),\n",
        "        torch.tensor(lfn.ignore_index).type_as(target)\n",
        "    )\n",
        "    loss = lfn(active_logits, active_labels)\n",
        "    return loss\n",
        "\n",
        "\n",
        "class EntityModel(nn.Module):\n",
        "    def __init__(self, num_tag):\n",
        "        super(EntityModel, self).__init__()\n",
        "        self.num_tag = num_tag\n",
        "        self.bert = transformers.BertModel.from_pretrained(\n",
        "            config.BASE_MODEL_PATH\n",
        "        )\n",
        "        self.bert_drop_1 = nn.Dropout(0.3)\n",
        "        self.bert_drop_2 = nn.Dropout(0.3)\n",
        "        self.out_tag = nn.Linear(768, self.num_tag)\n",
        "        self.out_pos = nn.Linear(768, self.num_pos)\n",
        "    \n",
        "    def forward(\n",
        "        self, \n",
        "        ids, \n",
        "        mask, \n",
        "        token_type_ids, \n",
        "        target_pos, \n",
        "        target_tag\n",
        "    ):\n",
        "        o1, _ = self.bert(\n",
        "            ids, \n",
        "            attention_mask=mask, \n",
        "            token_type_ids=token_type_ids\n",
        "        )\n",
        "\n",
        "        bo_tag = self.bert_drop_1(o1)\n",
        "        bo_pos = self.bert_drop_2(o1)\n",
        "\n",
        "        tag = self.out_tag(bo_tag)\n",
        "        pos = self.out_pos(bo_pos)\n",
        "\n",
        "        loss_tag = loss_fn(tag, target_tag, mask, self.num_tag)\n",
        "        loss_pos = loss_fn(pos, target_pos, mask, self.num_pos)\n",
        "\n",
        "        loss = (loss_tag + loss_pos) / 2\n",
        "\n",
        "        return tag, pos, loss"
      ],
      "execution_count": null,
      "outputs": []
    },
    {
      "cell_type": "code",
      "metadata": {
        "id": "8ZpND8Qpka4v"
      },
      "source": [
        ""
      ],
      "execution_count": null,
      "outputs": []
    },
    {
      "cell_type": "code",
      "metadata": {
        "id": "dam-QhFHka-2"
      },
      "source": [
        ""
      ],
      "execution_count": null,
      "outputs": []
    },
    {
      "cell_type": "code",
      "metadata": {
        "id": "fgXCAFlSkbAl"
      },
      "source": [
        ""
      ],
      "execution_count": null,
      "outputs": []
    },
    {
      "cell_type": "code",
      "metadata": {
        "id": "CA85PJhRkbCd"
      },
      "source": [
        ""
      ],
      "execution_count": null,
      "outputs": []
    },
    {
      "cell_type": "code",
      "metadata": {
        "id": "iMTXMEkEkbEN"
      },
      "source": [
        ""
      ],
      "execution_count": null,
      "outputs": []
    }
  ]
}