{
  "nbformat": 4,
  "nbformat_minor": 0,
  "metadata": {
    "colab": {
      "name": "Assignment2_part3.ipynb",
      "provenance": [],
      "collapsed_sections": [
        "Fcac-l7TZ0Er",
        "menv1WEwLKsB",
        "gXBX_d6igtHs",
        "2-UXE7GoaGPp",
        "sFxGlJFhLxVa",
        "zIcjhSn1QBKO",
        "4L16IuUWS4x9",
        "JtwQTfpAkm9V",
        "tJBcEbKFkwZO",
        "g7advLdlk2Fp",
        "Gjg-XjGKM-VD",
        "OzBtB4UY1vyE",
        "15zkKxORFYCJ",
        "UAF6rHiMNLnT",
        "axVtma66k-6q",
        "zUIc_DfRdRW0",
        "bZYdObU4kHc6",
        "V-XlccPrJTR_",
        "mEQ92ZKDRaio",
        "FBzil8ClTAz4"
      ]
    },
    "kernelspec": {
      "name": "python3",
      "display_name": "Python 3"
    },
    "language_info": {
      "name": "python"
    },
    "accelerator": "GPU"
  },
  "cells": [
    {
      "cell_type": "markdown",
      "metadata": {
        "id": "Fcac-l7TZ0Er"
      },
      "source": [
        "# Download Data"
      ]
    },
    {
      "cell_type": "code",
      "metadata": {
        "colab": {
          "base_uri": "https://localhost:8080/"
        },
        "id": "u9mLJ89JgdZx",
        "outputId": "84599000-2816-4ebf-cbed-81909a088342"
      },
      "source": [
        "# downloading DataSet\n",
        "!wget http://snap.stanford.edu/data/amazon/productGraph/categoryFiles/reviews_Amazon_Instant_Video_5.json.gz"
      ],
      "execution_count": null,
      "outputs": [
        {
          "output_type": "stream",
          "text": [
            "--2021-05-20 12:25:35--  http://snap.stanford.edu/data/amazon/productGraph/categoryFiles/reviews_Amazon_Instant_Video_5.json.gz\n",
            "Resolving snap.stanford.edu (snap.stanford.edu)... 171.64.75.80\n",
            "Connecting to snap.stanford.edu (snap.stanford.edu)|171.64.75.80|:80... connected.\n",
            "HTTP request sent, awaiting response... 200 OK\n",
            "Length: 9517526 (9.1M) [application/x-gzip]\n",
            "Saving to: ‘reviews_Amazon_Instant_Video_5.json.gz’\n",
            "\n",
            "reviews_Amazon_Inst 100%[===================>]   9.08M  3.70MB/s    in 2.5s    \n",
            "\n",
            "2021-05-20 12:25:38 (3.70 MB/s) - ‘reviews_Amazon_Instant_Video_5.json.gz’ saved [9517526/9517526]\n",
            "\n"
          ],
          "name": "stdout"
        }
      ]
    },
    {
      "cell_type": "code",
      "metadata": {
        "colab": {
          "base_uri": "https://localhost:8080/"
        },
        "id": "Pf7SCJuZgFIR",
        "outputId": "4f28c6c0-c7c5-46d0-dab3-8d53cf925cd6"
      },
      "source": [
        "#Download Data For Glove Embedding\n",
        "!wget http://nlp.stanford.edu/data/glove.6B.zip\n",
        "!unzip glove*.zip"
      ],
      "execution_count": null,
      "outputs": [
        {
          "output_type": "stream",
          "text": [
            "--2021-05-20 12:25:38--  http://nlp.stanford.edu/data/glove.6B.zip\n",
            "Resolving nlp.stanford.edu (nlp.stanford.edu)... 171.64.67.140\n",
            "Connecting to nlp.stanford.edu (nlp.stanford.edu)|171.64.67.140|:80... connected.\n",
            "HTTP request sent, awaiting response... 302 Found\n",
            "Location: https://nlp.stanford.edu/data/glove.6B.zip [following]\n",
            "--2021-05-20 12:25:38--  https://nlp.stanford.edu/data/glove.6B.zip\n",
            "Connecting to nlp.stanford.edu (nlp.stanford.edu)|171.64.67.140|:443... connected.\n",
            "HTTP request sent, awaiting response... 301 Moved Permanently\n",
            "Location: http://downloads.cs.stanford.edu/nlp/data/glove.6B.zip [following]\n",
            "--2021-05-20 12:25:39--  http://downloads.cs.stanford.edu/nlp/data/glove.6B.zip\n",
            "Resolving downloads.cs.stanford.edu (downloads.cs.stanford.edu)... 171.64.64.22\n",
            "Connecting to downloads.cs.stanford.edu (downloads.cs.stanford.edu)|171.64.64.22|:80... connected.\n",
            "HTTP request sent, awaiting response... 200 OK\n",
            "Length: 862182613 (822M) [application/zip]\n",
            "Saving to: ‘glove.6B.zip’\n",
            "\n",
            "glove.6B.zip        100%[===================>] 822.24M  5.07MB/s    in 2m 42s  \n",
            "\n",
            "2021-05-20 12:28:21 (5.08 MB/s) - ‘glove.6B.zip’ saved [862182613/862182613]\n",
            "\n",
            "Archive:  glove.6B.zip\n",
            "  inflating: glove.6B.50d.txt        \n",
            "  inflating: glove.6B.100d.txt       \n",
            "  inflating: glove.6B.200d.txt       \n",
            "  inflating: glove.6B.300d.txt       \n"
          ],
          "name": "stdout"
        }
      ]
    },
    {
      "cell_type": "code",
      "metadata": {
        "colab": {
          "base_uri": "https://localhost:8080/"
        },
        "id": "4T3W1fFLCSOC",
        "outputId": "19ffe98f-c1b9-49f6-e5f8-dba2a89c9260"
      },
      "source": [
        "#installing libraries\n",
        "!pip install transformers\n",
        "!pip install -U mittens\n",
        "!pip install --upgrade keras"
      ],
      "execution_count": null,
      "outputs": [
        {
          "output_type": "stream",
          "text": [
            "Collecting transformers\n",
            "\u001b[?25l  Downloading https://files.pythonhosted.org/packages/b0/9e/5b80becd952d5f7250eaf8fc64b957077b12ccfe73e9c03d37146ab29712/transformers-4.6.0-py3-none-any.whl (2.3MB)\n",
            "\u001b[K     |████████████████████████████████| 2.3MB 9.6MB/s \n",
            "\u001b[?25hRequirement already satisfied: numpy>=1.17 in /usr/local/lib/python3.7/dist-packages (from transformers) (1.19.5)\n",
            "Requirement already satisfied: regex!=2019.12.17 in /usr/local/lib/python3.7/dist-packages (from transformers) (2019.12.20)\n",
            "Requirement already satisfied: tqdm>=4.27 in /usr/local/lib/python3.7/dist-packages (from transformers) (4.41.1)\n",
            "Requirement already satisfied: packaging in /usr/local/lib/python3.7/dist-packages (from transformers) (20.9)\n",
            "Collecting huggingface-hub==0.0.8\n",
            "  Downloading https://files.pythonhosted.org/packages/a1/88/7b1e45720ecf59c6c6737ff332f41c955963090a18e72acbcbeac6b25e86/huggingface_hub-0.0.8-py3-none-any.whl\n",
            "Requirement already satisfied: filelock in /usr/local/lib/python3.7/dist-packages (from transformers) (3.0.12)\n",
            "Collecting sacremoses\n",
            "\u001b[?25l  Downloading https://files.pythonhosted.org/packages/75/ee/67241dc87f266093c533a2d4d3d69438e57d7a90abb216fa076e7d475d4a/sacremoses-0.0.45-py3-none-any.whl (895kB)\n",
            "\u001b[K     |████████████████████████████████| 901kB 38.7MB/s \n",
            "\u001b[?25hRequirement already satisfied: importlib-metadata; python_version < \"3.8\" in /usr/local/lib/python3.7/dist-packages (from transformers) (4.0.1)\n",
            "Requirement already satisfied: requests in /usr/local/lib/python3.7/dist-packages (from transformers) (2.23.0)\n",
            "Collecting tokenizers<0.11,>=0.10.1\n",
            "\u001b[?25l  Downloading https://files.pythonhosted.org/packages/ae/04/5b870f26a858552025a62f1649c20d29d2672c02ff3c3fb4c688ca46467a/tokenizers-0.10.2-cp37-cp37m-manylinux2010_x86_64.whl (3.3MB)\n",
            "\u001b[K     |████████████████████████████████| 3.3MB 37.3MB/s \n",
            "\u001b[?25hRequirement already satisfied: pyparsing>=2.0.2 in /usr/local/lib/python3.7/dist-packages (from packaging->transformers) (2.4.7)\n",
            "Requirement already satisfied: six in /usr/local/lib/python3.7/dist-packages (from sacremoses->transformers) (1.15.0)\n",
            "Requirement already satisfied: click in /usr/local/lib/python3.7/dist-packages (from sacremoses->transformers) (8.0.0)\n",
            "Requirement already satisfied: joblib in /usr/local/lib/python3.7/dist-packages (from sacremoses->transformers) (1.0.1)\n",
            "Requirement already satisfied: typing-extensions>=3.6.4; python_version < \"3.8\" in /usr/local/lib/python3.7/dist-packages (from importlib-metadata; python_version < \"3.8\"->transformers) (3.7.4.3)\n",
            "Requirement already satisfied: zipp>=0.5 in /usr/local/lib/python3.7/dist-packages (from importlib-metadata; python_version < \"3.8\"->transformers) (3.4.1)\n",
            "Requirement already satisfied: certifi>=2017.4.17 in /usr/local/lib/python3.7/dist-packages (from requests->transformers) (2020.12.5)\n",
            "Requirement already satisfied: urllib3!=1.25.0,!=1.25.1,<1.26,>=1.21.1 in /usr/local/lib/python3.7/dist-packages (from requests->transformers) (1.24.3)\n",
            "Requirement already satisfied: chardet<4,>=3.0.2 in /usr/local/lib/python3.7/dist-packages (from requests->transformers) (3.0.4)\n",
            "Requirement already satisfied: idna<3,>=2.5 in /usr/local/lib/python3.7/dist-packages (from requests->transformers) (2.10)\n",
            "Installing collected packages: huggingface-hub, sacremoses, tokenizers, transformers\n",
            "Successfully installed huggingface-hub-0.0.8 sacremoses-0.0.45 tokenizers-0.10.2 transformers-4.6.0\n",
            "Collecting mittens\n",
            "  Downloading https://files.pythonhosted.org/packages/ce/c0/6e4fce5b3cb88edde2e657bb4da9885c0aeac232981706beed7f43773b00/mittens-0.2-py3-none-any.whl\n",
            "Requirement already satisfied, skipping upgrade: numpy in /usr/local/lib/python3.7/dist-packages (from mittens) (1.19.5)\n",
            "Installing collected packages: mittens\n",
            "Successfully installed mittens-0.2\n",
            "Requirement already up-to-date: keras in /usr/local/lib/python3.7/dist-packages (2.4.3)\n",
            "Requirement already satisfied, skipping upgrade: pyyaml in /usr/local/lib/python3.7/dist-packages (from keras) (3.13)\n",
            "Requirement already satisfied, skipping upgrade: h5py in /usr/local/lib/python3.7/dist-packages (from keras) (2.10.0)\n",
            "Requirement already satisfied, skipping upgrade: scipy>=0.14 in /usr/local/lib/python3.7/dist-packages (from keras) (1.4.1)\n",
            "Requirement already satisfied, skipping upgrade: numpy>=1.9.1 in /usr/local/lib/python3.7/dist-packages (from keras) (1.19.5)\n",
            "Requirement already satisfied, skipping upgrade: six in /usr/local/lib/python3.7/dist-packages (from h5py->keras) (1.15.0)\n"
          ],
          "name": "stdout"
        }
      ]
    },
    {
      "cell_type": "markdown",
      "metadata": {
        "id": "menv1WEwLKsB"
      },
      "source": [
        "# Importing required libraries"
      ]
    },
    {
      "cell_type": "code",
      "metadata": {
        "id": "Rc2KouwKI9wG",
        "colab": {
          "base_uri": "https://localhost:8080/"
        },
        "outputId": "f90ff581-1945-40ab-9c10-b3202fad0870"
      },
      "source": [
        "import re\n",
        "import os\n",
        "import json\n",
        "import gzip\n",
        "import keras\n",
        "import numpy as np\n",
        "import pandas as pd\n",
        "from tqdm import tqdm\n",
        "import matplotlib.pyplot as plt\n",
        "\n",
        "import numpy as np\n",
        "import pandas as pd\n",
        "import matplotlib.pyplot as plt\n",
        "import seaborn as sn\n",
        "\n",
        "from gensim.models import Word2Vec\n",
        "from gensim.models import KeyedVectors\n",
        "\n",
        "from mittens import GloVe, Mittens\n",
        "\n",
        "from sklearn.model_selection import train_test_split\n",
        "from sklearn.metrics import classification_report, precision_recall_curve,plot_confusion_matrix,confusion_matrix\n",
        "from sklearn.metrics import classification_report,confusion_matrix,accuracy_score,f1_score,plot_confusion_matrix\n",
        "from sklearn.linear_model import LogisticRegression\n",
        "from sklearn.naive_bayes import GaussianNB, MultinomialNB , BernoulliNB\n",
        "from sklearn.tree import DecisionTreeClassifier\n",
        "\n",
        "from keras.preprocessing.text import Tokenizer\n",
        "from keras.preprocessing.sequence import pad_sequences\n",
        "from keras.models import Sequential\n",
        "from keras.layers import Dense, Bidirectional, LSTM, Dropout, BatchNormalization\n",
        "from keras.layers.embeddings import Embedding\n",
        "\n",
        "from collections import Counter\n",
        "from mittens import GloVe, Mittens\n",
        "from sklearn.feature_extraction.text import CountVectorizer\n",
        "\n",
        "import nltk\n",
        "from nltk.corpus import stopwords \n",
        "from nltk.tokenize import word_tokenize\n",
        "from nltk.stem import WordNetLemmatizer \n",
        "\n",
        "import torch\n",
        "\n",
        "%matplotlib inline\n",
        "import warnings\n",
        "warnings.filterwarnings(\"ignore\")\n",
        "\n",
        "nltk.download('punkt')\n",
        "nltk.download('wordnet')\n",
        "nltk.download('stopwords')\n",
        "nltk.download('averaged_perceptron_tagger')"
      ],
      "execution_count": null,
      "outputs": [
        {
          "output_type": "stream",
          "text": [
            "[nltk_data] Downloading package punkt to /root/nltk_data...\n",
            "[nltk_data]   Package punkt is already up-to-date!\n",
            "[nltk_data] Downloading package wordnet to /root/nltk_data...\n",
            "[nltk_data]   Package wordnet is already up-to-date!\n",
            "[nltk_data] Downloading package stopwords to /root/nltk_data...\n",
            "[nltk_data]   Package stopwords is already up-to-date!\n",
            "[nltk_data] Downloading package averaged_perceptron_tagger to\n",
            "[nltk_data]     /root/nltk_data...\n",
            "[nltk_data]   Package averaged_perceptron_tagger is already up-to-\n",
            "[nltk_data]       date!\n"
          ],
          "name": "stdout"
        },
        {
          "output_type": "execute_result",
          "data": {
            "text/plain": [
              "True"
            ]
          },
          "metadata": {
            "tags": []
          },
          "execution_count": 15
        }
      ]
    },
    {
      "cell_type": "markdown",
      "metadata": {
        "id": "gXBX_d6igtHs"
      },
      "source": [
        "# Data Pre-Processing"
      ]
    },
    {
      "cell_type": "markdown",
      "metadata": {
        "id": "2-UXE7GoaGPp"
      },
      "source": [
        "## Loading Data"
      ]
    },
    {
      "cell_type": "code",
      "metadata": {
        "colab": {
          "base_uri": "https://localhost:8080/"
        },
        "id": "ZACgjmhDR-tH",
        "outputId": "54af7a34-cb63-4c0b-9710-48d00c4b2820"
      },
      "source": [
        "# load data\n",
        "data = []\n",
        "with gzip.open('reviews_Amazon_Instant_Video_5.json.gz') as file:\n",
        "    for line in file:\n",
        "        data.append(json.loads(line.strip()))\n",
        "\n",
        "# convert list into pandas dataframe\n",
        "df = pd.DataFrame.from_dict(data)\n",
        "\n",
        "print('Total number of reviews are: ',len(data))\n",
        "\n",
        "# Viewing first 5 reviews\n",
        "df.head(5)"
      ],
      "execution_count": null,
      "outputs": [
        {
          "output_type": "stream",
          "text": [
            "Total number of reviews are:  37126\n"
          ],
          "name": "stdout"
        },
        {
          "output_type": "execute_result",
          "data": {
            "text/html": [
              "<div>\n",
              "<style scoped>\n",
              "    .dataframe tbody tr th:only-of-type {\n",
              "        vertical-align: middle;\n",
              "    }\n",
              "\n",
              "    .dataframe tbody tr th {\n",
              "        vertical-align: top;\n",
              "    }\n",
              "\n",
              "    .dataframe thead th {\n",
              "        text-align: right;\n",
              "    }\n",
              "</style>\n",
              "<table border=\"1\" class=\"dataframe\">\n",
              "  <thead>\n",
              "    <tr style=\"text-align: right;\">\n",
              "      <th></th>\n",
              "      <th>reviewerID</th>\n",
              "      <th>asin</th>\n",
              "      <th>reviewerName</th>\n",
              "      <th>helpful</th>\n",
              "      <th>reviewText</th>\n",
              "      <th>overall</th>\n",
              "      <th>summary</th>\n",
              "      <th>unixReviewTime</th>\n",
              "      <th>reviewTime</th>\n",
              "    </tr>\n",
              "  </thead>\n",
              "  <tbody>\n",
              "    <tr>\n",
              "      <th>0</th>\n",
              "      <td>A11N155CW1UV02</td>\n",
              "      <td>B000H00VBQ</td>\n",
              "      <td>AdrianaM</td>\n",
              "      <td>[0, 0]</td>\n",
              "      <td>I had big expectations because I love English ...</td>\n",
              "      <td>2.0</td>\n",
              "      <td>A little bit boring for me</td>\n",
              "      <td>1399075200</td>\n",
              "      <td>05 3, 2014</td>\n",
              "    </tr>\n",
              "    <tr>\n",
              "      <th>1</th>\n",
              "      <td>A3BC8O2KCL29V2</td>\n",
              "      <td>B000H00VBQ</td>\n",
              "      <td>Carol T</td>\n",
              "      <td>[0, 0]</td>\n",
              "      <td>I highly recommend this series. It is a must f...</td>\n",
              "      <td>5.0</td>\n",
              "      <td>Excellent Grown Up TV</td>\n",
              "      <td>1346630400</td>\n",
              "      <td>09 3, 2012</td>\n",
              "    </tr>\n",
              "    <tr>\n",
              "      <th>2</th>\n",
              "      <td>A60D5HQFOTSOM</td>\n",
              "      <td>B000H00VBQ</td>\n",
              "      <td>Daniel Cooper \"dancoopermedia\"</td>\n",
              "      <td>[0, 1]</td>\n",
              "      <td>This one is a real snoozer. Don't believe anyt...</td>\n",
              "      <td>1.0</td>\n",
              "      <td>Way too boring for me</td>\n",
              "      <td>1381881600</td>\n",
              "      <td>10 16, 2013</td>\n",
              "    </tr>\n",
              "    <tr>\n",
              "      <th>3</th>\n",
              "      <td>A1RJPIGRSNX4PW</td>\n",
              "      <td>B000H00VBQ</td>\n",
              "      <td>J. Kaplan \"JJ\"</td>\n",
              "      <td>[0, 0]</td>\n",
              "      <td>Mysteries are interesting.  The tension betwee...</td>\n",
              "      <td>4.0</td>\n",
              "      <td>Robson Green is mesmerizing</td>\n",
              "      <td>1383091200</td>\n",
              "      <td>10 30, 2013</td>\n",
              "    </tr>\n",
              "    <tr>\n",
              "      <th>4</th>\n",
              "      <td>A16XRPF40679KG</td>\n",
              "      <td>B000H00VBQ</td>\n",
              "      <td>Michael Dobey</td>\n",
              "      <td>[1, 1]</td>\n",
              "      <td>This show always is excellent, as far as briti...</td>\n",
              "      <td>5.0</td>\n",
              "      <td>Robson green and great writing</td>\n",
              "      <td>1234310400</td>\n",
              "      <td>02 11, 2009</td>\n",
              "    </tr>\n",
              "  </tbody>\n",
              "</table>\n",
              "</div>"
            ],
            "text/plain": [
              "       reviewerID        asin  ... unixReviewTime   reviewTime\n",
              "0  A11N155CW1UV02  B000H00VBQ  ...     1399075200   05 3, 2014\n",
              "1  A3BC8O2KCL29V2  B000H00VBQ  ...     1346630400   09 3, 2012\n",
              "2   A60D5HQFOTSOM  B000H00VBQ  ...     1381881600  10 16, 2013\n",
              "3  A1RJPIGRSNX4PW  B000H00VBQ  ...     1383091200  10 30, 2013\n",
              "4  A16XRPF40679KG  B000H00VBQ  ...     1234310400  02 11, 2009\n",
              "\n",
              "[5 rows x 9 columns]"
            ]
          },
          "metadata": {
            "tags": []
          },
          "execution_count": 16
        }
      ]
    },
    {
      "cell_type": "markdown",
      "metadata": {
        "id": "x5X47qASjCKo"
      },
      "source": [
        "**Attribute Information:**\n",
        "\n",
        "1. reviewerID - ID of the reviewer, e.g. A2SUAM1J3GNN3B\n",
        "\n",
        "2. asin - ID of the product, e.g. 0000013714\n",
        "\n",
        "3. reviewerName - name of the reviewer\n",
        "\n",
        "4. helpful - helpful votes of the review\n",
        "\n",
        "5. reviewText - text of the review\n",
        "\n",
        "6. overall - rating of the product\n",
        "\n",
        "7. summary - summary of the review\n",
        "\n",
        "8. unixReviewTime - time of the review (unix time)\n",
        "\n",
        "9. reviewTime - time of the review (raw)\n"
      ]
    },
    {
      "cell_type": "code",
      "metadata": {
        "id": "w3hAGW63h4vt",
        "colab": {
          "base_uri": "https://localhost:8080/"
        },
        "outputId": "3ba3f8f9-ab8b-410e-b88a-1d729b70b114"
      },
      "source": [
        "df.columns #verifying for columns"
      ],
      "execution_count": null,
      "outputs": [
        {
          "output_type": "execute_result",
          "data": {
            "text/plain": [
              "Index(['reviewerID', 'asin', 'reviewerName', 'helpful', 'reviewText',\n",
              "       'overall', 'summary', 'unixReviewTime', 'reviewTime'],\n",
              "      dtype='object')"
            ]
          },
          "metadata": {
            "tags": []
          },
          "execution_count": 17
        }
      ]
    },
    {
      "cell_type": "markdown",
      "metadata": {
        "id": "sFxGlJFhLxVa"
      },
      "source": [
        "## Modifying the overall to our requirements"
      ]
    },
    {
      "cell_type": "code",
      "metadata": {
        "id": "M2K-8eNMdCMm"
      },
      "source": [
        "def modify_overall(overall):\n",
        "  ''' \n",
        "  Function to modify overall:\n",
        "    overall greater than 3 is changed to 1(positive sentiment) \n",
        "    overall less than or equal to 3 is changed to 0(negative sentiment)\n",
        "  Input: overall\n",
        "  Output: Modified overall\n",
        "  '''\n",
        "  if overall <= 3:\n",
        "      return 0\n",
        "  return 1"
      ],
      "execution_count": null,
      "outputs": []
    },
    {
      "cell_type": "code",
      "metadata": {
        "id": "1PHOJnEmVTI9",
        "colab": {
          "base_uri": "https://localhost:8080/"
        },
        "outputId": "3f940fca-e1cf-4de3-cd72-25e2f3167ae2"
      },
      "source": [
        "actualScore = df['overall']\n",
        "new_score = actualScore.map(modify_overall) \n",
        "df['overall'] = new_score\n",
        "print(\"Number of data points in our data\", df.shape)\n",
        "df.head()"
      ],
      "execution_count": null,
      "outputs": [
        {
          "output_type": "stream",
          "text": [
            "Number of data points in our data (37126, 9)\n"
          ],
          "name": "stdout"
        },
        {
          "output_type": "execute_result",
          "data": {
            "text/html": [
              "<div>\n",
              "<style scoped>\n",
              "    .dataframe tbody tr th:only-of-type {\n",
              "        vertical-align: middle;\n",
              "    }\n",
              "\n",
              "    .dataframe tbody tr th {\n",
              "        vertical-align: top;\n",
              "    }\n",
              "\n",
              "    .dataframe thead th {\n",
              "        text-align: right;\n",
              "    }\n",
              "</style>\n",
              "<table border=\"1\" class=\"dataframe\">\n",
              "  <thead>\n",
              "    <tr style=\"text-align: right;\">\n",
              "      <th></th>\n",
              "      <th>reviewerID</th>\n",
              "      <th>asin</th>\n",
              "      <th>reviewerName</th>\n",
              "      <th>helpful</th>\n",
              "      <th>reviewText</th>\n",
              "      <th>overall</th>\n",
              "      <th>summary</th>\n",
              "      <th>unixReviewTime</th>\n",
              "      <th>reviewTime</th>\n",
              "    </tr>\n",
              "  </thead>\n",
              "  <tbody>\n",
              "    <tr>\n",
              "      <th>0</th>\n",
              "      <td>A11N155CW1UV02</td>\n",
              "      <td>B000H00VBQ</td>\n",
              "      <td>AdrianaM</td>\n",
              "      <td>[0, 0]</td>\n",
              "      <td>I had big expectations because I love English ...</td>\n",
              "      <td>0</td>\n",
              "      <td>A little bit boring for me</td>\n",
              "      <td>1399075200</td>\n",
              "      <td>05 3, 2014</td>\n",
              "    </tr>\n",
              "    <tr>\n",
              "      <th>1</th>\n",
              "      <td>A3BC8O2KCL29V2</td>\n",
              "      <td>B000H00VBQ</td>\n",
              "      <td>Carol T</td>\n",
              "      <td>[0, 0]</td>\n",
              "      <td>I highly recommend this series. It is a must f...</td>\n",
              "      <td>1</td>\n",
              "      <td>Excellent Grown Up TV</td>\n",
              "      <td>1346630400</td>\n",
              "      <td>09 3, 2012</td>\n",
              "    </tr>\n",
              "    <tr>\n",
              "      <th>2</th>\n",
              "      <td>A60D5HQFOTSOM</td>\n",
              "      <td>B000H00VBQ</td>\n",
              "      <td>Daniel Cooper \"dancoopermedia\"</td>\n",
              "      <td>[0, 1]</td>\n",
              "      <td>This one is a real snoozer. Don't believe anyt...</td>\n",
              "      <td>0</td>\n",
              "      <td>Way too boring for me</td>\n",
              "      <td>1381881600</td>\n",
              "      <td>10 16, 2013</td>\n",
              "    </tr>\n",
              "    <tr>\n",
              "      <th>3</th>\n",
              "      <td>A1RJPIGRSNX4PW</td>\n",
              "      <td>B000H00VBQ</td>\n",
              "      <td>J. Kaplan \"JJ\"</td>\n",
              "      <td>[0, 0]</td>\n",
              "      <td>Mysteries are interesting.  The tension betwee...</td>\n",
              "      <td>1</td>\n",
              "      <td>Robson Green is mesmerizing</td>\n",
              "      <td>1383091200</td>\n",
              "      <td>10 30, 2013</td>\n",
              "    </tr>\n",
              "    <tr>\n",
              "      <th>4</th>\n",
              "      <td>A16XRPF40679KG</td>\n",
              "      <td>B000H00VBQ</td>\n",
              "      <td>Michael Dobey</td>\n",
              "      <td>[1, 1]</td>\n",
              "      <td>This show always is excellent, as far as briti...</td>\n",
              "      <td>1</td>\n",
              "      <td>Robson green and great writing</td>\n",
              "      <td>1234310400</td>\n",
              "      <td>02 11, 2009</td>\n",
              "    </tr>\n",
              "  </tbody>\n",
              "</table>\n",
              "</div>"
            ],
            "text/plain": [
              "       reviewerID        asin  ... unixReviewTime   reviewTime\n",
              "0  A11N155CW1UV02  B000H00VBQ  ...     1399075200   05 3, 2014\n",
              "1  A3BC8O2KCL29V2  B000H00VBQ  ...     1346630400   09 3, 2012\n",
              "2   A60D5HQFOTSOM  B000H00VBQ  ...     1381881600  10 16, 2013\n",
              "3  A1RJPIGRSNX4PW  B000H00VBQ  ...     1383091200  10 30, 2013\n",
              "4  A16XRPF40679KG  B000H00VBQ  ...     1234310400  02 11, 2009\n",
              "\n",
              "[5 rows x 9 columns]"
            ]
          },
          "metadata": {
            "tags": []
          },
          "execution_count": 19
        }
      ]
    },
    {
      "cell_type": "markdown",
      "metadata": {
        "id": "zIcjhSn1QBKO"
      },
      "source": [
        "## Cleaning Data"
      ]
    },
    {
      "cell_type": "code",
      "metadata": {
        "id": "sfe_J2roDT4M",
        "colab": {
          "base_uri": "https://localhost:8080/"
        },
        "outputId": "d3120f03-b686-46cd-beb6-579c6d8addf2"
      },
      "source": [
        "''' Remove the duplicates which have same reviewerID, asin, unixReviewTime, and reviewText '''\n",
        "new = df.drop_duplicates(subset={\"reviewerID\",\"asin\",\"unixReviewTime\",\"reviewText\"}, keep='first', inplace=False)\n",
        "new.shape"
      ],
      "execution_count": null,
      "outputs": [
        {
          "output_type": "execute_result",
          "data": {
            "text/plain": [
              "(37126, 9)"
            ]
          },
          "metadata": {
            "tags": []
          },
          "execution_count": 20
        }
      ]
    },
    {
      "cell_type": "code",
      "metadata": {
        "id": "qAOsFslV8yIT"
      },
      "source": [
        "\n",
        "stopwords= set(['br', 'the', 'i', 'me', 'my', 'myself', 'we', 'our', 'ours', 'ourselves', 'you', \"you're\", \"you've\",\\\n",
        "            \"you'll\", \"you'd\", 'your', 'yours', 'yourself', 'yourselves', 'he', 'him', 'his', 'himself', \\\n",
        "            'she', \"she's\", 'her', 'hers', 'herself', 'it', \"it's\", 'its', 'itself', 'they', 'them', 'their',\\\n",
        "            'theirs', 'themselves', 'what', 'which', 'who', 'whom', 'this', 'that', \"that'll\", 'these', 'those', \\\n",
        "            'am', 'is', 'are', 'was', 'were', 'be', 'been', 'being', 'have', 'has', 'had', 'having', 'do', 'does', \\\n",
        "            'did', 'doing', 'a', 'an', 'the', 'and', 'but', 'if', 'or', 'because', 'as', 'until', 'while', 'of', \\\n",
        "            'at', 'by', 'for', 'with', 'about', 'against', 'between', 'into', 'through', 'during', 'before', 'after',\\\n",
        "            'above', 'below', 'to', 'from', 'up', 'down', 'in', 'out', 'on', 'off', 'over', 'under', 'again', 'further',\\\n",
        "            'then', 'once', 'here', 'there', 'when', 'where', 'why', 'how', 'all', 'any', 'both', 'each', 'few', 'more',\\\n",
        "            'most', 'other', 'some', 'such', 'only', 'own', 'same', 'so', 'than', 'too', 'very', \\\n",
        "            's', 't', 'can', 'will', 'just', 'should', \"should've\", 'now', 'd', 'll', 'm', 'o', 're', \\\n",
        "            've', 'y', 'ma'])"
      ],
      "execution_count": null,
      "outputs": []
    },
    {
      "cell_type": "markdown",
      "metadata": {
        "id": "4L16IuUWS4x9"
      },
      "source": [
        "## Required functions"
      ]
    },
    {
      "cell_type": "code",
      "metadata": {
        "id": "Epjfb3e7oNkD"
      },
      "source": [
        "def decontracted(phrase):\n",
        "    ''' \n",
        "      Function used to decontact the words in the phrase\n",
        "      Input: phrase\n",
        "      Output: decontracted phrase\n",
        "    '''\n",
        "    phrase = re.sub(r\"won't\", \"will not\", phrase)\n",
        "    phrase = re.sub(r\"can\\'t\", \"can not\", phrase)\n",
        "    phrase = re.sub(r\"n\\'t\", \" not\", phrase)\n",
        "    phrase = re.sub(r\"\\'re\", \" are\", phrase)\n",
        "    phrase = re.sub(r\"\\'s\", \" is\", phrase)\n",
        "    phrase = re.sub(r\"\\'d\", \" would\", phrase)\n",
        "    phrase = re.sub(r\"\\'ll\", \" will\", phrase)\n",
        "    phrase = re.sub(r\"\\'t\", \" not\", phrase)\n",
        "    phrase = re.sub(r\"\\'ve\", \" have\", phrase)\n",
        "    phrase = re.sub(r\"\\'m\", \" am\", phrase)\n",
        "    return phrase"
      ],
      "execution_count": null,
      "outputs": []
    },
    {
      "cell_type": "code",
      "metadata": {
        "id": "3VVnSh7_IDHg"
      },
      "source": [
        "def pipeline(review): \n",
        "  '''\n",
        "     Input: list of review\n",
        "     Output: processed reviews \n",
        "  '''\n",
        "  processed_reviews = []\n",
        "  for sentence in tqdm(review):\n",
        "    sentence = sentence.lower() #converting all letters in the sentence to lowercase\n",
        "    sentence = decontracted(sentence) #decontact the sentence in the review\n",
        "    sentence = re.sub('[^A-Za-z]+', ' ', sentence) #retaining only alphabets in the sentence \n",
        "\n",
        "    #Word tokenization\n",
        "    word_tokens = word_tokenize(sentence) \n",
        "\n",
        "    #Stop word removal\n",
        "    filtered_sentence = [w for w in word_tokens if  w not in stopwords]\n",
        "    \n",
        "    #Lemmatization\n",
        "    wnl = WordNetLemmatizer()\n",
        "    filtered_sentence = [wnl.lemmatize(w) for w in filtered_sentence ]\n",
        "\n",
        "    final = ' '.join(filtered_sentence)\n",
        "    processed_reviews.append(final)\n",
        "  return processed_reviews\n"
      ],
      "execution_count": null,
      "outputs": []
    },
    {
      "cell_type": "markdown",
      "metadata": {
        "id": "0-ZtLeqIPaJv"
      },
      "source": [
        "## Creating required variables"
      ]
    },
    {
      "cell_type": "code",
      "metadata": {
        "id": "xilFcRj5Cwn3"
      },
      "source": [
        "reviews = df['reviewText'].values\n",
        "score = df['overall'].values"
      ],
      "execution_count": null,
      "outputs": []
    },
    {
      "cell_type": "code",
      "metadata": {
        "id": "zRepwJVanyie",
        "colab": {
          "base_uri": "https://localhost:8080/"
        },
        "outputId": "554f7fb3-94d2-4d65-e9e4-f32e4f51d24b"
      },
      "source": [
        "#filtering review\n",
        "reviews = pipeline(reviews)"
      ],
      "execution_count": null,
      "outputs": [
        {
          "output_type": "stream",
          "text": [
            "100%|██████████| 37126/37126 [00:26<00:00, 1418.24it/s]\n"
          ],
          "name": "stderr"
        }
      ]
    },
    {
      "cell_type": "markdown",
      "metadata": {
        "id": "8_prs-O2jJvQ"
      },
      "source": [
        "# Using the same data as your Assignment 1, Develop an \n",
        "- Bi-LSTM based sentiment analysis model using (a) TF-IDF embeddings, (b) word2vec embeddings (c) glove embeddings. \n",
        "\n",
        "- BERT based sentiment analysis model. \n",
        "\n",
        "- Compare the performance on the test set among these models. (Bi-LSTM (with tf-idf, word2vec, glove), BERT) \n",
        "\n",
        "- Traditional ML Models developed in assignment 1.\n",
        "\n"
      ]
    },
    {
      "cell_type": "markdown",
      "metadata": {
        "id": "6zqHdGTn53Gj"
      },
      "source": [
        "We have completed TF-IDF before it is scraped. In particular instead of word embedding TF-IDF produced document embedding. So, we fed document embedding to LSTM Model. Since, TF-IDF follows BoW model it does not make any sence to fed it to LSTM since sequence information is lost. Here LSTM simply perform classification with no relevent sequence information. "
      ]
    },
    {
      "cell_type": "markdown",
      "metadata": {
        "id": "JtwQTfpAkm9V"
      },
      "source": [
        "# Bi- LSTM using TF-IDF embeddings"
      ]
    },
    {
      "cell_type": "code",
      "metadata": {
        "id": "udhf1500sdm-",
        "colab": {
          "base_uri": "https://localhost:8080/"
        },
        "outputId": "c1ff60a2-9790-4a0c-f9bd-82ad9cd7e0e3"
      },
      "source": [
        "from sklearn.feature_extraction.text import TfidfTransformer\n",
        "from sklearn.feature_extraction.text import TfidfVectorizer\n",
        "\n",
        "tf_idf_vect = TfidfVectorizer(max_features=500)\n",
        "\n",
        "#transformed train reviews\n",
        "tf_idf_vect = tf_idf_vect.fit_transform(reviews).toarray()\n",
        "\n",
        "print('tf_idf_vect size : ',tf_idf_vect.shape)\n",
        "\n"
      ],
      "execution_count": null,
      "outputs": [
        {
          "output_type": "stream",
          "text": [
            "tf_idf_vect size :  (37126, 500)\n"
          ],
          "name": "stdout"
        }
      ]
    },
    {
      "cell_type": "code",
      "metadata": {
        "id": "XTyDS98rfr5m"
      },
      "source": [
        "X = tf_idf_vect.reshape(tf_idf_vect.shape[0],1,tf_idf_vect.shape[-1])"
      ],
      "execution_count": null,
      "outputs": []
    },
    {
      "cell_type": "code",
      "metadata": {
        "id": "mXvCD52iPxPU"
      },
      "source": [
        "# Train and test split in 8:2 ratio\n",
        "x_train, x_test, y_train, y_test = train_test_split(X, score, test_size=0.2)"
      ],
      "execution_count": null,
      "outputs": []
    },
    {
      "cell_type": "code",
      "metadata": {
        "id": "hWA3a5ZbkKxk"
      },
      "source": [
        "model=Sequential()\n",
        "model.add(Bidirectional(LSTM(20, return_sequences=False), input_shape=(1, 500)))\n",
        "model.add(Dropout(0.3))\n",
        "model.add(Dense(64, activation='relu'))\n",
        "model.add(Dense(64, activation='relu'))\n",
        "model.add(Dense(1, activation='sigmoid'))\n",
        "optimizer = keras.optimizers.Adam(lr=0.0001)\n",
        "model.compile(loss='binary_crossentropy',optimizer=optimizer,metrics=['accuracy'])\n"
      ],
      "execution_count": null,
      "outputs": []
    },
    {
      "cell_type": "code",
      "metadata": {
        "colab": {
          "base_uri": "https://localhost:8080/"
        },
        "id": "SpSvqtMrPxPn",
        "outputId": "62d7f7b6-c7e0-48e9-b08e-208d3da8cbdc"
      },
      "source": [
        "model.summary()"
      ],
      "execution_count": null,
      "outputs": [
        {
          "output_type": "stream",
          "text": [
            "Model: \"sequential_15\"\n",
            "_________________________________________________________________\n",
            "Layer (type)                 Output Shape              Param #   \n",
            "=================================================================\n",
            "bidirectional_18 (Bidirectio (None, 40)                83360     \n",
            "_________________________________________________________________\n",
            "dropout_15 (Dropout)         (None, 40)                0         \n",
            "_________________________________________________________________\n",
            "dense_22 (Dense)             (None, 64)                2624      \n",
            "_________________________________________________________________\n",
            "dense_23 (Dense)             (None, 64)                4160      \n",
            "_________________________________________________________________\n",
            "dense_24 (Dense)             (None, 1)                 65        \n",
            "=================================================================\n",
            "Total params: 90,209\n",
            "Trainable params: 90,209\n",
            "Non-trainable params: 0\n",
            "_________________________________________________________________\n"
          ],
          "name": "stdout"
        }
      ]
    },
    {
      "cell_type": "code",
      "metadata": {
        "colab": {
          "base_uri": "https://localhost:8080/"
        },
        "id": "5sEDbawhPxPp",
        "outputId": "55d526c7-8423-47ba-a05a-bbd2b8a1d053"
      },
      "source": [
        "## Fit train data\n",
        "history = model.fit(x_train, y_train,validation_split=0.2,batch_size=32, epochs =20)"
      ],
      "execution_count": null,
      "outputs": [
        {
          "output_type": "stream",
          "text": [
            "Epoch 1/20\n",
            "743/743 [==============================] - 7s 6ms/step - loss: 0.6056 - accuracy: 0.7741 - val_loss: 0.4672 - val_accuracy: 0.7911\n",
            "Epoch 2/20\n",
            "743/743 [==============================] - 3s 5ms/step - loss: 0.4409 - accuracy: 0.7933 - val_loss: 0.3760 - val_accuracy: 0.8310\n",
            "Epoch 3/20\n",
            "743/743 [==============================] - 3s 5ms/step - loss: 0.3656 - accuracy: 0.8381 - val_loss: 0.3615 - val_accuracy: 0.8332\n",
            "Epoch 4/20\n",
            "743/743 [==============================] - 3s 5ms/step - loss: 0.3550 - accuracy: 0.8399 - val_loss: 0.3586 - val_accuracy: 0.8365\n",
            "Epoch 5/20\n",
            "743/743 [==============================] - 3s 5ms/step - loss: 0.3432 - accuracy: 0.8478 - val_loss: 0.3564 - val_accuracy: 0.8369\n",
            "Epoch 6/20\n",
            "743/743 [==============================] - 3s 5ms/step - loss: 0.3460 - accuracy: 0.8470 - val_loss: 0.3564 - val_accuracy: 0.8391\n",
            "Epoch 7/20\n",
            "743/743 [==============================] - 3s 5ms/step - loss: 0.3376 - accuracy: 0.8524 - val_loss: 0.3566 - val_accuracy: 0.8404\n",
            "Epoch 8/20\n",
            "743/743 [==============================] - 3s 5ms/step - loss: 0.3404 - accuracy: 0.8477 - val_loss: 0.3588 - val_accuracy: 0.8411\n",
            "Epoch 9/20\n",
            "743/743 [==============================] - 3s 5ms/step - loss: 0.3416 - accuracy: 0.8494 - val_loss: 0.3559 - val_accuracy: 0.8419\n",
            "Epoch 10/20\n",
            "743/743 [==============================] - 3s 5ms/step - loss: 0.3408 - accuracy: 0.8498 - val_loss: 0.3561 - val_accuracy: 0.8424\n",
            "Epoch 11/20\n",
            "743/743 [==============================] - 3s 5ms/step - loss: 0.3314 - accuracy: 0.8537 - val_loss: 0.3557 - val_accuracy: 0.8421\n",
            "Epoch 12/20\n",
            "743/743 [==============================] - 3s 5ms/step - loss: 0.3442 - accuracy: 0.8497 - val_loss: 0.3578 - val_accuracy: 0.8431\n",
            "Epoch 13/20\n",
            "743/743 [==============================] - 3s 5ms/step - loss: 0.3382 - accuracy: 0.8532 - val_loss: 0.3552 - val_accuracy: 0.8391\n",
            "Epoch 14/20\n",
            "743/743 [==============================] - 3s 5ms/step - loss: 0.3396 - accuracy: 0.8483 - val_loss: 0.3556 - val_accuracy: 0.8411\n",
            "Epoch 15/20\n",
            "743/743 [==============================] - 3s 5ms/step - loss: 0.3361 - accuracy: 0.8541 - val_loss: 0.3573 - val_accuracy: 0.8428\n",
            "Epoch 16/20\n",
            "743/743 [==============================] - 3s 5ms/step - loss: 0.3330 - accuracy: 0.8531 - val_loss: 0.3578 - val_accuracy: 0.8431\n",
            "Epoch 17/20\n",
            "743/743 [==============================] - 3s 5ms/step - loss: 0.3339 - accuracy: 0.8540 - val_loss: 0.3576 - val_accuracy: 0.8424\n",
            "Epoch 18/20\n",
            "743/743 [==============================] - 3s 5ms/step - loss: 0.3345 - accuracy: 0.8525 - val_loss: 0.3569 - val_accuracy: 0.8426\n",
            "Epoch 19/20\n",
            "743/743 [==============================] - 3s 5ms/step - loss: 0.3348 - accuracy: 0.8506 - val_loss: 0.3571 - val_accuracy: 0.8424\n",
            "Epoch 20/20\n",
            "743/743 [==============================] - 3s 5ms/step - loss: 0.3348 - accuracy: 0.8519 - val_loss: 0.3557 - val_accuracy: 0.8407\n"
          ],
          "name": "stdout"
        }
      ]
    },
    {
      "cell_type": "code",
      "metadata": {
        "id": "xKxoqjmLPxPq"
      },
      "source": [
        "y_pred = model.predict(x_test)"
      ],
      "execution_count": null,
      "outputs": []
    },
    {
      "cell_type": "code",
      "metadata": {
        "id": "Gu_st1MUPxPq"
      },
      "source": [
        "t_loss = history.history['loss']\n",
        "v_loss = history.history['val_loss']\n",
        "accuracy = history.history['accuracy']\n",
        "val_accuracy = history.history['val_accuracy']"
      ],
      "execution_count": null,
      "outputs": []
    },
    {
      "cell_type": "code",
      "metadata": {
        "colab": {
          "base_uri": "https://localhost:8080/",
          "height": 295
        },
        "id": "3BA5zIeGPxPr",
        "outputId": "2d092757-a149-4216-8602-004a755e7702"
      },
      "source": [
        "\n",
        "x = [i for i in range(1,21)]\n",
        "\n",
        "plt.title(\" Training and Validation Loss\")\n",
        "plt.xlabel('Epoch')\n",
        "plt.ylabel('Loss')\n",
        "\n",
        "plt.plot(x,t_loss,label='Training Loss')\n",
        "plt.plot(x,v_loss,label='Validation Loss')\n",
        "\n",
        "plt.legend()\n",
        "plt.show()"
      ],
      "execution_count": null,
      "outputs": [
        {
          "output_type": "display_data",
          "data": {
            "image/png": "[encoded data removed]",
            "text/plain": [
              "<Figure size 432x288 with 1 Axes>"
            ]
          },
          "metadata": {
            "tags": [],
            "needs_background": "light"
          }
        }
      ]
    },
    {
      "cell_type": "code",
      "metadata": {
        "colab": {
          "base_uri": "https://localhost:8080/",
          "height": 295
        },
        "id": "DbmpKLi5PxPs",
        "outputId": "93834702-7b49-444f-da1b-d90e2f8c5287"
      },
      "source": [
        "x = [i for i in range(1,21)]\n",
        "\n",
        "plt.title(\" Training and Validation Accuracy\")\n",
        "\n",
        "plt.xlabel('Epoch')\n",
        "plt.ylabel('Accuracy')\n",
        "\n",
        "plt.plot(x,accuracy,label='Training Accuracy')\n",
        "plt.plot(x,val_accuracy,label='Validation Validation')\n",
        "\n",
        "plt.legend()\n",
        "plt.show()"
      ],
      "execution_count": null,
      "outputs": [
        {
          "output_type": "display_data",
          "data": {
            "image/png": "[encoded data removed]",
            "text/plain": [
              "<Figure size 432x288 with 1 Axes>"
            ]
          },
          "metadata": {
            "tags": [],
            "needs_background": "light"
          }
        }
      ]
    },
    {
      "cell_type": "code",
      "metadata": {
        "colab": {
          "base_uri": "https://localhost:8080/",
          "height": 282
        },
        "id": "ZNQ4cZifPxPs",
        "outputId": "8f5fe42a-77c6-41e5-dfc3-07e8e815b0ca"
      },
      "source": [
        "pr, rc, thresholds = precision_recall_curve(y_test, y_pred)\n",
        "plt.plot(thresholds, pr[1:])\n",
        "plt.plot(thresholds, rc[1:])\n",
        "plt.show()\n",
        "crossover_index = np.max(np.where(pr == rc))\n",
        "crossover_cutoff = thresholds[crossover_index]\n",
        "crossover_recall = rc[crossover_index]\n",
        "print(\"Crossover at {0:.2f} with recall {1:.2f}\".format(crossover_cutoff, crossover_recall))\n"
      ],
      "execution_count": null,
      "outputs": [
        {
          "output_type": "display_data",
          "data": {
            "image/png": "[encoded data removed]",
            "text/plain": [
              "<Figure size 432x288 with 1 Axes>"
            ]
          },
          "metadata": {
            "tags": [],
            "needs_background": "light"
          }
        },
        {
          "output_type": "stream",
          "text": [
            "Crossover at 0.62 with recall 0.90\n"
          ],
          "name": "stdout"
        }
      ]
    },
    {
      "cell_type": "code",
      "metadata": {
        "colab": {
          "base_uri": "https://localhost:8080/"
        },
        "id": "OTyEOReHPxPt",
        "outputId": "ec463a51-17e4-45bf-d305-2a787bdda3c7"
      },
      "source": [
        "print(classification_report(y_test, y_pred > crossover_cutoff))\n",
        "\n"
      ],
      "execution_count": null,
      "outputs": [
        {
          "output_type": "stream",
          "text": [
            "              precision    recall  f1-score   support\n",
            "\n",
            "           0       0.61      0.61      0.61      1565\n",
            "           1       0.90      0.90      0.90      5861\n",
            "\n",
            "    accuracy                           0.84      7426\n",
            "   macro avg       0.75      0.75      0.75      7426\n",
            "weighted avg       0.84      0.84      0.84      7426\n",
            "\n"
          ],
          "name": "stdout"
        }
      ]
    },
    {
      "cell_type": "code",
      "metadata": {
        "colab": {
          "base_uri": "https://localhost:8080/",
          "height": 295
        },
        "id": "dN4lrRG8PxPt",
        "outputId": "ac6965b0-dea1-4911-d41a-500f222e91fe"
      },
      "source": [
        "y = np.round(np.clip(y_pred, 0, 1))\n",
        "cf = confusion_matrix(y_test,y)\n",
        "\n",
        "\n",
        "x_axis_labels= ['Negative', 'Positive']\n",
        "y_axis_labels= ['Negative', 'Positive']\n",
        "\n",
        "\n",
        "sn.heatmap(cf, annot=True, xticklabels=x_axis_labels, yticklabels=y_axis_labels,cmap='Blues', fmt='g')\n",
        "plt.xlabel(\"Prediction\")\n",
        "plt.ylabel(\"Labels\")\n",
        "plt.title('Confusion Matrix')\n",
        "plt.show()"
      ],
      "execution_count": null,
      "outputs": [
        {
          "output_type": "display_data",
          "data": {
            "image/png": "[encoded data removed]",
            "text/plain": [
              "<Figure size 432x288 with 2 Axes>"
            ]
          },
          "metadata": {
            "tags": [],
            "needs_background": "light"
          }
        }
      ]
    },
    {
      "cell_type": "markdown",
      "metadata": {
        "id": "tJBcEbKFkwZO"
      },
      "source": [
        "# Bi- LSTM using  Word2Vec embeddings"
      ]
    },
    {
      "cell_type": "code",
      "metadata": {
        "colab": {
          "base_uri": "https://localhost:8080/"
        },
        "id": "GgiQSl5yvCql",
        "outputId": "f784d4ca-744a-4e88-e3e8-e69f445dc49d"
      },
      "source": [
        "data = []\n",
        "for i in tqdm(reviews):\n",
        "  data.append(i.split(' '))\n",
        "  "
      ],
      "execution_count": null,
      "outputs": [
        {
          "output_type": "stream",
          "text": [
            "100%|██████████| 37126/37126 [00:00<00:00, 196654.51it/s]\n"
          ],
          "name": "stderr"
        }
      ]
    },
    {
      "cell_type": "code",
      "metadata": {
        "id": "HXa22Aplk1xv"
      },
      "source": [
        "#trains w2v model on data set\n",
        "w2v_model=Word2Vec(data,min_count=1,size=50, workers=4)"
      ],
      "execution_count": null,
      "outputs": []
    },
    {
      "cell_type": "code",
      "metadata": {
        "colab": {
          "base_uri": "https://localhost:8080/"
        },
        "id": "EUYrRekQk11l",
        "outputId": "9441992d-efab-45ab-ad05-eadfad2a3a60"
      },
      "source": [
        "w2v_words = list(w2v_model.wv.vocab)\n",
        "print(\"number of words that occured minimum 1 times \",len(w2v_words))\n",
        "print(\"sample words \", w2v_words[0:20])"
      ],
      "execution_count": null,
      "outputs": [
        {
          "output_type": "stream",
          "text": [
            "number of words that occured minimum 1 times  47561\n",
            "sample words  ['big', 'expectation', 'love', 'english', 'tv', 'particular', 'investigative', 'detective', 'stuff', 'guy', 'really', 'boring', 'not', 'appeal', 'highly', 'recommend', 'series', 'must', 'anyone', 'yearning']\n"
          ],
          "name": "stdout"
        }
      ]
    },
    {
      "cell_type": "code",
      "metadata": {
        "id": "JBaWycMvz5lP"
      },
      "source": [
        "# Finding length of longest review\n",
        "max_length = 0\n",
        "for i in reviews:\n",
        "  len_ = len(i.split(' '))\n",
        "  if(len_ > max_length):\n",
        "    max_length = len_\n"
      ],
      "execution_count": null,
      "outputs": []
    },
    {
      "cell_type": "code",
      "metadata": {
        "id": "WNSkuwQSjOy7"
      },
      "source": [
        "# Tokenizing Data\n",
        "token = Tokenizer()\n",
        "token.fit_on_texts(reviews)\n",
        "vocab_size = len(token.word_index) + 1\n",
        "encoded = token.texts_to_sequences(reviews)\n",
        "padded_data = pad_sequences(encoded, maxlen=max_length, padding='post')\n",
        "\n",
        "vocab_size = len(token.word_index) + 1"
      ],
      "execution_count": null,
      "outputs": []
    },
    {
      "cell_type": "code",
      "metadata": {
        "id": "G5WfRJ7NamKy"
      },
      "source": [
        "#Creating Embedding matrix using trained word to vec model\n",
        "embedding_matrix = np.zeros((vocab_size, 50))\n",
        "for word, i in token.word_index.items():\n",
        "    embedding_vector = w2v_model.wv[word]\n",
        "    if embedding_vector is not None:\n",
        "        embedding_matrix[i] = embedding_vector"
      ],
      "execution_count": null,
      "outputs": []
    },
    {
      "cell_type": "code",
      "metadata": {
        "id": "NI7ajUrfamNW"
      },
      "source": [
        "# Train and test split in 8:2 ratio\n",
        "x_train, x_test, y_train, y_test = train_test_split(padded_data, score, test_size=0.2)"
      ],
      "execution_count": null,
      "outputs": []
    },
    {
      "cell_type": "code",
      "metadata": {
        "id": "CyH8866YamPu"
      },
      "source": [
        "# Designing Bidirectional LSTM network\n",
        "model = Sequential()\n",
        "model.add(Embedding(vocab_size, 50, input_length=max_length, weights=[embedding_matrix], trainable=True))\n",
        "model.add(Bidirectional(LSTM(20, return_sequences=True)))\n",
        "model.add(Dropout(0.2))\n",
        "model.add(BatchNormalization())\n",
        "model.add(Bidirectional(LSTM(20, return_sequences=True)))\n",
        "model.add(Dropout(0.2))\n",
        "model.add(BatchNormalization())\n",
        "model.add(Bidirectional(LSTM(20)))\n",
        "model.add(Dropout(0.2))\n",
        "model.add(BatchNormalization())\n",
        "model.add(Dense(64, activation='relu'))\n",
        "model.add(Dense(64, activation='relu'))\n",
        "model.add(Dense(1, activation='sigmoid'))\n",
        "\n",
        "optimizer = keras.optimizers.Adam(lr=0.0005)\n",
        "model.compile(loss='binary_crossentropy',optimizer=optimizer,metrics=['accuracy'])"
      ],
      "execution_count": null,
      "outputs": []
    },
    {
      "cell_type": "code",
      "metadata": {
        "colab": {
          "base_uri": "https://localhost:8080/"
        },
        "id": "fl29iVT7oGAJ",
        "outputId": "d0f01ffb-44f6-40fc-8cc1-6d7baebff1f0"
      },
      "source": [
        "model.summary()"
      ],
      "execution_count": null,
      "outputs": [
        {
          "output_type": "stream",
          "text": [
            "Model: \"sequential_18\"\n",
            "_________________________________________________________________\n",
            "Layer (type)                 Output Shape              Param #   \n",
            "=================================================================\n",
            "embedding_2 (Embedding)      (None, 1641, 50)          2378050   \n",
            "_________________________________________________________________\n",
            "bidirectional_25 (Bidirectio (None, 1641, 40)          11360     \n",
            "_________________________________________________________________\n",
            "dropout_22 (Dropout)         (None, 1641, 40)          0         \n",
            "_________________________________________________________________\n",
            "batch_normalization_7 (Batch (None, 1641, 40)          160       \n",
            "_________________________________________________________________\n",
            "bidirectional_26 (Bidirectio (None, 1641, 40)          9760      \n",
            "_________________________________________________________________\n",
            "dropout_23 (Dropout)         (None, 1641, 40)          0         \n",
            "_________________________________________________________________\n",
            "batch_normalization_8 (Batch (None, 1641, 40)          160       \n",
            "_________________________________________________________________\n",
            "bidirectional_27 (Bidirectio (None, 40)                9760      \n",
            "_________________________________________________________________\n",
            "dropout_24 (Dropout)         (None, 40)                0         \n",
            "_________________________________________________________________\n",
            "batch_normalization_9 (Batch (None, 40)                160       \n",
            "_________________________________________________________________\n",
            "dense_31 (Dense)             (None, 64)                2624      \n",
            "_________________________________________________________________\n",
            "dense_32 (Dense)             (None, 64)                4160      \n",
            "_________________________________________________________________\n",
            "dense_33 (Dense)             (None, 1)                 65        \n",
            "=================================================================\n",
            "Total params: 2,416,259\n",
            "Trainable params: 2,416,019\n",
            "Non-trainable params: 240\n",
            "_________________________________________________________________\n"
          ],
          "name": "stdout"
        }
      ]
    },
    {
      "cell_type": "code",
      "metadata": {
        "colab": {
          "base_uri": "https://localhost:8080/"
        },
        "id": "JyxRNGc86upW",
        "outputId": "0d62269b-b3b3-4bf6-cd9e-31c609240e6b"
      },
      "source": [
        "## Fit train data\n",
        "history = model.fit(x_train, y_train,validation_split=0.2,batch_size=32, epochs =10)"
      ],
      "execution_count": null,
      "outputs": [
        {
          "output_type": "stream",
          "text": [
            "Epoch 1/10\n",
            "743/743 [==============================] - 270s 353ms/step - loss: 0.5105 - accuracy: 0.7563 - val_loss: 0.4241 - val_accuracy: 0.8158\n",
            "Epoch 2/10\n",
            "743/743 [==============================] - 262s 352ms/step - loss: 0.4053 - accuracy: 0.8129 - val_loss: 0.3961 - val_accuracy: 0.8025\n",
            "Epoch 3/10\n",
            "743/743 [==============================] - 263s 354ms/step - loss: 0.3796 - accuracy: 0.8273 - val_loss: 0.3689 - val_accuracy: 0.8279\n",
            "Epoch 4/10\n",
            "743/743 [==============================] - 264s 355ms/step - loss: 0.3602 - accuracy: 0.8368 - val_loss: 0.3575 - val_accuracy: 0.8261\n",
            "Epoch 5/10\n",
            "743/743 [==============================] - 265s 356ms/step - loss: 0.3299 - accuracy: 0.8566 - val_loss: 0.3739 - val_accuracy: 0.8293\n",
            "Epoch 6/10\n",
            "743/743 [==============================] - 264s 356ms/step - loss: 0.2970 - accuracy: 0.8733 - val_loss: 0.3439 - val_accuracy: 0.8544\n",
            "Epoch 7/10\n",
            "743/743 [==============================] - 265s 356ms/step - loss: 0.2506 - accuracy: 0.9007 - val_loss: 0.4235 - val_accuracy: 0.8061\n",
            "Epoch 8/10\n",
            "743/743 [==============================] - 265s 356ms/step - loss: 0.1859 - accuracy: 0.9325 - val_loss: 0.4181 - val_accuracy: 0.8493\n",
            "Epoch 9/10\n",
            "743/743 [==============================] - 265s 356ms/step - loss: 0.1351 - accuracy: 0.9511 - val_loss: 0.4232 - val_accuracy: 0.8419\n",
            "Epoch 10/10\n",
            "743/743 [==============================] - 265s 356ms/step - loss: 0.1133 - accuracy: 0.9621 - val_loss: 0.4573 - val_accuracy: 0.8436\n"
          ],
          "name": "stdout"
        }
      ]
    },
    {
      "cell_type": "code",
      "metadata": {
        "id": "0Rkfh_pU6upg"
      },
      "source": [
        "y_pred = model.predict(x_test)"
      ],
      "execution_count": null,
      "outputs": []
    },
    {
      "cell_type": "code",
      "metadata": {
        "id": "Jm8dV-3w6upa"
      },
      "source": [
        "t_loss = history.history['loss']\n",
        "v_loss = history.history['val_loss']\n",
        "accuracy = history.history['accuracy']\n",
        "val_accuracy = history.history['val_accuracy']"
      ],
      "execution_count": null,
      "outputs": []
    },
    {
      "cell_type": "code",
      "metadata": {
        "colab": {
          "base_uri": "https://localhost:8080/",
          "height": 295
        },
        "id": "PQNlcFE56upc",
        "outputId": "e96a8646-2b62-4df7-8095-032723eaa81a"
      },
      "source": [
        "\n",
        "x = [i for i in range(1,11)]\n",
        "\n",
        "plt.title(\" Training and Validation Loss\")\n",
        "plt.xlabel('Epoch')\n",
        "plt.ylabel('Loss')\n",
        "\n",
        "plt.plot(x,t_loss,label='Training Loss')\n",
        "plt.plot(x,v_loss,label='Validation Loss')\n",
        "\n",
        "plt.legend()\n",
        "plt.show()"
      ],
      "execution_count": null,
      "outputs": [
        {
          "output_type": "display_data",
          "data": {
            "image/png": "[encoded data removed]",
            "text/plain": [
              "<Figure size 432x288 with 1 Axes>"
            ]
          },
          "metadata": {
            "tags": [],
            "needs_background": "light"
          }
        }
      ]
    },
    {
      "cell_type": "markdown",
      "metadata": {
        "id": "CnlgaH014EOa"
      },
      "source": [
        "After 6 epochs data is overfitting"
      ]
    },
    {
      "cell_type": "code",
      "metadata": {
        "colab": {
          "base_uri": "https://localhost:8080/",
          "height": 295
        },
        "id": "_hsHea-86upf",
        "outputId": "70ea82ad-690a-41fe-f12b-9d1741c4445d"
      },
      "source": [
        "x = [i for i in range(1,11)]\n",
        "\n",
        "plt.title(\" Training and Validation Accuracy\")\n",
        "\n",
        "plt.xlabel('Epoch')\n",
        "plt.ylabel('Accuracy')\n",
        "\n",
        "plt.plot(x,accuracy,label='Training Accuracy')\n",
        "plt.plot(x,val_accuracy,label='Validation Validation')\n",
        "\n",
        "plt.legend()\n",
        "plt.show()"
      ],
      "execution_count": null,
      "outputs": [
        {
          "output_type": "display_data",
          "data": {
            "image/png": "[encoded data removed]",
            "text/plain": [
              "<Figure size 432x288 with 1 Axes>"
            ]
          },
          "metadata": {
            "tags": [],
            "needs_background": "light"
          }
        }
      ]
    },
    {
      "cell_type": "code",
      "metadata": {
        "id": "TvbSplXR6uph",
        "colab": {
          "base_uri": "https://localhost:8080/",
          "height": 282
        },
        "outputId": "fad686f7-13a3-4bb5-ab7e-440885f84632"
      },
      "source": [
        "pr, rc, thresholds = precision_recall_curve(y_test, y_pred)\n",
        "plt.plot(thresholds, pr[1:])\n",
        "plt.plot(thresholds, rc[1:])\n",
        "plt.show()\n",
        "crossover_index = np.max(np.where(pr == rc))\n",
        "crossover_cutoff = thresholds[crossover_index]\n",
        "crossover_recall = rc[crossover_index]\n",
        "print(\"Crossover at {0:.2f} with recall {1:.2f}\".format(crossover_cutoff, crossover_recall))\n"
      ],
      "execution_count": null,
      "outputs": [
        {
          "output_type": "display_data",
          "data": {
            "image/png": "[encoded data removed]",
            "text/plain": [
              "<Figure size 432x288 with 1 Axes>"
            ]
          },
          "metadata": {
            "tags": [],
            "needs_background": "light"
          }
        },
        {
          "output_type": "stream",
          "text": [
            "Crossover at 0.52 with recall 0.90\n"
          ],
          "name": "stdout"
        }
      ]
    },
    {
      "cell_type": "code",
      "metadata": {
        "colab": {
          "base_uri": "https://localhost:8080/"
        },
        "id": "u36cumUl6upi",
        "outputId": "e2847bd0-9985-4ed1-f110-d3ae2eadc15e"
      },
      "source": [
        "print(classification_report(y_test, y_pred > crossover_cutoff))\n",
        "\n"
      ],
      "execution_count": null,
      "outputs": [
        {
          "output_type": "stream",
          "text": [
            "              precision    recall  f1-score   support\n",
            "\n",
            "           0       0.62      0.62      0.62      1542\n",
            "           1       0.90      0.90      0.90      5884\n",
            "\n",
            "    accuracy                           0.84      7426\n",
            "   macro avg       0.76      0.76      0.76      7426\n",
            "weighted avg       0.84      0.84      0.84      7426\n",
            "\n"
          ],
          "name": "stdout"
        }
      ]
    },
    {
      "cell_type": "code",
      "metadata": {
        "id": "6Omky8loAloi",
        "colab": {
          "base_uri": "https://localhost:8080/",
          "height": 295
        },
        "outputId": "2964a918-ddde-4717-a2ed-af0dd1fa360c"
      },
      "source": [
        "y = np.round(np.clip(y_pred, 0, 1))\n",
        "cf = confusion_matrix(y_test,y)\n",
        "\n",
        "\n",
        "x_axis_labels= ['Negative', 'Positive']\n",
        "y_axis_labels= ['Negative', 'Positive']\n",
        "\n",
        "\n",
        "sn.heatmap(cf, annot=True, xticklabels=x_axis_labels, yticklabels=y_axis_labels,cmap='Blues', fmt='g')\n",
        "plt.xlabel(\"Prediction\")\n",
        "plt.ylabel(\"Labels\")\n",
        "plt.title('Confusion Matrix')\n",
        "plt.show()"
      ],
      "execution_count": null,
      "outputs": [
        {
          "output_type": "display_data",
          "data": {
            "image/png": "[encoded data removed]",
            "text/plain": [
              "<Figure size 432x288 with 2 Axes>"
            ]
          },
          "metadata": {
            "tags": [],
            "needs_background": "light"
          }
        }
      ]
    },
    {
      "cell_type": "markdown",
      "metadata": {
        "id": "g7advLdlk2Fp"
      },
      "source": [
        "# Bi- LSTM using glove embeddings"
      ]
    },
    {
      "cell_type": "code",
      "metadata": {
        "id": "Xpu-CeslptQV"
      },
      "source": [
        "# Finding length of longest review\n",
        "max_length = 0\n",
        "for i in reviews:\n",
        "  len_ = len(i.split(' '))\n",
        "  if(len_ > max_length):\n",
        "    max_length = len_\n"
      ],
      "execution_count": null,
      "outputs": []
    },
    {
      "cell_type": "code",
      "metadata": {
        "colab": {
          "base_uri": "https://localhost:8080/"
        },
        "id": "Ru2liigSrLxx",
        "outputId": "9d3c1f44-908d-4396-9148-4f6a01d9629e"
      },
      "source": [
        "data = []\n",
        "for i in tqdm(reviews):\n",
        "  data.append(i.split(' '))"
      ],
      "execution_count": null,
      "outputs": [
        {
          "output_type": "stream",
          "text": [
            "100%|██████████| 37126/37126 [00:00<00:00, 69929.24it/s]\n"
          ],
          "name": "stderr"
        }
      ]
    },
    {
      "cell_type": "code",
      "metadata": {
        "id": "420SL9Sxm2qH"
      },
      "source": [
        "# Reading glove embedding file and creating embedding dictionary\n",
        "# Using 50 dimension embedding vector\n",
        "initial_embeddings = dict()\n",
        "f = open('./glove.6B.50d.txt')\n",
        "for line in f:\n",
        "    values = line.split()\n",
        "    word = values[0]\n",
        "    coefs = np.asarray(values[1:], dtype='float32')\n",
        "    initial_embeddings[word] = coefs\n",
        "f.close()"
      ],
      "execution_count": null,
      "outputs": []
    },
    {
      "cell_type": "code",
      "metadata": {
        "id": "mvcs3wZxp1TY"
      },
      "source": [
        "#Finding words not in vocabolary\n",
        "oov = []\n",
        "for i in data:\n",
        "  for j in i :\n",
        "    if ((j not in initial_embeddings.keys()) and (j not in oov)):\n",
        "      oov.append(j)\n",
        "corp_vocab = list(set(oov))\n",
        "\n",
        "cv = CountVectorizer(ngram_range=(1,1), vocabulary=corp_vocab)\n",
        "X = cv.fit_transform(reviews)\n",
        "Xc = (X.T * X)\n",
        "Xc.setdiag(0)\n",
        "coocc_ar = Xc.toarray()"
      ],
      "execution_count": null,
      "outputs": []
    },
    {
      "cell_type": "code",
      "metadata": {
        "colab": {
          "base_uri": "https://localhost:8080/"
        },
        "id": "rtrwhAHSp1WM",
        "outputId": "accd8ebc-5cd9-4d0a-9baf-a90ff87e45b6"
      },
      "source": [
        "mittens_model = Mittens(n=50, max_iter=500)\n",
        "new_embeddings = mittens_model.fit(\n",
        "    coocc_ar,\n",
        "    vocab=corp_vocab,\n",
        "    initial_embedding_dict= initial_embeddings)"
      ],
      "execution_count": null,
      "outputs": [
        {
          "output_type": "stream",
          "text": [
            "Iteration 500: loss: 3.224574565887451"
          ],
          "name": "stderr"
        }
      ]
    },
    {
      "cell_type": "code",
      "metadata": {
        "colab": {
          "base_uri": "https://localhost:8080/"
        },
        "id": "tt5A0KBFp1Yu",
        "outputId": "ff9627bd-6709-4e62-c24a-f9c8b4610bd7"
      },
      "source": [
        "embeddings_index = initial_embeddings\n",
        "for i in tqdm(range(len(oov))):\n",
        "  embeddings_index[oov[i]] = new_embeddings[i]"
      ],
      "execution_count": null,
      "outputs": [
        {
          "output_type": "stream",
          "text": [
            "100%|██████████| 9942/9942 [00:00<00:00, 734577.67it/s]\n"
          ],
          "name": "stderr"
        }
      ]
    },
    {
      "cell_type": "code",
      "metadata": {
        "id": "6lG-GCY8m2t_"
      },
      "source": [
        "# Tokenizing Data\n",
        "token = Tokenizer()\n",
        "token.fit_on_texts(reviews)\n",
        "vocab_size = len(token.word_index) + 1\n",
        "encoded = token.texts_to_sequences(reviews)\n",
        "padded_data = pad_sequences(encoded, maxlen=max_length, padding='post')\n",
        "\n",
        "vocab_size = len(token.word_index) + 1\n"
      ],
      "execution_count": null,
      "outputs": []
    },
    {
      "cell_type": "code",
      "metadata": {
        "id": "boC6LU48DOZS"
      },
      "source": [
        "#Creating Embedding matrix using Glove Vector\n",
        "embedding_matrix = np.zeros((vocab_size, 50))\n",
        "for word, i in token.word_index.items():\n",
        "    embedding_vector = embeddings_index.get(word)\n",
        "    if embedding_vector is not None:\n",
        "        embedding_matrix[i] = embedding_vector"
      ],
      "execution_count": null,
      "outputs": []
    },
    {
      "cell_type": "code",
      "metadata": {
        "id": "custv2SGDPuJ"
      },
      "source": [
        "# Train and test split in 8:2 ratio\n",
        "x_train, x_test, y_train, y_test = train_test_split(padded_data, score, test_size=0.2)\n"
      ],
      "execution_count": null,
      "outputs": []
    },
    {
      "cell_type": "code",
      "metadata": {
        "id": "O5XEBTjEDPw5"
      },
      "source": [
        "# Designing Bidirectional LSTM network\n",
        "model = Sequential()\n",
        "model.add(Embedding(vocab_size, 50, input_length=max_length, weights=[embedding_matrix], trainable=True))\n",
        "model.add(Bidirectional(LSTM(20, return_sequences=True)))\n",
        "model.add(Dropout(0.2))\n",
        "model.add(BatchNormalization())\n",
        "model.add(Bidirectional(LSTM(20, return_sequences=True)))\n",
        "model.add(Dropout(0.2))\n",
        "model.add(BatchNormalization())\n",
        "model.add(Bidirectional(LSTM(20)))\n",
        "model.add(Dropout(0.2))\n",
        "model.add(BatchNormalization())\n",
        "model.add(Dense(64, activation='relu'))\n",
        "model.add(Dense(64, activation='relu'))\n",
        "model.add(Dense(1, activation='sigmoid'))\n",
        "optimizer = keras.optimizers.Adam(lr=0.0005)\n",
        "model.compile(loss='binary_crossentropy',optimizer=optimizer,metrics=['accuracy'])"
      ],
      "execution_count": null,
      "outputs": []
    },
    {
      "cell_type": "code",
      "metadata": {
        "id": "vWN50_h9saRo",
        "colab": {
          "base_uri": "https://localhost:8080/"
        },
        "outputId": "a64b459c-5187-4b99-e377-481783de5d9c"
      },
      "source": [
        "model.summary()"
      ],
      "execution_count": null,
      "outputs": [
        {
          "output_type": "stream",
          "text": [
            "Model: \"sequential_19\"\n",
            "_________________________________________________________________\n",
            "Layer (type)                 Output Shape              Param #   \n",
            "=================================================================\n",
            "embedding_3 (Embedding)      (None, 1641, 50)          2378050   \n",
            "_________________________________________________________________\n",
            "bidirectional_28 (Bidirectio (None, 1641, 40)          11360     \n",
            "_________________________________________________________________\n",
            "dropout_25 (Dropout)         (None, 1641, 40)          0         \n",
            "_________________________________________________________________\n",
            "batch_normalization_10 (Batc (None, 1641, 40)          160       \n",
            "_________________________________________________________________\n",
            "bidirectional_29 (Bidirectio (None, 1641, 40)          9760      \n",
            "_________________________________________________________________\n",
            "dropout_26 (Dropout)         (None, 1641, 40)          0         \n",
            "_________________________________________________________________\n",
            "batch_normalization_11 (Batc (None, 1641, 40)          160       \n",
            "_________________________________________________________________\n",
            "bidirectional_30 (Bidirectio (None, 40)                9760      \n",
            "_________________________________________________________________\n",
            "dropout_27 (Dropout)         (None, 40)                0         \n",
            "_________________________________________________________________\n",
            "batch_normalization_12 (Batc (None, 40)                160       \n",
            "_________________________________________________________________\n",
            "dense_34 (Dense)             (None, 64)                2624      \n",
            "_________________________________________________________________\n",
            "dense_35 (Dense)             (None, 64)                4160      \n",
            "_________________________________________________________________\n",
            "dense_36 (Dense)             (None, 1)                 65        \n",
            "=================================================================\n",
            "Total params: 2,416,259\n",
            "Trainable params: 2,416,019\n",
            "Non-trainable params: 240\n",
            "_________________________________________________________________\n"
          ],
          "name": "stdout"
        }
      ]
    },
    {
      "cell_type": "code",
      "metadata": {
        "id": "wvnRltBvDPzu",
        "colab": {
          "base_uri": "https://localhost:8080/"
        },
        "outputId": "5ce809df-7f08-4e0e-9dba-d118aa91de6c"
      },
      "source": [
        "## Fit train data\n",
        "history = model.fit(x_train, y_train,validation_split=0.2,batch_size=32, epochs =10)"
      ],
      "execution_count": null,
      "outputs": [
        {
          "output_type": "stream",
          "text": [
            "Epoch 1/10\n",
            "743/743 [==============================] - 271s 354ms/step - loss: 0.5311 - accuracy: 0.7720 - val_loss: 0.4730 - val_accuracy: 0.7887\n",
            "Epoch 2/10\n",
            "743/743 [==============================] - 262s 353ms/step - loss: 0.4532 - accuracy: 0.7902 - val_loss: 0.4043 - val_accuracy: 0.8185\n",
            "Epoch 3/10\n",
            "743/743 [==============================] - 264s 355ms/step - loss: 0.3926 - accuracy: 0.8203 - val_loss: 0.3695 - val_accuracy: 0.8372\n",
            "Epoch 4/10\n",
            "743/743 [==============================] - 264s 356ms/step - loss: 0.3453 - accuracy: 0.8518 - val_loss: 0.3513 - val_accuracy: 0.8476\n",
            "Epoch 5/10\n",
            "743/743 [==============================] - 265s 357ms/step - loss: 0.2983 - accuracy: 0.8747 - val_loss: 0.3386 - val_accuracy: 0.8544\n",
            "Epoch 6/10\n",
            "743/743 [==============================] - 266s 357ms/step - loss: 0.2593 - accuracy: 0.8965 - val_loss: 0.3597 - val_accuracy: 0.8537\n",
            "Epoch 7/10\n",
            "743/743 [==============================] - 266s 357ms/step - loss: 0.2256 - accuracy: 0.9136 - val_loss: 0.3845 - val_accuracy: 0.8315\n",
            "Epoch 8/10\n",
            "743/743 [==============================] - 265s 357ms/step - loss: 0.1870 - accuracy: 0.9328 - val_loss: 0.3669 - val_accuracy: 0.8547\n",
            "Epoch 9/10\n",
            "743/743 [==============================] - 265s 357ms/step - loss: 0.1558 - accuracy: 0.9437 - val_loss: 0.4475 - val_accuracy: 0.8502\n",
            "Epoch 10/10\n",
            "743/743 [==============================] - 265s 357ms/step - loss: 0.1293 - accuracy: 0.9563 - val_loss: 0.7377 - val_accuracy: 0.7369\n"
          ],
          "name": "stdout"
        }
      ]
    },
    {
      "cell_type": "code",
      "metadata": {
        "id": "RltT9TzUDP2i"
      },
      "source": [
        "y_pred = model.predict(x_test)"
      ],
      "execution_count": null,
      "outputs": []
    },
    {
      "cell_type": "code",
      "metadata": {
        "id": "_HC0JAoYwGn5"
      },
      "source": [
        "t_loss = history.history['loss']\n",
        "v_loss = history.history['val_loss']\n",
        "accuracy = history.history['accuracy']\n",
        "val_accuracy = history.history['val_accuracy']"
      ],
      "execution_count": null,
      "outputs": []
    },
    {
      "cell_type": "code",
      "metadata": {
        "id": "3PzxlkKb0-_e",
        "colab": {
          "base_uri": "https://localhost:8080/",
          "height": 295
        },
        "outputId": "bffbf63a-868d-4001-a7e1-adfe00a1bd6f"
      },
      "source": [
        "\n",
        "x = [i for i in range(1,11)]\n",
        "\n",
        "plt.title(\" Training and Validation Loss\")\n",
        "plt.xlabel('Epoch')\n",
        "plt.ylabel('Loss')\n",
        "\n",
        "plt.plot(x,t_loss,label='Training Loss')\n",
        "plt.plot(x,v_loss,label='Validation Loss')\n",
        "\n",
        "plt.legend()\n",
        "plt.show()"
      ],
      "execution_count": null,
      "outputs": [
        {
          "output_type": "display_data",
          "data": {
            "image/png": "[encoded data removed]",
            "text/plain": [
              "<Figure size 432x288 with 1 Axes>"
            ]
          },
          "metadata": {
            "tags": [],
            "needs_background": "light"
          }
        }
      ]
    },
    {
      "cell_type": "markdown",
      "metadata": {
        "id": "4olReiP4EVpT"
      },
      "source": [
        "Model Over fit after 5 epochs"
      ]
    },
    {
      "cell_type": "code",
      "metadata": {
        "id": "TaOnTA-G5zku",
        "colab": {
          "base_uri": "https://localhost:8080/",
          "height": 295
        },
        "outputId": "7cfa97c7-ab11-4613-f279-806edb54a459"
      },
      "source": [
        "x = [i for i in range(1,11)]\n",
        "\n",
        "plt.title(\" Training and Validation Accuracy\")\n",
        "\n",
        "plt.xlabel('Epoch')\n",
        "plt.ylabel('Accuracy')\n",
        "\n",
        "plt.plot(x,accuracy,label='Training Accuracy')\n",
        "plt.plot(x,val_accuracy,label='Validation Validation')\n",
        "\n",
        "plt.legend()\n",
        "plt.show()"
      ],
      "execution_count": null,
      "outputs": [
        {
          "output_type": "display_data",
          "data": {
            "image/png": "[encoded data removed]",
            "text/plain": [
              "<Figure size 432x288 with 1 Axes>"
            ]
          },
          "metadata": {
            "tags": [],
            "needs_background": "light"
          }
        }
      ]
    },
    {
      "cell_type": "code",
      "metadata": {
        "id": "4-gD5vArDP43",
        "colab": {
          "base_uri": "https://localhost:8080/",
          "height": 282
        },
        "outputId": "015957a5-364c-471a-8f89-34ccacc857dd"
      },
      "source": [
        "pr, rc, thresholds = precision_recall_curve(y_test, y_pred)\n",
        "plt.plot(thresholds, pr[1:])\n",
        "plt.plot(thresholds, rc[1:])\n",
        "plt.show()\n",
        "crossover_index = np.max(np.where(pr == rc))\n",
        "crossover_cutoff = thresholds[crossover_index]\n",
        "crossover_recall = rc[crossover_index]\n",
        "print(\"Crossover at {0:.2f} with recall {1:.2f}\".format(crossover_cutoff, crossover_recall))\n"
      ],
      "execution_count": null,
      "outputs": [
        {
          "output_type": "display_data",
          "data": {
            "image/png": "[encoded data removed]",
            "text/plain": [
              "<Figure size 432x288 with 1 Axes>"
            ]
          },
          "metadata": {
            "tags": [],
            "needs_background": "light"
          }
        },
        {
          "output_type": "stream",
          "text": [
            "Crossover at 0.05 with recall 0.89\n"
          ],
          "name": "stdout"
        }
      ]
    },
    {
      "cell_type": "code",
      "metadata": {
        "id": "zd0o9TgB2k0m",
        "colab": {
          "base_uri": "https://localhost:8080/"
        },
        "outputId": "2dc86a03-7e8a-4891-cac4-69885101c5d4"
      },
      "source": [
        "print(classification_report(y_test, y_pred > crossover_cutoff))\n",
        "\n"
      ],
      "execution_count": null,
      "outputs": [
        {
          "output_type": "stream",
          "text": [
            "              precision    recall  f1-score   support\n",
            "\n",
            "           0       0.60      0.60      0.60      1611\n",
            "           1       0.89      0.89      0.89      5815\n",
            "\n",
            "    accuracy                           0.83      7426\n",
            "   macro avg       0.75      0.75      0.75      7426\n",
            "weighted avg       0.83      0.83      0.83      7426\n",
            "\n"
          ],
          "name": "stdout"
        }
      ]
    },
    {
      "cell_type": "code",
      "metadata": {
        "id": "7AeMziLD8IUP",
        "colab": {
          "base_uri": "https://localhost:8080/",
          "height": 295
        },
        "outputId": "ac917842-7bb5-4085-8831-55b4875219d1"
      },
      "source": [
        "y = np.round(np.clip(y_pred, 0, 1))\n",
        "cf = confusion_matrix(y_test,y)\n",
        "\n",
        "\n",
        "x_axis_labels= ['Negative', 'Positive']\n",
        "y_axis_labels= ['Negative', 'Positive']\n",
        "\n",
        "\n",
        "sn.heatmap(cf, annot=True, xticklabels=x_axis_labels, yticklabels=y_axis_labels,cmap='Blues', fmt='g')\n",
        "plt.xlabel(\"Prediction\")\n",
        "plt.ylabel(\"Labels\")\n",
        "plt.title('Confusion Matrix')\n",
        "plt.show()"
      ],
      "execution_count": null,
      "outputs": [
        {
          "output_type": "display_data",
          "data": {
            "image/png": "[encoded data removed]",
            "text/plain": [
              "<Figure size 432x288 with 2 Axes>"
            ]
          },
          "metadata": {
            "tags": [],
            "needs_background": "light"
          }
        }
      ]
    },
    {
      "cell_type": "markdown",
      "metadata": {
        "id": "Gjg-XjGKM-VD"
      },
      "source": [
        "# BERT based sentiment analysis model. "
      ]
    },
    {
      "cell_type": "markdown",
      "metadata": {
        "id": "eiEhonvy01Fz"
      },
      "source": [
        "Setting up GPU"
      ]
    },
    {
      "cell_type": "code",
      "metadata": {
        "colab": {
          "base_uri": "https://localhost:8080/"
        },
        "id": "QxMTNnwENIvy",
        "outputId": "4dbc0d4b-c0b1-4169-9049-dc0e0837f269"
      },
      "source": [
        "import torch\n",
        "\n",
        "if torch.cuda.is_available():        \n",
        "    device = torch.device(\"cuda\")\n",
        "else:\n",
        "    device = torch.device(\"cpu\")\n",
        "    \n",
        "print(device)"
      ],
      "execution_count": null,
      "outputs": [
        {
          "output_type": "stream",
          "text": [
            "cuda\n"
          ],
          "name": "stdout"
        }
      ]
    },
    {
      "cell_type": "markdown",
      "metadata": {
        "id": "OzBtB4UY1vyE"
      },
      "source": [
        "## Tokenization and Input Fromatting"
      ]
    },
    {
      "cell_type": "code",
      "metadata": {
        "id": "EuovxcFt1CCc"
      },
      "source": [
        "reviews = reviews[:1000]\n",
        "score = score[:1000]"
      ],
      "execution_count": null,
      "outputs": []
    },
    {
      "cell_type": "code",
      "metadata": {
        "id": "IFz2iqpR1SHD"
      },
      "source": [
        "from transformers import BertTokenizer\n",
        "\n",
        "# Load the BERT tokenizer.\n",
        "tokenizer = BertTokenizer.from_pretrained('bert-base-uncased', do_lower_case=True)"
      ],
      "execution_count": null,
      "outputs": []
    },
    {
      "cell_type": "markdown",
      "metadata": {
        "id": "5ACJLjMb2PeA"
      },
      "source": [
        "Apply the tokenizer to one sentence just to see the output."
      ]
    },
    {
      "cell_type": "code",
      "metadata": {
        "colab": {
          "base_uri": "https://localhost:8080/"
        },
        "id": "PnrVVfG217Yl",
        "outputId": "fe354247-9385-490b-cfef-ed1e3fe678ae"
      },
      "source": [
        "# Print the original sentence.\n",
        "print(' Original: ', reviews[0])\n",
        "\n",
        "# Print the sentence split into tokens.\n",
        "print('Tokenized: ', tokenizer.tokenize(reviews[0]))\n",
        "\n",
        "# Print the sentence mapped to token ids.\n",
        "print('Token IDs: ', tokenizer.convert_tokens_to_ids(tokenizer.tokenize(reviews[0])))"
      ],
      "execution_count": null,
      "outputs": [
        {
          "output_type": "stream",
          "text": [
            " Original:  big expectation love english tv particular investigative detective stuff guy really boring not appeal\n",
            "Tokenized:  ['big', 'expectation', 'love', 'english', 'tv', 'particular', 'investigative', 'detective', 'stuff', 'guy', 'really', 'boring', 'not', 'appeal']\n",
            "Token IDs:  [2502, 17626, 2293, 2394, 2694, 3327, 15025, 6317, 4933, 3124, 2428, 11771, 2025, 5574]\n"
          ],
          "name": "stdout"
        }
      ]
    },
    {
      "cell_type": "code",
      "metadata": {
        "colab": {
          "base_uri": "https://localhost:8080/"
        },
        "id": "6nWAwphgXvzG",
        "outputId": "93e8e531-c14a-49a9-cd90-9ff4a842c2b4"
      },
      "source": [
        "max_len = 0\n",
        "\n",
        "# For every sentence...\n",
        "for sent in tqdm(reviews):\n",
        "    if len(sent)>512:\n",
        "      sent = sent[:512]\n",
        "\n",
        "    # Tokenize the text and add `[CLS]` and `[SEP]` tokens.\n",
        "    input_ids = tokenizer.encode(sent, add_special_tokens=True)\n",
        "\n",
        "    # Update the maximum sentence length.\n",
        "    max_len = max(max_len, len(input_ids))\n",
        "print()\n",
        "print('Max sentence length: ', max_len)"
      ],
      "execution_count": null,
      "outputs": [
        {
          "output_type": "stream",
          "text": [
            "100%|██████████| 1000/1000 [00:00<00:00, 1029.27it/s]"
          ],
          "name": "stderr"
        },
        {
          "output_type": "stream",
          "text": [
            "\n",
            "Max sentence length:  108\n"
          ],
          "name": "stdout"
        },
        {
          "output_type": "stream",
          "text": [
            "\n"
          ],
          "name": "stderr"
        }
      ]
    },
    {
      "cell_type": "code",
      "metadata": {
        "colab": {
          "base_uri": "https://localhost:8080/"
        },
        "id": "7DziZjR02kwo",
        "outputId": "b4096882-2ff2-4a0d-c140-8c79f299fef3"
      },
      "source": [
        "# Tokenize all of the sentences and map the tokens to thier word IDs.\n",
        "input_ids = []\n",
        "attention_masks = []\n",
        "\n",
        "for sent in tqdm(reviews):\n",
        "\n",
        "    encoded_dict = tokenizer.encode_plus(\n",
        "                        sent,                     \n",
        "                        add_special_tokens = True, \n",
        "                        max_length = 256,           \n",
        "                        pad_to_max_length = True,\n",
        "                        return_attention_mask = True,  \n",
        "                        return_tensors = 'pt',    \n",
        "                   )\n",
        "    \n",
        "   \n",
        "    input_ids.append(encoded_dict['input_ids'])\n",
        "    attention_masks.append(encoded_dict['attention_mask'])\n",
        "\n",
        "# Convert the lists into tensors.\n",
        "input_ids = torch.cat(input_ids, dim=0)\n",
        "attention_masks = torch.cat(attention_masks, dim=0)\n",
        "labels = torch.tensor(score)\n",
        "\n",
        "# Print sentence 0, now as a list of IDs.\n",
        "print('Original: ', reviews[0])\n",
        "print('Token IDs:', input_ids[0])"
      ],
      "execution_count": null,
      "outputs": [
        {
          "output_type": "stream",
          "text": [
            "  0%|          | 0/1000 [00:00<?, ?it/s]Truncation was not explicitly activated but `max_length` is provided a specific value, please use `truncation=True` to explicitly truncate examples to max length. Defaulting to 'longest_first' truncation strategy. If you encode pairs of sequences (GLUE-style) with the tokenizer you can select this strategy more precisely by providing a specific strategy to `truncation`.\n",
            "100%|██████████| 1000/1000 [00:01<00:00, 567.65it/s]"
          ],
          "name": "stderr"
        },
        {
          "output_type": "stream",
          "text": [
            "Original:  big expectation love english tv particular investigative detective stuff guy really boring not appeal\n",
            "Token IDs: tensor([  101,  2502, 17626,  2293,  2394,  2694,  3327, 15025,  6317,  4933,\n",
            "         3124,  2428, 11771,  2025,  5574,   102,     0,     0,     0,     0,\n",
            "            0,     0,     0,     0,     0,     0,     0,     0,     0,     0,\n",
            "            0,     0,     0,     0,     0,     0,     0,     0,     0,     0,\n",
            "            0,     0,     0,     0,     0,     0,     0,     0,     0,     0,\n",
            "            0,     0,     0,     0,     0,     0,     0,     0,     0,     0,\n",
            "            0,     0,     0,     0,     0,     0,     0,     0,     0,     0,\n",
            "            0,     0,     0,     0,     0,     0,     0,     0,     0,     0,\n",
            "            0,     0,     0,     0,     0,     0,     0,     0,     0,     0,\n",
            "            0,     0,     0,     0,     0,     0,     0,     0,     0,     0,\n",
            "            0,     0,     0,     0,     0,     0,     0,     0,     0,     0,\n",
            "            0,     0,     0,     0,     0,     0,     0,     0,     0,     0,\n",
            "            0,     0,     0,     0,     0,     0,     0,     0,     0,     0,\n",
            "            0,     0,     0,     0,     0,     0,     0,     0,     0,     0,\n",
            "            0,     0,     0,     0,     0,     0,     0,     0,     0,     0,\n",
            "            0,     0,     0,     0,     0,     0,     0,     0,     0,     0,\n",
            "            0,     0,     0,     0,     0,     0,     0,     0,     0,     0,\n",
            "            0,     0,     0,     0,     0,     0,     0,     0,     0,     0,\n",
            "            0,     0,     0,     0,     0,     0,     0,     0,     0,     0,\n",
            "            0,     0,     0,     0,     0,     0,     0,     0,     0,     0,\n",
            "            0,     0,     0,     0,     0,     0,     0,     0,     0,     0,\n",
            "            0,     0,     0,     0,     0,     0,     0,     0,     0,     0,\n",
            "            0,     0,     0,     0,     0,     0,     0,     0,     0,     0,\n",
            "            0,     0,     0,     0,     0,     0,     0,     0,     0,     0,\n",
            "            0,     0,     0,     0,     0,     0,     0,     0,     0,     0,\n",
            "            0,     0,     0,     0,     0,     0])\n"
          ],
          "name": "stdout"
        },
        {
          "output_type": "stream",
          "text": [
            "\n"
          ],
          "name": "stderr"
        }
      ]
    },
    {
      "cell_type": "markdown",
      "metadata": {
        "id": "15zkKxORFYCJ"
      },
      "source": [
        "## Training and Validation Split"
      ]
    },
    {
      "cell_type": "markdown",
      "metadata": {
        "id": "J44b-sKGFepS"
      },
      "source": [
        "Divide up our training set to use 90% for training and 10% for validation."
      ]
    },
    {
      "cell_type": "code",
      "metadata": {
        "colab": {
          "base_uri": "https://localhost:8080/"
        },
        "id": "E5w9OH-rETd6",
        "outputId": "937a83e4-2471-419a-f2b8-736bc0b1bf71"
      },
      "source": [
        "from torch.utils.data import TensorDataset, random_split\n",
        "\n",
        "# Combine the training inputs into a TensorDataset.\n",
        "dataset = TensorDataset(input_ids, attention_masks, labels)\n",
        "\n",
        "# Create a 90-10 train-validation split.\n",
        "\n",
        "# Calculate the number of samples to include in each set.\n",
        "train_size = int(0.9 * len(dataset))\n",
        "val_size = len(dataset) - train_size\n",
        "\n",
        "# Divide the dataset by randomly selecting samples.\n",
        "train_dataset, val_dataset = random_split(dataset, [train_size, val_size])\n",
        "\n",
        "print('{:>5,} training samples'.format(train_size))\n",
        "print('{:>5,} validation samples'.format(val_size))"
      ],
      "execution_count": null,
      "outputs": [
        {
          "output_type": "stream",
          "text": [
            "  900 training samples\n",
            "  100 validation samples\n"
          ],
          "name": "stdout"
        }
      ]
    },
    {
      "cell_type": "markdown",
      "metadata": {
        "id": "MptcUHfGFpaw"
      },
      "source": [
        "create an iterator for our dataset using the torch DataLoader class"
      ]
    },
    {
      "cell_type": "code",
      "metadata": {
        "id": "Wk6Xbl74FjG2"
      },
      "source": [
        "from torch.utils.data import DataLoader, RandomSampler, SequentialSampler\n",
        "\n",
        "batch_size = 16\n",
        " \n",
        "train_dataloader = DataLoader(\n",
        "            train_dataset,  \n",
        "            sampler = RandomSampler(train_dataset), \n",
        "            batch_size = batch_size \n",
        "        )\n",
        "\n",
        "validation_dataloader = DataLoader(\n",
        "            val_dataset,\n",
        "            sampler = SequentialSampler(val_dataset),\n",
        "            batch_size = batch_size \n",
        "        )"
      ],
      "execution_count": null,
      "outputs": []
    },
    {
      "cell_type": "markdown",
      "metadata": {
        "id": "UAF6rHiMNLnT"
      },
      "source": [
        "\n",
        "## BertForSequenceClassification"
      ]
    },
    {
      "cell_type": "code",
      "metadata": {
        "id": "DnsoWJ4gF8mJ",
        "colab": {
          "base_uri": "https://localhost:8080/"
        },
        "outputId": "f3750a96-2ab3-47b4-84a4-d07c504be54c"
      },
      "source": [
        "from transformers import BertForSequenceClassification, AdamW, BertConfig\n",
        "\n",
        "model = BertForSequenceClassification.from_pretrained(\n",
        "    \"bert-base-uncased\", \n",
        "    num_labels = 2,  \n",
        "    output_attentions = False, \n",
        "    output_hidden_states = False,\n",
        ")\n",
        "\n",
        "model.cuda()"
      ],
      "execution_count": null,
      "outputs": [
        {
          "output_type": "stream",
          "text": [
            "Some weights of the model checkpoint at bert-base-uncased were not used when initializing BertForSequenceClassification: ['cls.seq_relationship.weight', 'cls.predictions.transform.dense.bias', 'cls.predictions.transform.LayerNorm.weight', 'cls.predictions.bias', 'cls.seq_relationship.bias', 'cls.predictions.transform.LayerNorm.bias', 'cls.predictions.decoder.weight', 'cls.predictions.transform.dense.weight']\n",
            "- This IS expected if you are initializing BertForSequenceClassification from the checkpoint of a model trained on another task or with another architecture (e.g. initializing a BertForSequenceClassification model from a BertForPreTraining model).\n",
            "- This IS NOT expected if you are initializing BertForSequenceClassification from the checkpoint of a model that you expect to be exactly identical (initializing a BertForSequenceClassification model from a BertForSequenceClassification model).\n",
            "Some weights of BertForSequenceClassification were not initialized from the model checkpoint at bert-base-uncased and are newly initialized: ['classifier.weight', 'classifier.bias']\n",
            "You should probably TRAIN this model on a down-stream task to be able to use it for predictions and inference.\n"
          ],
          "name": "stderr"
        },
        {
          "output_type": "execute_result",
          "data": {
            "text/plain": [
              "BertForSequenceClassification(\n",
              "  (bert): BertModel(\n",
              "    (embeddings): BertEmbeddings(\n",
              "      (word_embeddings): Embedding(30522, 768, padding_idx=0)\n",
              "      (position_embeddings): Embedding(512, 768)\n",
              "      (token_type_embeddings): Embedding(2, 768)\n",
              "      (LayerNorm): LayerNorm((768,), eps=1e-12, elementwise_affine=True)\n",
              "      (dropout): Dropout(p=0.1, inplace=False)\n",
              "    )\n",
              "    (encoder): BertEncoder(\n",
              "      (layer): ModuleList(\n",
              "        (0): BertLayer(\n",
              "          (attention): BertAttention(\n",
              "            (self): BertSelfAttention(\n",
              "              (query): Linear(in_features=768, out_features=768, bias=True)\n",
              "              (key): Linear(in_features=768, out_features=768, bias=True)\n",
              "              (value): Linear(in_features=768, out_features=768, bias=True)\n",
              "              (dropout): Dropout(p=0.1, inplace=False)\n",
              "            )\n",
              "            (output): BertSelfOutput(\n",
              "              (dense): Linear(in_features=768, out_features=768, bias=True)\n",
              "              (LayerNorm): LayerNorm((768,), eps=1e-12, elementwise_affine=True)\n",
              "              (dropout): Dropout(p=0.1, inplace=False)\n",
              "            )\n",
              "          )\n",
              "          (intermediate): BertIntermediate(\n",
              "            (dense): Linear(in_features=768, out_features=3072, bias=True)\n",
              "          )\n",
              "          (output): BertOutput(\n",
              "            (dense): Linear(in_features=3072, out_features=768, bias=True)\n",
              "            (LayerNorm): LayerNorm((768,), eps=1e-12, elementwise_affine=True)\n",
              "            (dropout): Dropout(p=0.1, inplace=False)\n",
              "          )\n",
              "        )\n",
              "        (1): BertLayer(\n",
              "          (attention): BertAttention(\n",
              "            (self): BertSelfAttention(\n",
              "              (query): Linear(in_features=768, out_features=768, bias=True)\n",
              "              (key): Linear(in_features=768, out_features=768, bias=True)\n",
              "              (value): Linear(in_features=768, out_features=768, bias=True)\n",
              "              (dropout): Dropout(p=0.1, inplace=False)\n",
              "            )\n",
              "            (output): BertSelfOutput(\n",
              "              (dense): Linear(in_features=768, out_features=768, bias=True)\n",
              "              (LayerNorm): LayerNorm((768,), eps=1e-12, elementwise_affine=True)\n",
              "              (dropout): Dropout(p=0.1, inplace=False)\n",
              "            )\n",
              "          )\n",
              "          (intermediate): BertIntermediate(\n",
              "            (dense): Linear(in_features=768, out_features=3072, bias=True)\n",
              "          )\n",
              "          (output): BertOutput(\n",
              "            (dense): Linear(in_features=3072, out_features=768, bias=True)\n",
              "            (LayerNorm): LayerNorm((768,), eps=1e-12, elementwise_affine=True)\n",
              "            (dropout): Dropout(p=0.1, inplace=False)\n",
              "          )\n",
              "        )\n",
              "        (2): BertLayer(\n",
              "          (attention): BertAttention(\n",
              "            (self): BertSelfAttention(\n",
              "              (query): Linear(in_features=768, out_features=768, bias=True)\n",
              "              (key): Linear(in_features=768, out_features=768, bias=True)\n",
              "              (value): Linear(in_features=768, out_features=768, bias=True)\n",
              "              (dropout): Dropout(p=0.1, inplace=False)\n",
              "            )\n",
              "            (output): BertSelfOutput(\n",
              "              (dense): Linear(in_features=768, out_features=768, bias=True)\n",
              "              (LayerNorm): LayerNorm((768,), eps=1e-12, elementwise_affine=True)\n",
              "              (dropout): Dropout(p=0.1, inplace=False)\n",
              "            )\n",
              "          )\n",
              "          (intermediate): BertIntermediate(\n",
              "            (dense): Linear(in_features=768, out_features=3072, bias=True)\n",
              "          )\n",
              "          (output): BertOutput(\n",
              "            (dense): Linear(in_features=3072, out_features=768, bias=True)\n",
              "            (LayerNorm): LayerNorm((768,), eps=1e-12, elementwise_affine=True)\n",
              "            (dropout): Dropout(p=0.1, inplace=False)\n",
              "          )\n",
              "        )\n",
              "        (3): BertLayer(\n",
              "          (attention): BertAttention(\n",
              "            (self): BertSelfAttention(\n",
              "              (query): Linear(in_features=768, out_features=768, bias=True)\n",
              "              (key): Linear(in_features=768, out_features=768, bias=True)\n",
              "              (value): Linear(in_features=768, out_features=768, bias=True)\n",
              "              (dropout): Dropout(p=0.1, inplace=False)\n",
              "            )\n",
              "            (output): BertSelfOutput(\n",
              "              (dense): Linear(in_features=768, out_features=768, bias=True)\n",
              "              (LayerNorm): LayerNorm((768,), eps=1e-12, elementwise_affine=True)\n",
              "              (dropout): Dropout(p=0.1, inplace=False)\n",
              "            )\n",
              "          )\n",
              "          (intermediate): BertIntermediate(\n",
              "            (dense): Linear(in_features=768, out_features=3072, bias=True)\n",
              "          )\n",
              "          (output): BertOutput(\n",
              "            (dense): Linear(in_features=3072, out_features=768, bias=True)\n",
              "            (LayerNorm): LayerNorm((768,), eps=1e-12, elementwise_affine=True)\n",
              "            (dropout): Dropout(p=0.1, inplace=False)\n",
              "          )\n",
              "        )\n",
              "        (4): BertLayer(\n",
              "          (attention): BertAttention(\n",
              "            (self): BertSelfAttention(\n",
              "              (query): Linear(in_features=768, out_features=768, bias=True)\n",
              "              (key): Linear(in_features=768, out_features=768, bias=True)\n",
              "              (value): Linear(in_features=768, out_features=768, bias=True)\n",
              "              (dropout): Dropout(p=0.1, inplace=False)\n",
              "            )\n",
              "            (output): BertSelfOutput(\n",
              "              (dense): Linear(in_features=768, out_features=768, bias=True)\n",
              "              (LayerNorm): LayerNorm((768,), eps=1e-12, elementwise_affine=True)\n",
              "              (dropout): Dropout(p=0.1, inplace=False)\n",
              "            )\n",
              "          )\n",
              "          (intermediate): BertIntermediate(\n",
              "            (dense): Linear(in_features=768, out_features=3072, bias=True)\n",
              "          )\n",
              "          (output): BertOutput(\n",
              "            (dense): Linear(in_features=3072, out_features=768, bias=True)\n",
              "            (LayerNorm): LayerNorm((768,), eps=1e-12, elementwise_affine=True)\n",
              "            (dropout): Dropout(p=0.1, inplace=False)\n",
              "          )\n",
              "        )\n",
              "        (5): BertLayer(\n",
              "          (attention): BertAttention(\n",
              "            (self): BertSelfAttention(\n",
              "              (query): Linear(in_features=768, out_features=768, bias=True)\n",
              "              (key): Linear(in_features=768, out_features=768, bias=True)\n",
              "              (value): Linear(in_features=768, out_features=768, bias=True)\n",
              "              (dropout): Dropout(p=0.1, inplace=False)\n",
              "            )\n",
              "            (output): BertSelfOutput(\n",
              "              (dense): Linear(in_features=768, out_features=768, bias=True)\n",
              "              (LayerNorm): LayerNorm((768,), eps=1e-12, elementwise_affine=True)\n",
              "              (dropout): Dropout(p=0.1, inplace=False)\n",
              "            )\n",
              "          )\n",
              "          (intermediate): BertIntermediate(\n",
              "            (dense): Linear(in_features=768, out_features=3072, bias=True)\n",
              "          )\n",
              "          (output): BertOutput(\n",
              "            (dense): Linear(in_features=3072, out_features=768, bias=True)\n",
              "            (LayerNorm): LayerNorm((768,), eps=1e-12, elementwise_affine=True)\n",
              "            (dropout): Dropout(p=0.1, inplace=False)\n",
              "          )\n",
              "        )\n",
              "        (6): BertLayer(\n",
              "          (attention): BertAttention(\n",
              "            (self): BertSelfAttention(\n",
              "              (query): Linear(in_features=768, out_features=768, bias=True)\n",
              "              (key): Linear(in_features=768, out_features=768, bias=True)\n",
              "              (value): Linear(in_features=768, out_features=768, bias=True)\n",
              "              (dropout): Dropout(p=0.1, inplace=False)\n",
              "            )\n",
              "            (output): BertSelfOutput(\n",
              "              (dense): Linear(in_features=768, out_features=768, bias=True)\n",
              "              (LayerNorm): LayerNorm((768,), eps=1e-12, elementwise_affine=True)\n",
              "              (dropout): Dropout(p=0.1, inplace=False)\n",
              "            )\n",
              "          )\n",
              "          (intermediate): BertIntermediate(\n",
              "            (dense): Linear(in_features=768, out_features=3072, bias=True)\n",
              "          )\n",
              "          (output): BertOutput(\n",
              "            (dense): Linear(in_features=3072, out_features=768, bias=True)\n",
              "            (LayerNorm): LayerNorm((768,), eps=1e-12, elementwise_affine=True)\n",
              "            (dropout): Dropout(p=0.1, inplace=False)\n",
              "          )\n",
              "        )\n",
              "        (7): BertLayer(\n",
              "          (attention): BertAttention(\n",
              "            (self): BertSelfAttention(\n",
              "              (query): Linear(in_features=768, out_features=768, bias=True)\n",
              "              (key): Linear(in_features=768, out_features=768, bias=True)\n",
              "              (value): Linear(in_features=768, out_features=768, bias=True)\n",
              "              (dropout): Dropout(p=0.1, inplace=False)\n",
              "            )\n",
              "            (output): BertSelfOutput(\n",
              "              (dense): Linear(in_features=768, out_features=768, bias=True)\n",
              "              (LayerNorm): LayerNorm((768,), eps=1e-12, elementwise_affine=True)\n",
              "              (dropout): Dropout(p=0.1, inplace=False)\n",
              "            )\n",
              "          )\n",
              "          (intermediate): BertIntermediate(\n",
              "            (dense): Linear(in_features=768, out_features=3072, bias=True)\n",
              "          )\n",
              "          (output): BertOutput(\n",
              "            (dense): Linear(in_features=3072, out_features=768, bias=True)\n",
              "            (LayerNorm): LayerNorm((768,), eps=1e-12, elementwise_affine=True)\n",
              "            (dropout): Dropout(p=0.1, inplace=False)\n",
              "          )\n",
              "        )\n",
              "        (8): BertLayer(\n",
              "          (attention): BertAttention(\n",
              "            (self): BertSelfAttention(\n",
              "              (query): Linear(in_features=768, out_features=768, bias=True)\n",
              "              (key): Linear(in_features=768, out_features=768, bias=True)\n",
              "              (value): Linear(in_features=768, out_features=768, bias=True)\n",
              "              (dropout): Dropout(p=0.1, inplace=False)\n",
              "            )\n",
              "            (output): BertSelfOutput(\n",
              "              (dense): Linear(in_features=768, out_features=768, bias=True)\n",
              "              (LayerNorm): LayerNorm((768,), eps=1e-12, elementwise_affine=True)\n",
              "              (dropout): Dropout(p=0.1, inplace=False)\n",
              "            )\n",
              "          )\n",
              "          (intermediate): BertIntermediate(\n",
              "            (dense): Linear(in_features=768, out_features=3072, bias=True)\n",
              "          )\n",
              "          (output): BertOutput(\n",
              "            (dense): Linear(in_features=3072, out_features=768, bias=True)\n",
              "            (LayerNorm): LayerNorm((768,), eps=1e-12, elementwise_affine=True)\n",
              "            (dropout): Dropout(p=0.1, inplace=False)\n",
              "          )\n",
              "        )\n",
              "        (9): BertLayer(\n",
              "          (attention): BertAttention(\n",
              "            (self): BertSelfAttention(\n",
              "              (query): Linear(in_features=768, out_features=768, bias=True)\n",
              "              (key): Linear(in_features=768, out_features=768, bias=True)\n",
              "              (value): Linear(in_features=768, out_features=768, bias=True)\n",
              "              (dropout): Dropout(p=0.1, inplace=False)\n",
              "            )\n",
              "            (output): BertSelfOutput(\n",
              "              (dense): Linear(in_features=768, out_features=768, bias=True)\n",
              "              (LayerNorm): LayerNorm((768,), eps=1e-12, elementwise_affine=True)\n",
              "              (dropout): Dropout(p=0.1, inplace=False)\n",
              "            )\n",
              "          )\n",
              "          (intermediate): BertIntermediate(\n",
              "            (dense): Linear(in_features=768, out_features=3072, bias=True)\n",
              "          )\n",
              "          (output): BertOutput(\n",
              "            (dense): Linear(in_features=3072, out_features=768, bias=True)\n",
              "            (LayerNorm): LayerNorm((768,), eps=1e-12, elementwise_affine=True)\n",
              "            (dropout): Dropout(p=0.1, inplace=False)\n",
              "          )\n",
              "        )\n",
              "        (10): BertLayer(\n",
              "          (attention): BertAttention(\n",
              "            (self): BertSelfAttention(\n",
              "              (query): Linear(in_features=768, out_features=768, bias=True)\n",
              "              (key): Linear(in_features=768, out_features=768, bias=True)\n",
              "              (value): Linear(in_features=768, out_features=768, bias=True)\n",
              "              (dropout): Dropout(p=0.1, inplace=False)\n",
              "            )\n",
              "            (output): BertSelfOutput(\n",
              "              (dense): Linear(in_features=768, out_features=768, bias=True)\n",
              "              (LayerNorm): LayerNorm((768,), eps=1e-12, elementwise_affine=True)\n",
              "              (dropout): Dropout(p=0.1, inplace=False)\n",
              "            )\n",
              "          )\n",
              "          (intermediate): BertIntermediate(\n",
              "            (dense): Linear(in_features=768, out_features=3072, bias=True)\n",
              "          )\n",
              "          (output): BertOutput(\n",
              "            (dense): Linear(in_features=3072, out_features=768, bias=True)\n",
              "            (LayerNorm): LayerNorm((768,), eps=1e-12, elementwise_affine=True)\n",
              "            (dropout): Dropout(p=0.1, inplace=False)\n",
              "          )\n",
              "        )\n",
              "        (11): BertLayer(\n",
              "          (attention): BertAttention(\n",
              "            (self): BertSelfAttention(\n",
              "              (query): Linear(in_features=768, out_features=768, bias=True)\n",
              "              (key): Linear(in_features=768, out_features=768, bias=True)\n",
              "              (value): Linear(in_features=768, out_features=768, bias=True)\n",
              "              (dropout): Dropout(p=0.1, inplace=False)\n",
              "            )\n",
              "            (output): BertSelfOutput(\n",
              "              (dense): Linear(in_features=768, out_features=768, bias=True)\n",
              "              (LayerNorm): LayerNorm((768,), eps=1e-12, elementwise_affine=True)\n",
              "              (dropout): Dropout(p=0.1, inplace=False)\n",
              "            )\n",
              "          )\n",
              "          (intermediate): BertIntermediate(\n",
              "            (dense): Linear(in_features=768, out_features=3072, bias=True)\n",
              "          )\n",
              "          (output): BertOutput(\n",
              "            (dense): Linear(in_features=3072, out_features=768, bias=True)\n",
              "            (LayerNorm): LayerNorm((768,), eps=1e-12, elementwise_affine=True)\n",
              "            (dropout): Dropout(p=0.1, inplace=False)\n",
              "          )\n",
              "        )\n",
              "      )\n",
              "    )\n",
              "    (pooler): BertPooler(\n",
              "      (dense): Linear(in_features=768, out_features=768, bias=True)\n",
              "      (activation): Tanh()\n",
              "    )\n",
              "  )\n",
              "  (dropout): Dropout(p=0.1, inplace=False)\n",
              "  (classifier): Linear(in_features=768, out_features=2, bias=True)\n",
              ")"
            ]
          },
          "metadata": {
            "tags": []
          },
          "execution_count": 23
        }
      ]
    },
    {
      "cell_type": "code",
      "metadata": {
        "id": "oCHn8HeDLrYI",
        "colab": {
          "base_uri": "https://localhost:8080/"
        },
        "outputId": "541fcfcc-ba70-4c70-c6d7-d273ffd8990a"
      },
      "source": [
        "# Get all of the model's parameters as a list of tuples.\n",
        "params = list(model.named_parameters())\n",
        "\n",
        "print('The BERT model has {:} different named parameters.\\n'.format(len(params)))\n",
        "\n",
        "print('==== Embedding Layer ====\\n')\n",
        "\n",
        "for p in params[0:5]:\n",
        "    print(\"{:<55} {:>12}\".format(p[0], str(tuple(p[1].size()))))\n",
        "\n",
        "print('\\n==== First Transformer ====\\n')\n",
        "\n",
        "for p in params[5:21]:\n",
        "    print(\"{:<55} {:>12}\".format(p[0], str(tuple(p[1].size()))))\n",
        "\n",
        "print('\\n==== Output Layer ====\\n')\n",
        "\n",
        "for p in params[-4:]:\n",
        "    print(\"{:<55} {:>12}\".format(p[0], str(tuple(p[1].size()))))"
      ],
      "execution_count": null,
      "outputs": [
        {
          "output_type": "stream",
          "text": [
            "The BERT model has 201 different named parameters.\n",
            "\n",
            "==== Embedding Layer ====\n",
            "\n",
            "bert.embeddings.word_embeddings.weight                  (30522, 768)\n",
            "bert.embeddings.position_embeddings.weight                (512, 768)\n",
            "bert.embeddings.token_type_embeddings.weight                (2, 768)\n",
            "bert.embeddings.LayerNorm.weight                              (768,)\n",
            "bert.embeddings.LayerNorm.bias                                (768,)\n",
            "\n",
            "==== First Transformer ====\n",
            "\n",
            "bert.encoder.layer.0.attention.self.query.weight          (768, 768)\n",
            "bert.encoder.layer.0.attention.self.query.bias                (768,)\n",
            "bert.encoder.layer.0.attention.self.key.weight            (768, 768)\n",
            "bert.encoder.layer.0.attention.self.key.bias                  (768,)\n",
            "bert.encoder.layer.0.attention.self.value.weight          (768, 768)\n",
            "bert.encoder.layer.0.attention.self.value.bias                (768,)\n",
            "bert.encoder.layer.0.attention.output.dense.weight        (768, 768)\n",
            "bert.encoder.layer.0.attention.output.dense.bias              (768,)\n",
            "bert.encoder.layer.0.attention.output.LayerNorm.weight        (768,)\n",
            "bert.encoder.layer.0.attention.output.LayerNorm.bias          (768,)\n",
            "bert.encoder.layer.0.intermediate.dense.weight           (3072, 768)\n",
            "bert.encoder.layer.0.intermediate.dense.bias                 (3072,)\n",
            "bert.encoder.layer.0.output.dense.weight                 (768, 3072)\n",
            "bert.encoder.layer.0.output.dense.bias                        (768,)\n",
            "bert.encoder.layer.0.output.LayerNorm.weight                  (768,)\n",
            "bert.encoder.layer.0.output.LayerNorm.bias                    (768,)\n",
            "\n",
            "==== Output Layer ====\n",
            "\n",
            "bert.pooler.dense.weight                                  (768, 768)\n",
            "bert.pooler.dense.bias                                        (768,)\n",
            "classifier.weight                                           (2, 768)\n",
            "classifier.bias                                                 (2,)\n"
          ],
          "name": "stdout"
        }
      ]
    },
    {
      "cell_type": "markdown",
      "metadata": {
        "id": "XQbwgSXSNWzB"
      },
      "source": [
        "Optimizer & Learning Rate Scheduler"
      ]
    },
    {
      "cell_type": "markdown",
      "metadata": {
        "id": "l72xYggpL8gJ"
      },
      "source": [
        "For the purposes of fine-tuning, the authors recommend choosing from the following values (from Appendix A.3 of the [BERT paper](https://arxiv.org/pdf/1810.04805.pdf)):\n",
        "\n",
        ">- **Batch size:** 16, 32  \n",
        "- **Learning rate (Adam):** 5e-5, 3e-5, 2e-5  \n",
        "- **Number of epochs:** 2, 3, 4 \n",
        "\n",
        "We chose:\n",
        "* Batch size: 16 (set when creating our DataLoaders)\n",
        "* Learning rate: 2e-5\n",
        "* Epochs: 4"
      ]
    },
    {
      "cell_type": "code",
      "metadata": {
        "id": "HnX0Sz4RLwqS"
      },
      "source": [
        "optimizer = AdamW(model.parameters(), lr = 2e-5, eps = 1e-8)   \n"
      ],
      "execution_count": null,
      "outputs": []
    },
    {
      "cell_type": "code",
      "metadata": {
        "id": "PUDgD_2YMN17"
      },
      "source": [
        "from transformers import get_linear_schedule_with_warmup\n",
        "\n",
        "\n",
        "epochs = 4\n",
        "\n",
        "# Total number of training steps is [number of batches] x [number of epochs]. \n",
        "total_steps = len(train_dataloader) * epochs\n",
        "\n",
        "# Create the learning rate scheduler.\n",
        "scheduler = get_linear_schedule_with_warmup(optimizer, \n",
        "                                            num_warmup_steps = 0, \n",
        "                                            num_training_steps = total_steps)"
      ],
      "execution_count": null,
      "outputs": []
    },
    {
      "cell_type": "markdown",
      "metadata": {
        "id": "QQ87I1vTNaPo"
      },
      "source": [
        "Training Loop"
      ]
    },
    {
      "cell_type": "code",
      "metadata": {
        "id": "XfJ5-9ZDM5z3"
      },
      "source": [
        "import numpy as np\n",
        "\n",
        "# Function to calculate the accuracy of our predictions vs labels\n",
        "def flat_accuracy(preds, labels):\n",
        "    pred_flat = np.argmax(preds, axis=1).flatten()\n",
        "    labels_flat = labels.flatten()\n",
        "    return np.sum(pred_flat == labels_flat) / len(labels_flat)"
      ],
      "execution_count": null,
      "outputs": []
    },
    {
      "cell_type": "code",
      "metadata": {
        "id": "-aRHIor5NhIS"
      },
      "source": [
        "import time\n",
        "import datetime\n",
        "\n",
        "def format_time(elapsed):\n",
        "    '''\n",
        "    Takes a time in seconds and returns a string hh:mm:ss\n",
        "    '''\n",
        "    # Round to the nearest second.\n",
        "    elapsed_rounded = int(round((elapsed)))\n",
        "    \n",
        "    # Format as hh:mm:ss\n",
        "    return str(datetime.timedelta(seconds=elapsed_rounded))"
      ],
      "execution_count": null,
      "outputs": []
    },
    {
      "cell_type": "code",
      "metadata": {
        "id": "RsATT8fENjTV",
        "colab": {
          "base_uri": "https://localhost:8080/"
        },
        "outputId": "8c5ebe9a-3fd9-4e6a-ba71-24e5b0972bfb"
      },
      "source": [
        "import random\n",
        "import numpy as np\n",
        ".\n",
        "seed_val = 42\n",
        "\n",
        "random.seed(seed_val)\n",
        "np.random.seed(seed_val)\n",
        "torch.manual_seed(seed_val)\n",
        "torch.cuda.manual_seed_all(seed_val)\n",
        "\n",
        "\n",
        "training_stats = []\n",
        "total_t0 = time.time()\n",
        "\n",
        "# For each epoch...\n",
        "for epoch_i in range(0, epochs):\n",
        "\n",
        "\n",
        "    print(\"\")\n",
        "    print('======== Epoch {:} / {:} ========'.format(epoch_i + 1, epochs))\n",
        "    print('Training...')\n",
        "\n",
        "    # Measure how long the training epoch takes.\n",
        "    t0 = time.time()\n",
        "    total_train_loss = 0\n",
        "    model.train()\n",
        "\n",
        "\n",
        "    for step, batch in enumerate(train_dataloader):\n",
        "        if step % 40 == 0 and not step == 0:\n",
        "            elapsed = format_time(time.time() - t0).\n",
        "            print('  Batch {:>5,}  of  {:>5,}.    Elapsed: {:}.'.format(step, len(train_dataloader), elapsed))\n",
        "\n",
        "        b_input_ids = batch[0].to(device)\n",
        "        b_input_mask = batch[1].to(device)\n",
        "        b_labels = batch[2].to(device)\n",
        "        model.zero_grad()        \n",
        "        result = model(b_input_ids, \n",
        "                       token_type_ids=None, \n",
        "                       attention_mask=b_input_mask, \n",
        "                       labels=b_labels,\n",
        "                       return_dict=True)\n",
        "\n",
        "        loss = result.loss\n",
        "        logits = result.logits\n",
        "        total_train_loss += loss.item()\n",
        "        loss.backward()\n",
        "        torch.nn.utils.clip_grad_norm_(model.parameters(), 1.0)\n",
        "        optimizer.step()\n",
        "        scheduler.step()\n",
        "    avg_train_loss = total_train_loss / len(train_dataloader)            \n",
        "    \n",
        "    training_time = format_time(time.time() - t0)\n",
        "\n",
        "    print(\"\")\n",
        "    print(\"  Average training loss: {0:.2f}\".format(avg_train_loss))\n",
        "    print(\"  Training epcoh took: {:}\".format(training_time))\n",
        "\n",
        "\n",
        "    print(\"\")\n",
        "    print(\"Running Validation...\")\n",
        "\n",
        "    t0 = time.time()\n",
        "\n",
        "    model.eval()\n",
        "    total_eval_accuracy = 0\n",
        "    total_eval_loss = 0\n",
        "    nb_eval_steps = 0\n",
        "\n",
        "    for batch in validation_dataloader:\n",
        "        \n",
        "        b_input_ids = batch[0].to(device)\n",
        "        b_input_mask = batch[1].to(device)\n",
        "        b_labels = batch[2].to(device)\n",
        "\n",
        "        with torch.no_grad():        \n",
        "            result = model(b_input_ids, \n",
        "                           token_type_ids=None, \n",
        "                           attention_mask=b_input_mask,\n",
        "                           labels=b_labels,\n",
        "                           return_dict=True)\n",
        "\n",
        "        loss = result.loss\n",
        "        logits = result.logits\n",
        "            \n",
        "\n",
        "        total_eval_loss += loss.item()\n",
        "        logits = logits.detach().cpu().numpy()\n",
        "        label_ids = b_labels.to('cpu').numpy()\n",
        "\n",
        "        total_eval_accuracy += flat_accuracy(logits, label_ids)\n",
        "        \n",
        "\n",
        "    avg_val_accuracy = total_eval_accuracy / len(validation_dataloader)\n",
        "    print(\"  Accuracy: {0:.2f}\".format(avg_val_accuracy))\n",
        "\n",
        "    avg_val_loss = total_eval_loss / len(validation_dataloader)\n",
        "\n",
        "    validation_time = format_time(time.time() - t0)\n",
        "    \n",
        "    print(\"  Validation Loss: {0:.2f}\".format(avg_val_loss))\n",
        "    print(\"  Validation took: {:}\".format(validation_time))\n",
        "\n",
        "    training_stats.append(\n",
        "        {\n",
        "            'epoch': epoch_i + 1,\n",
        "            'Training Loss': avg_train_loss,\n",
        "            'Valid. Loss': avg_val_loss,\n",
        "            'Valid. Accur.': avg_val_accuracy,\n",
        "            'Training Time': training_time,\n",
        "            'Validation Time': validation_time\n",
        "        }\n",
        "    )\n",
        "\n",
        "print(\"\")\n",
        "print(\"Training complete!\")\n",
        "\n",
        "print(\"Total training took {:} (h:mm:ss)\".format(format_time(time.time()-total_t0)))"
      ],
      "execution_count": null,
      "outputs": [
        {
          "output_type": "stream",
          "text": [
            "\n",
            "======== Epoch 1 / 4 ========\n",
            "Training...\n",
            "  Batch    40  of     57.    Elapsed: 0:00:16.\n",
            "\n",
            "  Average training loss: 0.43\n",
            "  Training epcoh took: 0:00:23\n",
            "\n",
            "Running Validation...\n",
            "  Accuracy: 0.87\n",
            "  Validation Loss: 0.39\n",
            "  Validation took: 0:00:01\n",
            "\n",
            "======== Epoch 2 / 4 ========\n",
            "Training...\n",
            "  Batch    40  of     57.    Elapsed: 0:00:16.\n",
            "\n",
            "  Average training loss: 0.36\n",
            "  Training epcoh took: 0:00:23\n",
            "\n",
            "Running Validation...\n",
            "  Accuracy: 0.87\n",
            "  Validation Loss: 0.42\n",
            "  Validation took: 0:00:01\n",
            "\n",
            "======== Epoch 3 / 4 ========\n",
            "Training...\n",
            "  Batch    40  of     57.    Elapsed: 0:00:16.\n",
            "\n",
            "  Average training loss: 0.29\n",
            "  Training epcoh took: 0:00:23\n",
            "\n",
            "Running Validation...\n",
            "  Accuracy: 0.85\n",
            "  Validation Loss: 0.35\n",
            "  Validation took: 0:00:01\n",
            "\n",
            "======== Epoch 4 / 4 ========\n",
            "Training...\n",
            "  Batch    40  of     57.    Elapsed: 0:00:16.\n",
            "\n",
            "  Average training loss: 0.23\n",
            "  Training epcoh took: 0:00:23\n",
            "\n",
            "Running Validation...\n",
            "  Accuracy: 0.85\n",
            "  Validation Loss: 0.35\n",
            "  Validation took: 0:00:01\n",
            "\n",
            "Training complete!\n",
            "Total training took 0:01:35 (h:mm:ss)\n"
          ],
          "name": "stdout"
        }
      ]
    },
    {
      "cell_type": "markdown",
      "metadata": {
        "id": "BRtcnFb3Nvmq"
      },
      "source": [
        "Summary of Training "
      ]
    },
    {
      "cell_type": "code",
      "metadata": {
        "id": "z8C--_peNoq2",
        "colab": {
          "base_uri": "https://localhost:8080/",
          "height": 204
        },
        "outputId": "f91af75a-c96b-4d7b-f651-0c70213702d3"
      },
      "source": [
        "import pandas as pd\n",
        "\n",
        "pd.set_option('precision', 2)\n",
        "\n",
        "df_stats = pd.DataFrame(data=training_stats)\n",
        "\n",
        "\n",
        "df_stats = df_stats.set_index('epoch')\n",
        "\n",
        "df_stats\n"
      ],
      "execution_count": null,
      "outputs": [
        {
          "output_type": "execute_result",
          "data": {
            "text/html": [
              "<div>\n",
              "<style scoped>\n",
              "    .dataframe tbody tr th:only-of-type {\n",
              "        vertical-align: middle;\n",
              "    }\n",
              "\n",
              "    .dataframe tbody tr th {\n",
              "        vertical-align: top;\n",
              "    }\n",
              "\n",
              "    .dataframe thead th {\n",
              "        text-align: right;\n",
              "    }\n",
              "</style>\n",
              "<table border=\"1\" class=\"dataframe\">\n",
              "  <thead>\n",
              "    <tr style=\"text-align: right;\">\n",
              "      <th></th>\n",
              "      <th>Training Loss</th>\n",
              "      <th>Valid. Loss</th>\n",
              "      <th>Valid. Accur.</th>\n",
              "      <th>Training Time</th>\n",
              "      <th>Validation Time</th>\n",
              "    </tr>\n",
              "    <tr>\n",
              "      <th>epoch</th>\n",
              "      <th></th>\n",
              "      <th></th>\n",
              "      <th></th>\n",
              "      <th></th>\n",
              "      <th></th>\n",
              "    </tr>\n",
              "  </thead>\n",
              "  <tbody>\n",
              "    <tr>\n",
              "      <th>1</th>\n",
              "      <td>0.43</td>\n",
              "      <td>0.39</td>\n",
              "      <td>0.87</td>\n",
              "      <td>0:00:23</td>\n",
              "      <td>0:00:01</td>\n",
              "    </tr>\n",
              "    <tr>\n",
              "      <th>2</th>\n",
              "      <td>0.36</td>\n",
              "      <td>0.42</td>\n",
              "      <td>0.87</td>\n",
              "      <td>0:00:23</td>\n",
              "      <td>0:00:01</td>\n",
              "    </tr>\n",
              "    <tr>\n",
              "      <th>3</th>\n",
              "      <td>0.29</td>\n",
              "      <td>0.35</td>\n",
              "      <td>0.85</td>\n",
              "      <td>0:00:23</td>\n",
              "      <td>0:00:01</td>\n",
              "    </tr>\n",
              "    <tr>\n",
              "      <th>4</th>\n",
              "      <td>0.23</td>\n",
              "      <td>0.35</td>\n",
              "      <td>0.85</td>\n",
              "      <td>0:00:23</td>\n",
              "      <td>0:00:01</td>\n",
              "    </tr>\n",
              "  </tbody>\n",
              "</table>\n",
              "</div>"
            ],
            "text/plain": [
              "       Training Loss  Valid. Loss  Valid. Accur. Training Time Validation Time\n",
              "epoch                                                                         \n",
              "1               0.43         0.39           0.87       0:00:23         0:00:01\n",
              "2               0.36         0.42           0.87       0:00:23         0:00:01\n",
              "3               0.29         0.35           0.85       0:00:23         0:00:01\n",
              "4               0.23         0.35           0.85       0:00:23         0:00:01"
            ]
          },
          "metadata": {
            "tags": []
          },
          "execution_count": 51
        }
      ]
    },
    {
      "cell_type": "markdown",
      "metadata": {
        "id": "DptfooMXOdkp"
      },
      "source": [
        "Notice that, while the the training loss is going down with each epoch, the validation loss is increasing! This suggests that we are training our model too long, and it's over-fitting on the training data."
      ]
    },
    {
      "cell_type": "code",
      "metadata": {
        "id": "W_tWFtSDN1W-",
        "colab": {
          "base_uri": "https://localhost:8080/",
          "height": 427
        },
        "outputId": "f344633b-8e7d-4228-a27a-c718a6951cb8"
      },
      "source": [
        "import matplotlib.pyplot as plt\n",
        "% matplotlib inline\n",
        "\n",
        "import seaborn as sns\n",
        "\n",
        "# Use plot styling from seaborn.\n",
        "sns.set(style='darkgrid')\n",
        "\n",
        "# Increase the plot size and font size.\n",
        "sns.set(font_scale=1.5)\n",
        "plt.rcParams[\"figure.figsize\"] = (12,6)\n",
        "\n",
        "# Plot the learning curve.\n",
        "plt.plot(df_stats['Training Loss'], 'b-o', label=\"Training\")\n",
        "plt.plot(df_stats['Valid. Loss'], 'g-o', label=\"Validation\")\n",
        "\n",
        "# Label the plot.\n",
        "plt.title(\"Training & Validation Loss\")\n",
        "plt.xlabel(\"Epoch\")\n",
        "plt.ylabel(\"Loss\")\n",
        "plt.legend()\n",
        "plt.xticks([1, 2, 3, 4])\n",
        "\n",
        "plt.show()"
      ],
      "execution_count": null,
      "outputs": [
        {
          "output_type": "display_data",
          "data": {
            "image/png": "[encoded data removed]",
            "text/plain": [
              "<Figure size 864x432 with 1 Axes>"
            ]
          },
          "metadata": {
            "tags": []
          }
        }
      ]
    },
    {
      "cell_type": "markdown",
      "metadata": {
        "id": "cWOWWSr05Drd"
      },
      "source": [
        "Evcaluate on test set"
      ]
    },
    {
      "cell_type": "code",
      "metadata": {
        "id": "f0Wq-34j5bL5"
      },
      "source": [
        "\n",
        "# Create sentence and label lists\n",
        "sentences = reviews[3000:4000]\n",
        "labels = score[3000:4000]\n",
        "\n",
        "# Tokenize all of the sentences and map the tokens to thier word IDs.\n",
        "input_ids = []\n",
        "attention_masks = []\n",
        "\n",
        "# For every sentence...\n",
        "for sent in sentences:\n",
        "    encoded_dict = tokenizer.encode_plus(\n",
        "                        sent,                      \n",
        "                        add_special_tokens = True,\n",
        "                        max_length = 64,          \n",
        "                        pad_to_max_length = True,\n",
        "                        return_attention_mask = True,   \n",
        "                        return_tensors = 'pt',     \n",
        "                   )\n",
        "      \n",
        "    input_ids.append(encoded_dict['input_ids'])\n",
        "    attention_masks.append(encoded_dict['attention_mask'])\n",
        "\n",
        "input_ids = torch.cat(input_ids, dim=0)\n",
        "attention_masks = torch.cat(attention_masks, dim=0)\n",
        "labels = torch.tensor(labels)\n",
        "  \n",
        "batch_size = 32  \n",
        "\n",
        "prediction_data = TensorDataset(input_ids, attention_masks, labels)\n",
        "prediction_sampler = SequentialSampler(prediction_data)\n",
        "prediction_dataloader = DataLoader(prediction_data, sampler=prediction_sampler, batch_size=batch_size)"
      ],
      "execution_count": null,
      "outputs": []
    },
    {
      "cell_type": "code",
      "metadata": {
        "id": "d2gmQV4rOhHV",
        "colab": {
          "base_uri": "https://localhost:8080/"
        },
        "outputId": "05925bbc-2953-4a59-d896-894b38bbbc05"
      },
      "source": [
        "# Prediction on test set\n",
        "\n",
        "print('Predicting labels for {:,} test sentences...'.format(len(input_ids)))\n",
        "\n",
        "# Put model in evaluation mode\n",
        "model.eval()\n",
        "\n",
        "# Tracking variables \n",
        "predictions , true_labels = [], []\n",
        "\n",
        "\n",
        "for batch in prediction_dataloader:\n",
        "  batch = tuple(t.to(device) for t in batch) \n",
        "  b_input_ids, b_input_mask, b_labels = batch\n",
        "  \n",
        "  with torch.no_grad():\n",
        "      result = model(b_input_ids, \n",
        "                     token_type_ids=None, \n",
        "                     attention_mask=b_input_mask,\n",
        "                     return_dict=True)\n",
        "\n",
        "  logits = result.logits\n",
        "\n",
        "  logits = logits.detach().cpu().numpy()\n",
        "  label_ids = b_labels.to('cpu').numpy()\n",
        "  \n",
        "  predictions.append(logits)\n",
        "  true_labels.append(label_ids)\n",
        "\n",
        "print('    DONE.')"
      ],
      "execution_count": null,
      "outputs": [
        {
          "output_type": "stream",
          "text": [
            "Predicting labels for 1,000 test sentences...\n",
            "    DONE.\n"
          ],
          "name": "stdout"
        }
      ]
    },
    {
      "cell_type": "code",
      "metadata": {
        "colab": {
          "base_uri": "https://localhost:8080/"
        },
        "id": "TsqN_1SZ5R9m",
        "outputId": "47cf1cf9-b9e5-436d-c8fb-2ff388bb4380"
      },
      "source": [
        "print('Predicting labels for {:,} test sentences...'.format(len(input_ids)))\n",
        "\n",
        "model.eval()\n",
        "predictions , true_labels = [], []\n",
        "\n",
        "for batch in prediction_dataloader:\n",
        "  batch = tuple(t.to(device) for t in batch)\n",
        "  b_input_ids, b_input_mask, b_labels = batch\n",
        "  with torch.no_grad():\n",
        "      result = model(b_input_ids, \n",
        "                     token_type_ids=None, \n",
        "                     attention_mask=b_input_mask,\n",
        "                     return_dict=True)\n",
        "\n",
        "  logits = result.logits\n",
        "\n",
        "  logits = logits.detach().cpu().numpy()\n",
        "  label_ids = b_labels.to('cpu').numpy()\n",
        "  \n",
        "  predictions.append(logits)\n",
        "  true_labels.append(label_ids)\n",
        "\n",
        "print('    DONE.')"
      ],
      "execution_count": null,
      "outputs": [
        {
          "output_type": "stream",
          "text": [
            "Predicting labels for 1,000 test sentences...\n",
            "    DONE.\n"
          ],
          "name": "stdout"
        }
      ]
    },
    {
      "cell_type": "code",
      "metadata": {
        "colab": {
          "base_uri": "https://localhost:8080/"
        },
        "id": "-8f10S0z6BED",
        "outputId": "f950ac23-69fd-45f3-f657-d166f948698e"
      },
      "source": [
        "from sklearn.metrics import matthews_corrcoef\n",
        "\n",
        "matthews_set = []\n",
        "print('Calculating Matthews Corr. Coef. for each batch...')\n",
        "\n",
        "for i in range(len(true_labels)):\n",
        "  pred_labels_i = np.argmax(predictions[i], axis=1).flatten()  \n",
        "  matthews = matthews_corrcoef(true_labels[i], pred_labels_i)                \n",
        "  matthews_set.append(matthews)"
      ],
      "execution_count": null,
      "outputs": [
        {
          "output_type": "stream",
          "text": [
            "Calculating Matthews Corr. Coef. for each batch...\n"
          ],
          "name": "stdout"
        }
      ]
    },
    {
      "cell_type": "code",
      "metadata": {
        "colab": {
          "base_uri": "https://localhost:8080/",
          "height": 427
        },
        "id": "-r1gq7yc6JCA",
        "outputId": "9329763f-66f2-4415-e327-263f238da308"
      },
      "source": [
        "# Create a barplot showing the MCC score for each batch of test samples.\n",
        "ax = sns.barplot(x=list(range(len(matthews_set))), y=matthews_set, ci=None)\n",
        "\n",
        "plt.title('MCC Score per Batch')\n",
        "plt.ylabel('MCC Score (-1 to +1)')\n",
        "plt.xlabel('Batch #')\n",
        "\n",
        "plt.show()"
      ],
      "execution_count": null,
      "outputs": [
        {
          "output_type": "display_data",
          "data": {
            "image/png": "[encoded data removed]",
            "text/plain": [
              "<Figure size 864x432 with 1 Axes>"
            ]
          },
          "metadata": {
            "tags": []
          }
        }
      ]
    },
    {
      "cell_type": "code",
      "metadata": {
        "colab": {
          "base_uri": "https://localhost:8080/"
        },
        "id": "8AMaKBqa6L96",
        "outputId": "dbe2b548-1e8a-4e41-fd1e-6b68a0c83a55"
      },
      "source": [
        "# Combine the results across all batches. \n",
        "flat_predictions = np.concatenate(predictions, axis=0)\n",
        "\n",
        "# For each sample, pick the label (0 or 1) with the higher score.\n",
        "flat_predictions = np.argmax(flat_predictions, axis=1).flatten()\n",
        "\n",
        "# Combine the correct labels for each batch into a single list.\n",
        "flat_true_labels = np.concatenate(true_labels, axis=0)\n",
        "\n",
        "# Calculate the MCC\n",
        "mcc = matthews_corrcoef(flat_true_labels, flat_predictions)\n",
        "\n",
        "print('Total MCC: %.3f' % mcc)"
      ],
      "execution_count": null,
      "outputs": [
        {
          "output_type": "stream",
          "text": [
            "Total MCC: 0.273\n"
          ],
          "name": "stdout"
        }
      ]
    },
    {
      "cell_type": "markdown",
      "metadata": {
        "id": "YJQtaLrzc0m-"
      },
      "source": [
        "#Also, compare with Traditional ML Models developed in assignment 1 (train from scratch, ML models in assignment 1 with word2vec and glove embeddings and compare.)"
      ]
    },
    {
      "cell_type": "markdown",
      "metadata": {
        "id": "HnPP2ZFwdKAz"
      },
      "source": [
        "# Generating Embeddings"
      ]
    },
    {
      "cell_type": "markdown",
      "metadata": {
        "id": "n_VDuOcNdm_I"
      },
      "source": [
        "### Fine Tuned Word2Vec Embedding"
      ]
    },
    {
      "cell_type": "code",
      "metadata": {
        "colab": {
          "base_uri": "https://localhost:8080/"
        },
        "id": "_53jJ3aKdsYd",
        "outputId": "be6f9f1d-d807-454b-93fa-215ef846c3dd"
      },
      "source": [
        "data = []\n",
        "for i in tqdm(reviews):\n",
        "  data.append(i.split(' '))\n",
        "  "
      ],
      "execution_count": null,
      "outputs": [
        {
          "output_type": "stream",
          "text": [
            "100%|██████████| 37126/37126 [00:00<00:00, 179738.73it/s]\n"
          ],
          "name": "stderr"
        }
      ]
    },
    {
      "cell_type": "code",
      "metadata": {
        "id": "2OSRPXkRdsYx"
      },
      "source": [
        "#trains w2v model on data set\n",
        "w2v_model=Word2Vec(data,min_count=1,size=50, workers=4)"
      ],
      "execution_count": null,
      "outputs": []
    },
    {
      "cell_type": "code",
      "metadata": {
        "colab": {
          "base_uri": "https://localhost:8080/"
        },
        "id": "Zp9XY2BsdsYx",
        "outputId": "7fbfdf5b-e301-4867-d40b-3e4dca1d103f"
      },
      "source": [
        "w2v_words = list(w2v_model.wv.vocab)\n",
        "print(\"number of words that occured minimum 1 times \",len(w2v_words))\n",
        "print(\"sample words \", w2v_words[0:20])"
      ],
      "execution_count": null,
      "outputs": [
        {
          "output_type": "stream",
          "text": [
            "number of words that occured minimum 1 times  47561\n",
            "sample words  ['big', 'expectation', 'love', 'english', 'tv', 'particular', 'investigative', 'detective', 'stuff', 'guy', 'really', 'boring', 'not', 'appeal', 'highly', 'recommend', 'series', 'must', 'anyone', 'yearning']\n"
          ],
          "name": "stdout"
        }
      ]
    },
    {
      "cell_type": "code",
      "metadata": {
        "colab": {
          "base_uri": "https://localhost:8080/"
        },
        "id": "sFKXRLzgdN_6",
        "outputId": "0f8d0a6c-ec28-41a2-fda8-31a7c0359cee"
      },
      "source": [
        "# compute average word2vec for each review.\n",
        "w2vec_vectors = []; \n",
        "\n",
        "for sent in tqdm(data): \n",
        "    sent_vec = np.zeros(50) \n",
        "    cnt_words =0; \n",
        "    for word in sent: \n",
        "        if word in w2v_words:\n",
        "            vec = w2v_model.wv[word]\n",
        "            sent_vec += vec\n",
        "            cnt_words += 1\n",
        "    if cnt_words != 0:\n",
        "        sent_vec /= cnt_words\n",
        "    w2vec_vectors.append(sent_vec)"
      ],
      "execution_count": null,
      "outputs": [
        {
          "output_type": "stream",
          "text": [
            "100%|██████████| 37126/37126 [03:10<00:00, 195.18it/s]\n"
          ],
          "name": "stderr"
        }
      ]
    },
    {
      "cell_type": "code",
      "metadata": {
        "id": "jJhrPC6fdOGR"
      },
      "source": [
        "W2vec_train , W2vec_test , score_train, score_test = train_test_split(w2vec_vectors, score,test_size=0.2)"
      ],
      "execution_count": null,
      "outputs": []
    },
    {
      "cell_type": "markdown",
      "metadata": {
        "id": "axVtma66k-6q"
      },
      "source": [
        "### Fine Tuned Glove Embedding"
      ]
    },
    {
      "cell_type": "code",
      "metadata": {
        "id": "et1IaWfHI0zk"
      },
      "source": [
        "# Reading glove embedding file and creating embedding dictionary\n",
        "# Using 50 dimension embedding vector\n",
        "initial_embeddings = dict()\n",
        "f = open('./glove.6B.50d.txt')\n",
        "for line in f:\n",
        "    values = line.split()\n",
        "    word = values[0]\n",
        "    coefs = np.asarray(values[1:], dtype='float32')\n",
        "    initial_embeddings[word] = coefs\n",
        "f.close()"
      ],
      "execution_count": null,
      "outputs": []
    },
    {
      "cell_type": "code",
      "metadata": {
        "id": "SAPeSMI3I0zl"
      },
      "source": [
        "#Finding words not in vocabolary\n",
        "oov = []\n",
        "for i in data:\n",
        "  for j in i :\n",
        "    if ((j not in initial_embeddings.keys()) and (j not in oov)):\n",
        "      oov.append(j)\n",
        "corp_vocab = list(set(oov))\n",
        "\n",
        "cv = CountVectorizer(ngram_range=(1,1), vocabulary=corp_vocab)\n",
        "X = cv.fit_transform(reviews)\n",
        "Xc = (X.T * X)\n",
        "Xc.setdiag(0)\n",
        "coocc_ar = Xc.toarray()"
      ],
      "execution_count": null,
      "outputs": []
    },
    {
      "cell_type": "code",
      "metadata": {
        "colab": {
          "base_uri": "https://localhost:8080/"
        },
        "id": "pOvkTpbcI0zl",
        "outputId": "fca87d68-10ee-49df-b876-c39f443e2328"
      },
      "source": [
        "mittens_model = Mittens(n=50, max_iter=500)\n",
        "new_embeddings = mittens_model.fit(\n",
        "    coocc_ar,\n",
        "    vocab=corp_vocab,\n",
        "    initial_embedding_dict= initial_embeddings)"
      ],
      "execution_count": null,
      "outputs": [
        {
          "output_type": "stream",
          "text": [
            "WARNING:tensorflow:From /usr/local/lib/python3.7/dist-packages/tensorflow/python/training/adagrad.py:77: calling Constant.__init__ (from tensorflow.python.ops.init_ops) with dtype is deprecated and will be removed in a future version.\n",
            "Instructions for updating:\n",
            "Call initializer instance with the dtype argument instead of passing it to the constructor\n"
          ],
          "name": "stdout"
        },
        {
          "output_type": "stream",
          "text": [
            "Iteration 500: loss: 0.08615723252296448"
          ],
          "name": "stderr"
        }
      ]
    },
    {
      "cell_type": "code",
      "metadata": {
        "colab": {
          "base_uri": "https://localhost:8080/"
        },
        "id": "sOKA2UTbI0zm",
        "outputId": "ed478681-0851-413e-ca76-75c561127134"
      },
      "source": [
        "embeddings_index = initial_embeddings\n",
        "for i in tqdm(range(len(oov))):\n",
        "  embeddings_index[oov[i]] = new_embeddings[i]"
      ],
      "execution_count": null,
      "outputs": [
        {
          "output_type": "stream",
          "text": [
            "100%|██████████| 9942/9942 [00:00<00:00, 706811.71it/s]\n"
          ],
          "name": "stderr"
        }
      ]
    },
    {
      "cell_type": "code",
      "metadata": {
        "colab": {
          "base_uri": "https://localhost:8080/"
        },
        "id": "nQBsRkXslAKe",
        "outputId": "a1ff75c7-763b-49a4-a505-0af6f4be1cb2"
      },
      "source": [
        "# compute average Glove for each review.\n",
        "glove_vectors = []; \n",
        "for sent in tqdm(data): \n",
        "    sent_vec = np.zeros(50) \n",
        "    cnt_words =0; \n",
        "    for word in sent: \n",
        "        if word in embeddings_index.keys():\n",
        "            vec = embeddings_index[word]\n",
        "            sent_vec += vec\n",
        "            cnt_words += 1\n",
        "    if cnt_words != 0:\n",
        "        sent_vec /= cnt_words\n",
        "    glove_vectors.append(sent_vec)"
      ],
      "execution_count": null,
      "outputs": [
        {
          "output_type": "stream",
          "text": [
            "100%|██████████| 37126/37126 [00:03<00:00, 10104.92it/s]\n"
          ],
          "name": "stderr"
        }
      ]
    },
    {
      "cell_type": "code",
      "metadata": {
        "id": "RjEX0LmqlAQ7"
      },
      "source": [
        "glove_train , glove_test , score_train, score_test = train_test_split(glove_vectors, score,test_size=0.2)"
      ],
      "execution_count": null,
      "outputs": []
    },
    {
      "cell_type": "markdown",
      "metadata": {
        "id": "J3aUZnicdOrU"
      },
      "source": [
        "# Naive Bayes with Word2Vec and Glove Embedding"
      ]
    },
    {
      "cell_type": "markdown",
      "metadata": {
        "id": "BoJ9GQ91Trhh"
      },
      "source": [
        "### Word2Vec"
      ]
    },
    {
      "cell_type": "code",
      "metadata": {
        "colab": {
          "base_uri": "https://localhost:8080/"
        },
        "id": "MuJ8GmjYTrh2",
        "outputId": "0cdbe1f0-dd81-480d-fc9b-951d018028ac"
      },
      "source": [
        "#training  the model\n",
        "\n",
        "NB_w2vec = BernoulliNB()\n",
        "\n",
        "NB_word2vec = NB_w2vec.fit(W2vec_train,score_train)\n",
        "print(NB_word2vec)"
      ],
      "execution_count": null,
      "outputs": [
        {
          "output_type": "stream",
          "text": [
            "BernoulliNB(alpha=1.0, binarize=0.0, class_prior=None, fit_prior=True)\n"
          ],
          "name": "stdout"
        }
      ]
    },
    {
      "cell_type": "code",
      "metadata": {
        "id": "m1t_PQnUTrh3"
      },
      "source": [
        "#Prediction\n",
        "NB_word2vec_predict=NB_word2vec.predict(W2vec_test)"
      ],
      "execution_count": null,
      "outputs": []
    },
    {
      "cell_type": "code",
      "metadata": {
        "colab": {
          "base_uri": "https://localhost:8080/"
        },
        "id": "0yZVREXRTrh3",
        "outputId": "0b278b9e-b25c-4097-ceee-3dfd930f66d4"
      },
      "source": [
        "# Accuracy\n",
        "\n",
        "NB_word2vec_acc = accuracy_score(score_test,NB_word2vec_predict)\n",
        "print(\"Accuracy Using Naive Base Classifier and Word2vec :\",round(NB_word2vec_acc *100,2),'%')"
      ],
      "execution_count": null,
      "outputs": [
        {
          "output_type": "stream",
          "text": [
            "Accuracy Using Naive Base Classifier and Word2vec : 76.8 %\n"
          ],
          "name": "stdout"
        }
      ]
    },
    {
      "cell_type": "code",
      "metadata": {
        "colab": {
          "base_uri": "https://localhost:8080/"
        },
        "id": "MAVDXlDrTrh4",
        "outputId": "17ece895-e315-4693-a5e2-b9ec57e0add3"
      },
      "source": [
        "#F1 Score\n",
        "NB_word2vec_f1_score = f1_score(score_test,NB_word2vec_predict)\n",
        "print(\"F1 Score Using Naive Base classifier and Word2vec :\",round(NB_word2vec_f1_score,2))"
      ],
      "execution_count": null,
      "outputs": [
        {
          "output_type": "stream",
          "text": [
            "F1 Score Using Naive Base classifier and Word2vec : 0.85\n"
          ],
          "name": "stdout"
        }
      ]
    },
    {
      "cell_type": "code",
      "metadata": {
        "colab": {
          "base_uri": "https://localhost:8080/",
          "height": 282
        },
        "id": "WzZC8vWqTrh4",
        "outputId": "def1d0f0-68d1-4239-8049-999260ace40c"
      },
      "source": [
        "#Confusion Matrix\n",
        "class_names = ['Negative','Positive']\n",
        "plot_confusion_matrix(NB_word2vec, W2vec_test, score_test,display_labels=class_names,cmap=plt.cm.Blues,values_format = '.0f')\n",
        "plt.show()"
      ],
      "execution_count": null,
      "outputs": [
        {
          "output_type": "display_data",
          "data": {
            "image/png": "[encoded data removed]",
            "text/plain": [
              "<Figure size 432x288 with 2 Axes>"
            ]
          },
          "metadata": {
            "tags": [],
            "needs_background": "light"
          }
        }
      ]
    },
    {
      "cell_type": "markdown",
      "metadata": {
        "id": "x_kJYjRbTrh5"
      },
      "source": [
        "### Glove Embedding"
      ]
    },
    {
      "cell_type": "code",
      "metadata": {
        "colab": {
          "base_uri": "https://localhost:8080/"
        },
        "id": "-HMUBcySTrh5",
        "outputId": "83fb9dad-a7b7-4ed9-d70a-2ad659df1717"
      },
      "source": [
        "#training  the model\n",
        "\n",
        "NB_glove = BernoulliNB()\n",
        "NB_glove = NB_glove.fit(glove_train,score_train)\n",
        "print(NB_glove)\n"
      ],
      "execution_count": null,
      "outputs": [
        {
          "output_type": "stream",
          "text": [
            "BernoulliNB(alpha=1.0, binarize=0.0, class_prior=None, fit_prior=True)\n"
          ],
          "name": "stdout"
        }
      ]
    },
    {
      "cell_type": "code",
      "metadata": {
        "id": "a_8Tbs_5Trh5"
      },
      "source": [
        "#Prediction\n",
        "NB_glove_predict=NB_glove.predict(glove_test)"
      ],
      "execution_count": null,
      "outputs": []
    },
    {
      "cell_type": "code",
      "metadata": {
        "colab": {
          "base_uri": "https://localhost:8080/"
        },
        "id": "kA2GVcawTrh6",
        "outputId": "cbbeafbb-894a-4fc8-b5a9-4ecee1b803d3"
      },
      "source": [
        "# Accuracy\n",
        "\n",
        "NB_glove_acc = accuracy_score(score_test,NB_glove_predict)\n",
        "print(\"Accuracy Using Naive Base Classifier and Glove Embedding :\",round(NB_glove_acc *100,2),'%')"
      ],
      "execution_count": null,
      "outputs": [
        {
          "output_type": "stream",
          "text": [
            "Accuracy Using Naive Base Classifier and Glove Embedding : 78.41 %\n"
          ],
          "name": "stdout"
        }
      ]
    },
    {
      "cell_type": "code",
      "metadata": {
        "colab": {
          "base_uri": "https://localhost:8080/"
        },
        "id": "3XzY5wyETrh6",
        "outputId": "9b51cf1a-87f4-4a7a-80be-db93f4a8b9c2"
      },
      "source": [
        "#F1 Score\n",
        "NB_glove_f1_score = f1_score(score_test,NB_glove_predict)\n",
        "print(\"F1 Score Naive Base classifier and Glove Embedding :\",round(NB_glove_f1_score,2))"
      ],
      "execution_count": null,
      "outputs": [
        {
          "output_type": "stream",
          "text": [
            "F1 Score Naive Base classifier and Glove Embedding : 0.87\n"
          ],
          "name": "stdout"
        }
      ]
    },
    {
      "cell_type": "code",
      "metadata": {
        "colab": {
          "base_uri": "https://localhost:8080/",
          "height": 279
        },
        "id": "22scJksvTrh8",
        "outputId": "593e74ff-3c76-4e90-8577-e84fcec63462"
      },
      "source": [
        "#Confusion Matrix\n",
        "class_names = ['Negative','Positive']\n",
        "plot_confusion_matrix(NB_glove, glove_test, score_test,display_labels=class_names,cmap=plt.cm.Blues,values_format = '.0f')\n",
        "plt.show()"
      ],
      "execution_count": null,
      "outputs": [
        {
          "output_type": "display_data",
          "data": {
            "image/png": "[encoded data removed]",
            "text/plain": [
              "<Figure size 432x288 with 2 Axes>"
            ]
          },
          "metadata": {
            "tags": [],
            "needs_background": "light"
          }
        }
      ]
    },
    {
      "cell_type": "markdown",
      "metadata": {
        "id": "zUIc_DfRdRW0"
      },
      "source": [
        "# Decision Tree with Word2Vec and Glove Embedding"
      ]
    },
    {
      "cell_type": "markdown",
      "metadata": {
        "id": "bZYdObU4kHc6"
      },
      "source": [
        "### Word2Vec"
      ]
    },
    {
      "cell_type": "code",
      "metadata": {
        "colab": {
          "base_uri": "https://localhost:8080/"
        },
        "id": "LJxfk_fYdU5i",
        "outputId": "83b096b5-c1d3-4050-dad8-1cd4b3ed12c8"
      },
      "source": [
        "#training  the model\n",
        "Dtree_word2vec = DecisionTreeClassifier(random_state=0)\n",
        "\n",
        "Dtree_word2vec = Dtree_word2vec.fit(W2vec_train,score_train)\n",
        "print(Dtree_word2vec)"
      ],
      "execution_count": null,
      "outputs": [
        {
          "output_type": "stream",
          "text": [
            "DecisionTreeClassifier(ccp_alpha=0.0, class_weight=None, criterion='gini',\n",
            "                       max_depth=None, max_features=None, max_leaf_nodes=None,\n",
            "                       min_impurity_decrease=0.0, min_impurity_split=None,\n",
            "                       min_samples_leaf=1, min_samples_split=2,\n",
            "                       min_weight_fraction_leaf=0.0, presort='deprecated',\n",
            "                       random_state=0, splitter='best')\n"
          ],
          "name": "stdout"
        }
      ]
    },
    {
      "cell_type": "code",
      "metadata": {
        "id": "y6h7oJpldVga"
      },
      "source": [
        "#Prediction\n",
        "Dtree_word2vec_predict=Dtree_word2vec.predict(W2vec_test)"
      ],
      "execution_count": null,
      "outputs": []
    },
    {
      "cell_type": "code",
      "metadata": {
        "colab": {
          "base_uri": "https://localhost:8080/"
        },
        "id": "KHD-qJDidVlP",
        "outputId": "f0994875-4c8a-4ccb-a843-9642c4bc23f3"
      },
      "source": [
        "# Accuracy\n",
        "\n",
        "Dtree_word2vec_acc = accuracy_score(score_test,Dtree_word2vec_predict)\n",
        "print(\"Accuracy Using Decision Tree Classifier and Word2vec :\",round(Dtree_word2vec_acc *100,2),'%')"
      ],
      "execution_count": null,
      "outputs": [
        {
          "output_type": "stream",
          "text": [
            "Accuracy Using Decision Tree Classifier and Word2vec : 64.95 %\n"
          ],
          "name": "stdout"
        }
      ]
    },
    {
      "cell_type": "code",
      "metadata": {
        "colab": {
          "base_uri": "https://localhost:8080/"
        },
        "id": "ZtcaL7adjv7H",
        "outputId": "f0dc3186-628f-49b0-99b3-c403858c480e"
      },
      "source": [
        "#F1 Score\n",
        "Dtree_word2vec_f1_score = f1_score(score_test,Dtree_word2vec_predict)\n",
        "print(\"F1 Score Using Decision Tree classifier and Word2vec :\",round(Dtree_word2vec_f1_score,2))"
      ],
      "execution_count": null,
      "outputs": [
        {
          "output_type": "stream",
          "text": [
            "F1 Score Using Decision Tree classifier and Word2vec : 0.77\n"
          ],
          "name": "stdout"
        }
      ]
    },
    {
      "cell_type": "code",
      "metadata": {
        "colab": {
          "base_uri": "https://localhost:8080/",
          "height": 279
        },
        "id": "GxxlBRVVjzVM",
        "outputId": "47744507-c184-4cc4-add9-fc5d6aae3a1f"
      },
      "source": [
        "#Confusion Matrix\n",
        "class_names = ['Negative','Positive']\n",
        "plot_confusion_matrix(Dtree_word2vec, W2vec_test, score_test,display_labels=class_names,cmap=plt.cm.Blues,values_format = '.0f')\n",
        "plt.show()"
      ],
      "execution_count": null,
      "outputs": [
        {
          "output_type": "display_data",
          "data": {
            "image/png": "[encoded data removed]",
            "text/plain": [
              "<Figure size 432x288 with 2 Axes>"
            ]
          },
          "metadata": {
            "tags": [],
            "needs_background": "light"
          }
        }
      ]
    },
    {
      "cell_type": "markdown",
      "metadata": {
        "id": "V-XlccPrJTR_"
      },
      "source": [
        "### Glove Embedding"
      ]
    },
    {
      "cell_type": "code",
      "metadata": {
        "colab": {
          "base_uri": "https://localhost:8080/"
        },
        "id": "Q7J1veOmJX2t",
        "outputId": "d0a5b1c2-818a-4e3c-af91-5d4f3b7220ee"
      },
      "source": [
        "#training  the model\n",
        "Dtree_glove = DecisionTreeClassifier(random_state=0)\n",
        "\n",
        "Dtree_glove = Dtree_glove.fit(glove_train,score_train)\n",
        "print(Dtree_glove)"
      ],
      "execution_count": null,
      "outputs": [
        {
          "output_type": "stream",
          "text": [
            "DecisionTreeClassifier(ccp_alpha=0.0, class_weight=None, criterion='gini',\n",
            "                       max_depth=None, max_features=None, max_leaf_nodes=None,\n",
            "                       min_impurity_decrease=0.0, min_impurity_split=None,\n",
            "                       min_samples_leaf=1, min_samples_split=2,\n",
            "                       min_weight_fraction_leaf=0.0, presort='deprecated',\n",
            "                       random_state=0, splitter='best')\n"
          ],
          "name": "stdout"
        }
      ]
    },
    {
      "cell_type": "code",
      "metadata": {
        "id": "6271KaYAJX3D"
      },
      "source": [
        "#Prediction\n",
        "Dtree_glove_predict=Dtree_glove.predict(glove_test)"
      ],
      "execution_count": null,
      "outputs": []
    },
    {
      "cell_type": "code",
      "metadata": {
        "colab": {
          "base_uri": "https://localhost:8080/"
        },
        "id": "uUFEvJMzJX3D",
        "outputId": "e096b1eb-8067-4f2c-f57a-6e65aa228d55"
      },
      "source": [
        "# Accuracy\n",
        "\n",
        "Dtree_glove_acc = accuracy_score(score_test,Dtree_glove_predict)\n",
        "print(\"Accuracy Using Decision Tree Classifier and Glove Embedding :\",round(Dtree_glove_acc *100,2),'%')"
      ],
      "execution_count": null,
      "outputs": [
        {
          "output_type": "stream",
          "text": [
            "Accuracy Using Decision Tree Classifier and Glove Embedding : 72.25 %\n"
          ],
          "name": "stdout"
        }
      ]
    },
    {
      "cell_type": "code",
      "metadata": {
        "colab": {
          "base_uri": "https://localhost:8080/"
        },
        "id": "CbxJfRu-JX3E",
        "outputId": "3f75dad8-a9b0-47a8-b91d-3c3fee6531ba"
      },
      "source": [
        "#F1 Score\n",
        "Dtree_glove_f1_score = f1_score(score_test,Dtree_glove_predict)\n",
        "print(\"F1 Score Using Decision Tree classifier and Glove Embedding :\",round(Dtree_glove_f1_score,2))"
      ],
      "execution_count": null,
      "outputs": [
        {
          "output_type": "stream",
          "text": [
            "F1 Score Using Decision Tree classifier and Glove Embedding : 0.82\n"
          ],
          "name": "stdout"
        }
      ]
    },
    {
      "cell_type": "code",
      "metadata": {
        "colab": {
          "base_uri": "https://localhost:8080/",
          "height": 279
        },
        "id": "6fthRIMqJX3E",
        "outputId": "59475cc9-018c-49f8-9fac-3c32d58273d2"
      },
      "source": [
        "#Confusion Matrix\n",
        "class_names = ['Negative','Positive']\n",
        "plot_confusion_matrix(Dtree_glove, glove_test, score_test,display_labels=class_names,cmap=plt.cm.Blues,values_format = '.0f')\n",
        "plt.show()"
      ],
      "execution_count": null,
      "outputs": [
        {
          "output_type": "display_data",
          "data": {
            "image/png": "[encoded data removed]",
            "text/plain": [
              "<Figure size 432x288 with 2 Axes>"
            ]
          },
          "metadata": {
            "tags": [],
            "needs_background": "light"
          }
        }
      ]
    },
    {
      "cell_type": "markdown",
      "metadata": {
        "id": "lTMkwLXwdVz8"
      },
      "source": [
        "# Logistic Regression with Word2Vec and Glove Embedding"
      ]
    },
    {
      "cell_type": "markdown",
      "metadata": {
        "id": "mEQ92ZKDRaio"
      },
      "source": [
        "### Word2Vec"
      ]
    },
    {
      "cell_type": "code",
      "metadata": {
        "colab": {
          "base_uri": "https://localhost:8080/"
        },
        "id": "ZBUo6NL2Raiu",
        "outputId": "e0edc0b9-02c4-45ca-d66d-a12280377598"
      },
      "source": [
        "#training  the model\n",
        "\n",
        "lr_w2vec = LogisticRegression(penalty='l2',max_iter=500,C=1,random_state=42)\n",
        "\n",
        "lr_w2vec.fit(W2vec_train,score_train)\n",
        "print(lr_w2vec)"
      ],
      "execution_count": null,
      "outputs": [
        {
          "output_type": "stream",
          "text": [
            "LogisticRegression(C=1, class_weight=None, dual=False, fit_intercept=True,\n",
            "                   intercept_scaling=1, l1_ratio=None, max_iter=500,\n",
            "                   multi_class='auto', n_jobs=None, penalty='l2',\n",
            "                   random_state=42, solver='lbfgs', tol=0.0001, verbose=0,\n",
            "                   warm_start=False)\n"
          ],
          "name": "stdout"
        }
      ]
    },
    {
      "cell_type": "code",
      "metadata": {
        "id": "civ8ChXBRaiw"
      },
      "source": [
        "#Prediction\n",
        "lr_w2vec_predict=lr_w2vec.predict(W2vec_test)"
      ],
      "execution_count": null,
      "outputs": []
    },
    {
      "cell_type": "code",
      "metadata": {
        "colab": {
          "base_uri": "https://localhost:8080/"
        },
        "id": "4yjMLQ6IRaix",
        "outputId": "a397465a-0e8b-4045-9f63-bcf9a778dcb1"
      },
      "source": [
        "# Accuracy\n",
        "\n",
        "lr_w2vec_acc = accuracy_score(score_test,lr_w2vec_predict)\n",
        "print(\"Accuracy Using Linear Regression Classifier and Word2vec :\",round(lr_w2vec_acc *100,2),'%')"
      ],
      "execution_count": null,
      "outputs": [
        {
          "output_type": "stream",
          "text": [
            "Accuracy Using Linear Regression Classifier and Word2vec : 83.63 %\n"
          ],
          "name": "stdout"
        }
      ]
    },
    {
      "cell_type": "code",
      "metadata": {
        "colab": {
          "base_uri": "https://localhost:8080/"
        },
        "id": "C3ASnQdlRaiy",
        "outputId": "55522710-e042-42dd-f8ac-229df36619c2"
      },
      "source": [
        "#F1 Score\n",
        "lr_word2vec_f1_score = f1_score(score_test,lr_w2vec_predict)\n",
        "print(\"F1 Score Using Linear Regression Classifier and Word2vec  :\",round(lr_word2vec_f1_score,2))"
      ],
      "execution_count": null,
      "outputs": [
        {
          "output_type": "stream",
          "text": [
            "F1 Score Using Linear Regression Classifier and Word2vec  : 0.9\n"
          ],
          "name": "stdout"
        }
      ]
    },
    {
      "cell_type": "code",
      "metadata": {
        "colab": {
          "base_uri": "https://localhost:8080/",
          "height": 279
        },
        "id": "QaWxDp0qRaiy",
        "outputId": "8ed8159e-c422-4f18-cc0c-bba0624c0f41"
      },
      "source": [
        "#Confusion Matrix\n",
        "class_names = ['Negative','Positive']\n",
        "plot_confusion_matrix(lr_w2vec, W2vec_test, score_test,display_labels=class_names,cmap=plt.cm.Blues,values_format = '.0f')\n",
        "plt.show()"
      ],
      "execution_count": null,
      "outputs": [
        {
          "output_type": "display_data",
          "data": {
            "image/png": "[encoded data removed]",
            "text/plain": [
              "<Figure size 432x288 with 2 Axes>"
            ]
          },
          "metadata": {
            "tags": [],
            "needs_background": "light"
          }
        }
      ]
    },
    {
      "cell_type": "markdown",
      "metadata": {
        "id": "FBzil8ClTAz4"
      },
      "source": [
        "### Glove Embedding"
      ]
    },
    {
      "cell_type": "code",
      "metadata": {
        "colab": {
          "base_uri": "https://localhost:8080/"
        },
        "id": "tHcC3WuGTAz6",
        "outputId": "4b372a71-da1f-4043-8c77-79bc39e97cec"
      },
      "source": [
        "#training  the model\n",
        "\n",
        "lr_glove = LogisticRegression(penalty='l2',max_iter=500,C=1,random_state=42)\n",
        "\n",
        "lr_glove.fit(glove_train,score_train)\n",
        "print(lr_glove)"
      ],
      "execution_count": null,
      "outputs": [
        {
          "output_type": "stream",
          "text": [
            "LogisticRegression(C=1, class_weight=None, dual=False, fit_intercept=True,\n",
            "                   intercept_scaling=1, l1_ratio=None, max_iter=500,\n",
            "                   multi_class='auto', n_jobs=None, penalty='l2',\n",
            "                   random_state=42, solver='lbfgs', tol=0.0001, verbose=0,\n",
            "                   warm_start=False)\n"
          ],
          "name": "stdout"
        }
      ]
    },
    {
      "cell_type": "code",
      "metadata": {
        "id": "_suVAStUTAz-"
      },
      "source": [
        "#Prediction\n",
        "lr_glove_predict=lr_glove.predict(glove_test)"
      ],
      "execution_count": null,
      "outputs": []
    },
    {
      "cell_type": "code",
      "metadata": {
        "colab": {
          "base_uri": "https://localhost:8080/"
        },
        "id": "FnGMfJA5TAz_",
        "outputId": "c0225991-51e0-4fd4-e889-6e686b3eff22"
      },
      "source": [
        "# Accuracy\n",
        "\n",
        "lr_glove_acc = accuracy_score(score_test,lr_glove_predict)\n",
        "print(\"Accuracy Using Linear Regression Classifier and Glove Embedding :\",round(lr_glove_acc *100,2),'%')"
      ],
      "execution_count": null,
      "outputs": [
        {
          "output_type": "stream",
          "text": [
            "Accuracy Using Linear Regression Classifier and Glove Embedding : 80.61 %\n"
          ],
          "name": "stdout"
        }
      ]
    },
    {
      "cell_type": "code",
      "metadata": {
        "colab": {
          "base_uri": "https://localhost:8080/"
        },
        "id": "E7-KMUL-TA0B",
        "outputId": "c6b51727-6ce6-44f9-d5b8-b9c9686d610d"
      },
      "source": [
        "#F1 Score\n",
        "lr_glove_f1_score = f1_score(score_test,lr_glove_predict)\n",
        "print(\"F1 Score Using Linear Regression Classifier and Glove Embedding  :\",round(lr_glove_f1_score,2))"
      ],
      "execution_count": null,
      "outputs": [
        {
          "output_type": "stream",
          "text": [
            "F1 Score Using Linear Regression Classifier and Glove Embedding  : 0.89\n"
          ],
          "name": "stdout"
        }
      ]
    },
    {
      "cell_type": "code",
      "metadata": {
        "colab": {
          "base_uri": "https://localhost:8080/",
          "height": 279
        },
        "id": "bV4l-TFUTA0D",
        "outputId": "dbf39eda-5f65-422d-e6b0-f3cccac7d5e2"
      },
      "source": [
        "#Confusion Matrix\n",
        "class_names = ['Negative','Positive']\n",
        "plot_confusion_matrix(lr_glove, glove_test, score_test,display_labels=class_names,cmap=plt.cm.Blues,values_format = '.0f')\n",
        "plt.show()"
      ],
      "execution_count": null,
      "outputs": [
        {
          "output_type": "display_data",
          "data": {
            "image/png": "[encoded data removed]",
            "text/plain": [
              "<Figure size 432x288 with 2 Axes>"
            ]
          },
          "metadata": {
            "tags": [],
            "needs_background": "light"
          }
        }
      ]
    }
  ]
}