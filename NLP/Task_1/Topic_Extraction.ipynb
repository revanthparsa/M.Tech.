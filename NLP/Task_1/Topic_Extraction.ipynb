{
  "nbformat": 4,
  "nbformat_minor": 0,
  "metadata": {
    "colab": {
      "name": "NLP_Assignment1_Part3.ipynb",
      "provenance": [],
      "collapsed_sections": [
        "cES0cn1YVQvV",
        "Fcac-l7TZ0Er",
        "menv1WEwLKsB",
        "2-UXE7GoaGPp",
        "sFxGlJFhLxVa",
        "zIcjhSn1QBKO",
        "0-ZtLeqIPaJv",
        "p-E7o1r0qvpU",
        "BJehRFDkbMoo",
        "a_TvI4kYvfFB",
        "PEilxYxdvrCe",
        "A7Rf-zClvzmX",
        "VRILRdsjwBP-",
        "OZtq7RVFwKyW",
        "ZFvhQC-ywVzI",
        "zRhfJG3twd2M",
        "2y8MdaTJwoiB",
        "u07ErrL7eY-x"
      ]
    },
    "kernelspec": {
      "name": "python3",
      "display_name": "Python 3"
    },
    "language_info": {
      "name": "python"
    }
  },
  "cells": [
    {
      "cell_type": "markdown",
      "metadata": {
        "id": "cES0cn1YVQvV"
      },
      "source": [
        "# Module - 3 (Topic analysis and topic (attribute) wise sentiment analysis)"
      ]
    },
    {
      "cell_type": "markdown",
      "metadata": {
        "id": "Fcac-l7TZ0Er"
      },
      "source": [
        "## Download Data"
      ]
    },
    {
      "cell_type": "code",
      "metadata": {
        "colab": {
          "base_uri": "https://localhost:8080/"
        },
        "id": "u9mLJ89JgdZx",
        "outputId": "85a8439a-3206-4c95-9b02-f110d915d741"
      },
      "source": [
        "!wget http://snap.stanford.edu/data/amazon/productGraph/categoryFiles/reviews_Amazon_Instant_Video_5.json.gz"
      ],
      "execution_count": 1,
      "outputs": [
        {
          "output_type": "stream",
          "text": [
            "--2021-04-04 11:44:40--  http://snap.stanford.edu/data/amazon/productGraph/categoryFiles/reviews_Amazon_Instant_Video_5.json.gz\n",
            "Resolving snap.stanford.edu (snap.stanford.edu)... 171.64.75.80\n",
            "Connecting to snap.stanford.edu (snap.stanford.edu)|171.64.75.80|:80... connected.\n",
            "HTTP request sent, awaiting response... 200 OK\n",
            "Length: 9517526 (9.1M) [application/x-gzip]\n",
            "Saving to: ‘reviews_Amazon_Instant_Video_5.json.gz.2’\n",
            "\n",
            "reviews_Amazon_Inst 100%[===================>]   9.08M  2.13MB/s    in 7.9s    \n",
            "\n",
            "2021-04-04 11:44:48 (1.15 MB/s) - ‘reviews_Amazon_Instant_Video_5.json.gz.2’ saved [9517526/9517526]\n",
            "\n"
          ],
          "name": "stdout"
        }
      ]
    },
    {
      "cell_type": "code",
      "metadata": {
        "colab": {
          "base_uri": "https://localhost:8080/"
        },
        "id": "2UuKYKm7rvvb",
        "outputId": "2968817b-9e22-425f-d980-5fd99e9588b6"
      },
      "source": [
        "#https://drive.google.com/file/d/1Y7fUWhnyjgwYy-lEhm6c155G_x8OQnQy/view?usp=sharing\n",
        "!gdown https://drive.google.com/uc?id=1Y7fUWhnyjgwYy-lEhm6c155G_x8OQnQy\n",
        "!unzip Models.zip"
      ],
      "execution_count": 2,
      "outputs": [
        {
          "output_type": "stream",
          "text": [
            "Downloading...\n",
            "From: https://drive.google.com/uc?id=1Y7fUWhnyjgwYy-lEhm6c155G_x8OQnQy\n",
            "To: /content/Models.zip\n",
            "9.25MB [00:00, 19.9MB/s]\n",
            "Archive:  Models.zip\n",
            "   creating: Models/\n",
            "  inflating: Models/tfidfmodel.joblib  \n",
            "  inflating: Models/model.expElogbeta.npy  \n",
            "  inflating: Models/lrmodel.joblib   \n",
            "  inflating: Models/model.id2word    \n",
            "  inflating: Models/model            \n",
            "  inflating: Models/model.state      \n"
          ],
          "name": "stdout"
        }
      ]
    },
    {
      "cell_type": "markdown",
      "metadata": {
        "id": "menv1WEwLKsB"
      },
      "source": [
        "## Importing required libraries"
      ]
    },
    {
      "cell_type": "code",
      "metadata": {
        "id": "Rc2KouwKI9wG",
        "colab": {
          "base_uri": "https://localhost:8080/"
        },
        "outputId": "0fd0397c-d57c-487e-d169-97e8e557495c"
      },
      "source": [
        "import re\n",
        "import os\n",
        "import json\n",
        "import gzip\n",
        "import numpy as np\n",
        "import pandas as pd\n",
        "from tqdm import tqdm\n",
        "import matplotlib.pyplot as plt\n",
        "\n",
        "import nltk\n",
        "from nltk.corpus import stopwords \n",
        "from nltk.tokenize import word_tokenize\n",
        "from nltk.stem import WordNetLemmatizer \n",
        "\n",
        "import gensim\n",
        "from gensim.utils import simple_preprocess\n",
        "\n",
        "from joblib import dump, load\n",
        "\n",
        "%matplotlib inline\n",
        "import warnings\n",
        "warnings.filterwarnings(\"ignore\")\n",
        "\n",
        "!pip install ipython-autotime\n",
        "%load_ext autotime\n",
        "\n",
        "nltk.download('punkt')\n",
        "nltk.download('wordnet')\n",
        "nltk.download('stopwords')\n",
        "#Snltk.download('averaged_perceptron_tagger')"
      ],
      "execution_count": 3,
      "outputs": [
        {
          "output_type": "stream",
          "text": [
            "Requirement already satisfied: ipython-autotime in /usr/local/lib/python3.7/dist-packages (0.3.1)\n",
            "Requirement already satisfied: ipython in /usr/local/lib/python3.7/dist-packages (from ipython-autotime) (5.5.0)\n",
            "Requirement already satisfied: setuptools>=18.5 in /usr/local/lib/python3.7/dist-packages (from ipython->ipython-autotime) (54.2.0)\n",
            "Requirement already satisfied: pickleshare in /usr/local/lib/python3.7/dist-packages (from ipython->ipython-autotime) (0.7.5)\n",
            "Requirement already satisfied: decorator in /usr/local/lib/python3.7/dist-packages (from ipython->ipython-autotime) (4.4.2)\n",
            "Requirement already satisfied: simplegeneric>0.8 in /usr/local/lib/python3.7/dist-packages (from ipython->ipython-autotime) (0.8.1)\n",
            "Requirement already satisfied: prompt-toolkit<2.0.0,>=1.0.4 in /usr/local/lib/python3.7/dist-packages (from ipython->ipython-autotime) (1.0.18)\n",
            "Requirement already satisfied: pexpect; sys_platform != \"win32\" in /usr/local/lib/python3.7/dist-packages (from ipython->ipython-autotime) (4.8.0)\n",
            "Requirement already satisfied: pygments in /usr/local/lib/python3.7/dist-packages (from ipython->ipython-autotime) (2.6.1)\n",
            "Requirement already satisfied: traitlets>=4.2 in /usr/local/lib/python3.7/dist-packages (from ipython->ipython-autotime) (5.0.5)\n",
            "Requirement already satisfied: six>=1.9.0 in /usr/local/lib/python3.7/dist-packages (from prompt-toolkit<2.0.0,>=1.0.4->ipython->ipython-autotime) (1.15.0)\n",
            "Requirement already satisfied: wcwidth in /usr/local/lib/python3.7/dist-packages (from prompt-toolkit<2.0.0,>=1.0.4->ipython->ipython-autotime) (0.2.5)\n",
            "Requirement already satisfied: ptyprocess>=0.5 in /usr/local/lib/python3.7/dist-packages (from pexpect; sys_platform != \"win32\"->ipython->ipython-autotime) (0.7.0)\n",
            "Requirement already satisfied: ipython-genutils in /usr/local/lib/python3.7/dist-packages (from traitlets>=4.2->ipython->ipython-autotime) (0.2.0)\n",
            "[nltk_data] Downloading package punkt to /root/nltk_data...\n",
            "[nltk_data]   Package punkt is already up-to-date!\n",
            "[nltk_data] Downloading package wordnet to /root/nltk_data...\n",
            "[nltk_data]   Package wordnet is already up-to-date!\n",
            "[nltk_data] Downloading package stopwords to /root/nltk_data...\n",
            "[nltk_data]   Package stopwords is already up-to-date!\n"
          ],
          "name": "stdout"
        },
        {
          "output_type": "execute_result",
          "data": {
            "text/plain": [
              "True"
            ]
          },
          "metadata": {
            "tags": []
          },
          "execution_count": 3
        },
        {
          "output_type": "stream",
          "text": [
            "time: 98 ms (started: 2021-04-04 11:44:56 +00:00)\n"
          ],
          "name": "stdout"
        }
      ]
    },
    {
      "cell_type": "markdown",
      "metadata": {
        "id": "2-UXE7GoaGPp"
      },
      "source": [
        "## Loading Data"
      ]
    },
    {
      "cell_type": "code",
      "metadata": {
        "colab": {
          "base_uri": "https://localhost:8080/",
          "height": 0
        },
        "id": "ZACgjmhDR-tH",
        "outputId": "a07ed7a1-8917-4fc2-aa1c-50269dd950e8"
      },
      "source": [
        "# load data\n",
        "data = []\n",
        "with gzip.open('reviews_Amazon_Instant_Video_5.json.gz') as file:\n",
        "    for line in file:\n",
        "        data.append(json.loads(line.strip()))\n",
        "\n",
        "# convert list into pandas dataframe\n",
        "df = pd.DataFrame.from_dict(data)\n",
        "\n",
        "print('Total number of reviews are: ',len(data))\n",
        "\n",
        "# Viewing first 5 reviews\n",
        "df.head(5)"
      ],
      "execution_count": 4,
      "outputs": [
        {
          "output_type": "stream",
          "text": [
            "Total number of reviews are:  37126\n"
          ],
          "name": "stdout"
        },
        {
          "output_type": "execute_result",
          "data": {
            "text/html": [
              "<div>\n",
              "<style scoped>\n",
              "    .dataframe tbody tr th:only-of-type {\n",
              "        vertical-align: middle;\n",
              "    }\n",
              "\n",
              "    .dataframe tbody tr th {\n",
              "        vertical-align: top;\n",
              "    }\n",
              "\n",
              "    .dataframe thead th {\n",
              "        text-align: right;\n",
              "    }\n",
              "</style>\n",
              "<table border=\"1\" class=\"dataframe\">\n",
              "  <thead>\n",
              "    <tr style=\"text-align: right;\">\n",
              "      <th></th>\n",
              "      <th>reviewerID</th>\n",
              "      <th>asin</th>\n",
              "      <th>reviewerName</th>\n",
              "      <th>helpful</th>\n",
              "      <th>reviewText</th>\n",
              "      <th>overall</th>\n",
              "      <th>summary</th>\n",
              "      <th>unixReviewTime</th>\n",
              "      <th>reviewTime</th>\n",
              "    </tr>\n",
              "  </thead>\n",
              "  <tbody>\n",
              "    <tr>\n",
              "      <th>0</th>\n",
              "      <td>A11N155CW1UV02</td>\n",
              "      <td>B000H00VBQ</td>\n",
              "      <td>AdrianaM</td>\n",
              "      <td>[0, 0]</td>\n",
              "      <td>I had big expectations because I love English ...</td>\n",
              "      <td>2.0</td>\n",
              "      <td>A little bit boring for me</td>\n",
              "      <td>1399075200</td>\n",
              "      <td>05 3, 2014</td>\n",
              "    </tr>\n",
              "    <tr>\n",
              "      <th>1</th>\n",
              "      <td>A3BC8O2KCL29V2</td>\n",
              "      <td>B000H00VBQ</td>\n",
              "      <td>Carol T</td>\n",
              "      <td>[0, 0]</td>\n",
              "      <td>I highly recommend this series. It is a must f...</td>\n",
              "      <td>5.0</td>\n",
              "      <td>Excellent Grown Up TV</td>\n",
              "      <td>1346630400</td>\n",
              "      <td>09 3, 2012</td>\n",
              "    </tr>\n",
              "    <tr>\n",
              "      <th>2</th>\n",
              "      <td>A60D5HQFOTSOM</td>\n",
              "      <td>B000H00VBQ</td>\n",
              "      <td>Daniel Cooper \"dancoopermedia\"</td>\n",
              "      <td>[0, 1]</td>\n",
              "      <td>This one is a real snoozer. Don't believe anyt...</td>\n",
              "      <td>1.0</td>\n",
              "      <td>Way too boring for me</td>\n",
              "      <td>1381881600</td>\n",
              "      <td>10 16, 2013</td>\n",
              "    </tr>\n",
              "    <tr>\n",
              "      <th>3</th>\n",
              "      <td>A1RJPIGRSNX4PW</td>\n",
              "      <td>B000H00VBQ</td>\n",
              "      <td>J. Kaplan \"JJ\"</td>\n",
              "      <td>[0, 0]</td>\n",
              "      <td>Mysteries are interesting.  The tension betwee...</td>\n",
              "      <td>4.0</td>\n",
              "      <td>Robson Green is mesmerizing</td>\n",
              "      <td>1383091200</td>\n",
              "      <td>10 30, 2013</td>\n",
              "    </tr>\n",
              "    <tr>\n",
              "      <th>4</th>\n",
              "      <td>A16XRPF40679KG</td>\n",
              "      <td>B000H00VBQ</td>\n",
              "      <td>Michael Dobey</td>\n",
              "      <td>[1, 1]</td>\n",
              "      <td>This show always is excellent, as far as briti...</td>\n",
              "      <td>5.0</td>\n",
              "      <td>Robson green and great writing</td>\n",
              "      <td>1234310400</td>\n",
              "      <td>02 11, 2009</td>\n",
              "    </tr>\n",
              "  </tbody>\n",
              "</table>\n",
              "</div>"
            ],
            "text/plain": [
              "       reviewerID        asin  ... unixReviewTime   reviewTime\n",
              "0  A11N155CW1UV02  B000H00VBQ  ...     1399075200   05 3, 2014\n",
              "1  A3BC8O2KCL29V2  B000H00VBQ  ...     1346630400   09 3, 2012\n",
              "2   A60D5HQFOTSOM  B000H00VBQ  ...     1381881600  10 16, 2013\n",
              "3  A1RJPIGRSNX4PW  B000H00VBQ  ...     1383091200  10 30, 2013\n",
              "4  A16XRPF40679KG  B000H00VBQ  ...     1234310400  02 11, 2009\n",
              "\n",
              "[5 rows x 9 columns]"
            ]
          },
          "metadata": {
            "tags": []
          },
          "execution_count": 4
        },
        {
          "output_type": "stream",
          "text": [
            "time: 1.11 s (started: 2021-04-04 11:44:56 +00:00)\n"
          ],
          "name": "stdout"
        }
      ]
    },
    {
      "cell_type": "markdown",
      "metadata": {
        "id": "x5X47qASjCKo"
      },
      "source": [
        "**Attribute Information:**\n",
        "\n",
        "1. reviewerID - ID of the reviewer, e.g. A2SUAM1J3GNN3B\n",
        "\n",
        "2. asin - ID of the product, e.g. 0000013714\n",
        "\n",
        "3. reviewerName - name of the reviewer\n",
        "\n",
        "4. helpful - helpful votes of the review\n",
        "\n",
        "5. reviewText - text of the review\n",
        "\n",
        "6. overall - rating of the product\n",
        "\n",
        "7. summary - summary of the review\n",
        "\n",
        "8. unixReviewTime - time of the review (unix time)\n",
        "\n",
        "9. reviewTime - time of the review (raw)\n"
      ]
    },
    {
      "cell_type": "code",
      "metadata": {
        "colab": {
          "base_uri": "https://localhost:8080/"
        },
        "id": "w3hAGW63h4vt",
        "outputId": "4d70fab6-c786-49ae-ec0a-764cfa03912b"
      },
      "source": [
        "df.columns #verifying for columns"
      ],
      "execution_count": 5,
      "outputs": [
        {
          "output_type": "execute_result",
          "data": {
            "text/plain": [
              "Index(['reviewerID', 'asin', 'reviewerName', 'helpful', 'reviewText',\n",
              "       'overall', 'summary', 'unixReviewTime', 'reviewTime'],\n",
              "      dtype='object')"
            ]
          },
          "metadata": {
            "tags": []
          },
          "execution_count": 5
        },
        {
          "output_type": "stream",
          "text": [
            "time: 5.52 ms (started: 2021-04-04 11:44:57 +00:00)\n"
          ],
          "name": "stdout"
        }
      ]
    },
    {
      "cell_type": "markdown",
      "metadata": {
        "id": "sFxGlJFhLxVa"
      },
      "source": [
        "## Modifying the overall to our requirements"
      ]
    },
    {
      "cell_type": "code",
      "metadata": {
        "id": "M2K-8eNMdCMm",
        "colab": {
          "base_uri": "https://localhost:8080/"
        },
        "outputId": "af370fd2-3a0f-4cde-c3a8-9adcac92b0ff"
      },
      "source": [
        "def modify_overall(overall):\n",
        "  ''' \n",
        "  Function to modify overall:\n",
        "    overall greater than 3 is changed to 1(positive sentiment) \n",
        "    overall less than or equal to 3 is changed to 0(negative sentiment)\n",
        "  Input: overall\n",
        "  Output: Modified overall\n",
        "  '''\n",
        "  if overall <= 3:\n",
        "      return 0\n",
        "  return 1"
      ],
      "execution_count": 6,
      "outputs": [
        {
          "output_type": "stream",
          "text": [
            "time: 3.02 ms (started: 2021-04-04 11:44:57 +00:00)\n"
          ],
          "name": "stdout"
        }
      ]
    },
    {
      "cell_type": "code",
      "metadata": {
        "colab": {
          "base_uri": "https://localhost:8080/",
          "height": 0
        },
        "id": "1PHOJnEmVTI9",
        "outputId": "a2b00c20-fd02-4b66-c56c-bfcc300eadbb"
      },
      "source": [
        "actualScore = df['overall']\n",
        "new_score = actualScore.map(modify_overall) \n",
        "df['overall'] = new_score\n",
        "print(\"Number of data points in our data\", df.shape)\n",
        "df.head()"
      ],
      "execution_count": 7,
      "outputs": [
        {
          "output_type": "stream",
          "text": [
            "Number of data points in our data (37126, 9)\n"
          ],
          "name": "stdout"
        },
        {
          "output_type": "execute_result",
          "data": {
            "text/html": [
              "<div>\n",
              "<style scoped>\n",
              "    .dataframe tbody tr th:only-of-type {\n",
              "        vertical-align: middle;\n",
              "    }\n",
              "\n",
              "    .dataframe tbody tr th {\n",
              "        vertical-align: top;\n",
              "    }\n",
              "\n",
              "    .dataframe thead th {\n",
              "        text-align: right;\n",
              "    }\n",
              "</style>\n",
              "<table border=\"1\" class=\"dataframe\">\n",
              "  <thead>\n",
              "    <tr style=\"text-align: right;\">\n",
              "      <th></th>\n",
              "      <th>reviewerID</th>\n",
              "      <th>asin</th>\n",
              "      <th>reviewerName</th>\n",
              "      <th>helpful</th>\n",
              "      <th>reviewText</th>\n",
              "      <th>overall</th>\n",
              "      <th>summary</th>\n",
              "      <th>unixReviewTime</th>\n",
              "      <th>reviewTime</th>\n",
              "    </tr>\n",
              "  </thead>\n",
              "  <tbody>\n",
              "    <tr>\n",
              "      <th>0</th>\n",
              "      <td>A11N155CW1UV02</td>\n",
              "      <td>B000H00VBQ</td>\n",
              "      <td>AdrianaM</td>\n",
              "      <td>[0, 0]</td>\n",
              "      <td>I had big expectations because I love English ...</td>\n",
              "      <td>0</td>\n",
              "      <td>A little bit boring for me</td>\n",
              "      <td>1399075200</td>\n",
              "      <td>05 3, 2014</td>\n",
              "    </tr>\n",
              "    <tr>\n",
              "      <th>1</th>\n",
              "      <td>A3BC8O2KCL29V2</td>\n",
              "      <td>B000H00VBQ</td>\n",
              "      <td>Carol T</td>\n",
              "      <td>[0, 0]</td>\n",
              "      <td>I highly recommend this series. It is a must f...</td>\n",
              "      <td>1</td>\n",
              "      <td>Excellent Grown Up TV</td>\n",
              "      <td>1346630400</td>\n",
              "      <td>09 3, 2012</td>\n",
              "    </tr>\n",
              "    <tr>\n",
              "      <th>2</th>\n",
              "      <td>A60D5HQFOTSOM</td>\n",
              "      <td>B000H00VBQ</td>\n",
              "      <td>Daniel Cooper \"dancoopermedia\"</td>\n",
              "      <td>[0, 1]</td>\n",
              "      <td>This one is a real snoozer. Don't believe anyt...</td>\n",
              "      <td>0</td>\n",
              "      <td>Way too boring for me</td>\n",
              "      <td>1381881600</td>\n",
              "      <td>10 16, 2013</td>\n",
              "    </tr>\n",
              "    <tr>\n",
              "      <th>3</th>\n",
              "      <td>A1RJPIGRSNX4PW</td>\n",
              "      <td>B000H00VBQ</td>\n",
              "      <td>J. Kaplan \"JJ\"</td>\n",
              "      <td>[0, 0]</td>\n",
              "      <td>Mysteries are interesting.  The tension betwee...</td>\n",
              "      <td>1</td>\n",
              "      <td>Robson Green is mesmerizing</td>\n",
              "      <td>1383091200</td>\n",
              "      <td>10 30, 2013</td>\n",
              "    </tr>\n",
              "    <tr>\n",
              "      <th>4</th>\n",
              "      <td>A16XRPF40679KG</td>\n",
              "      <td>B000H00VBQ</td>\n",
              "      <td>Michael Dobey</td>\n",
              "      <td>[1, 1]</td>\n",
              "      <td>This show always is excellent, as far as briti...</td>\n",
              "      <td>1</td>\n",
              "      <td>Robson green and great writing</td>\n",
              "      <td>1234310400</td>\n",
              "      <td>02 11, 2009</td>\n",
              "    </tr>\n",
              "  </tbody>\n",
              "</table>\n",
              "</div>"
            ],
            "text/plain": [
              "       reviewerID        asin  ... unixReviewTime   reviewTime\n",
              "0  A11N155CW1UV02  B000H00VBQ  ...     1399075200   05 3, 2014\n",
              "1  A3BC8O2KCL29V2  B000H00VBQ  ...     1346630400   09 3, 2012\n",
              "2   A60D5HQFOTSOM  B000H00VBQ  ...     1381881600  10 16, 2013\n",
              "3  A1RJPIGRSNX4PW  B000H00VBQ  ...     1383091200  10 30, 2013\n",
              "4  A16XRPF40679KG  B000H00VBQ  ...     1234310400  02 11, 2009\n",
              "\n",
              "[5 rows x 9 columns]"
            ]
          },
          "metadata": {
            "tags": []
          },
          "execution_count": 7
        },
        {
          "output_type": "stream",
          "text": [
            "time: 73.4 ms (started: 2021-04-04 11:44:57 +00:00)\n"
          ],
          "name": "stdout"
        }
      ]
    },
    {
      "cell_type": "markdown",
      "metadata": {
        "id": "zIcjhSn1QBKO"
      },
      "source": [
        "## Cleaning Data"
      ]
    },
    {
      "cell_type": "code",
      "metadata": {
        "id": "sfe_J2roDT4M",
        "colab": {
          "base_uri": "https://localhost:8080/"
        },
        "outputId": "406ef5b8-e247-4697-ac71-29298b429581"
      },
      "source": [
        "''' Remove the duplicates which have same reviewerID, asin, unixReviewTime, and reviewText '''\n",
        "new = df.drop_duplicates(subset={\"reviewerID\",\"asin\",\"unixReviewTime\",\"reviewText\"}, keep='first', inplace=False)\n",
        "new.shape"
      ],
      "execution_count": 8,
      "outputs": [
        {
          "output_type": "execute_result",
          "data": {
            "text/plain": [
              "(37126, 9)"
            ]
          },
          "metadata": {
            "tags": []
          },
          "execution_count": 8
        },
        {
          "output_type": "stream",
          "text": [
            "time: 125 ms (started: 2021-04-04 11:44:57 +00:00)\n"
          ],
          "name": "stdout"
        }
      ]
    },
    {
      "cell_type": "code",
      "metadata": {
        "id": "qAOsFslV8yIT",
        "colab": {
          "base_uri": "https://localhost:8080/"
        },
        "outputId": "922b03df-b50d-44a1-c569-d8ed96f4289a"
      },
      "source": [
        "''' Why we add extra stopwords to extract the topics'''\n",
        "stopwords= set(['br', 'the', 'i', 'me', 'my', 'myself', 'we', 'our', 'ours', 'ourselves', 'you', \"you're\", \"you've\",\\\n",
        "            \"you'll\", \"you'd\", 'your', 'yours', 'yourself', 'yourselves', 'he', 'him', 'his', 'himself', \\\n",
        "            'she', \"she's\", 'her', 'hers', 'herself', 'it', \"it's\", 'its', 'itself', 'they', 'them', 'their',\\\n",
        "            'theirs', 'themselves', 'what', 'which', 'who', 'whom', 'this', 'that', \"that'll\", 'these', 'those', \\\n",
        "            'am', 'is', 'are', 'was', 'were', 'be', 'been', 'being', 'have', 'has', 'had', 'having', 'do', 'does', \\\n",
        "            'did', 'doing', 'a', 'an', 'the', 'and', 'but', 'if', 'or', 'because', 'as', 'until', 'while', 'of', \\\n",
        "            'at', 'by', 'for', 'with', 'about', 'against', 'between', 'into', 'through', 'during', 'before', 'after',\\\n",
        "            'above', 'below', 'to', 'from', 'up', 'down', 'in', 'out', 'on', 'off', 'over', 'under', 'again', 'further',\\\n",
        "            'then', 'once', 'here', 'there', 'when', 'where', 'why', 'how', 'all', 'any', 'both', 'each', 'few', 'more',\\\n",
        "            'most', 'other', 'some', 'such', 'only', 'own', 'same', 'so', 'than', 'too', 'very', \\\n",
        "            's', 't', 'can', 'will', 'just', 'should', \"should've\",'different','especially','common','anything','unfunny', 'now', 'd', 'll', 'm', 'o', 're', \\\n",
        "            've', 'y', 'ma','amazon','also','keep',\"go\",\"bad\",\"better\",\"back\",\"excellent\",\"year\",\"cast\" ,\"two\",\"know\",\"new\", \"take\",\"still\" ,\"come\",\"best\" ,\"every\",\"ever\" ,\"many\",\n",
        "            \"pilot\" ,\"line\" ,\"next\" ,\"wait\"  ,\"watched\" ,\"going\"])"
      ],
      "execution_count": 9,
      "outputs": [
        {
          "output_type": "stream",
          "text": [
            "time: 14 ms (started: 2021-04-04 11:44:57 +00:00)\n"
          ],
          "name": "stdout"
        }
      ]
    },
    {
      "cell_type": "code",
      "metadata": {
        "colab": {
          "base_uri": "https://localhost:8080/"
        },
        "id": "q6Y9WtUljfSi",
        "outputId": "3f607c38-1c5d-4173-fee0-37ccfde9ba33"
      },
      "source": [
        "stopwords1= set(['br', 'the', 'i', 'me', 'my', 'myself', 'we', 'our', 'ours', 'ourselves', 'you', \"you're\", \"you've\",\\\n",
        "            \"you'll\", \"you'd\", 'your', 'yours', 'yourself', 'yourselves', 'he', 'him', 'his', 'himself', \\\n",
        "            'she', \"she's\", 'her', 'hers', 'herself', 'it', \"it's\", 'its', 'itself', 'they', 'them', 'their',\\\n",
        "            'theirs', 'themselves', 'what', 'which', 'who', 'whom', 'this', 'that', \"that'll\", 'these', 'those', \\\n",
        "            'am', 'is', 'are', 'was', 'were', 'be', 'been', 'being', 'have', 'has', 'had', 'having', 'do', 'does', \\\n",
        "            'did', 'doing', 'a', 'an', 'the', 'and', 'but', 'if', 'or', 'because', 'as', 'until', 'while', 'of', \\\n",
        "            'at', 'by', 'for', 'with', 'about', 'against', 'between', 'into', 'through', 'during', 'before', 'after',\\\n",
        "            'above', 'below', 'to', 'from', 'up', 'down', 'in', 'out', 'on', 'off', 'over', 'under', 'again', 'further',\\\n",
        "            'then', 'once', 'here', 'there', 'when', 'where', 'why', 'how', 'all', 'any', 'both', 'each', 'few', 'more',\\\n",
        "            'most', 'other', 'some', 'such', 'only', 'own', 'same', 'so', 'than', 'too', 'very', \\\n",
        "            's', 't', 'can', 'will', 'just', 'should', \"should've\", 'now', 'd', 'll', 'm', 'o', 're', \\\n",
        "            've', 'y', 'ma'])"
      ],
      "execution_count": 10,
      "outputs": [
        {
          "output_type": "stream",
          "text": [
            "time: 8.46 ms (started: 2021-04-04 11:44:57 +00:00)\n"
          ],
          "name": "stdout"
        }
      ]
    },
    {
      "cell_type": "markdown",
      "metadata": {
        "id": "4L16IuUWS4x9"
      },
      "source": [
        "### Required functions"
      ]
    },
    {
      "cell_type": "code",
      "metadata": {
        "id": "Epjfb3e7oNkD",
        "colab": {
          "base_uri": "https://localhost:8080/"
        },
        "outputId": "93682dd8-a8a7-4bf1-cdef-7a5eba0a5ffa"
      },
      "source": [
        "def decontracted(phrase):\n",
        "    ''' \n",
        "      Function used to decontact the words in the phrase\n",
        "      Input: phrase\n",
        "      Output: decontracted phrase\n",
        "    '''\n",
        "    phrase = re.sub(r\"won't\", \"will not\", phrase)\n",
        "    phrase = re.sub(r\"can\\'t\", \"can not\", phrase)\n",
        "    phrase = re.sub(r\"n\\'t\", \" not\", phrase)\n",
        "    phrase = re.sub(r\"\\'re\", \" are\", phrase)\n",
        "    phrase = re.sub(r\"\\'s\", \" is\", phrase)\n",
        "    phrase = re.sub(r\"\\'d\", \" would\", phrase)\n",
        "    phrase = re.sub(r\"\\'ll\", \" will\", phrase)\n",
        "    phrase = re.sub(r\"\\'t\", \" not\", phrase)\n",
        "    phrase = re.sub(r\"\\'ve\", \" have\", phrase)\n",
        "    phrase = re.sub(r\"\\'m\", \" am\", phrase)\n",
        "    return phrase"
      ],
      "execution_count": 11,
      "outputs": [
        {
          "output_type": "stream",
          "text": [
            "time: 9.4 ms (started: 2021-04-04 11:44:57 +00:00)\n"
          ],
          "name": "stdout"
        }
      ]
    },
    {
      "cell_type": "code",
      "metadata": {
        "id": "3VVnSh7_IDHg",
        "colab": {
          "base_uri": "https://localhost:8080/"
        },
        "outputId": "21506570-5af6-428b-8ee0-d30087d1e2ab"
      },
      "source": [
        "def pipeline(review): \n",
        "  '''\n",
        "     Input: list of review\n",
        "     Output: processed reviews \n",
        "  '''\n",
        "  processed_reviews = []\n",
        "  for sentence in tqdm(review):\n",
        "    sentence = sentence.lower() #converting all letters in the sentence to lowercase\n",
        "    sentence = decontracted(sentence) #decontact the sentence in the review\n",
        "    sentence = re.sub('[^A-Za-z]+', ' ', sentence) #retaining only alphabets in the sentence \n",
        "\n",
        "    #Word tokenization\n",
        "    word_tokens = word_tokenize(sentence) \n",
        "\n",
        "    #Stop word removal\n",
        "    filtered_sentence = [w for w in word_tokens if  w not in stopwords]\n",
        "    \n",
        "    #Lemmatization\n",
        "    wnl = WordNetLemmatizer()\n",
        "    filtered_sentence = [wnl.lemmatize(w) for w in filtered_sentence ]\n",
        "    processed_reviews.append(filtered_sentence)\n",
        "    \n",
        "  return processed_reviews\n"
      ],
      "execution_count": 12,
      "outputs": [
        {
          "output_type": "stream",
          "text": [
            "time: 12.2 ms (started: 2021-04-04 11:44:57 +00:00)\n"
          ],
          "name": "stdout"
        }
      ]
    },
    {
      "cell_type": "code",
      "metadata": {
        "colab": {
          "base_uri": "https://localhost:8080/"
        },
        "id": "Bg4Fjk9pe0Xc",
        "outputId": "06abf1f6-6420-4459-c21e-ce8032883bad"
      },
      "source": [
        "def pipeline_classification(review): \n",
        "  '''\n",
        "     Input: list of review\n",
        "     Output: processed reviews \n",
        "  '''\n",
        "  processed_reviews = []\n",
        "  for sentence in tqdm(review):\n",
        "    sentence = sentence.lower() #converting all letters in the sentence to lowercase\n",
        "    sentence = decontracted(sentence) #decontact the sentence in the review\n",
        "    sentence = re.sub('[^A-Za-z]+', ' ', sentence) #retaining only alphabets in the sentence \n",
        "\n",
        "    #Word tokenization\n",
        "    word_tokens = word_tokenize(sentence) \n",
        "\n",
        "    #Stop word removal\n",
        "    filtered_sentence = [w for w in word_tokens if  w not in stopwords1]\n",
        "    \n",
        "    #Lemmatization\n",
        "    wnl = WordNetLemmatizer()\n",
        "    filtered_sentence = [wnl.lemmatize(w) for w in filtered_sentence ]\n",
        "\n",
        "    final = ' '.join(filtered_sentence)\n",
        "    processed_reviews.append(final)\n",
        "  return processed_reviews\n"
      ],
      "execution_count": 13,
      "outputs": [
        {
          "output_type": "stream",
          "text": [
            "time: 12.7 ms (started: 2021-04-04 11:44:57 +00:00)\n"
          ],
          "name": "stdout"
        }
      ]
    },
    {
      "cell_type": "markdown",
      "metadata": {
        "id": "0-ZtLeqIPaJv"
      },
      "source": [
        "## Creating required variables"
      ]
    },
    {
      "cell_type": "code",
      "metadata": {
        "id": "xilFcRj5Cwn3",
        "colab": {
          "base_uri": "https://localhost:8080/"
        },
        "outputId": "9b184f23-4af6-4321-e0e7-6d48c3fd84ba"
      },
      "source": [
        "reviews = df['reviewText'].values\n",
        "score = df['overall'].values"
      ],
      "execution_count": 14,
      "outputs": [
        {
          "output_type": "stream",
          "text": [
            "time: 2.06 ms (started: 2021-04-04 11:44:57 +00:00)\n"
          ],
          "name": "stdout"
        }
      ]
    },
    {
      "cell_type": "code",
      "metadata": {
        "colab": {
          "base_uri": "https://localhost:8080/"
        },
        "id": "zRepwJVanyie",
        "outputId": "e49f1a9e-c3ea-4bda-a3df-3b05fe4124c2"
      },
      "source": [
        "#Saving Orignal Reviews\n",
        "unprocessed_review = reviews\n",
        "\n",
        "#filtering review\n",
        "reviews = pipeline(reviews)"
      ],
      "execution_count": 15,
      "outputs": [
        {
          "output_type": "stream",
          "text": [
            "100%|██████████| 37126/37126 [00:31<00:00, 1183.99it/s]"
          ],
          "name": "stderr"
        },
        {
          "output_type": "stream",
          "text": [
            "time: 31.4 s (started: 2021-04-04 11:44:57 +00:00)\n"
          ],
          "name": "stdout"
        },
        {
          "output_type": "stream",
          "text": [
            "\n"
          ],
          "name": "stderr"
        }
      ]
    },
    {
      "cell_type": "markdown",
      "metadata": {
        "id": "p-E7o1r0qvpU"
      },
      "source": [
        "# 1. Extract the topics from the reviews using any topic extraction technique of your choice."
      ]
    },
    {
      "cell_type": "code",
      "metadata": {
        "id": "wq44qHWFroUy",
        "colab": {
          "base_uri": "https://localhost:8080/"
        },
        "outputId": "60230809-4185-42b8-a698-653cf3910061"
      },
      "source": [
        "dictionary = gensim.corpora.Dictionary(reviews)"
      ],
      "execution_count": 16,
      "outputs": [
        {
          "output_type": "stream",
          "text": [
            "time: 2.5 s (started: 2021-04-04 11:45:31 +00:00)\n"
          ],
          "name": "stdout"
        }
      ]
    },
    {
      "cell_type": "code",
      "metadata": {
        "colab": {
          "base_uri": "https://localhost:8080/"
        },
        "id": "__7tH1QNuuVk",
        "outputId": "70216834-9581-4626-a7ba-5843efd84dfb"
      },
      "source": [
        "# Printing first10 values of dictionary\n",
        "count = 0\n",
        "for i in dictionary:\n",
        "    print(i, dictionary[i])\n",
        "    count += 1\n",
        "    if count > 10:\n",
        "        break"
      ],
      "execution_count": 17,
      "outputs": [
        {
          "output_type": "stream",
          "text": [
            "0 appeal\n",
            "1 big\n",
            "2 boring\n",
            "3 detective\n",
            "4 english\n",
            "5 expectation\n",
            "6 guy\n",
            "7 investigative\n",
            "8 love\n",
            "9 not\n",
            "10 particular\n",
            "time: 24.5 ms (started: 2021-04-04 11:45:33 +00:00)\n"
          ],
          "name": "stdout"
        }
      ]
    },
    {
      "cell_type": "code",
      "metadata": {
        "id": "5c8vcVTGv0_F",
        "colab": {
          "base_uri": "https://localhost:8080/"
        },
        "outputId": "7c9cee51-bcb9-45da-820f-363c5d109256"
      },
      "source": [
        "#Remove very rare and very common words:\n",
        "#words appearing less than 15 times\n",
        "#words appearing in more than 10% of all documents\n",
        "\n",
        "dictionary.filter_extremes(no_below=15, no_above=0.1, keep_n= 100000)"
      ],
      "execution_count": 18,
      "outputs": [
        {
          "output_type": "stream",
          "text": [
            "time: 135 ms (started: 2021-04-04 11:45:33 +00:00)\n"
          ],
          "name": "stdout"
        }
      ]
    },
    {
      "cell_type": "code",
      "metadata": {
        "id": "F-cIO24yv762",
        "colab": {
          "base_uri": "https://localhost:8080/"
        },
        "outputId": "0f86c190-d154-4172-b748-1d56802d5c6d"
      },
      "source": [
        "'''\n",
        "Create the Bag-of-words model for each review i.e for each review we create a dictionary reporting how many\n",
        "words and how many times those words appear. Save this to 'bow_corpus'\n",
        "'''\n",
        "bow_corpus = [dictionary.doc2bow(doc) for doc in reviews]"
      ],
      "execution_count": 19,
      "outputs": [
        {
          "output_type": "stream",
          "text": [
            "time: 1.85 s (started: 2021-04-04 11:45:34 +00:00)\n"
          ],
          "name": "stdout"
        }
      ]
    },
    {
      "cell_type": "code",
      "metadata": {
        "colab": {
          "base_uri": "https://localhost:8080/"
        },
        "id": "4Jc5YDZUwCM6",
        "outputId": "ad88c18c-5879-41ae-ab99-5a695a602c54"
      },
      "source": [
        "'''\n",
        "Preview BOW for our sample preprocessed document\n",
        "'''\n",
        "review_index = 50\n",
        "bow_review_index = bow_corpus[review_index]\n",
        "\n",
        "for i in range(len(bow_review_index)):\n",
        "    print(\"Word {} (\\\"{}\\\") appears {} time.\".format(bow_review_index[i][0],  dictionary[bow_review_index[i][0]],bow_review_index[i][1]))"
      ],
      "execution_count": 20,
      "outputs": [
        {
          "output_type": "stream",
          "text": [
            "Word 14 (\"highly\") appears 1 time.\n",
            "Word 19 (\"recommend\") appears 1 time.\n",
            "Word 119 (\"bit\") appears 1 time.\n",
            "Word 192 (\"little\") appears 1 time.\n",
            "Word 426 (\"week\") appears 1 time.\n",
            "Word 712 (\"wish\") appears 1 time.\n",
            "Word 782 (\"available\") appears 1 time.\n",
            "Word 783 (\"began\") appears 1 time.\n",
            "Word 784 (\"edge\") appears 1 time.\n",
            "Word 785 (\"happy\") appears 1 time.\n",
            "Word 786 (\"reality\") appears 1 time.\n",
            "Word 787 (\"seat\") appears 1 time.\n",
            "Word 788 (\"stream\") appears 1 time.\n",
            "Word 789 (\"suspend\") appears 1 time.\n",
            "time: 12.7 ms (started: 2021-04-04 11:45:35 +00:00)\n"
          ],
          "name": "stdout"
        }
      ]
    },
    {
      "cell_type": "code",
      "metadata": {
        "id": "dPmirPCRwG9d",
        "colab": {
          "base_uri": "https://localhost:8080/"
        },
        "outputId": "3fe04f27-779d-4dda-90f2-57e730807dda"
      },
      "source": [
        "#Running LDA using Bag of Words\n",
        "lda_model =  gensim.models.LdaMulticore(bow_corpus,num_topics = 8,id2word = dictionary,passes = 10,workers = 8)"
      ],
      "execution_count": null,
      "outputs": [
        {
          "output_type": "stream",
          "text": [
            "time: 4min 5s (started: 2021-04-04 08:14:41 +00:00)\n"
          ],
          "name": "stdout"
        }
      ]
    },
    {
      "cell_type": "code",
      "metadata": {
        "colab": {
          "base_uri": "https://localhost:8080/"
        },
        "id": "08FG23xMio_V",
        "outputId": "ee1b388a-6467-43cf-8853-afabf81d3738"
      },
      "source": [
        "# Saving Model\n",
        "\n",
        "lda_model.save('model1')"
      ],
      "execution_count": 26,
      "outputs": [
        {
          "output_type": "stream",
          "text": [
            "time: 16.9 ms (started: 2021-04-04 10:30:50 +00:00)\n"
          ],
          "name": "stdout"
        }
      ]
    },
    {
      "cell_type": "code",
      "metadata": {
        "colab": {
          "base_uri": "https://localhost:8080/"
        },
        "id": "1cw4ZRSRY6EO",
        "outputId": "896331d7-e50c-4cb4-9086-e8542bdcb3ea"
      },
      "source": [
        "lda_model = gensim.models.LdaMulticore.load('model')"
      ],
      "execution_count": 21,
      "outputs": [
        {
          "output_type": "stream",
          "text": [
            "time: 17.7 ms (started: 2021-04-04 11:45:35 +00:00)\n"
          ],
          "name": "stdout"
        }
      ]
    },
    {
      "cell_type": "code",
      "metadata": {
        "colab": {
          "base_uri": "https://localhost:8080/"
        },
        "id": "fGjwWCBawPIs",
        "outputId": "798383aa-508d-4a37-bd5a-d83afbee67d3"
      },
      "source": [
        "'''\n",
        "For each topic, we will explore the words occuring in that topic and its relative weight\n",
        "'''\n",
        "for idx, topic in lda_model.print_topics(-1):\n",
        "    print(\"Topic: {} \\nWords: {}\".format(idx+1, topic ))\n",
        "    print(\"\\n\")"
      ],
      "execution_count": 22,
      "outputs": [
        {
          "output_type": "stream",
          "text": [
            "Topic: 1 \n",
            "Words: 0.006*\"doctor\" + 0.004*\"science\" + 0.004*\"fan\" + 0.004*\"dvd\" + 0.004*\"tv\" + 0.004*\"end\" + 0.003*\"set\" + 0.003*\"special\" + 0.003*\"u\" + 0.003*\"find\"\n",
            "\n",
            "\n",
            "Topic: 2 \n",
            "Words: 0.008*\"family\" + 0.007*\"crime\" + 0.005*\"murder\" + 0.005*\"life\" + 0.005*\"case\" + 0.004*\"detective\" + 0.004*\"mystery\" + 0.004*\"man\" + 0.004*\"police\" + 0.004*\"plot\"\n",
            "\n",
            "\n",
            "Topic: 3 \n",
            "Words: 0.018*\"film\" + 0.007*\"life\" + 0.004*\"woman\" + 0.004*\"man\" + 0.003*\"find\" + 0.003*\"world\" + 0.003*\"scene\" + 0.003*\"work\" + 0.003*\"never\" + 0.003*\"look\"\n",
            "\n",
            "\n",
            "Topic: 4 \n",
            "Words: 0.016*\"funny\" + 0.010*\"tv\" + 0.010*\"comedy\" + 0.006*\"laugh\" + 0.006*\"fun\" + 0.005*\"actor\" + 0.005*\"humor\" + 0.004*\"hope\" + 0.004*\"writing\" + 0.004*\"family\"\n",
            "\n",
            "\n",
            "Topic: 5 \n",
            "Words: 0.015*\"film\" + 0.009*\"acting\" + 0.008*\"plot\" + 0.006*\"horror\" + 0.006*\"scene\" + 0.006*\"action\" + 0.005*\"end\" + 0.005*\"lot\" + 0.004*\"pretty\" + 0.004*\"little\"\n",
            "\n",
            "\n",
            "Topic: 6 \n",
            "Words: 0.009*\"film\" + 0.004*\"role\" + 0.004*\"scene\" + 0.004*\"actor\" + 0.003*\"play\" + 0.003*\"city\" + 0.003*\"life\" + 0.003*\"real\" + 0.003*\"game\" + 0.003*\"guy\"\n",
            "\n",
            "\n",
            "Topic: 7 \n",
            "Words: 0.008*\"end\" + 0.008*\"want\" + 0.006*\"hope\" + 0.006*\"acting\" + 0.006*\"got\" + 0.006*\"never\" + 0.006*\"forward\" + 0.006*\"enjoyed\" + 0.005*\"something\" + 0.005*\"start\"\n",
            "\n",
            "\n",
            "Topic: 8 \n",
            "Words: 0.010*\"kid\" + 0.008*\"drama\" + 0.007*\"music\" + 0.007*\"life\" + 0.007*\"little\" + 0.006*\"enjoy\" + 0.006*\"actor\" + 0.006*\"child\" + 0.006*\"old\" + 0.006*\"bosch\"\n",
            "\n",
            "\n",
            "time: 12.2 ms (started: 2021-04-04 11:45:36 +00:00)\n"
          ],
          "name": "stdout"
        }
      ]
    },
    {
      "cell_type": "code",
      "metadata": {
        "colab": {
          "base_uri": "https://localhost:8080/"
        },
        "id": "xTL97sPRsq1T",
        "outputId": "e27dafcf-4c2e-485e-fb82-6810041c588a"
      },
      "source": [
        "Topics = [ 'Science related tv  show','Crime or detective film/tv show','Mystery Drama film','Comedy tv show','Horror/Action Film','Drama film',\n",
        "'General topic','Play (theatre) or Musical-Drama film/tv show']"
      ],
      "execution_count": 51,
      "outputs": [
        {
          "output_type": "stream",
          "text": [
            "time: 919 µs (started: 2021-04-04 12:21:44 +00:00)\n"
          ],
          "name": "stdout"
        }
      ]
    },
    {
      "cell_type": "markdown",
      "metadata": {
        "id": "BJehRFDkbMoo"
      },
      "source": [
        "# 2. Report sentences under each topic.\n",
        "# 3. Analyse whether the topics extracted make sense. Justify your claim with some examples."
      ]
    },
    {
      "cell_type": "code",
      "metadata": {
        "colab": {
          "base_uri": "https://localhost:8080/"
        },
        "id": "JY6PVjQUkPMF",
        "outputId": "8b18a410-cff3-4018-f32d-fb63429c233b"
      },
      "source": [
        "topic_list = []\n",
        "for i in tqdm(reviews):\n",
        "  t = lda_model[dictionary.doc2bow(i)]\n",
        "  max_prob = t[0][1]\n",
        "  topic = t[0][0]\n",
        "  for j in t:\n",
        "    if j[1]>max_prob:\n",
        "      topic = j[0]\n",
        "  topic_list.append(topic+1)\n"
      ],
      "execution_count": 24,
      "outputs": [
        {
          "output_type": "stream",
          "text": [
            "100%|██████████| 37126/37126 [00:27<00:00, 1329.34it/s]"
          ],
          "name": "stderr"
        },
        {
          "output_type": "stream",
          "text": [
            "time: 27.9 s (started: 2021-04-04 11:46:24 +00:00)\n"
          ],
          "name": "stdout"
        },
        {
          "output_type": "stream",
          "text": [
            "\n"
          ],
          "name": "stderr"
        }
      ]
    },
    {
      "cell_type": "code",
      "metadata": {
        "colab": {
          "base_uri": "https://localhost:8080/"
        },
        "id": "laxcuWIKo7b1",
        "outputId": "9c33479c-bfa9-4599-e856-ba9c430496cc"
      },
      "source": [
        "#Count of total reviews under each topic\n",
        "\n",
        "from collections import Counter\n",
        "count = Counter(topic_list)\n",
        "print(count)"
      ],
      "execution_count": 25,
      "outputs": [
        {
          "output_type": "stream",
          "text": [
            "Counter({8: 13526, 7: 8153, 1: 3519, 5: 3182, 4: 2932, 2: 2251, 3: 1891, 6: 1672})\n",
            "time: 5.82 ms (started: 2021-04-04 11:46:52 +00:00)\n"
          ],
          "name": "stdout"
        }
      ]
    },
    {
      "cell_type": "markdown",
      "metadata": {
        "id": "a_TvI4kYvfFB"
      },
      "source": [
        "## Sentences Under Topic 1"
      ]
    },
    {
      "cell_type": "code",
      "metadata": {
        "colab": {
          "base_uri": "https://localhost:8080/"
        },
        "id": "aDhB1okVtJAR",
        "outputId": "108ed860-fd85-42dc-9dee-a6bee542a4cf"
      },
      "source": [
        "#Sentences under topic 1\n",
        "\n",
        "print('Sentences Under Topic 1')\n",
        "\n",
        "itr = 0\n",
        "ct =0\n",
        "while(True):\n",
        "  if(topic_list[itr] == 1):\n",
        "    print('-'*100)\n",
        "    print(ct+1,end='')\n",
        "    print('. ',end=' ')\n",
        "    print(unprocessed_review [itr])\n",
        "    print('-'*100)\n",
        "    ct+=1\n",
        "  itr+=1\n",
        "  if(ct ==10):\n",
        "    break\n",
        "    \n",
        "\n",
        "  "
      ],
      "execution_count": 26,
      "outputs": [
        {
          "output_type": "stream",
          "text": [
            "Sentences Under Topic 1\n",
            "----------------------------------------------------------------------------------------------------\n",
            "1.  I love the variety of comics.  Great for dinner TV entertainment because of length of each episode.  Many of the featured comics have gone on to even bigger TV specials so it's great to see some of their earlier material.\n",
            "----------------------------------------------------------------------------------------------------\n",
            "----------------------------------------------------------------------------------------------------\n",
            "2.  This show is like a runaway train ride. Every episode has poor Jack in some death defying crisis. Really enjoyed the ride.\n",
            "----------------------------------------------------------------------------------------------------\n",
            "----------------------------------------------------------------------------------------------------\n",
            "3.  For sheer intensity and plot topsy-turvies, no other show comes close to 24. You'd think the premise (every hour of the 24 episode-long season is played in real-time; thus 24 encapsulates a full day) would get old by now, but, surprisingly, the producers and writers have managed to come up with another riveting, must-see season. In fact, this might be the best season of them all. The thrills and nail-biting suspense (as well as the SPOILERS alert) begin early in the season five opener, with the shocking slaying of President Palmer and assassination attempts on familiar CTU agents (one of which is tragically successful). Jack Bauer (Kiefer Sutherland) is lured out of hiding after 18 months and becomes rapidly embroiled in a devious conspiracy that goes all the way up to the White House. As he becomes the most wanted man in America (he is framed for Palmer's assassination), he must try to ferret out the true culprit(s) and again save the country from deadly Russian extremists and various domestic villains. On a personal level, he must come to terms with the deaths of personal friends, the alienation of his daughter Kim, and the fact that his former girlfriend  Audrey Raines (Kim Raver) might have moved on.There's a reason why Kiefer won the best dramatic actor Emmy and why 24 beat out the likes of the West Wing, the Sopranos, Grey's Anatomy, and House for best drama. The fifth season is fully serviced by a coming together of story and acting - from the gripping, edge-of-your-seat plot line, with its manic twists and turns, to the no-quarters-given, full speed ahead performances of the cast, but specially of Kiefer Sutherland, who gives his all in inhabiting his role. Kiefer IS the show and consistently produces such driven intensity, lying just beneath an icy cold surface, and yet his eyes reveal a vulnerability of sorts, when he's reacting to something personal to him. He makes a scene work, even without dialogue. Very good stuff. And, no, you do not want to get in the way of Jack Bauer.There are other standouts, of course. Gregory Itzin as the shifty and weak-willed U.S. President makes you gleefully hiss, while Jean Smart as the medicated First Lady Martha Logan brings earnest soap-opera acting to primetime. Mary Lynn Rajskub (Chloe O'Brian) continues her highlight role as CTU's brilliant but cantankerous and socially-inept tech support operative. Meanwhile, James Morrison, Roger Cross, Kim Raver, Carlos Bernard, Louis Lombardi, and Sean Astin become the season's dependable, solid bedrock.That so many of the regular cast die in this season lends an immediacy to the episodes and exponentially raises the stakes. There's no comfort level at all here, as you're never sure who would survive in the end (but, with this show, were you ever sure?). Even Kiefer Sutherland had played around with the idea of having Jack Bauer biting the dust (Please, no!).So, the 24 - Season Five dvd box releases December 5, 2006, just in time for you to go thru 'em to prep for season six, which begins next January on Fox. Season Six, by the way, picks up nearly two years after season five's finale and will have James Cromwell with a recurring role as Jack's estranged dad, Phillip Bauer. Also joining the cast is Eddie Izzard, Kal Penn (Harold & Kumar Go to White Castle), Peter MacNicol, Regina King, and the beautiful Rena Sofer. I can't wait to own season five and, then, to see season six. Long live Jack Bauer!\n",
            "----------------------------------------------------------------------------------------------------\n",
            "----------------------------------------------------------------------------------------------------\n",
            "4.  Revel in his awesomeness!!! For he is a god amongst men and he is deserving of all praise that can possibly be heaped upon him. The one time the Emmys got something right!! Jack Bauer is as close as any fictional character has become to being superhumanly powerful, and at some times his recurrent circumvention of the bureaucratic system, assaulting his friends and co-workers, his flagrant abuse of \"prisoner's rights\" and his uncanny ability to fight his way out of any trap... it may require a little bit more suspension of disbelief than would normally be necessary in a lesser show, but the very core of this show is Jack Bauer, or more specifially, Kiefer Sutherland and his increasingly better performance each season of 24. When he is having a particularly emotional moment, you feel it exude from the screen.... this is just an example of the power that Sutherland brings to this show. Also standing out as always is Mary Lynn Rasjkub as the wonderfully ascerbic and wicked-tongued Chloe O'Brien. The introduction of her character is one of the best things that's happened to this show. But this season has some other stand-out characters: one that was introduced in season 4 and a brand new one. Fans of the show know these as President Charles Logan (the wonderfully slimy Gregory Itzin) and his first lady Martha Logan (the amazing Jean Smart). Their interplay and their performances are almost as key as Sutherland in this season. Another thing that came to be almost an in-joke is that three members of the cast of the original ROBOCOP film appear in different parts of the series, which as a fan of that film was just really cool to see. Whether or not that was intended, it's still a nice touch for genre fans. Julian Sands has lots of fun chewing up scenery as the evil Russian-yet-English-Accented Terrorist. The premise is per usual: Jack must defy all odds to save the country and avenge his personal losses. But the plot itself is of a higher level of complexity and tragedy this season than prior seasons. The way it begins is ALMOST as shocking as the way the season ends. And the ending of the final episode of the season... that scream you heard in the whole of the United States and parts of Canada and Mexico... that was me. January 2007 CANNOT GET HERE SOON ENOUGH!!!\n",
            "----------------------------------------------------------------------------------------------------\n",
            "----------------------------------------------------------------------------------------------------\n",
            "5.  The first five seasons of 24 are the best thriller/escapism you'll find on television. It's fast-paced, big-budgeted, over-the-top (sometimes WAAAAAAAY over-the-top), and mostly clever. But I don't think ANY of the previous seasons (or the lame season 6) can come even close to the excitment and joy of watching this fifth season.Yes this season follows the same (tired) gimick of everything happening in real-time, but what set this season apart for me was it's more focusd plot-line. Several of lead character Jack Bauer's friends are killed or attacked and he's out to find out who and get revenge. Ok, sometimes the overall story arch DOES get side-tracked to the typical (terrorists trying to release poisonous gas), and sometimes it's not always that interesting (CTU gets infiltrated AGAIN!). But none of these side-attractions even BEGIN to take-away from the exciting central story which pushes along at break-neck speed and crediblilty (thanks also to the believable performances of the ENTIRE cast).Like some people I try not to watch the show on TV and much prefer to wait for the DVD to come out which is why I can't recommend buying this season enough (thought why there's not subtitles on every episode is beyond me). Yes it's a couple years old now, but it's still the best (and most affordable) 24 episodes of action you'll find anywhere.\n",
            "----------------------------------------------------------------------------------------------------\n",
            "----------------------------------------------------------------------------------------------------\n",
            "6.  While I had kind of given up on 24, this is a good return to form for the series. It starts with the assasination of previous president Palmer and as the season advances we see how Jack, who has come back from the dead for many, is confronted with a group of russian separatists who have gotten some nerve gas. The way the story unfolds gets slightly too straightforward from the middle of the season on but it is still quite exciting stuff. Kim comes back for a short period also.\n",
            "----------------------------------------------------------------------------------------------------\n",
            "----------------------------------------------------------------------------------------------------\n",
            "7.  I particularly like the fact that the show (which I missed when broadcast) subtly introduces the moral dilemmas of the situations.\n",
            "----------------------------------------------------------------------------------------------------\n",
            "----------------------------------------------------------------------------------------------------\n",
            "8.  In the aftermath of season 4, Jack Bauer (Kiefer Sutherland) had to fake his own death and go into hiding.  But he can't seem to stay in retirement for long.  Someone knows Jack is alive and targets his friends, forcing Jack to come out of hiding to face down terrorists yet again.Meanwhile, it is an important day for the United States and President Logan (Gregory Itzin).  He has been working hard to iron out an anti-terrorism treaty with Russia, and that treaty will be signed that day.  But the treat of terrorists in Los Angeles with stolen nerve gas just might be enough to derail the treaty.Season 5 won an Emmy for best drama, and it was well deserved.  Even after five years, this show is gripping drama with excellent writing and acting.  I am glued to my seat every week, breathing only during commercial breaks.  This season the threat and storytelling seemed more focused then previous years, adding to the drama.There were a couple flaws this season.  I sure don't remember the explanation of who knew Jack was alive at the beginning of the season.  Maybe it was mentioned and I missed it.  Furthermore, we have yet more examples of lack of security at CTU.  While it does make for gripping drama, it does seem like they could come up with a new plot trick every so often.My biggest complaint this season was the body count.  We lost several key characters from previous years.  While I understand the producer's desire to keep us on the edge of our seats, can't anyone from the show live happily ever after?  It honestly got to the point I dreaded seeing anyone who had been on the show before for fear they would be killed off.Still, these are minor issues with a truly wonderful show.  I'm counting down the hours until the next season premiers and we can start the rush all over again.\n",
            "----------------------------------------------------------------------------------------------------\n",
            "----------------------------------------------------------------------------------------------------\n",
            "9.  Love the show. Period. Have just finished watching the first 5 seasons (something of a marathon over the last month).Season 5 is probably my favorite season to date. It starts strong and doesn't let up until it's over.As to packaging and the discs themselves: the first 4 seasons come in fold-out packaging + outer sleeve, much like the Highlander series and a few others. The first discs contain the episodes themselves, and the last disc contains some bonus materials. Season 5, however, breaks from this tradition and instead packages the discs in 4 slim cases (the 4th holds the bonus features disc). A change of page in packaging, but still quite attractive, with approximately the same shelf footprint (if not slightly smaller).Season 5 continues to do a good job with chapter breaks, scene selection menus, and bonus features. I might note however, they've added a slightly longer intro before getting to the main menu (looks like booting up and logging into a CTU computer system). However, on my DVD player I could skip ahead without having to play the whole sequence. So, it wasn't completely ungainly.The video and audio were up to par. Of course I don't have a large-screen/wide-screen TV nor surround sound, so I can't test under all conditions. But if there were any video or audio issues I didn't notice them. Perhaps some moire/color issues in scenes with close parallel-line patterns. But I've noticed that on any number of DVD releases of other series from other studios, so I wouldn't say there was any more in 24 than other series.Overall, I highly recommend this for anyone who hasn't seen 24, and who likes the spy/thriller type show. If you liked Alias and/or La Femme Nikita, you'll probably like 24 as well. There are some \"intense\" scenes and probably some harsh language, so preview episodes before showing it to any youngsters, if at all.\n",
            "----------------------------------------------------------------------------------------------------\n",
            "----------------------------------------------------------------------------------------------------\n",
            "10.  We were not fans of 24 until a family member gave us Season 7 DVD.  The show is well done, we get a kick out of the fact that 24 shows is equal to 24 hours of activity.  And laugh that no one ever takes a nap or eats during any of the shows.  We are now working on Season 6 and then will catch up with the new show on TV this season.\n",
            "----------------------------------------------------------------------------------------------------\n",
            "time: 11.1 ms (started: 2021-04-04 11:46:52 +00:00)\n"
          ],
          "name": "stdout"
        }
      ]
    },
    {
      "cell_type": "markdown",
      "metadata": {
        "id": "PEilxYxdvrCe"
      },
      "source": [
        "## Sentences Under Topic 2"
      ]
    },
    {
      "cell_type": "code",
      "metadata": {
        "colab": {
          "base_uri": "https://localhost:8080/"
        },
        "id": "lD84vgC_vrCg",
        "outputId": "a4e72b80-e621-4ea0-c615-1caa4e4ef126"
      },
      "source": [
        "#Sentences under topic 2\n",
        "\n",
        "print('Sentences Under Topic 2')\n",
        "\n",
        "itr = 0\n",
        "ct =0\n",
        "while(True):\n",
        "  if(topic_list[itr] == 2):\n",
        "    print('-'*100)\n",
        "    print(ct+1,end='')\n",
        "    print('. ',end=' ')\n",
        "    print(unprocessed_review [itr])\n",
        "    print('-'*100)\n",
        "    ct+=1\n",
        "  itr+=1\n",
        "  if(ct ==10):\n",
        "    break\n",
        "    \n",
        "\n",
        "  "
      ],
      "execution_count": 27,
      "outputs": [
        {
          "output_type": "stream",
          "text": [
            "Sentences Under Topic 2\n",
            "----------------------------------------------------------------------------------------------------\n",
            "1.  I discovered this series quite by accident. Having watched and appreciated Masterpiece Contemporary: Place of Execution, I was keen to read the novel (which inspired the TV adaptation) by Val McDermid. The novel was very well-written, and a nail-biting suspense thriller. Then I discovered that Val McDermid wrote other novels as well, and a couple of them inspired the TV crime drama Wire in the Blood.I finished watching all of Season 1 and have become a fan of this gritty crime drama that follows the investigations led by DI Carol Jordan (Hermione Norris). She is assisted by clinical psychologist Dr. Tony Hill (Robson Green), a rather eccentric figure who delves deeply into the minds of serial killers, studies patterns of criminal behavior and profiles criminals. His methods may seem strange at times, but he always manages to get results. Both Jordan and Hill make a strange if compelling pair, with Jordan analyzing a case based on evidence, and Hill working based on his knowledge of deviant behavior and what makes people commit disturbing crimes.Unlike some of the \"cozy\" mysteries such as the long-running Midsomer Murders - Set One and The Complete Inspector Lynley Mysteries, Wire in the Blood is not for the faint of heart. The crimes are horrific, sometimes involving children, almost always patterned on deviant behavior and the suspects are almost always very disturbed individuals. The crime scenes are difficult to watch as are the way victims are found and even the forensic examinations are graphic and unsettling. Though compelling, this is not really a show to watch in one sitting, and may very well give viewers nightmares.The first season contains three main stories, each divided into two episodes:The Mermaids Singing - Hill is on the trail of a seriously disturbed serial killer who targets homosexuals.Shadows Rising - The skeletal remains of a young woman is found, and when further evidence turns up, DI Jordan and Hill realize they have a serial killer on their hands, one with a penchant for dark-haired young women.Justice Painted Blind - Another unsettling case, this time revolving around an old child abduction and murder case. A couple of apparently random murders turn out not to be so random after all when it is discovered that the victims do share a connection involving an old court case where the accused was found not guilty. This throws up a whole bunch of suspects, including the parents of the murdered girl.The writing on this crime drama is excellent, and Robson Green is credible as the clinical psychologist who has a rare knack for profiling and getting under the skin of some of the most dangerous criminals. The drama also explores the chemistry and tension between Hill and DI Jordan, all of which result in a riveting show that keeps viewers coming back for more.The streaming was good overall with only a little delayed streaming during Episode One. There were no glitches on the other episodes. The picture quality could be improved though as it did seem a bit grainy to me.\n",
            "----------------------------------------------------------------------------------------------------\n",
            "----------------------------------------------------------------------------------------------------\n",
            "2.  What happened with Tony and the plague he was dying from.  HELP!  It's killing me to know!!!!!!!!!!\n",
            "----------------------------------------------------------------------------------------------------\n",
            "----------------------------------------------------------------------------------------------------\n",
            "3.  as one of their own is shot and killed by the terrorist Gibbs has been hunting Ari.  The season also shows how the different NCIS members are dealing with this tragic loss in a two part episode Kill Ari.  This in turn leads to the new characters, Ziva David and the new NCIS Director (who has more than a little history with Gibbs).This all blends in well and the new members of the team pick up right where they left off.  With all the quirkiness and fun that they have in each show, it only helps to show much the actors/actresses have grown together and it makes NCIS one reason that i love to watch not only this show.  But others of the same caliber.  I am looking forward to season four as well as the 3rd season ended in a particular way.  It leaves a lot of things open for the following season.But it also answers a few questions before the season is up like Gibbs past and how that affects him in his job today.  I love all the characters in the show-Abby, Ducky, Dinozo(sp), \"Probie\", Ziva and the like.  As each of them has their various moments throughout the season from killing an undercover cop, to a prisoner dying in custody or a mentally deranged ex-boyfriend that just won't go away.Along with some cool special features, NCIS is a show that is best watched from the beginning so that you get the full effect.  So buy the 1st seasons and start from there.  By the time you get to season 3 you'll be well versed and know what all the buzz is about.  NCIS is the real deal when it comes to TV shows period.\n",
            "----------------------------------------------------------------------------------------------------\n",
            "----------------------------------------------------------------------------------------------------\n",
            "4.  It is a well-done TV series that can absorb cast changes and continue to deliver excellent shows.  NCIS Season Two ended with the shocking murder of Agent Caitlin Todd.  Season Three opens with two major cast additions.  Cote de Pablo joins the team as the beautiful and dangerous Israeli Mossad Agent Ziva David, while veteran actress Lauren Holly, as Jenny Shepard, becomes the new director of NCIS.The changes put iconic Senior Agent Jethro Gibbs (Mark Harmon) in the awkward situation of working in a new agent while getting used to a new boss who is a former love interest.  The rest of the team, still grieving for Caitlin, are slow to embrace Ziva but will be won over by her obvious competence, and by her hilarious efforts to master American slang.  Wisecracking Agent Tony DiNozzo (Michael Weatherly)in particular will find that Ziva forces him to raise his game in a way that Caitlin never quite did.The exciting two-part season opener resolves the still-open case of Agent Todd's murder.  A two-part season ender places Gibbs' service with NCIS at risk.  The audience will learn more about Gibbs' past while contemplating another season-ending cliff-hanger.  In between, the team will handle serial killers, terrorists, and kidnappings with its usual mixture of brisk police procedural and entertaining repartee.  Six special features about the making of the show are included in the DVD set.  \"NCIS: The Third Season\" is very highly recommended to fans of the series.\n",
            "----------------------------------------------------------------------------------------------------\n",
            "----------------------------------------------------------------------------------------------------\n",
            "5.  This serries is OK, but it really lacks the substance that Criminal Minds, MI-5, CSI or Alias has.  The list goes on. When is the second season of Bones and Criminal Minds coming out?\n",
            "----------------------------------------------------------------------------------------------------\n",
            "----------------------------------------------------------------------------------------------------\n",
            "6.  \"The Friends of Eddie Coyle\" is a 1970's crime movie, with great dialogue, acting, and intrigue. The movie reminded me of \"The Sopranos\" more than classic film noir. \"Eddie Coyle\" is more realistic and subdued than a lot of noir. It also has a lot of criminals interacting: pulling capers, making deals, and distrusting each other, like some of the criminals in \"The Sopranos\". It's centered more on the interaction of the characters and the story than on action. There are several great scenes, where the dialogue and the acting are engaging, particularly when Robert Mitchum speaks. I've never been a fan of Robert Mitchum, but here he's excellent, bringing a lot of emotion and weariness to Eddie Coyle. The story is also very good, as we see Eddie struggle to stay out of jail. The DVD is from The Criterion Collection, and looks good. There is a new commentary track from director Peter Yates. I don't think this film will appeal to a wide audience, because it's completely a crime film and nothing else, but fans of crime films might thoroughly enjoy it. Reviewed 8/23/2009 after watching on DVD.\n",
            "----------------------------------------------------------------------------------------------------\n",
            "----------------------------------------------------------------------------------------------------\n",
            "7.  From beginning to end of season 2 Michael Scofield (Wentworth Miller) and his brother Lincoln Burrows (Dominic Purcell) are on the run from the police and government agents that want them dead. The other convicts lives are on the line as well since all of them have been ordered to be killed. They also want Dr. Sara Tancredi (Sarah Wayne Callies) dead or anyone else who has tried to help Scofield and his brother. To show that these guys aren't messing around, season 1 regular Veronica (Robin Tunney) is killed violenty at the end of the first episode of this season.William Fichtner plays Agent Alexander Mahone who we think just wants to catch them but it later turns out that he has been ordered to kill them. Plus that's not all that makes this guy a threat....he's extremely smart and always seems to know what Scofield's next move is going to be. Which is another thing that makes this season so thrilling. You never really know what this guy is going to do next or who he's going to find next. I was hoping he'd find and kill T-Bag (Robert Knepper) but that sleaze ball makes it through the whole season. I don't wanna see this guy die because Knepper is bad at playing him or anything. I wanna see him die because Knepper is fantastic at making you hate this worthless piece of garbage. He's a rat that kills innocent people and slizzers his way away through most the season.Paul Adelstein as Agent Paul Kellerman is back after Scofield and Burrows. But he makes some important decisions as the season goes on and turns out to be just what they need if they want to clear Burrows' name. So there's a lot of character development going on in this season. There's a lot of running going on this season but since this show has great writing it's always engaging and you never really know what is going to happen next. So it's not just a whole lot of brainless chase scenes through the whole season. It's always exciting and has you at the edge of your seat. Plus there is still some scenes where they are captured and have to figure out how to escape. Hell this season has everything really. It's really a must see!\n",
            "----------------------------------------------------------------------------------------------------\n",
            "----------------------------------------------------------------------------------------------------\n",
            "8.  As the second season of Prison Break opens, things get moving along rather quickly.  Michael (Wentworth Miller), Linc (Dominic Purcell), Sucre (Amaury Nolasco), C-Note (Rockmond Dunbar), and John (Peter Stormare) have escaped from prison and are on the run.  After going their seperate ways, shady FBI Agent Mahone (William Fichtner) arrives on the scene with one main intention: stop Michael and Linc from escaping the country.  In the meantime, T-Bag (Robert Knepper) goes to some great lengths to get what he wants, and Captain Bellick (Wade Williams) is still hot on the brothers' trail.  The conspiracy that was apparent in season one is even more farther reaching here, as revelations are made that will cost everyone involved dearly, and by the end of the season, not everyone that has been here since the beginning will still be standing.  What makes Prison Break so good is that the show never relents from it's break neck pacing.  This could easily be a bad thing, but the minds behind Prison Break manage to keep the constant flow stable enough so you never know what to expect next.  Even with the major change of scenery for the main characters, the show stays more compelling than ever as it becomes a high octane game of cat and mouse.  Undoubtedly one of (if not the) best shows on prime time network television today (and on Fox), Prison Break just keeps getting better, and by the end of the season finale, you'll be salivating for more.\n",
            "----------------------------------------------------------------------------------------------------\n",
            "----------------------------------------------------------------------------------------------------\n",
            "9.  Breaking out of prison is one thing.  Dealing with the inevitable and complicated fallout and consequences afterwards is another.In the second season of this series, the characters discover just how hard it is to regain a normal life, a life not spent on the run.  C-Note has a wife and sickly daughter who suffer to a degree because of him and he nearly kills himself.  T-Bag's twisted logic tells him that his former lover will take him back into her home, but he doesn't face reality.  Bellick thinks he can find the money but ends up imprisoned in a foreign country and has left Sucre's beloved woman locked up somewhere.Haywire ends up dead, as does Tweener, while Mahone and others involved in the conspiracy and the hunt create their own hell.Scofield and Burrows try to hide out in Panama with Sarah, but all goes asunder and Scofield is now in the hellish prison of that country.In such a bleak world, it's amazing that any of these people keep trying to carve out a life for themselves.\n",
            "----------------------------------------------------------------------------------------------------\n",
            "----------------------------------------------------------------------------------------------------\n",
            "10.  My overriding impression of \"Bones Season 2\" is that perhaps Booth and Brennan were getting too close in season one, and forces needed to be put in place to put some distance between the two. The first was by replacing Jonathan Adams (Dr. Daniel Goodman) with Tamara Taylor (Dr. Camille Saroyan) as Brennan's boss, who, by the way, had a romantic relation with Booth when they were in New York. The second was to introduce a romantic interest for Brennan, in the form of FBI agent Tim Sullivan (Sully), who replaces Booth while he is sidelined for a psychiatric evaluation by the premier guest character on \"Bones\", Gordon, Gordon Wyatt, played by Stephen Fry.Wyatt and Booth have some of the most delicious scenes outside of the episodes where Booth and Brennan get close.In retrospect, it is just a bit hard to take the interchange between Brennan and Saroyan in the first few episodes. Booth is surprised at her arrival, and resists Saroyan's direction. I suppose the reason it's odd is because we all suspect from the outset that in the lab, and with Booth, Brennan will always be the alpha dog. After all, the show is named after her.Overall, I would say season 2 is as good as season 1, and better than season 3 (It is rated better than both seasons 1 and 3.) Season 1 had the \"getting to work together jitters\" and season 2 had the \"separation moves\". The main season 3 arc was simply not as good.\n",
            "----------------------------------------------------------------------------------------------------\n",
            "time: 13.8 ms (started: 2021-04-04 11:46:52 +00:00)\n"
          ],
          "name": "stdout"
        }
      ]
    },
    {
      "cell_type": "markdown",
      "metadata": {
        "id": "A7Rf-zClvzmX"
      },
      "source": [
        "## Sentences Under Topic 3"
      ]
    },
    {
      "cell_type": "code",
      "metadata": {
        "colab": {
          "base_uri": "https://localhost:8080/"
        },
        "id": "g3MUWB_IvzmZ",
        "outputId": "0ef7b6ce-2186-4737-e62d-9a64716e18c0"
      },
      "source": [
        "#Sentences under topic 3\n",
        "\n",
        "print('Sentences Under Topic 3')\n",
        "\n",
        "itr = 0\n",
        "ct =0\n",
        "while(True):\n",
        "  if(topic_list[itr] == 3):\n",
        "    print('-'*100)\n",
        "    print(ct+1,end='')\n",
        "    print('. ',end=' ')\n",
        "    print(unprocessed_review [itr])\n",
        "    print('-'*100)\n",
        "    ct+=1\n",
        "  itr+=1\n",
        "  if(ct ==10):\n",
        "    break\n",
        "    \n",
        "\n",
        "  "
      ],
      "execution_count": 28,
      "outputs": [
        {
          "output_type": "stream",
          "text": [
            "Sentences Under Topic 3\n",
            "----------------------------------------------------------------------------------------------------\n",
            "1.  Season three opens, with Gibbs going after Kate's killer, Ari. And to try to throw alot at us, NCIS gets a new director, Jenny Shepard played by Lauren Holly. Now Shepard and Gibbs do have some history, since both were partners at NCIS at one time, also. To proclaim Ari's innocence, is Massade officer Ziva David. And I'm sorry, I didn't like her then. And I don't liker her now, She and pretty much all of Massad is built up like they are the only agents that are extremely tough, they're unstoppable. So Ziva and Jenny try to convince Gibbs that he's wrong, and Gibbs even makes the only logical argument against Ari's innocence. That if he were innocent, he would turn himself in. So, after much arguing, he gets Ziva to follow him. And Ziva kills Ari in Gibb's basement, And we get each persons view of how they saw Kate in this episode. Now, I would have inserted Paula Cassidy to the team after this. Since there was some obvious chemistry between her and tony, but no. We get Ziva, and she is built up like I said. As this unstoppable, lean mean killing machine. The best of the best, and I'm sorry, but she's abrasive and annoying. And I still have a hard time accepting her to the team, Gibbs magically trusts her more than any other member of the team. season three is a good season, and Ziva is the on;y reason I didn't give it 5 stars. Although season three does end with almost getting blown up, going into a coma. Waking up from that coma, and thinking it's 1991. And we get to meet Gibbs's mentor, Mike Franks. Which leads to gibbs trying to stop a terrorists attack. Only the generals won't allow it, and Gibbs ends up Quitting NCIS. All in all, season three is still awsome. Like I said before, my only problem is Ziva. The introduction of a new director, and then Gibbs leaving.\n",
            "----------------------------------------------------------------------------------------------------\n",
            "----------------------------------------------------------------------------------------------------\n",
            "2.  NCIS changed in third season..and gotten strongerAt the end of season two, Kate was shot and died. Season three handles her death in the openning two parter \"Kill Ari\" which also introduces the audience to Ziva David (Cote de Pablo) and the new NCIS director (Lauren Holly).The change comes in many ways, Gibbs seems harder after Kate's death and it shows during the season, which builds to the two part season finale \"Hiatus\"...a cliffehanger to open season four. all the character grew from Abby, Ducky, Mcgee and especially Tony.Most say change is bad, for this show is GOOD and we the audience reap the benifitsBennet Pomerantz AUDIOWORLD\n",
            "----------------------------------------------------------------------------------------------------\n",
            "----------------------------------------------------------------------------------------------------\n",
            "3.  Season 3 is much easier to use because CBS Video has splurged on the Play All function and subtitles.  I started to like NCIS with the introduction of Cote de Pablo who looks like a cross between Winona Ryder and Salma Hayek.  This is the season with the \"homos on the train\" line.\n",
            "----------------------------------------------------------------------------------------------------\n",
            "----------------------------------------------------------------------------------------------------\n",
            "4.  Season two ended with the murder of Caitlin Todd by the double agent Ari.The NCIS team is not going to allow this to go unpunished and the first two shows deal with this.Former Mossad intelligence officer Ziva David's replacement of Caitlin is not without problems as the team deals with both loss and acceptance.Complicating matters is a new director that has a romantic past with Gibbs.This season the Director of NCIS moves out of the shadows and into the light.  From now on, the Director is a full-fledged character and an important part of the story.Tony, Tim, Abby, Ducky and Jimmy are perfect in their roles.Jethro is boss, maverick and teacher while being larger than life.The cases are engrossing, complex and intelligent.The on-going interactions and personal stories support the show and fit the characters.This is an excellent series and this is an excellent season.\n",
            "----------------------------------------------------------------------------------------------------\n",
            "----------------------------------------------------------------------------------------------------\n",
            "5.  It was rough enough for the fans of NCIS to lose Kate Todd by having Ari Haswari snipe her at the end of Season 2.  So, starting Season 3 off by showing Kate's murder from Ari's POV is a little rougher.  But the two episodes that start off Season 3 of NCIS--the two part \"Kill Ari\" episodes--really bring up a subject in this series that hadn't been fully fleshed out.  Obviously, these two episodes allow the regular characters to come to grips with the loss of Kate--the irony of Kate's ghost talking to Ducky and Ducky not talking back to the ghost, the overall story of how the survivors all see Kate.  McGee seeing a superwoman, Abby seeing Elvira, Tony being Tony in seeing Kate (That schoolgirl outfit), and Gibbs seeing Kate as he last saw her--with a hole between her eyes.  Just as obviously, \"Kill Ari\" allows for the introduction of Cote De Pablo's Ziva David, the Mossad/Masada agent liased to NCIS in the wake of Kate's death and Lauren Holly's Jenny Sheppard--Gibbs' former partner/lover who rose beyond working the field to the NCIS director's job.But my observation after a couple of viewings of this box set is that the underlying story of the season is the revelations about the history of Leroy Jethro Gibbs.  For much of the first two seasons, Mark Harmon's \"tough, no-nonsense investigator\" (To quote the liner notes on the set) has always had an understated sense of humor that has allowed him to smile quitely at the office interaction between the members of the team while presenting his harder face.  But that exterior begins to crack in the \"Kill Ari\" episodes; the mystery surrounding Jethro's background begins to unfold as Ari murders Kate, then takes his shot at Abby and captures Dr. Mallard.  This is what starts leading Jethro to being close to Ziva--maybe no one notices, but because of the information that she uncovered about Jethro and fed to her half-brother Ari, Officer David feels partially responsible for Kate's murder.Through Season 3, we start getting clues to who Jethro is and what he keeps from everyone--the flask that we see at the end of \"Under Covers\", his continued attraction towards redheads (It certainly is no coincidence that Holly/Sheppard is a redhead), and the subtleties of his relationship with Ziva--forged in an oddly shared tragedy.  Of course, much of all that goes on in the season comes to a head in the \"Hiatus\" two-parter at the end of the season.  We find out why Gibbs is what he is, how many of his actions have prepared DiNozzo for running the team and prepped Tim for being an agent; and how the discoveries affect his relationship with Dr. Mallard and Director Sheppard.As always since this series started, the performances are stunning.  Mark Harmon continues to embody the toughness and instincts of Jethro, but also had to be very nuanced as Gibbs' painful history comes out.Michael Weatherly's Tony DiNozzo continued being the second coming of David Addison (my usual Moonlighting aside), but Tony had to face growing up and being a decision-maker/leader (\"Bait\"), and had a difficulty through this season that he hadn't had in the previous two--ZIVA.Cote De Pablo flipped the dynamic of the team.  As Ziva, Cote brought a much more formidable presence to the squad.  In the first two seasons, Tony could get Kate off-balance with his remarks and his stunts, offending her Catholic schoolgirl sensibilities.  In the third season, Ziva--partially because of her background, partially because it was just HER--was able to get Tony off his feed more than he thought possible.  An example of this--aside from her driving, or her mangling of slang--came up in \"Probie\", when she was able to get Tony to reveal why he was receiving calls from a sperm bank.  De Pablo was able to affect a very cool and very canny customer in Ziva.  Many viewers are always going to miss Sasha Alexander, but Cote is a wonderful fit.Sean Murray's Tim McGee is still a wonderful work in progress; the nerd-boy field agent who continues to get tortured by DiNozzo in a big-brother/little-brother fashion.  He still seems over his head at times, eager to please Gibbs (Or at least keep Jethro from popping him one in the back of the head--isn't it funny how The Head Slap has become one of the show's many trademarks?).  Plus, there's whatever seems to be going on in his private life, whether or not it's with Abby.Of course, what can be said about Pauley?  Perrette is a scene-stealing wonder on screen, especially in Abby's lab when she's mainlining the \"Kaff-Pow\" or getting Bert to do what he does (Her stuffed hippo--YEAH, THAT ONE).  Plus, we get surprised by Abby's ability with duct tape (\"Frame Up\") and her temper in general (\"Bloodbath\").David McCallum's Dr. Mallard continues to be the second coming of Jonathan Quayle Higgins, though not as prissy as Robin Masters' major domo.  Ducky continues to tell his stories while working his was through the cadavers.  Plus, we get another visit from Nina Foch as Ducky's mom late in the season, getting a surreal moment when she's visiting the NCIS HQ.Many people thought the introduction of Jenny Sheppard as fluff.  Given the underlying story of the season, Lauren Holly's character was actually needed.  Jenny became an insight to Gibbs' relationship issues and why he stays operating as an investigator--basically, she knows certain things about Jethro that his squad aren't privvy to--though as it turns out, she doesn't know the whole story (Until \"Hiatus\").The good guest shots in this set have to start with Sasha Alexander, and her completion of the Catlin Todd storyline.  Her ghost appearing in various forms to the team members was striking (Of course, her schoolgirl outfit in Tony's vision was typical Tony).  Rudolf Martin's Ari Haswari was brilliant--slick, dangerous, deceptive and unstable.  I found myself regretting Ari's storyline being completed--he could have been Wo Fat to Gibbs' McGarrett (Hawaii Five-O reference).  It's always fun when Jessica Steen drops in to trade remarks with Weatherly as Paula Cassidy.  Michael Bellisario's turn as Abby's lab assistant is a comical and dangerous turn.  Finally, we can't forget Muse Watson's introduction in the \"Hiatus\" episodes as Gibbs' mentor when he joined NIS, Mike Franks.  Franks' amusement at the changes--the female director in particular--are tempered by his having to fill in many of the blanks for Gibbs when Jethro is recovering from amnesia.Ultimately, the season of change that is NCIS Season 3 is a storytelling wonder--full of the humor and action that has been the staple of the series since it's beginning, but also the undercurrent of melancholy that permeates this season.  The loss of Kate really becomes the latest in a series of painful losses for Gibbs--but we never realize it until the end of the season.\n",
            "----------------------------------------------------------------------------------------------------\n",
            "----------------------------------------------------------------------------------------------------\n",
            "6.  I rated this a 4 star because the film was grainey.  I suppose this is the best it could be after all of these years.  What a treat you start learning about Dr. Who's start\n",
            "----------------------------------------------------------------------------------------------------\n",
            "----------------------------------------------------------------------------------------------------\n",
            "7.  I've lived in Boston for many years and have driven on these roads since the day they opened. After ten years, this video is a very interesting look at the past, and the promises vs. the reality of what became of the Big Dig project.Ironically, or perhaps prophetically, the film begins by showing a section of new tunnel (at time = 2:06). This is the EXACT LOCATION where (on July 10, 2006) the ceiling collapsed on a car, killing passenger Milena Del Valle. The heavy concrete panels were glued in place with epoxy cement that had not been applied properly. It was ultimately determined that ceiling panels weren't actually needed in that location, so today, the ceiling that appears in the video is no longer there.Such was the theme for most of the Big Dig's design and construction. Too many things were \"never attempted before\",  \"biggest in the world\", \"cutting edge\", and/or other custom-designed or unproven technologies. At the same time, the well-connected engineering and construction contractors deliberately made things more complicated and expensive than necessary, so as to maximize their own profits. One notorious example of this became known as the \"Ginzu Guardrails\". Instead of using industry-standard round pipe hand rails in the tunnels, an engineering contractor ordered custom-designed stainless steel hand rails with sharp vertical edges. Besides being much more expensive, they earned the \"Ginzu\" moniker for their ability to slice through accident victims like a knife! Today, many of the original hand rails have been destroyed in accidents and have not been replaced; other sections have been deliberately removed because they are too dangerous. As was the case for the section of ceiling that collapsed, these hand rails were not really needed at all.Of course, it's not all bad; the I-90 extension to the airport has been a great improvement. The Ted Williams tunnel (a.k.a. the Frozen Head tunnel) was one of the first sections to open and the quality of construction is much better than all of the other tunnel sections that were built later. Unfortunately, most of the tunnels under Boston were built very poorly and most disturbingly of all, were not properly sealed to be watertight. In the winter, the leaking water forms huge icicles and ice patches that require application of large amounts of salt inside the tunnels. The large volume of water; combined with the freeze-thaw cycles and corrosive salt effect; was not something the tunnels were designed for. Consequently, the concrete and steel in the tunnels is deteriorating much more rapidly than expected. In another ill-advised design, the aluminum tunnel ceiling light fixtures were attached with steel brackets. Two dissimilar metals in a moist, corrosive environment are always doomed to corrode, and sure enough, in February 2011 the fixtures began falling into the roadway. (they're now temporarily held in place with plastic tie straps, but must all be replaced) As if the initial construction cost wasn't bad enough, the ongoing maintenance costs of the Big Dig will only get worse as the shoddily constructed sections continue to fall apart.I could go on and on about so many other things, but the bottom line is that the cost of the Big Dig was way more expensive than expected and way more expensive than necessary. So much money was spent on this one project, that there was nothing left for other highway projects in Massachusetts, or for the mass transit projects that were initially promised as mitigation for the environmental effects. For most drivers in Boston, the traffic is just as bad if not worse, but instead of being stuck in traffic on Boston's old elevated Central Artery where at least you had a nice view, now you're stuck in traffic in ugly, filthy, crumbling tunnels.The film ends with another ironic quote at time = 33:03 - \"Nobody in five years or ten years is gonna remember the cost, they're gonna look at this thing and say: 'what a beautiful job' \".It would be laughable, if it weren't so very sad.Note for road geeks: Time = 24:05 has a very old aerial view of the Charles River crossing, showing the original elevated ramps that connected the Upper/Lower deck to the Tobin Bridge. Time = 24:42 shows the City Square tunnel under construction in Charlestown, before the loop ramps and Leverett Connector bridge were built.\n",
            "----------------------------------------------------------------------------------------------------\n",
            "----------------------------------------------------------------------------------------------------\n",
            "8.  Steve is a genius with children -- he really knows how to elicit their feedback and engagement with the story, and it never feels like he is above his audience.  And it is not too jarring or obnoxious like some children's shows can be.\n",
            "----------------------------------------------------------------------------------------------------\n",
            "----------------------------------------------------------------------------------------------------\n",
            "9.  I was very pleased to find this on Criterion's pre-release list, but not surprised - it's just the sort of little-known cinematic gem that Criterion does wonders with. In fact, I've been looking for a copy of this for some time, having first seen Eddie Coyle years and years ago, the memory of the film's stark realism and mood etched in my mind like few others. This is definitive 70's Noir and a title fully worthy of a pull-out-all-the-stops release that Criterion consistently provides.  What a fine addition to the Criterion title catalogue, the choice reflecting - as usual - an impeccable sense of film history on the part of Criterion's staff.\n",
            "----------------------------------------------------------------------------------------------------\n",
            "----------------------------------------------------------------------------------------------------\n",
            "10.  this is one of those individualistic and remarkable films that for some reason has slipped under or past the usual critical and viewer recommendations -- hat tip to a.o. scott for highlighting it as a critic's choice in the new york times. \"friends of eddie coyle\" is in that peculiar variant of film noir where \"good and evil\" have been entirely extracted from the narrative dynamic, leaving only the tactical calculations of characters swimming a turbulent world of existentialist gray. it only gradually becomes clear that some of these low lifes are thieves, some are gun runners, and some are cops, or how exactly the thieves and gun runners are connected, or that acquaintances are hit men, and hit men will, for a price, take down even those they invite to enjoy a hockey game. the narrative shifts back and forth between set piece bank robberies or gun purchases and one on one conversations in which the protagonists alternately manipulate, flatter, wheedle, bluff, coerce or inform on one another -- all filmed in a flat, clinical, procedural style strongly reminiscent jean-pierre melville's \"army of shadows\" (1969). the whole is knit together by the fate of eddie coyle, embodied by robert mitchum in an unsentimental but nuanced performance, who attempts to balance the demands of treasury cops (who might help him in a forthcoming sentencing for smuggling liquor) and the needs of armed criminals (who provide eddie's livelihood). the film is a grim and tragic examination of human beings who must negotiate trust and threat as part of their daily survival, and where the winners are those who can do the most reliable service for \"the man\" (or for \"uncle\"); the weak are those who only have the weak to rely on.\n",
            "----------------------------------------------------------------------------------------------------\n",
            "time: 16 ms (started: 2021-04-04 11:46:52 +00:00)\n"
          ],
          "name": "stdout"
        }
      ]
    },
    {
      "cell_type": "markdown",
      "metadata": {
        "id": "VRILRdsjwBP-"
      },
      "source": [
        "## Sentences Under Topic 4"
      ]
    },
    {
      "cell_type": "code",
      "metadata": {
        "colab": {
          "base_uri": "https://localhost:8080/"
        },
        "id": "uHODqA0QwBQE",
        "outputId": "dcf66f98-d31b-40e8-aed0-19e29bddbbc9"
      },
      "source": [
        "#Sentences under topic 4\n",
        "\n",
        "print('Sentences Under Topic 4')\n",
        "\n",
        "itr = 0\n",
        "ct =0\n",
        "while(True):\n",
        "  if(topic_list[itr] == 4):\n",
        "    print('-'*100)\n",
        "    print(ct+1,end='')\n",
        "    print('. ',end=' ')\n",
        "    print(unprocessed_review [itr])\n",
        "    print('-'*100)\n",
        "    ct+=1\n",
        "  itr+=1\n",
        "  if(ct ==10):\n",
        "    break   \n",
        "\n",
        "  "
      ],
      "execution_count": 29,
      "outputs": [
        {
          "output_type": "stream",
          "text": [
            "Sentences Under Topic 4\n",
            "----------------------------------------------------------------------------------------------------\n",
            "1.  This is the best of the best comedy Stand-up. The fact that I was able to just watch continuously one comedian after another was great. I had the best laughter I have had in a long time.\n",
            "----------------------------------------------------------------------------------------------------\n",
            "----------------------------------------------------------------------------------------------------\n",
            "2.  Watched it for Kevin Hart and only Kevin Hart!  He makes me laugh.  The best comedy comes from pain and Kevin does his comedy with a huge heart.\n",
            "----------------------------------------------------------------------------------------------------\n",
            "----------------------------------------------------------------------------------------------------\n",
            "3.  some comedians are very good, some not so good, and some are just not funny.  I don't know the names to chose from and watched this by picking random episodes. However, I do know some big names in stand up comedy and these were not included on prime.\n",
            "----------------------------------------------------------------------------------------------------\n",
            "----------------------------------------------------------------------------------------------------\n",
            "4.  I only watched the Wanda Sykes portion of this show. I think it was interesting to watch because it was before she came out as a lesbian. She was married to a man at the time. She actually made some jokes that raised my eyebrows since she is now a lesbian. I didn't like this because it seemed hypocritical but I think Wanda Sykes is really funny. She is one of the few comedians who can make me really LOL (Laugh Out Loud). If you want to see what her comedy was like before she came out a lesbian or you are a Wanda Sykes fan, watch it. I am a huge fan of hers. I would like to see her in a live how. I am glad she is true to herself now and came out as a lesbian. I hope Wanda keeps on making me and others laugh for a long time to come.\n",
            "----------------------------------------------------------------------------------------------------\n",
            "----------------------------------------------------------------------------------------------------\n",
            "5.  All the comedians are hilarious. I have seen them all before on Comedy Central but what a great idea to put them all together. I love Amazon prime and I love their shows. They are so much better than Netflix. I got rid of my Netflix Amazon rocks and Netflix well it thymes with rocks but in a bad way.\n",
            "----------------------------------------------------------------------------------------------------\n",
            "----------------------------------------------------------------------------------------------------\n",
            "6.  Great variety of good comics. Each show is just the right length to not get boring. The comics are really funny too.\n",
            "----------------------------------------------------------------------------------------------------\n",
            "----------------------------------------------------------------------------------------------------\n",
            "7.  It is nice to see some of the more popular comedians when they were first starting out. You can tell why some made it big and some didn't. If you like stand up comedy, I recommend giving it a try.\n",
            "----------------------------------------------------------------------------------------------------\n",
            "----------------------------------------------------------------------------------------------------\n",
            "8.  Each episode gives me more entertainment than anything else on the tube. though I may not  want to have these characters as real friends - the women are hot though - the plots and characters make for great viewing.Do not see myself abandoning this series.I give 5 stars to every episode and season of Always Sunny in Philadelphia!Thanks Amazon!\n",
            "----------------------------------------------------------------------------------------------------\n",
            "----------------------------------------------------------------------------------------------------\n",
            "9.  The show is a little bit dry, but is definitely funny.Have only seen the first four episodes, and they were definitely funny enough to continue watching the series.Characters are easy to relate to as they are about my age, funny stuff.\n",
            "----------------------------------------------------------------------------------------------------\n",
            "----------------------------------------------------------------------------------------------------\n",
            "10.  This show is plain dumb and not funny. It is sad how much TV comedy has deteriorated. Gone are the days of fantastic shows like Seinfeld, Cheers, Frasier, Everybody loves Raymond, Tool time etc. And they are replaces with shows like this one, with 2 dimensional stupid characters, bad acting and idiotic writing, where sleazy behavior is supposed to be funny. It is not!!!The 3 guys characters all have exactly the personality; all unlikeable, dumb, juvenile, infantile, sleazy and lack any redeeming qualities, and the girl is the same shallow personality in female version.The stories all have the same theme; juvenile pursuits of cheap thrills like one night stands (referred to as \"banging\") or getting quick cash without effort. And to get these thrills these 4 characters and even the father in season 2 are willing to do anything; \"banging\" the other guy's mom, selling alcohol to minors, threatening people with Jihad terror attacks, cheating the welfare system etc.The 4 characters plus the father are supposed to be business partners and friends, but all they ever do is screw each other over. With friends like these, who need enemies?YUK!!!!!!!!!!!!!!\n",
            "----------------------------------------------------------------------------------------------------\n",
            "time: 13.6 ms (started: 2021-04-04 11:46:52 +00:00)\n"
          ],
          "name": "stdout"
        }
      ]
    },
    {
      "cell_type": "markdown",
      "metadata": {
        "id": "OZtq7RVFwKyW"
      },
      "source": [
        "## Sentences Under Topic 5"
      ]
    },
    {
      "cell_type": "code",
      "metadata": {
        "colab": {
          "base_uri": "https://localhost:8080/"
        },
        "id": "g6KK1tbNwKyX",
        "outputId": "d62d1198-0836-45e1-f0cd-f8531b54b53e"
      },
      "source": [
        "#Sentences under topic 5\n",
        "\n",
        "print('Sentences Under Topic 5')\n",
        "\n",
        "itr = 0\n",
        "ct =0\n",
        "while(True):\n",
        "  if(topic_list[itr] == 5):\n",
        "    print('-'*100)\n",
        "    print(ct+1,end='')\n",
        "    print('. ',end=' ')\n",
        "    print(unprocessed_review [itr])\n",
        "    print('-'*100)\n",
        "    ct+=1\n",
        "  itr+=1\n",
        "  if(ct ==10):\n",
        "    break\n",
        "    \n",
        "\n",
        "  "
      ],
      "execution_count": 30,
      "outputs": [
        {
          "output_type": "stream",
          "text": [
            "Sentences Under Topic 5\n",
            "----------------------------------------------------------------------------------------------------\n",
            "1.  There were some good entertainers, and some are just dumb.  I kept a paper and pen and wrote down names of the ones I wanted to see more.  They keep them in fairly short bits.  If you are looking to laugh continuous this may not be for you.  But each person has a different sense of humor so give it a try, but don't expect greatness.\n",
            "----------------------------------------------------------------------------------------------------\n",
            "----------------------------------------------------------------------------------------------------\n",
            "2.  Non stop action with edge of your seat thrilling plots with a new turn every minute.  Cast of great stars keep all events seeming like weeks but actually are in 24 hours\n",
            "----------------------------------------------------------------------------------------------------\n",
            "----------------------------------------------------------------------------------------------------\n",
            "3.  (BEWARE, SOME SPOILERS BELOW)Man, this is really a violent, dark and totally avoid of humour show. But's the beuaty of it: there shows around about very differente themes.The proposal of 24 hours is to give you non-stop action, non-stop twists and, also, a lot of bloodshed. It's interestin also to see through the shows the incredible amount of highly trained, superbly financied and intelliegnt people willing to do harm to good old Uncle Sam, be them American, Muslin, German, Rusian... Also, the terrorists portrayed in the show are capable of mobilizing killer squads in less time than it takes to say \"Killer squads\"... But, suspension of desbelief is something required to any show (if we wanna just see reality, just check the news, not a show!), since they respect tha canon and \"mitology\" described by that show itself. In that respect, 24 is respectul to itself.I'm also one of those that consider Season Five the best season of them all. There are so many ingredients. Kim Raver is acting better than ever... the rhythm is breathtaking all the way (although the death toll is incredible high, even by thwe show standards - to kill Almeida, David Palmer, Michelle, Edgar Stiles, all of them in one single season... uau...)Yes, I denitely think this is the best season of 24 until now.\n",
            "----------------------------------------------------------------------------------------------------\n",
            "----------------------------------------------------------------------------------------------------\n",
            "4.  Season Three lacks the edge that the first two seasons had, but the characters remain complex and the plots, unpredictable--except for the demands of the formula.  Visually and auditorially effective.\n",
            "----------------------------------------------------------------------------------------------------\n",
            "----------------------------------------------------------------------------------------------------\n",
            "5.  The writing in this season is amazingly well done. As is the acting. The character actors playing the bad guys and the heroes accompanying the Doctor are top notch.\n",
            "----------------------------------------------------------------------------------------------------\n",
            "----------------------------------------------------------------------------------------------------\n",
            "6.  Nothing wrong with production value/quality.  But the subject matter is so improbable that it seems like such a waste of energy to pack even more people into a crowded area (Tokyo) of a crowded country.  750,000 people in an engineered group of buildings stacked like a pyramid.  Watch it if you don't have strong reactions to hubris on display.\n",
            "----------------------------------------------------------------------------------------------------\n",
            "----------------------------------------------------------------------------------------------------\n",
            "7.  Well if my two year old had a say she would give it ten stars. I think the show has gotten better since it's introduction. I don't mind her watching it at all and the fact that she surprised me by counting to 5 in Spanish says a lot.\n",
            "----------------------------------------------------------------------------------------------------\n",
            "----------------------------------------------------------------------------------------------------\n",
            "8.  This season seemed to be more about the artsy predilctions of the actors and producers.  The battle with the Ori became more and more convoluted and was not resolved to my satisfaction with the bad guys getting their butts kicked by the good guys.  I liked the first 9 and would watch them again.  I wouldn't watch season 10 again.\n",
            "----------------------------------------------------------------------------------------------------\n",
            "----------------------------------------------------------------------------------------------------\n",
            "9.  The very dated soundtrack hurts this otherwise OK 70s crime drama. All the suspense scenes are marred by the hokey Dave Grusin score, which sounds like a dippy 1960s TV show. Some of the dialogue is spoken so quickly and mumbled that I found it hard to make out. Some have made a bit much of the Boston accents here. I'm from Massachusetts. Mitchum's accent isn't bad, but it's not fully real. His performance as the small-time crook-turned-rat who fears going back to jail is fine, but it's no Oscar winner. I did like the depiction of early 70s Boston and its suburbs, replete with many of the horrible vintage 60s and 70s Detroit autos of the period. Seeing them again made me shudder. This was based on what was probably George Higgins' best crime novel. I've never read it. Don't expect today's production values with this film. Everything moves a lot more slowly, and many shots needed tighter editing.\n",
            "----------------------------------------------------------------------------------------------------\n",
            "----------------------------------------------------------------------------------------------------\n",
            "10.  This film was a minor letdown after reading all the five star reviews.  There's nothing intrinsically wrong with the film.  My theory is that after years of being out of circulation it's reputation exceeds it's actual artistic worth.  Everything here is aces, though.  Good direction, atmosphere and writing.  The acting is superb with the stolid Robert Mitchum leading the cast.  I particularly liked Steven Keats' gundealer and Richard Jordan's duplicitous fed.  I think we've been spoiled by the high quality of films in this genre with Sidney Lumet's \"Prince of the City\" and Martin Scorsese's \"The Departed\".  Recommended without reservation but not as enthusiastically as some.\n",
            "----------------------------------------------------------------------------------------------------\n",
            "time: 30.3 ms (started: 2021-04-04 11:46:52 +00:00)\n"
          ],
          "name": "stdout"
        }
      ]
    },
    {
      "cell_type": "markdown",
      "metadata": {
        "id": "ZFvhQC-ywVzI"
      },
      "source": [
        "## Sentences Under Topic 6"
      ]
    },
    {
      "cell_type": "code",
      "metadata": {
        "colab": {
          "base_uri": "https://localhost:8080/"
        },
        "id": "7RS4NdnHwVzJ",
        "outputId": "00aceeb0-5b2a-40b8-a3cf-83bf6c5b2b1a"
      },
      "source": [
        "#Sentences under topic 6\n",
        "\n",
        "print('Sentences Under Topic 6')\n",
        "\n",
        "itr = 0\n",
        "ct =0\n",
        "while(True):\n",
        "  if(topic_list[itr] == 6):\n",
        "    print('-'*100)\n",
        "    print(ct+1,end='')\n",
        "    print('. ',end=' ')\n",
        "    print(unprocessed_review [itr])\n",
        "    print('-'*100)\n",
        "    ct+=1\n",
        "  itr+=1\n",
        "  if(ct ==10):\n",
        "    break\n",
        "    \n",
        "\n",
        "  "
      ],
      "execution_count": 31,
      "outputs": [
        {
          "output_type": "stream",
          "text": [
            "Sentences Under Topic 6\n",
            "----------------------------------------------------------------------------------------------------\n",
            "1.  This is a banner series for this extraordinarily conceived and executed television series.  From its explosive opening through 24 hours of plot twists, exciting action, and devastating loss, this season is absolutely superb.  Be warned though---there's lots of unexpected killings in this season and several favorite characters are disposed of.  You just don't know what to expect from this Emmy-winning series.Kiefer Sutherland won his much deserved Best Actor emmy as Jack finds himself confronted with one impossible task after another.  The supporting cast is superb:  James Morrison as CTU director Bill Buchanan; Mary Lynn Rajskub as the neurotic but brilliant Chloe; Kim Raver as Jack's former love Audrey; William Devane as irasible Secretary of Defense; Louis Lombardi as the plump and human Edgar; Jayne Atkinson as the Homeland Security Director; Sean Astin as the pompous replacement; Peter Weller as the vicious assassin; Glenn Morshower as the stoic Aaron; Jude Ciccollella as Mike Novick; Julian Sands as the evil terrorist; and of course, Gregory Itzin and Jean Smart as the President and First Lady, who were robbed of their supporting actor Emmys, and who are just fantastic in these pivotal roles.24 is one of the best series out there and this season shows why.\n",
            "----------------------------------------------------------------------------------------------------\n",
            "----------------------------------------------------------------------------------------------------\n",
            "2.  24, Seasons 1 - 8 are some of the best I've ever seen! From the first hour, every scene is filled with suspense and anticipation. JACK BAUER (Kiefer Sutherland) is a story hero that is always two steps ahead of the bad guys which helps keeping me from throwing rocks at my i-pad (the bad guys)! Can't wait for the next season to show up!&#128522;\n",
            "----------------------------------------------------------------------------------------------------\n",
            "----------------------------------------------------------------------------------------------------\n",
            "3.  Season Five was the winner!  Of course, Kiefer and the regular cast absolutely rock, it was fantastic to see as much of Agent Pierce as we did this season, and Gregory Itzen and Jean Smart...... well, what can I say about them other than === shoulda won the Emmys!!!\n",
            "----------------------------------------------------------------------------------------------------\n",
            "----------------------------------------------------------------------------------------------------\n",
            "4.  There is a adventure in every episode. Every adventure is new. In each episode, There is a place to go.\n",
            "----------------------------------------------------------------------------------------------------\n",
            "----------------------------------------------------------------------------------------------------\n",
            "5.  This show is fantastic!  I love how they wind ancient culture and Myths into futuristic events!  It's a lot of fun to watch, especially if you're into ancient myths and such.\n",
            "----------------------------------------------------------------------------------------------------\n",
            "----------------------------------------------------------------------------------------------------\n",
            "6.  An essay by David Mamet turned me on to George V. Higgins, and, completest that I am, I devoured all his novels.  He is the smartest dialogue writer I have ever read.  Last year's &#34;Killing Them Softly&#34; got the wit, zing, and poetry just right, and the delivery by Brad Pitt and James Gandolfini was  amazing.Robert Mitchum is more realistic in his approach, so, while the dialogue is not delivered with the great timing of Pitt and Gandolfini, his physical presence is completely believable as the low-level mobster, Eddie Coyle.Otherwise, kind of plodding.\n",
            "----------------------------------------------------------------------------------------------------\n",
            "----------------------------------------------------------------------------------------------------\n",
            "7.  Though often dismissed by critics as \"walking through\" his roles, Robert Mitchum) was perhaps Hollywood's most underrated actor.  True, many of his films were not worthy of his talent, but when he did get a good script (e.g. THE NIGHT OF THE HUNTER, HEAVEN KNOWS MR. ALLISON, CAPE FEAR), his performance was always mesmerizing.Arguably, Mitchum's finest screen performance can be found in THE FRIENDS OF EDDIE COYLE (1973), now available on DVD from The Criterion Collection.Directed by Peter Yates, who supplies audio commentary on the disc, the film is set in Boston and casts Mitchum as a small-time felon, a family man facing a 2-5 year sentence on a smuggling conviction.  His only hope of avoiding prison is to give an FBI agent (Richard Jordan) information that will help to bring down some bigger bad guys...like the men who have been on a bank-robbing spree and killed a teller during their last job.Mitchum's problem is that, if he \"rats\" on those guys, his life is not worth a plugged nickel.Peter Boyle co-stars in the picture, playing Mitchum's \"friend,\" a former felon who is now a bartender and also supplies confidential information to the Feds.Adapted from the novel by George V. Higgins by Paul Monash, this is a gritty, first-rate crime drama, shot in almost a semi-documentary style.  Mitchum's performance, particularly his first scene in which he explains to a young punk gun dealer how he got the nickname, \"Fingers,\" is unforgettable.The Criterion package contains a booklet of essays on Mitchum and the film. Michael B. Druxman\n",
            "----------------------------------------------------------------------------------------------------\n",
            "----------------------------------------------------------------------------------------------------\n",
            "8.  \"The Friends of Eddie Coyle\", adapted from the novel by George V. Higgins, is exemplary of the kind of film noir that was unique to the 1970s. It shares the chaotic noir world with films of the 1940s, but protagonist is fast being rendered irrelevant by a rapidly changing world where even corruption isn't what it used to be, and he knows it. It's fitting, then, that the protagonist should be played by an aging Robert Mitchum, conflicted hero of more than a few films of the classic noir cycle. Eddie Coyle (Robert Mitchum) is a hood who runs guns for the Boston mob. Caught in a recent trucking job set up by his bar-owning friend Dillon (Peter Boyle), Coyle is looking at a probable 3-5 years in prison. He can't afford to do the time, so he considers snitching on his gun supplier to a federal agent, Dave Foley (Richard Jordan), but the feds are more interested in a recent string of bank robberies.Eddie Coyle is a man from another era. He ponders how much and whom he is willing to betray to keep himself out of prison. He paternalistically lectures his young gun supplier (Steven Keats) about how rough the business is and the importance of caution and reliability. Eddie is playing by some old rulebook that is no longer applies. He doesn't realize he's being played by just about everyone. He catches on too late to how the game of cops and robbers is currently conducted. \"The Friends of Eddie Coyle\" was an ironic title for a cynical and depressed era. Made the year the Watergate scandal broke, it's hardly surprising that law enforcement is portrayed as no more ethical than outright criminality. Shot on location in Boston, director Peter Yates' style is unadorned but includes a lot of procedure -how guns are obtained and banks robbed- that enhance the film's aura of authenticity.The DVD (Criterion Collection 2009): Spine #475. Bonus features are a Stills Gallery of 22 behind-the-scenes images captioned by director Peter Yates and a feature commentary by Yates, recorded in 2009. This is one of Yates' favorite 3 films of the 25 films he directed. He talks about choosing the locations, the cast and performances, including a lot about Mitchum's work on this film, his own \"style of reality and simplicity\", and the filmmaking process. Also included is a booklet featuring an essay by film critic Kent Jones and a 1973 profile of Robert Mitchum from \"Rolling Stone\".\n",
            "----------------------------------------------------------------------------------------------------\n",
            "----------------------------------------------------------------------------------------------------\n",
            "9.  Yul is a great Survivor and is the mastermind of the entire season and deserves to win. Jeff Probst declares he was disappointed that Ozzy didn't win because of how well he dominated all the challenges. Ozzy is one of the best players to ever play the game and his game is pure according to Yul. He doesn't screw anyone in his alliance over and physically is a step above anyone else in the game. Yul is much smarter than Ozzy and gets more respect from the other players. Jonathan Penner is pretty funny and owns Probst in some of the back and forth at challenges. In the start of the game the tribes are divided by ethnicities into 4 tribes, which has never happened in Survivor. After the Asians dominate the first 2 challenges the tribes are mixed up. The hidden immunity idol plays a big role in this season. It's pretty cheap that you get to play it after the votes are read, so the person with the idol never gets any votes. This is a great season of Survivor, you should buy it.\n",
            "----------------------------------------------------------------------------------------------------\n",
            "----------------------------------------------------------------------------------------------------\n",
            "10.  if for no other reason, select this season and admire oscar in all his glory! this man's smile will break hearts around the world...\n",
            "----------------------------------------------------------------------------------------------------\n",
            "time: 26.9 ms (started: 2021-04-04 11:46:52 +00:00)\n"
          ],
          "name": "stdout"
        }
      ]
    },
    {
      "cell_type": "markdown",
      "metadata": {
        "id": "zRhfJG3twd2M"
      },
      "source": [
        "## Sentences Under Topic 7"
      ]
    },
    {
      "cell_type": "code",
      "metadata": {
        "colab": {
          "base_uri": "https://localhost:8080/"
        },
        "id": "CXCWPvu1wd2O",
        "outputId": "16b82820-8dce-4088-de8f-f6226d3a2374"
      },
      "source": [
        "#Sentences under topic 7\n",
        "\n",
        "print('Sentences Under Topic 7')\n",
        "\n",
        "itr = 0\n",
        "ct =0\n",
        "while(True):\n",
        "  if(topic_list[itr] == 7):\n",
        "    print('-'*100)\n",
        "    print(ct+1,end='')\n",
        "    print('. ',end=' ')\n",
        "    print(unprocessed_review [itr])\n",
        "    print('-'*100)\n",
        "    ct+=1\n",
        "  itr+=1\n",
        "  if(ct ==10):\n",
        "    break\n",
        "    \n",
        "\n",
        "  "
      ],
      "execution_count": 32,
      "outputs": [
        {
          "output_type": "stream",
          "text": [
            "Sentences Under Topic 7\n",
            "----------------------------------------------------------------------------------------------------\n",
            "1.  I highly recommend this series. It is a must for anyone who is yearning to watch \"grown up\" television. Complex characters and plots to keep one totally involved. Thank you Amazin Prime.\n",
            "----------------------------------------------------------------------------------------------------\n",
            "----------------------------------------------------------------------------------------------------\n",
            "2.  There are many episodes in this series, so I pretty-much just skip through them to try to find a description of something I think I would like.  It's kind of a crap shoot as to whether you'll be entertained or not, but hey, if you're just sitting around trying to kill 20-30 minutes while you're waiting for something else to do, it's worth a shot.\n",
            "----------------------------------------------------------------------------------------------------\n",
            "----------------------------------------------------------------------------------------------------\n",
            "3.  I loved the humor of the stand-up comics featured here. I only got the free episode listed at the beginning of the season, but it probably gives a good idea of what is contained in the rest of the season. I have actually watched several episodes of this season when I was having a free 30-day trial membership in Amazon prime, which I eventually plan to become a paid subscriber to.\n",
            "----------------------------------------------------------------------------------------------------\n",
            "----------------------------------------------------------------------------------------------------\n",
            "4.  This is a cute series, and I did watch two episodes, and enjoyed both of them.BUT I had to ask myself, if I had watched these two episodes on regular TV, would I have watched a third episode a week later? I had to honestly answer that I might watch it, but if something better was on, I wouldn't &#34;need&#34; to watch it.If you enjoy comedies, you might love this series more than me, and I might return to try it again in a few months or years. Sometimes, I return to a book at a later date and love it more, and the same could happen here.\n",
            "----------------------------------------------------------------------------------------------------\n",
            "----------------------------------------------------------------------------------------------------\n",
            "5.  It was a disappointment. I gave it a few episodes to get into it, but it didn't get any better.\n",
            "----------------------------------------------------------------------------------------------------\n",
            "----------------------------------------------------------------------------------------------------\n",
            "6.  I wish I were a part of this cast. This is the funniest stuff ever. YOU MUST GET THIS IF YOU ARE A DIE HARD &#34;SUNNY&#34; FAN!\n",
            "----------------------------------------------------------------------------------------------------\n",
            "----------------------------------------------------------------------------------------------------\n",
            "7.  I love this show and I don't think that will ever change.  I hate all of the characters and I mean that in the best way.  Hilarious.\n",
            "----------------------------------------------------------------------------------------------------\n",
            "----------------------------------------------------------------------------------------------------\n",
            "8.  I love it's always sunny and wanted to own the seasons, but didn't want to spend a lot of money. Came to Amazon and managed to buy seasons 1-6 for less then $25!! Way pumped!The discs were clean, no scratches, worked perfectly. No problems at allAs for the first seasons of it's always sunny, you either like it or you don't. I used to hate this show, but it's now one of my favorite shows. If you haven't seen it yet, then get on it player!\n",
            "----------------------------------------------------------------------------------------------------\n",
            "----------------------------------------------------------------------------------------------------\n",
            "9.  Wish I had watched this show when it began back in 2001.  Very happy that it is available from Amazon to stream.  I've watched 5 seasons in 3 weeks!  Will keep you on the edge of your seat (if you suspend reality a little bit).  Highly recommend!\n",
            "----------------------------------------------------------------------------------------------------\n",
            "----------------------------------------------------------------------------------------------------\n",
            "10.  I had a hard time following this show when it was on TV but now that it is on Prime I can watch the episodes in a row without commercial interruption. I now can watch all of them at my leisure. I am so excited that I can't wait for another day to watch more! And I think Keifer Sutherland makes the show. I would like to tell all viewers out there that you should be on Prime because all of these episodes are for free with your membership. Many of your TV episode series are for free and tons of movies. So you all out there join Amazon Prime!\n",
            "----------------------------------------------------------------------------------------------------\n",
            "time: 27.3 ms (started: 2021-04-04 11:46:52 +00:00)\n"
          ],
          "name": "stdout"
        }
      ]
    },
    {
      "cell_type": "markdown",
      "metadata": {
        "id": "2y8MdaTJwoiB"
      },
      "source": [
        "## Sentences Under Topic 8"
      ]
    },
    {
      "cell_type": "code",
      "metadata": {
        "colab": {
          "base_uri": "https://localhost:8080/"
        },
        "id": "bIDgiVs9woiD",
        "outputId": "4695dcbb-06ff-4b06-b707-3f7735058908"
      },
      "source": [
        "#Sentences under topic 8\n",
        "\n",
        "print('Sentences Under Topic 8')\n",
        "\n",
        "itr = 0\n",
        "ct =0\n",
        "while(True):\n",
        "  if(topic_list[itr] == 8):\n",
        "    print('-'*100)\n",
        "    print(ct+1,end='')\n",
        "    print('. ',end=' ')\n",
        "    print(unprocessed_review [itr])\n",
        "    print('-'*100)\n",
        "    ct+=1\n",
        "  itr+=1\n",
        "  if(ct ==10):\n",
        "    break\n",
        "    \n",
        "\n",
        "  "
      ],
      "execution_count": 33,
      "outputs": [
        {
          "output_type": "stream",
          "text": [
            "Sentences Under Topic 8\n",
            "----------------------------------------------------------------------------------------------------\n",
            "1.  I had big expectations because I love English TV, in particular Investigative and detective stuff but this guy is really boring. It didn't appeal to me at all.\n",
            "----------------------------------------------------------------------------------------------------\n",
            "----------------------------------------------------------------------------------------------------\n",
            "2.  This one is a real snoozer. Don't believe anything you read or hear, it's awful. I had no idea what the title means. Neither will you.\n",
            "----------------------------------------------------------------------------------------------------\n",
            "----------------------------------------------------------------------------------------------------\n",
            "3.  Mysteries are interesting.  The tension between Robson and the tall blond is good but not always believable.  She often seemed uncomfortable.\n",
            "----------------------------------------------------------------------------------------------------\n",
            "----------------------------------------------------------------------------------------------------\n",
            "4.  This show always is excellent, as far as british crime or mystery showsgoes this is one of the best ever made.  The stories are well done and the acting is top notch with interesting twists in the realistic and brutal storylines.  This show pulls no punches as it enters into the twisted minds of criminals and the profiler psychiatrist who helps out in a northern english city police force. The show looks like it is shot in Manchester but it is called by another name in the show.  One episode is not on this disc the excellent 'prayer of the bone\" which is on a seperate disc.  Still crime shows don't get much better than this one on either side of the ocean.  It's just a great show that never has had a less than well made episode. Unfortunately like all British shows you only get about five shows a year ,  but these are an hour and a half shows , still one could hope for at least 8 of these a year.  The realism and depth of the main character Tony Hill as protrayed by the excellent Robson Green is well worth viewing because he just makes this role truly part of himself in everyway.  I bet he went to crime scenes even in real life to research his role.  But the writers too must be applauded for their way above average stories.  Lets hope this show continues on for many years to come.\n",
            "----------------------------------------------------------------------------------------------------\n",
            "----------------------------------------------------------------------------------------------------\n",
            "5.  It beats watching a blank screen. However, I just don't seem to be in tune with to comedy of today.\n",
            "----------------------------------------------------------------------------------------------------\n",
            "----------------------------------------------------------------------------------------------------\n",
            "6.  Not bad.  Didn't know any of the comedians but first time viewing put a smile on my face.  I'll check out the next season soon.\n",
            "----------------------------------------------------------------------------------------------------\n",
            "----------------------------------------------------------------------------------------------------\n",
            "7.  Funny, interesting, a great way to pass time. I usually enjoy standup comedy and is this is a good show for me.\n",
            "----------------------------------------------------------------------------------------------------\n",
            "----------------------------------------------------------------------------------------------------\n",
            "8.  comedy is a matter of taste. this guy was a little funny but there are others that are far funnier than this guy\n",
            "----------------------------------------------------------------------------------------------------\n",
            "----------------------------------------------------------------------------------------------------\n",
            "9.  if this had to do with Dat Phan, he was hilarious, I enjoyed his comedy and would watch him alone numerous times\n",
            "----------------------------------------------------------------------------------------------------\n",
            "----------------------------------------------------------------------------------------------------\n",
            "10.  he's OK. His humor consists mainly of varying between a Vietnamese accent and a smooth articulate presentation of ironic situations.\n",
            "----------------------------------------------------------------------------------------------------\n",
            "time: 34.1 ms (started: 2021-04-04 11:46:52 +00:00)\n"
          ],
          "name": "stdout"
        }
      ]
    },
    {
      "cell_type": "markdown",
      "metadata": {
        "id": "u07ErrL7eY-x"
      },
      "source": [
        "# 4. Report topic wise sentiment distribution for the whole repository. Explain the method that you used. Give complete reference of any paper that you use for the purpose."
      ]
    },
    {
      "cell_type": "code",
      "metadata": {
        "colab": {
          "base_uri": "https://localhost:8080/"
        },
        "id": "bTBW_aITe8ub",
        "outputId": "b711a396-9d4d-4af5-df5b-a8cc9b49cc7e"
      },
      "source": [
        "\n",
        "data = pipeline_classification(unprocessed_review)\n",
        "tf_idf_vect = load('tfidfmodel.joblib')\n",
        "tf_idf_vect = tf_idf_vect.transform(data)\n",
        "model = load('lrmodel.joblib')\n",
        "sentiment = model.predict(tf_idf_vect)\n"
      ],
      "execution_count": 52,
      "outputs": [
        {
          "output_type": "stream",
          "text": [
            "100%|██████████| 37126/37126 [00:28<00:00, 1297.23it/s]\n"
          ],
          "name": "stderr"
        },
        {
          "output_type": "stream",
          "text": [
            "time: 36.1 s (started: 2021-04-04 12:21:49 +00:00)\n"
          ],
          "name": "stdout"
        }
      ]
    },
    {
      "cell_type": "code",
      "metadata": {
        "colab": {
          "base_uri": "https://localhost:8080/"
        },
        "id": "MepCYfttnqL8",
        "outputId": "81e47a50-7ea9-4d10-cff1-02361e40056e"
      },
      "source": [
        "distribution = [[0,0] for i in range(8)]\n",
        "for i in tqdm(range(len(data))):\n",
        "  distribution[topic_list[i]-1][sentiment[i]]+=1"
      ],
      "execution_count": 53,
      "outputs": [
        {
          "output_type": "stream",
          "text": [
            "100%|██████████| 37126/37126 [00:00<00:00, 865444.68it/s]"
          ],
          "name": "stderr"
        },
        {
          "output_type": "stream",
          "text": [
            "time: 51 ms (started: 2021-04-04 12:22:25 +00:00)\n"
          ],
          "name": "stdout"
        },
        {
          "output_type": "stream",
          "text": [
            "\n"
          ],
          "name": "stderr"
        }
      ]
    },
    {
      "cell_type": "code",
      "metadata": {
        "colab": {
          "base_uri": "https://localhost:8080/"
        },
        "id": "xAX8ApSXnr6I",
        "outputId": "64565dd8-be57-4774-f391-c3682d30501c"
      },
      "source": [
        "for i in range(len(distribution)):\n",
        "  print(\"Total positive and Negative reviws under topic {} are {} , {} .\".format(Topics[i],distribution[i][1],distribution[i][0]))"
      ],
      "execution_count": 54,
      "outputs": [
        {
          "output_type": "stream",
          "text": [
            "Total positive and Negative reviws under topic Science related tv  show are 3225 , 294 .\n",
            "Total positive and Negative reviws under topic Crime or detective film/tv show are 2088 , 163 .\n",
            "Total positive and Negative reviws under topic Mystery Drama film are 1526 , 365 .\n",
            "Total positive and Negative reviws under topic Comedy tv show are 2594 , 338 .\n",
            "Total positive and Negative reviws under topic Horror/Action Film are 2149 , 1033 .\n",
            "Total positive and Negative reviws under topic Drama film are 1429 , 243 .\n",
            "Total positive and Negative reviws under topic General topic are 6898 , 1255 .\n",
            "Total positive and Negative reviws under topic Play (theatre) or Musical-Drama film/tv show are 12199 , 1327 .\n",
            "time: 6.47 ms (started: 2021-04-04 12:22:25 +00:00)\n"
          ],
          "name": "stdout"
        }
      ]
    },
    {
      "cell_type": "code",
      "metadata": {
        "colab": {
          "base_uri": "https://localhost:8080/"
        },
        "id": "wGMG0itWodfZ",
        "outputId": "1ee2f9b7-dcb2-46f3-d40e-5d3ef005643b"
      },
      "source": [
        "df = pd.DataFrame(\n",
        "{\"Topics\" : Topics,\n",
        "\"Positive Sentiments\" : [distribution[i][1] for i in range(8)],\n",
        "\"Negative Sentiments\" : [distribution[i][0] for i in range(8)]},\n",
        ")\n"
      ],
      "execution_count": 55,
      "outputs": [
        {
          "output_type": "stream",
          "text": [
            "time: 6.35 ms (started: 2021-04-04 12:22:25 +00:00)\n"
          ],
          "name": "stdout"
        }
      ]
    },
    {
      "cell_type": "code",
      "metadata": {
        "colab": {
          "base_uri": "https://localhost:8080/",
          "height": 305
        },
        "id": "jOQ6kmBvuUx0",
        "outputId": "167ec5a3-597c-47b0-8dad-64df37fd64b6"
      },
      "source": [
        "df"
      ],
      "execution_count": 56,
      "outputs": [
        {
          "output_type": "execute_result",
          "data": {
            "text/html": [
              "<div>\n",
              "<style scoped>\n",
              "    .dataframe tbody tr th:only-of-type {\n",
              "        vertical-align: middle;\n",
              "    }\n",
              "\n",
              "    .dataframe tbody tr th {\n",
              "        vertical-align: top;\n",
              "    }\n",
              "\n",
              "    .dataframe thead th {\n",
              "        text-align: right;\n",
              "    }\n",
              "</style>\n",
              "<table border=\"1\" class=\"dataframe\">\n",
              "  <thead>\n",
              "    <tr style=\"text-align: right;\">\n",
              "      <th></th>\n",
              "      <th>Topics</th>\n",
              "      <th>Positive Sentiments</th>\n",
              "      <th>Negative Sentiments</th>\n",
              "    </tr>\n",
              "  </thead>\n",
              "  <tbody>\n",
              "    <tr>\n",
              "      <th>0</th>\n",
              "      <td>Science related tv  show</td>\n",
              "      <td>3225</td>\n",
              "      <td>294</td>\n",
              "    </tr>\n",
              "    <tr>\n",
              "      <th>1</th>\n",
              "      <td>Crime or detective film/tv show</td>\n",
              "      <td>2088</td>\n",
              "      <td>163</td>\n",
              "    </tr>\n",
              "    <tr>\n",
              "      <th>2</th>\n",
              "      <td>Mystery Drama film</td>\n",
              "      <td>1526</td>\n",
              "      <td>365</td>\n",
              "    </tr>\n",
              "    <tr>\n",
              "      <th>3</th>\n",
              "      <td>Comedy tv show</td>\n",
              "      <td>2594</td>\n",
              "      <td>338</td>\n",
              "    </tr>\n",
              "    <tr>\n",
              "      <th>4</th>\n",
              "      <td>Horror/Action Film</td>\n",
              "      <td>2149</td>\n",
              "      <td>1033</td>\n",
              "    </tr>\n",
              "    <tr>\n",
              "      <th>5</th>\n",
              "      <td>Drama film</td>\n",
              "      <td>1429</td>\n",
              "      <td>243</td>\n",
              "    </tr>\n",
              "    <tr>\n",
              "      <th>6</th>\n",
              "      <td>General topic</td>\n",
              "      <td>6898</td>\n",
              "      <td>1255</td>\n",
              "    </tr>\n",
              "    <tr>\n",
              "      <th>7</th>\n",
              "      <td>Play (theatre) or Musical-Drama film/tv show</td>\n",
              "      <td>12199</td>\n",
              "      <td>1327</td>\n",
              "    </tr>\n",
              "  </tbody>\n",
              "</table>\n",
              "</div>"
            ],
            "text/plain": [
              "                                         Topics  ...  Negative Sentiments\n",
              "0                      Science related tv  show  ...                  294\n",
              "1               Crime or detective film/tv show  ...                  163\n",
              "2                            Mystery Drama film  ...                  365\n",
              "3                                Comedy tv show  ...                  338\n",
              "4                            Horror/Action Film  ...                 1033\n",
              "5                                    Drama film  ...                  243\n",
              "6                                 General topic  ...                 1255\n",
              "7  Play (theatre) or Musical-Drama film/tv show  ...                 1327\n",
              "\n",
              "[8 rows x 3 columns]"
            ]
          },
          "metadata": {
            "tags": []
          },
          "execution_count": 56
        },
        {
          "output_type": "stream",
          "text": [
            "time: 21.7 ms (started: 2021-04-04 12:22:25 +00:00)\n"
          ],
          "name": "stdout"
        }
      ]
    },
    {
      "cell_type": "code",
      "metadata": {
        "id": "xW2GJcynubV3"
      },
      "source": [
        ""
      ],
      "execution_count": 56,
      "outputs": []
    }
  ]
}