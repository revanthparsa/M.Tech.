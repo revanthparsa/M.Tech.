{
  "nbformat": 4,
  "nbformat_minor": 0,
  "metadata": {
    "colab": {
      "name": "NLP_Assignment1_Part2.ipynb",
      "provenance": [],
      "collapsed_sections": [
        "Fcac-l7TZ0Er",
        "2-UXE7GoaGPp",
        "sFxGlJFhLxVa",
        "zIcjhSn1QBKO",
        "4L16IuUWS4x9",
        "0-ZtLeqIPaJv",
        "5i0aLugCsGKV",
        "KD2CN35xsGNr",
        "1J3FXjZMrJCs",
        "6OK9CI08J_5o",
        "rlpUcfpGKs9T",
        "jmm7Rm7zk3UY",
        "VvjvOd3FdFN5"
      ]
    },
    "kernelspec": {
      "name": "python3",
      "display_name": "Python 3"
    },
    "language_info": {
      "name": "python"
    }
  },
  "cells": [
    {
      "cell_type": "markdown",
      "metadata": {
        "id": "Fcac-l7TZ0Er"
      },
      "source": [
        "## Download Data"
      ]
    },
    {
      "cell_type": "code",
      "metadata": {
        "colab": {
          "base_uri": "https://localhost:8080/"
        },
        "id": "u9mLJ89JgdZx",
        "outputId": "0f7fb34e-7941-415f-c092-d517bf393098"
      },
      "source": [
        "!wget http://snap.stanford.edu/data/amazon/productGraph/categoryFiles/reviews_Amazon_Instant_Video_5.json.gz"
      ],
      "execution_count": null,
      "outputs": [
        {
          "output_type": "stream",
          "text": [
            "--2021-04-04 10:51:15--  http://snap.stanford.edu/data/amazon/productGraph/categoryFiles/reviews_Amazon_Instant_Video_5.json.gz\n",
            "Resolving snap.stanford.edu (snap.stanford.edu)... 171.64.75.80\n",
            "Connecting to snap.stanford.edu (snap.stanford.edu)|171.64.75.80|:80... connected.\n",
            "HTTP request sent, awaiting response... 200 OK\n",
            "Length: 9517526 (9.1M) [application/x-gzip]\n",
            "Saving to: ‘reviews_Amazon_Instant_Video_5.json.gz’\n",
            "\n",
            "reviews_Amazon_Inst 100%[===================>]   9.08M  1.75MB/s    in 5.2s    \n",
            "\n",
            "2021-04-04 10:51:21 (1.75 MB/s) - ‘reviews_Amazon_Instant_Video_5.json.gz’ saved [9517526/9517526]\n",
            "\n"
          ],
          "name": "stdout"
        }
      ]
    },
    {
      "cell_type": "markdown",
      "metadata": {
        "id": "menv1WEwLKsB"
      },
      "source": [
        "## Importing required libraries"
      ]
    },
    {
      "cell_type": "code",
      "metadata": {
        "id": "Rc2KouwKI9wG",
        "colab": {
          "base_uri": "https://localhost:8080/"
        },
        "outputId": "92c1b4c6-835e-40a3-bd71-4c41dbbca75a"
      },
      "source": [
        "import re\n",
        "import os\n",
        "import json\n",
        "import gzip\n",
        "import numpy as np\n",
        "import pandas as pd\n",
        "from tqdm import tqdm\n",
        "import matplotlib.pyplot as plt\n",
        "\n",
        "from gensim.models import Word2Vec\n",
        "from gensim.models import KeyedVectors\n",
        "\n",
        "from sklearn.model_selection import train_test_split\n",
        "from sklearn.linear_model import LogisticRegression\n",
        "from sklearn.naive_bayes import GaussianNB, MultinomialNB , BernoulliNB\n",
        "from sklearn.tree import DecisionTreeClassifier\n",
        "from sklearn.metrics import classification_report,confusion_matrix,accuracy_score,f1_score,plot_confusion_matrix\n",
        "\n",
        "import nltk\n",
        "from nltk.corpus import stopwords \n",
        "from nltk.tokenize import word_tokenize\n",
        "from nltk.stem import WordNetLemmatizer \n",
        "\n",
        "%matplotlib inline\n",
        "import warnings\n",
        "warnings.filterwarnings(\"ignore\")\n",
        "\n",
        "nltk.download('punkt')\n",
        "nltk.download('wordnet')\n",
        "nltk.download('stopwords')\n",
        "nltk.download('averaged_perceptron_tagger')\n",
        "\n",
        "#!pip install ipython-autotime\n",
        "#%load_ext autotime"
      ],
      "execution_count": null,
      "outputs": [
        {
          "output_type": "stream",
          "text": [
            "[nltk_data] Downloading package punkt to /root/nltk_data...\n",
            "[nltk_data]   Unzipping tokenizers/punkt.zip.\n",
            "[nltk_data] Downloading package wordnet to /root/nltk_data...\n",
            "[nltk_data]   Unzipping corpora/wordnet.zip.\n",
            "[nltk_data] Downloading package stopwords to /root/nltk_data...\n",
            "[nltk_data]   Unzipping corpora/stopwords.zip.\n",
            "[nltk_data] Downloading package averaged_perceptron_tagger to\n",
            "[nltk_data]     /root/nltk_data...\n",
            "[nltk_data]   Unzipping taggers/averaged_perceptron_tagger.zip.\n"
          ],
          "name": "stdout"
        },
        {
          "output_type": "execute_result",
          "data": {
            "text/plain": [
              "True"
            ]
          },
          "metadata": {
            "tags": []
          },
          "execution_count": 2
        }
      ]
    },
    {
      "cell_type": "markdown",
      "metadata": {
        "id": "2-UXE7GoaGPp"
      },
      "source": [
        "## Loading Data"
      ]
    },
    {
      "cell_type": "code",
      "metadata": {
        "colab": {
          "base_uri": "https://localhost:8080/"
        },
        "id": "ZACgjmhDR-tH",
        "outputId": "d2a5514b-d0e4-4a25-a23e-1546b987647b"
      },
      "source": [
        "# load data\n",
        "data = []\n",
        "with gzip.open('reviews_Amazon_Instant_Video_5.json.gz') as file:\n",
        "    for line in file:\n",
        "        data.append(json.loads(line.strip()))\n",
        "\n",
        "# convert list into pandas dataframe\n",
        "df = pd.DataFrame.from_dict(data)\n",
        "\n",
        "print('Total number of reviews are: ',len(data))\n",
        "\n",
        "# Viewing first 5 reviews\n",
        "df.head(5)"
      ],
      "execution_count": null,
      "outputs": [
        {
          "output_type": "stream",
          "text": [
            "Total number of reviews are:  37126\n"
          ],
          "name": "stdout"
        },
        {
          "output_type": "execute_result",
          "data": {
            "text/html": [
              "<div>\n",
              "<style scoped>\n",
              "    .dataframe tbody tr th:only-of-type {\n",
              "        vertical-align: middle;\n",
              "    }\n",
              "\n",
              "    .dataframe tbody tr th {\n",
              "        vertical-align: top;\n",
              "    }\n",
              "\n",
              "    .dataframe thead th {\n",
              "        text-align: right;\n",
              "    }\n",
              "</style>\n",
              "<table border=\"1\" class=\"dataframe\">\n",
              "  <thead>\n",
              "    <tr style=\"text-align: right;\">\n",
              "      <th></th>\n",
              "      <th>reviewerID</th>\n",
              "      <th>asin</th>\n",
              "      <th>reviewerName</th>\n",
              "      <th>helpful</th>\n",
              "      <th>reviewText</th>\n",
              "      <th>overall</th>\n",
              "      <th>summary</th>\n",
              "      <th>unixReviewTime</th>\n",
              "      <th>reviewTime</th>\n",
              "    </tr>\n",
              "  </thead>\n",
              "  <tbody>\n",
              "    <tr>\n",
              "      <th>0</th>\n",
              "      <td>A11N155CW1UV02</td>\n",
              "      <td>B000H00VBQ</td>\n",
              "      <td>AdrianaM</td>\n",
              "      <td>[0, 0]</td>\n",
              "      <td>I had big expectations because I love English ...</td>\n",
              "      <td>2.0</td>\n",
              "      <td>A little bit boring for me</td>\n",
              "      <td>1399075200</td>\n",
              "      <td>05 3, 2014</td>\n",
              "    </tr>\n",
              "    <tr>\n",
              "      <th>1</th>\n",
              "      <td>A3BC8O2KCL29V2</td>\n",
              "      <td>B000H00VBQ</td>\n",
              "      <td>Carol T</td>\n",
              "      <td>[0, 0]</td>\n",
              "      <td>I highly recommend this series. It is a must f...</td>\n",
              "      <td>5.0</td>\n",
              "      <td>Excellent Grown Up TV</td>\n",
              "      <td>1346630400</td>\n",
              "      <td>09 3, 2012</td>\n",
              "    </tr>\n",
              "    <tr>\n",
              "      <th>2</th>\n",
              "      <td>A60D5HQFOTSOM</td>\n",
              "      <td>B000H00VBQ</td>\n",
              "      <td>Daniel Cooper \"dancoopermedia\"</td>\n",
              "      <td>[0, 1]</td>\n",
              "      <td>This one is a real snoozer. Don't believe anyt...</td>\n",
              "      <td>1.0</td>\n",
              "      <td>Way too boring for me</td>\n",
              "      <td>1381881600</td>\n",
              "      <td>10 16, 2013</td>\n",
              "    </tr>\n",
              "    <tr>\n",
              "      <th>3</th>\n",
              "      <td>A1RJPIGRSNX4PW</td>\n",
              "      <td>B000H00VBQ</td>\n",
              "      <td>J. Kaplan \"JJ\"</td>\n",
              "      <td>[0, 0]</td>\n",
              "      <td>Mysteries are interesting.  The tension betwee...</td>\n",
              "      <td>4.0</td>\n",
              "      <td>Robson Green is mesmerizing</td>\n",
              "      <td>1383091200</td>\n",
              "      <td>10 30, 2013</td>\n",
              "    </tr>\n",
              "    <tr>\n",
              "      <th>4</th>\n",
              "      <td>A16XRPF40679KG</td>\n",
              "      <td>B000H00VBQ</td>\n",
              "      <td>Michael Dobey</td>\n",
              "      <td>[1, 1]</td>\n",
              "      <td>This show always is excellent, as far as briti...</td>\n",
              "      <td>5.0</td>\n",
              "      <td>Robson green and great writing</td>\n",
              "      <td>1234310400</td>\n",
              "      <td>02 11, 2009</td>\n",
              "    </tr>\n",
              "  </tbody>\n",
              "</table>\n",
              "</div>"
            ],
            "text/plain": [
              "       reviewerID        asin  ... unixReviewTime   reviewTime\n",
              "0  A11N155CW1UV02  B000H00VBQ  ...     1399075200   05 3, 2014\n",
              "1  A3BC8O2KCL29V2  B000H00VBQ  ...     1346630400   09 3, 2012\n",
              "2   A60D5HQFOTSOM  B000H00VBQ  ...     1381881600  10 16, 2013\n",
              "3  A1RJPIGRSNX4PW  B000H00VBQ  ...     1383091200  10 30, 2013\n",
              "4  A16XRPF40679KG  B000H00VBQ  ...     1234310400  02 11, 2009\n",
              "\n",
              "[5 rows x 9 columns]"
            ]
          },
          "metadata": {
            "tags": []
          },
          "execution_count": 3
        }
      ]
    },
    {
      "cell_type": "markdown",
      "metadata": {
        "id": "x5X47qASjCKo"
      },
      "source": [
        "**Attribute Information:**\n",
        "\n",
        "1. reviewerID - ID of the reviewer, e.g. A2SUAM1J3GNN3B\n",
        "\n",
        "2. asin - ID of the product, e.g. 0000013714\n",
        "\n",
        "3. reviewerName - name of the reviewer\n",
        "\n",
        "4. helpful - helpful votes of the review\n",
        "\n",
        "5. reviewText - text of the review\n",
        "\n",
        "6. overall - rating of the product\n",
        "\n",
        "7. summary - summary of the review\n",
        "\n",
        "8. unixReviewTime - time of the review (unix time)\n",
        "\n",
        "9. reviewTime - time of the review (raw)\n"
      ]
    },
    {
      "cell_type": "code",
      "metadata": {
        "id": "w3hAGW63h4vt",
        "colab": {
          "base_uri": "https://localhost:8080/"
        },
        "outputId": "d1695560-2733-4ec4-9e0f-4a699a6a34aa"
      },
      "source": [
        "df.columns #verifying for columns"
      ],
      "execution_count": null,
      "outputs": [
        {
          "output_type": "execute_result",
          "data": {
            "text/plain": [
              "Index(['reviewerID', 'asin', 'reviewerName', 'helpful', 'reviewText',\n",
              "       'overall', 'summary', 'unixReviewTime', 'reviewTime'],\n",
              "      dtype='object')"
            ]
          },
          "metadata": {
            "tags": []
          },
          "execution_count": 4
        }
      ]
    },
    {
      "cell_type": "markdown",
      "metadata": {
        "id": "sFxGlJFhLxVa"
      },
      "source": [
        "## Modifying the overall to our requirements"
      ]
    },
    {
      "cell_type": "code",
      "metadata": {
        "id": "M2K-8eNMdCMm"
      },
      "source": [
        "def modify_overall(overall):\n",
        "  ''' \n",
        "  Function to modify overall:\n",
        "    overall greater than 3 is changed to 1(positive sentiment) \n",
        "    overall less than or equal to 3 is changed to 0(negative sentiment)\n",
        "  Input: overall\n",
        "  Output: Modified overall\n",
        "  '''\n",
        "  if overall <= 3:\n",
        "      return 0\n",
        "  return 1"
      ],
      "execution_count": null,
      "outputs": []
    },
    {
      "cell_type": "code",
      "metadata": {
        "id": "1PHOJnEmVTI9",
        "colab": {
          "base_uri": "https://localhost:8080/"
        },
        "outputId": "9df29b02-9261-48bc-9798-e2cb9327c141"
      },
      "source": [
        "actualScore = df['overall']\n",
        "new_score = actualScore.map(modify_overall) \n",
        "df['overall'] = new_score\n",
        "print(\"Number of data points in our data\", df.shape)\n",
        "df.head()"
      ],
      "execution_count": null,
      "outputs": [
        {
          "output_type": "stream",
          "text": [
            "Number of data points in our data (37126, 9)\n"
          ],
          "name": "stdout"
        },
        {
          "output_type": "execute_result",
          "data": {
            "text/html": [
              "<div>\n",
              "<style scoped>\n",
              "    .dataframe tbody tr th:only-of-type {\n",
              "        vertical-align: middle;\n",
              "    }\n",
              "\n",
              "    .dataframe tbody tr th {\n",
              "        vertical-align: top;\n",
              "    }\n",
              "\n",
              "    .dataframe thead th {\n",
              "        text-align: right;\n",
              "    }\n",
              "</style>\n",
              "<table border=\"1\" class=\"dataframe\">\n",
              "  <thead>\n",
              "    <tr style=\"text-align: right;\">\n",
              "      <th></th>\n",
              "      <th>reviewerID</th>\n",
              "      <th>asin</th>\n",
              "      <th>reviewerName</th>\n",
              "      <th>helpful</th>\n",
              "      <th>reviewText</th>\n",
              "      <th>overall</th>\n",
              "      <th>summary</th>\n",
              "      <th>unixReviewTime</th>\n",
              "      <th>reviewTime</th>\n",
              "    </tr>\n",
              "  </thead>\n",
              "  <tbody>\n",
              "    <tr>\n",
              "      <th>0</th>\n",
              "      <td>A11N155CW1UV02</td>\n",
              "      <td>B000H00VBQ</td>\n",
              "      <td>AdrianaM</td>\n",
              "      <td>[0, 0]</td>\n",
              "      <td>I had big expectations because I love English ...</td>\n",
              "      <td>0</td>\n",
              "      <td>A little bit boring for me</td>\n",
              "      <td>1399075200</td>\n",
              "      <td>05 3, 2014</td>\n",
              "    </tr>\n",
              "    <tr>\n",
              "      <th>1</th>\n",
              "      <td>A3BC8O2KCL29V2</td>\n",
              "      <td>B000H00VBQ</td>\n",
              "      <td>Carol T</td>\n",
              "      <td>[0, 0]</td>\n",
              "      <td>I highly recommend this series. It is a must f...</td>\n",
              "      <td>1</td>\n",
              "      <td>Excellent Grown Up TV</td>\n",
              "      <td>1346630400</td>\n",
              "      <td>09 3, 2012</td>\n",
              "    </tr>\n",
              "    <tr>\n",
              "      <th>2</th>\n",
              "      <td>A60D5HQFOTSOM</td>\n",
              "      <td>B000H00VBQ</td>\n",
              "      <td>Daniel Cooper \"dancoopermedia\"</td>\n",
              "      <td>[0, 1]</td>\n",
              "      <td>This one is a real snoozer. Don't believe anyt...</td>\n",
              "      <td>0</td>\n",
              "      <td>Way too boring for me</td>\n",
              "      <td>1381881600</td>\n",
              "      <td>10 16, 2013</td>\n",
              "    </tr>\n",
              "    <tr>\n",
              "      <th>3</th>\n",
              "      <td>A1RJPIGRSNX4PW</td>\n",
              "      <td>B000H00VBQ</td>\n",
              "      <td>J. Kaplan \"JJ\"</td>\n",
              "      <td>[0, 0]</td>\n",
              "      <td>Mysteries are interesting.  The tension betwee...</td>\n",
              "      <td>1</td>\n",
              "      <td>Robson Green is mesmerizing</td>\n",
              "      <td>1383091200</td>\n",
              "      <td>10 30, 2013</td>\n",
              "    </tr>\n",
              "    <tr>\n",
              "      <th>4</th>\n",
              "      <td>A16XRPF40679KG</td>\n",
              "      <td>B000H00VBQ</td>\n",
              "      <td>Michael Dobey</td>\n",
              "      <td>[1, 1]</td>\n",
              "      <td>This show always is excellent, as far as briti...</td>\n",
              "      <td>1</td>\n",
              "      <td>Robson green and great writing</td>\n",
              "      <td>1234310400</td>\n",
              "      <td>02 11, 2009</td>\n",
              "    </tr>\n",
              "  </tbody>\n",
              "</table>\n",
              "</div>"
            ],
            "text/plain": [
              "       reviewerID        asin  ... unixReviewTime   reviewTime\n",
              "0  A11N155CW1UV02  B000H00VBQ  ...     1399075200   05 3, 2014\n",
              "1  A3BC8O2KCL29V2  B000H00VBQ  ...     1346630400   09 3, 2012\n",
              "2   A60D5HQFOTSOM  B000H00VBQ  ...     1381881600  10 16, 2013\n",
              "3  A1RJPIGRSNX4PW  B000H00VBQ  ...     1383091200  10 30, 2013\n",
              "4  A16XRPF40679KG  B000H00VBQ  ...     1234310400  02 11, 2009\n",
              "\n",
              "[5 rows x 9 columns]"
            ]
          },
          "metadata": {
            "tags": []
          },
          "execution_count": 6
        }
      ]
    },
    {
      "cell_type": "markdown",
      "metadata": {
        "id": "zIcjhSn1QBKO"
      },
      "source": [
        "## Cleaning Data"
      ]
    },
    {
      "cell_type": "code",
      "metadata": {
        "id": "sfe_J2roDT4M",
        "colab": {
          "base_uri": "https://localhost:8080/"
        },
        "outputId": "59d68c47-a16c-4de7-8df5-cb684ad50280"
      },
      "source": [
        "''' Remove the duplicates which have same reviewerID, asin, unixReviewTime, and reviewText '''\n",
        "new = df.drop_duplicates(subset={\"reviewerID\",\"asin\",\"unixReviewTime\",\"reviewText\"}, keep='first', inplace=False)\n",
        "new.shape"
      ],
      "execution_count": null,
      "outputs": [
        {
          "output_type": "execute_result",
          "data": {
            "text/plain": [
              "(37126, 9)"
            ]
          },
          "metadata": {
            "tags": []
          },
          "execution_count": 7
        }
      ]
    },
    {
      "cell_type": "code",
      "metadata": {
        "id": "qAOsFslV8yIT"
      },
      "source": [
        "\n",
        "stopwords= set(['br', 'the', 'i', 'me', 'my', 'myself', 'we', 'our', 'ours', 'ourselves', 'you', \"you're\", \"you've\",\\\n",
        "            \"you'll\", \"you'd\", 'your', 'yours', 'yourself', 'yourselves', 'he', 'him', 'his', 'himself', \\\n",
        "            'she', \"she's\", 'her', 'hers', 'herself', 'it', \"it's\", 'its', 'itself', 'they', 'them', 'their',\\\n",
        "            'theirs', 'themselves', 'what', 'which', 'who', 'whom', 'this', 'that', \"that'll\", 'these', 'those', \\\n",
        "            'am', 'is', 'are', 'was', 'were', 'be', 'been', 'being', 'have', 'has', 'had', 'having', 'do', 'does', \\\n",
        "            'did', 'doing', 'a', 'an', 'the', 'and', 'but', 'if', 'or', 'because', 'as', 'until', 'while', 'of', \\\n",
        "            'at', 'by', 'for', 'with', 'about', 'against', 'between', 'into', 'through', 'during', 'before', 'after',\\\n",
        "            'above', 'below', 'to', 'from', 'up', 'down', 'in', 'out', 'on', 'off', 'over', 'under', 'again', 'further',\\\n",
        "            'then', 'once', 'here', 'there', 'when', 'where', 'why', 'how', 'all', 'any', 'both', 'each', 'few', 'more',\\\n",
        "            'most', 'other', 'some', 'such', 'only', 'own', 'same', 'so', 'than', 'too', 'very', \\\n",
        "            's', 't', 'can', 'will', 'just', 'should', \"should've\", 'now', 'd', 'll', 'm', 'o', 're', \\\n",
        "            've', 'y', 'ma'])"
      ],
      "execution_count": null,
      "outputs": []
    },
    {
      "cell_type": "markdown",
      "metadata": {
        "id": "4L16IuUWS4x9"
      },
      "source": [
        "## Required functions"
      ]
    },
    {
      "cell_type": "code",
      "metadata": {
        "id": "Epjfb3e7oNkD"
      },
      "source": [
        "def decontracted(phrase):\n",
        "    ''' \n",
        "      Function used to decontact the words in the phrase\n",
        "      Input: phrase\n",
        "      Output: decontracted phrase\n",
        "    '''\n",
        "    phrase = re.sub(r\"won't\", \"will not\", phrase)\n",
        "    phrase = re.sub(r\"can\\'t\", \"can not\", phrase)\n",
        "    phrase = re.sub(r\"n\\'t\", \" not\", phrase)\n",
        "    phrase = re.sub(r\"\\'re\", \" are\", phrase)\n",
        "    phrase = re.sub(r\"\\'s\", \" is\", phrase)\n",
        "    phrase = re.sub(r\"\\'d\", \" would\", phrase)\n",
        "    phrase = re.sub(r\"\\'ll\", \" will\", phrase)\n",
        "    phrase = re.sub(r\"\\'t\", \" not\", phrase)\n",
        "    phrase = re.sub(r\"\\'ve\", \" have\", phrase)\n",
        "    phrase = re.sub(r\"\\'m\", \" am\", phrase)\n",
        "    return phrase"
      ],
      "execution_count": null,
      "outputs": []
    },
    {
      "cell_type": "code",
      "metadata": {
        "id": "3VVnSh7_IDHg"
      },
      "source": [
        "def pipeline(review): \n",
        "  '''\n",
        "     Input: list of review\n",
        "     Output: processed reviews \n",
        "  '''\n",
        "  processed_reviews = []\n",
        "  for sentence in tqdm(review):\n",
        "    sentence = sentence.lower() #converting all letters in the sentence to lowercase\n",
        "    sentence = decontracted(sentence) #decontact the sentence in the review\n",
        "    sentence = re.sub('[^A-Za-z]+', ' ', sentence) #retaining only alphabets in the sentence \n",
        "\n",
        "    #Word tokenization\n",
        "    word_tokens = word_tokenize(sentence) \n",
        "\n",
        "    #Stop word removal\n",
        "    filtered_sentence = [w for w in word_tokens if  w not in stopwords]\n",
        "    \n",
        "    #Lemmatization\n",
        "    wnl = WordNetLemmatizer()\n",
        "    filtered_sentence = [wnl.lemmatize(w) for w in filtered_sentence ]\n",
        "\n",
        "    final = ' '.join(filtered_sentence)\n",
        "    processed_reviews.append(final)\n",
        "  return processed_reviews\n"
      ],
      "execution_count": null,
      "outputs": []
    },
    {
      "cell_type": "markdown",
      "metadata": {
        "id": "0-ZtLeqIPaJv"
      },
      "source": [
        "## Creating required variables"
      ]
    },
    {
      "cell_type": "code",
      "metadata": {
        "id": "xilFcRj5Cwn3"
      },
      "source": [
        "reviews = df['reviewText'].values\n",
        "score = df['overall'].values"
      ],
      "execution_count": null,
      "outputs": []
    },
    {
      "cell_type": "code",
      "metadata": {
        "id": "zRepwJVanyie",
        "colab": {
          "base_uri": "https://localhost:8080/"
        },
        "outputId": "b353e4e4-0425-4b52-b0de-791bcdeb7021"
      },
      "source": [
        "#filtering review\n",
        "reviews = pipeline(reviews)"
      ],
      "execution_count": null,
      "outputs": [
        {
          "output_type": "stream",
          "text": [
            "100%|██████████| 37126/37126 [00:27<00:00, 1353.78it/s]\n"
          ],
          "name": "stderr"
        }
      ]
    },
    {
      "cell_type": "code",
      "metadata": {
        "id": "UhePvTWyn1Lm"
      },
      "source": [
        "reviews_train , reviews_test , score_train, score_test = train_test_split(reviews, score,test_size=0.2)"
      ],
      "execution_count": null,
      "outputs": []
    },
    {
      "cell_type": "code",
      "metadata": {
        "id": "qsHwx9wA4bkh",
        "colab": {
          "base_uri": "https://localhost:8080/"
        },
        "outputId": "262ec817-7b86-4286-a827-eee27537d25d"
      },
      "source": [
        "print(len(reviews_test),len(reviews_train),len(score_test),len(score_train))"
      ],
      "execution_count": null,
      "outputs": [
        {
          "output_type": "stream",
          "text": [
            "7426 29700 7426 29700\n"
          ],
          "name": "stdout"
        }
      ]
    },
    {
      "cell_type": "markdown",
      "metadata": {
        "id": "H2vO3bVYtCmE"
      },
      "source": [
        "# 1. Use the following vector space models\n",
        "a. CountVectorizer\n",
        "\n",
        "b. TF-IDF\n",
        "\n",
        "c. Any external vectorizer (cite the original paper)"
      ]
    },
    {
      "cell_type": "markdown",
      "metadata": {
        "id": "5i0aLugCsGKV"
      },
      "source": [
        "## CountVectorizer"
      ]
    },
    {
      "cell_type": "code",
      "metadata": {
        "id": "Ch2Xvbxdsos2",
        "colab": {
          "base_uri": "https://localhost:8080/"
        },
        "outputId": "1febf714-4751-4982-e7c0-f59e90920c3d"
      },
      "source": [
        "from sklearn.feature_extraction.text import CountVectorizer\n",
        "\n",
        "count_vect = CountVectorizer() \n",
        "\n",
        "#transformed train reviews\n",
        "count_vect_train = count_vect.fit_transform(reviews_train)\n",
        "\n",
        "#transformed test reviews\n",
        "count_vect_test =  count_vect.transform(reviews_test)\n",
        "\n",
        "print('count_vect_train size : ',count_vect_train.shape)\n",
        "print('count_vect_test size : ',count_vect_test.shape)\n",
        "\n"
      ],
      "execution_count": null,
      "outputs": [
        {
          "output_type": "stream",
          "text": [
            "count_vect_train size :  (29700, 43196)\n",
            "count_vect_test size :  (7426, 43196)\n"
          ],
          "name": "stdout"
        }
      ]
    },
    {
      "cell_type": "markdown",
      "metadata": {
        "id": "KD2CN35xsGNr"
      },
      "source": [
        "## TF-IDF"
      ]
    },
    {
      "cell_type": "code",
      "metadata": {
        "id": "udhf1500sdm-",
        "colab": {
          "base_uri": "https://localhost:8080/"
        },
        "outputId": "26ebb890-1cfe-4508-d8a2-51dcdd30971f"
      },
      "source": [
        "from sklearn.feature_extraction.text import TfidfTransformer\n",
        "from sklearn.feature_extraction.text import TfidfVectorizer\n",
        "\n",
        "tf_idf_vect = TfidfVectorizer(ngram_range=(1,2), min_df=10)\n",
        "\n",
        "#transformed train reviews\n",
        "tf_idf_vect_test = tf_idf_vect.fit_transform(reviews_train)\n",
        "\n",
        "#transformed test reviews\n",
        "tf_idf_vect_test =  tf_idf_vect.transform(reviews_test)\n",
        "\n",
        "print('tf_idf_vect_train size : ',tf_idf_vect_test.shape)\n",
        "print('tf_idf_vect_test size : ',tf_idf_vect_test.shape)\n"
      ],
      "execution_count": null,
      "outputs": [
        {
          "output_type": "stream",
          "text": [
            "tf_idf_vect_train size :  (7426, 20846)\n",
            "tf_idf_vect_test size :  (7426, 20846)\n"
          ],
          "name": "stdout"
        }
      ]
    },
    {
      "cell_type": "code",
      "metadata": {
        "colab": {
          "base_uri": "https://localhost:8080/"
        },
        "id": "3gZ1Y5Gwl16b",
        "outputId": "2aaa5232-dad5-4774-8921-9a28179ae20a"
      },
      "source": [
        "from joblib import dump, load\n",
        "dump(tf_idf_vect, 'tfidfmodel.joblib') "
      ],
      "execution_count": null,
      "outputs": [
        {
          "output_type": "execute_result",
          "data": {
            "text/plain": [
              "['tfidfmodel.joblib']"
            ]
          },
          "metadata": {
            "tags": []
          },
          "execution_count": 23
        }
      ]
    },
    {
      "cell_type": "markdown",
      "metadata": {
        "id": "1J3FXjZMrJCs"
      },
      "source": [
        " ## Hashing Vectorizer"
      ]
    },
    {
      "cell_type": "code",
      "metadata": {
        "id": "hO7vLPARr0Py"
      },
      "source": [
        "from sklearn.feature_extraction.text import HashingVectorizer\n"
      ],
      "execution_count": null,
      "outputs": []
    },
    {
      "cell_type": "code",
      "metadata": {
        "id": "sGjeLIbHr0SF",
        "colab": {
          "base_uri": "https://localhost:8080/"
        },
        "outputId": "2faf8b26-0949-4880-d9e7-18c9e57d279d"
      },
      "source": [
        "hash_vect = HashingVectorizer(binary = True, alternate_sign=False  , n_features=50)\n",
        "\n",
        "#transformed train reviews\n",
        "hash_vect_train = hash_vect.fit_transform(reviews_train)\n",
        "\n",
        "#transformed test reviews\n",
        "hash_vect_test =  hash_vect.transform(reviews_test)\n",
        "\n",
        "print('hash_vect_vect_train size : ',hash_vect_train.shape)\n",
        "print('hash_vect_test size : ',hash_vect_test.shape)\n",
        "\n"
      ],
      "execution_count": null,
      "outputs": [
        {
          "output_type": "stream",
          "text": [
            "hash_vect_vect_train size :  (29700, 50)\n",
            "hash_vect_test size :  (7426, 50)\n"
          ],
          "name": "stdout"
        }
      ]
    },
    {
      "cell_type": "markdown",
      "metadata": {
        "id": "FeOTbPqZtLbd"
      },
      "source": [
        "#2. Do sentiment analysis using all (a,b,c) using classical ML techniques\n",
        "a. Naive Bayes Model\n",
        "\n",
        "b. Decision Tree\n",
        "\n",
        "c. Logistic Regression\n",
        "\n",
        "#3. Report metrics [accuracy, f1 score, confusion matrix] for all the combinations in (1 and 2)\n",
        "\n",
        "\n"
      ]
    },
    {
      "cell_type": "markdown",
      "metadata": {
        "id": "6OK9CI08J_5o"
      },
      "source": [
        "## a. Naive Bayes Model"
      ]
    },
    {
      "cell_type": "markdown",
      "metadata": {
        "id": "rlpUcfpGKs9T"
      },
      "source": [
        "### CountVectorizer"
      ]
    },
    {
      "cell_type": "code",
      "metadata": {
        "id": "qipvMuEQKs95",
        "colab": {
          "base_uri": "https://localhost:8080/"
        },
        "outputId": "7380d180-48ec-43a0-d645-f32ed00eb58f"
      },
      "source": [
        "#training  the model\n",
        "\n",
        "NB_count_vect = MultinomialNB()\n",
        "\n",
        "NB_count_vect = NB_count_vect.fit(count_vect_train,score_train)\n",
        "print(NB_count_vect)"
      ],
      "execution_count": null,
      "outputs": [
        {
          "output_type": "stream",
          "text": [
            "MultinomialNB(alpha=1.0, class_prior=None, fit_prior=True)\n"
          ],
          "name": "stdout"
        }
      ]
    },
    {
      "cell_type": "code",
      "metadata": {
        "id": "wqtWkiimKs97"
      },
      "source": [
        "#Prediction\n",
        "NB_count_vect_predict=NB_count_vect.predict(count_vect_test)"
      ],
      "execution_count": null,
      "outputs": []
    },
    {
      "cell_type": "markdown",
      "metadata": {
        "id": "lu1okhQAKs98"
      },
      "source": [
        "#### Metrics"
      ]
    },
    {
      "cell_type": "code",
      "metadata": {
        "id": "-FwdvaGBKs98",
        "colab": {
          "base_uri": "https://localhost:8080/"
        },
        "outputId": "fff4aa5d-3339-4d10-f863-2a54674d43bf"
      },
      "source": [
        "# Accuracy\n",
        "\n",
        "NB_count_vect_acc = accuracy_score(score_test,NB_count_vect_predict)\n",
        "print(\"Accuracy Using Multinomial Naive Bayes and Count Vectorizer :\",round(NB_count_vect_acc*100,2),'%')"
      ],
      "execution_count": null,
      "outputs": [
        {
          "output_type": "stream",
          "text": [
            "Accuracy Using Multinomial Naive Bayes and Count Vectorizer : 84.96 %\n"
          ],
          "name": "stdout"
        }
      ]
    },
    {
      "cell_type": "code",
      "metadata": {
        "id": "LK6bphzuKs99",
        "colab": {
          "base_uri": "https://localhost:8080/"
        },
        "outputId": "acad907d-16b7-437c-a774-4953810343fd"
      },
      "source": [
        "#F1 Score\n",
        "NB_count_vect_f1_score = f1_score(score_test,NB_count_vect_predict)\n",
        "print(\"F1 Score Using Multinomial Naive Bayes classifier and Count Vectorizer :\",round(NB_count_vect_f1_score,2))"
      ],
      "execution_count": null,
      "outputs": [
        {
          "output_type": "stream",
          "text": [
            "F1 Score Using Multinomial Naive Bayes classifier and Count Vectorizer : 0.91\n"
          ],
          "name": "stdout"
        }
      ]
    },
    {
      "cell_type": "code",
      "metadata": {
        "id": "rMTI4LtkKs99",
        "colab": {
          "base_uri": "https://localhost:8080/",
          "height": 278
        },
        "outputId": "5ebf5ce6-3dd3-46ae-801a-8ac48a5af96a"
      },
      "source": [
        "#Confusion Matrix\n",
        "class_names = ['Negative','Positive']\n",
        "plot_confusion_matrix(NB_count_vect, count_vect_test, score_test,display_labels=class_names,cmap=plt.cm.Blues,values_format = '.0f')\n",
        "plt.show()"
      ],
      "execution_count": null,
      "outputs": [
        {
          "output_type": "display_data",
          "data": {
            "image/png": "[encoded data removed]",
            "text/plain": [
              "<Figure size 432x288 with 2 Axes>"
            ]
          },
          "metadata": {
            "tags": [],
            "needs_background": "light"
          }
        }
      ]
    },
    {
      "cell_type": "markdown",
      "metadata": {
        "id": "jmm7Rm7zk3UY"
      },
      "source": [
        "### TF-IDF"
      ]
    },
    {
      "cell_type": "code",
      "metadata": {
        "id": "Hm2MOUDHk3Uc",
        "colab": {
          "base_uri": "https://localhost:8080/"
        },
        "outputId": "f6ad905f-b5c3-41a6-ac0d-f7ae97e56b1b"
      },
      "source": [
        "#training  the model\n",
        "\n",
        "NB_tf_idf_vect = MultinomialNB()\n",
        "\n",
        "NB_tf_idf_vect = NB_tf_idf_vect.fit(tf_idf_vect_train,score_train)\n",
        "print(NB_tf_idf_vect)"
      ],
      "execution_count": null,
      "outputs": [
        {
          "output_type": "stream",
          "text": [
            "MultinomialNB(alpha=1.0, class_prior=None, fit_prior=True)\n"
          ],
          "name": "stdout"
        }
      ]
    },
    {
      "cell_type": "code",
      "metadata": {
        "id": "KGNvPZjJk3Uj"
      },
      "source": [
        "#Prediction\n",
        "NB_tf_idf_vect_predict=NB_tf_idf_vect.predict(tf_idf_vect_test)"
      ],
      "execution_count": null,
      "outputs": []
    },
    {
      "cell_type": "markdown",
      "metadata": {
        "id": "e2SHbssuk3Ul"
      },
      "source": [
        "#### Metrics"
      ]
    },
    {
      "cell_type": "code",
      "metadata": {
        "id": "otZSJFgxk3Um",
        "colab": {
          "base_uri": "https://localhost:8080/"
        },
        "outputId": "c2c276fd-fd66-4ac7-ac8c-776875b18757"
      },
      "source": [
        "# Accuracy\n",
        "\n",
        "NB_tf_idf_vect_acc = accuracy_score(score_test,NB_tf_idf_vect_predict)\n",
        "print(\"Accuracy Using Multinomial Naive Bayes and TF-IDF Vect :\",round(NB_tf_idf_vect_acc*100,2),'%')"
      ],
      "execution_count": null,
      "outputs": [
        {
          "output_type": "stream",
          "text": [
            "Accuracy Using Multinomial Naive Bayes and TF-IDF Vect : 84.23 %\n"
          ],
          "name": "stdout"
        }
      ]
    },
    {
      "cell_type": "code",
      "metadata": {
        "id": "ftBHTSHSk3Uo",
        "colab": {
          "base_uri": "https://localhost:8080/"
        },
        "outputId": "de077d43-8d08-4f88-c8cb-908530379b5b"
      },
      "source": [
        "#F1 Score\n",
        "NB_tf_idf_vect_f1_score = f1_score(score_test,NB_tf_idf_vect_predict)\n",
        "print(\"F1 Score Using Multinomial Naive Bayes classifier and TF-IDF Vect :\",round(NB_tf_idf_vect_f1_score,2))"
      ],
      "execution_count": null,
      "outputs": [
        {
          "output_type": "stream",
          "text": [
            "F1 Score Using Multinomial Naive Bayes classifier and TF-IDF Vect : 0.91\n"
          ],
          "name": "stdout"
        }
      ]
    },
    {
      "cell_type": "code",
      "metadata": {
        "id": "nRfOAQDnk3Up",
        "colab": {
          "base_uri": "https://localhost:8080/",
          "height": 278
        },
        "outputId": "9a4f25d1-4748-4bf6-d483-da6070d11bc5"
      },
      "source": [
        "#Confusion Matrix\n",
        "class_names = ['Negative','Positive']\n",
        "plot_confusion_matrix(NB_tf_idf_vect, tf_idf_vect_test, score_test,display_labels=class_names,cmap=plt.cm.Blues,values_format = '.0f')\n",
        "plt.show()"
      ],
      "execution_count": null,
      "outputs": [
        {
          "output_type": "display_data",
          "data": {
            "image/png": "[encoded data removed]",
            "text/plain": [
              "<Figure size 432x288 with 2 Axes>"
            ]
          },
          "metadata": {
            "tags": [],
            "needs_background": "light"
          }
        }
      ]
    },
    {
      "cell_type": "markdown",
      "metadata": {
        "id": "Zmbh4kSIdFN0"
      },
      "source": [
        "### Hashing Vectorizer"
      ]
    },
    {
      "cell_type": "code",
      "metadata": {
        "id": "FwgUcTMUdFN1",
        "colab": {
          "base_uri": "https://localhost:8080/"
        },
        "outputId": "5cbe0327-ece3-4d72-9ba1-fd4e077a22b4"
      },
      "source": [
        "#training  the model\n",
        "NB_hash_vect = BernoulliNB()\n",
        "\n",
        "NB_hash_vect = NB_hash_vect.fit(hash_vect_train,score_train)\n",
        "print(NB_hash_vect)"
      ],
      "execution_count": null,
      "outputs": [
        {
          "output_type": "stream",
          "text": [
            "BernoulliNB(alpha=1.0, binarize=0.0, class_prior=None, fit_prior=True)\n"
          ],
          "name": "stdout"
        }
      ]
    },
    {
      "cell_type": "code",
      "metadata": {
        "id": "X0jQ5MBkdFN4"
      },
      "source": [
        "#Prediction\n",
        "NB_hash_vect_predict=NB_hash_vect.predict(hash_vect_test)"
      ],
      "execution_count": null,
      "outputs": []
    },
    {
      "cell_type": "markdown",
      "metadata": {
        "id": "VvjvOd3FdFN5"
      },
      "source": [
        "#### Metrics"
      ]
    },
    {
      "cell_type": "code",
      "metadata": {
        "id": "TeNUl0XZdFN5",
        "colab": {
          "base_uri": "https://localhost:8080/"
        },
        "outputId": "529e9964-c41f-4899-deb2-0132b05cf240"
      },
      "source": [
        "# Accuracy\n",
        "\n",
        "NB_hash_vect_acc = accuracy_score(score_test,NB_hash_vect_predict)\n",
        "print(\"Accuracy Using Multinomial Naive Bayes with hash vect :\",round(NB_hash_vect_acc*100,2),'%')"
      ],
      "execution_count": null,
      "outputs": [
        {
          "output_type": "stream",
          "text": [
            "Accuracy Using Multinomial Naive Bayes with hash vect : 68.72 %\n"
          ],
          "name": "stdout"
        }
      ]
    },
    {
      "cell_type": "code",
      "metadata": {
        "id": "7UHt6XPEdFN6",
        "colab": {
          "base_uri": "https://localhost:8080/"
        },
        "outputId": "457b86ff-e268-44a6-82b6-4889bb07bae1"
      },
      "source": [
        "#F1 Score\n",
        "NB_hash_vect_f1_score = f1_score(score_test,NB_hash_vect_predict)\n",
        "print(\"F1 Score Using Multinomial Naive Bayes classifier with hash vect :\",round(NB_hash_vect_f1_score,2))"
      ],
      "execution_count": null,
      "outputs": [
        {
          "output_type": "stream",
          "text": [
            "F1 Score Using Multinomial Naive Bayes classifier with hash vect : 0.79\n"
          ],
          "name": "stdout"
        }
      ]
    },
    {
      "cell_type": "code",
      "metadata": {
        "id": "u6ep1ItSdFN6",
        "colab": {
          "base_uri": "https://localhost:8080/",
          "height": 278
        },
        "outputId": "86a52e23-01fb-4d7a-debf-1b77ffe9bb79"
      },
      "source": [
        "#Confusion Matrix\n",
        "class_names = ['Negative','Positive']\n",
        "plot_confusion_matrix(NB_hash_vect, hash_vect_test, score_test,display_labels=class_names,cmap=plt.cm.Blues,values_format = '.0f')\n",
        "plt.show()"
      ],
      "execution_count": null,
      "outputs": [
        {
          "output_type": "display_data",
          "data": {
            "image/png": "[encoded data removed]",
            "text/plain": [
              "<Figure size 432x288 with 2 Axes>"
            ]
          },
          "metadata": {
            "tags": [],
            "needs_background": "light"
          }
        }
      ]
    },
    {
      "cell_type": "markdown",
      "metadata": {
        "id": "HCuHsj0IJ5HN"
      },
      "source": [
        "## b. Decision Tree"
      ]
    },
    {
      "cell_type": "markdown",
      "metadata": {
        "id": "fQC_nv7nNn4J"
      },
      "source": [
        "### CountVectorizer"
      ]
    },
    {
      "cell_type": "code",
      "metadata": {
        "id": "SxH8O7onNn4q",
        "colab": {
          "base_uri": "https://localhost:8080/"
        },
        "outputId": "f3d18fa2-ee34-4b15-e707-e64f60b218b9"
      },
      "source": [
        "#training  the model\n",
        "\n",
        "Dtree_count_vect = DecisionTreeClassifier(random_state=0)\n",
        "\n",
        "Dtree_count_vect = Dtree_count_vect.fit(count_vect_train,score_train)\n",
        "print(Dtree_count_vect)"
      ],
      "execution_count": null,
      "outputs": [
        {
          "output_type": "stream",
          "text": [
            "DecisionTreeClassifier(ccp_alpha=0.0, class_weight=None, criterion='gini',\n",
            "                       max_depth=None, max_features=None, max_leaf_nodes=None,\n",
            "                       min_impurity_decrease=0.0, min_impurity_split=None,\n",
            "                       min_samples_leaf=1, min_samples_split=2,\n",
            "                       min_weight_fraction_leaf=0.0, presort='deprecated',\n",
            "                       random_state=0, splitter='best')\n"
          ],
          "name": "stdout"
        }
      ]
    },
    {
      "cell_type": "code",
      "metadata": {
        "id": "pg405umrNn4r"
      },
      "source": [
        "#Prediction\n",
        "Dtree_count_vect_predict=Dtree_count_vect.predict(count_vect_test)"
      ],
      "execution_count": null,
      "outputs": []
    },
    {
      "cell_type": "markdown",
      "metadata": {
        "id": "TVjx81HxNn4r"
      },
      "source": [
        "#### Metrics"
      ]
    },
    {
      "cell_type": "code",
      "metadata": {
        "id": "6RAh9x6lNn4s",
        "colab": {
          "base_uri": "https://localhost:8080/"
        },
        "outputId": "55d0c90f-4e8b-4aa0-ece6-ed6b651b4ad7"
      },
      "source": [
        "# Accuracy\n",
        "\n",
        "Dtree_count_vect_acc = accuracy_score(score_test,Dtree_count_vect_predict)\n",
        "print(\"Accuracy Using Decision Tree Classifier and Count Vectorizer :\",round(Dtree_count_vect_acc*100,2),'%')"
      ],
      "execution_count": null,
      "outputs": [
        {
          "output_type": "stream",
          "text": [
            "Accuracy Using Decision Tree Classifier and Count Vectorizer : 77.65 %\n"
          ],
          "name": "stdout"
        }
      ]
    },
    {
      "cell_type": "code",
      "metadata": {
        "id": "6kgwtiFCNn4s",
        "colab": {
          "base_uri": "https://localhost:8080/"
        },
        "outputId": "0260b145-e8fe-4998-ddf5-d5d06cd34c31"
      },
      "source": [
        "#F1 Score\n",
        "Dtree_count_vect_f1_score = f1_score(score_test,Dtree_count_vect_predict)\n",
        "print(\"F1 Score Using Decision Tree classifier and Count Vectorizer :\",round(Dtree_count_vect_f1_score,2))"
      ],
      "execution_count": null,
      "outputs": [
        {
          "output_type": "stream",
          "text": [
            "F1 Score Using Decision Tree classifier and Count Vectorizer : 0.86\n"
          ],
          "name": "stdout"
        }
      ]
    },
    {
      "cell_type": "code",
      "metadata": {
        "id": "KOZV6bJZNn4t",
        "colab": {
          "base_uri": "https://localhost:8080/",
          "height": 278
        },
        "outputId": "12446636-4c41-4cda-9c6a-46822bed4aef"
      },
      "source": [
        "#Confusion Matrix\n",
        "class_names = ['Negative','Positive']\n",
        "plot_confusion_matrix(Dtree_count_vect, count_vect_test, score_test,display_labels=class_names,cmap=plt.cm.Blues,values_format = '.0f')\n",
        "plt.show()"
      ],
      "execution_count": null,
      "outputs": [
        {
          "output_type": "display_data",
          "data": {
            "image/png": "[encoded data removed]",
            "text/plain": [
              "<Figure size 432x288 with 2 Axes>"
            ]
          },
          "metadata": {
            "tags": [],
            "needs_background": "light"
          }
        }
      ]
    },
    {
      "cell_type": "markdown",
      "metadata": {
        "id": "zf7lJl8_nbEZ"
      },
      "source": [
        "### TF-IDF"
      ]
    },
    {
      "cell_type": "code",
      "metadata": {
        "id": "0BVgNqQ9npDP",
        "colab": {
          "base_uri": "https://localhost:8080/"
        },
        "outputId": "e64d87df-3e7c-452e-f3bc-1062149e7236"
      },
      "source": [
        "#training  the model\n",
        "\n",
        "Dtree_tf_idf_vect = DecisionTreeClassifier(random_state=0)\n",
        "\n",
        "Dtree_tf_idf_vect = Dtree_tf_idf_vect.fit(tf_idf_vect_train,score_train)\n",
        "print(Dtree_tf_idf_vect)"
      ],
      "execution_count": null,
      "outputs": [
        {
          "output_type": "stream",
          "text": [
            "DecisionTreeClassifier(ccp_alpha=0.0, class_weight=None, criterion='gini',\n",
            "                       max_depth=None, max_features=None, max_leaf_nodes=None,\n",
            "                       min_impurity_decrease=0.0, min_impurity_split=None,\n",
            "                       min_samples_leaf=1, min_samples_split=2,\n",
            "                       min_weight_fraction_leaf=0.0, presort='deprecated',\n",
            "                       random_state=0, splitter='best')\n"
          ],
          "name": "stdout"
        }
      ]
    },
    {
      "cell_type": "code",
      "metadata": {
        "id": "hVrDfhifnpDU"
      },
      "source": [
        "#Prediction\n",
        "Dtree_tf_idf_vect_predict=Dtree_tf_idf_vect.predict(tf_idf_vect_test)"
      ],
      "execution_count": null,
      "outputs": []
    },
    {
      "cell_type": "markdown",
      "metadata": {
        "id": "gsC-O-v2npDW"
      },
      "source": [
        "#### Metrics"
      ]
    },
    {
      "cell_type": "code",
      "metadata": {
        "id": "GTj_7F4unpDX",
        "colab": {
          "base_uri": "https://localhost:8080/"
        },
        "outputId": "222e1336-b5c5-45aa-d1a4-5c5c61e96abb"
      },
      "source": [
        "# Accuracy\n",
        "\n",
        "Dtree_tf_idf_vect_acc = accuracy_score(score_test,Dtree_tf_idf_vect_predict)\n",
        "print(\"Accuracy Using Decision Tree Classifier and TF-IDF Vector :\",round(Dtree_tf_idf_vect_acc*100,2),'%')"
      ],
      "execution_count": null,
      "outputs": [
        {
          "output_type": "stream",
          "text": [
            "Accuracy Using Decision Tree Classifier and TF-IDF Vector : 76.88 %\n"
          ],
          "name": "stdout"
        }
      ]
    },
    {
      "cell_type": "code",
      "metadata": {
        "id": "gdcPCRpYnpDZ",
        "colab": {
          "base_uri": "https://localhost:8080/"
        },
        "outputId": "3f2d68a9-83b7-4ad6-cce2-2c65c6d35aec"
      },
      "source": [
        "#F1 Score\n",
        "Dtree_tf_idf_vect_f1_score = f1_score(score_test,Dtree_tf_idf_vect_predict)\n",
        "print(\"F1 Score Using Decision Tree classifier and TF-IDF :\",round(Dtree_tf_idf_vect_f1_score,2))"
      ],
      "execution_count": null,
      "outputs": [
        {
          "output_type": "stream",
          "text": [
            "F1 Score Using Decision Tree classifier and TF-IDF : 0.85\n"
          ],
          "name": "stdout"
        }
      ]
    },
    {
      "cell_type": "code",
      "metadata": {
        "id": "os73Hp5rnpDb",
        "colab": {
          "base_uri": "https://localhost:8080/",
          "height": 281
        },
        "outputId": "b796e33e-095d-4a60-adea-7f3a71e3f9df"
      },
      "source": [
        "#Confusion Matrix\n",
        "class_names = ['Negative','Positive']\n",
        "plot_confusion_matrix(Dtree_tf_idf_vect, tf_idf_vect_test, score_test,display_labels=class_names,cmap=plt.cm.Blues,values_format = '.0f')\n",
        "plt.show()"
      ],
      "execution_count": null,
      "outputs": [
        {
          "output_type": "display_data",
          "data": {
            "image/png": "[encoded data removed]",
            "text/plain": [
              "<Figure size 432x288 with 2 Axes>"
            ]
          },
          "metadata": {
            "tags": [],
            "needs_background": "light"
          }
        }
      ]
    },
    {
      "cell_type": "markdown",
      "metadata": {
        "id": "aSeg9BEF47qI"
      },
      "source": [
        "### Hashing Vectorizer"
      ]
    },
    {
      "cell_type": "code",
      "metadata": {
        "colab": {
          "base_uri": "https://localhost:8080/"
        },
        "id": "Kmq9ze_j47qJ",
        "outputId": "2504757c-ec14-4f3d-de64-1b1cc0168187"
      },
      "source": [
        "#training  the model\n",
        "\n",
        "Dtree_hash_vect = DecisionTreeClassifier(random_state=0)\n",
        "\n",
        "Dtree_hash_vect = Dtree_hash_vect.fit(hash_vect_train,score_train)\n",
        "print(Dtree_hash_vect)"
      ],
      "execution_count": null,
      "outputs": [
        {
          "output_type": "stream",
          "text": [
            "DecisionTreeClassifier(ccp_alpha=0.0, class_weight=None, criterion='gini',\n",
            "                       max_depth=None, max_features=None, max_leaf_nodes=None,\n",
            "                       min_impurity_decrease=0.0, min_impurity_split=None,\n",
            "                       min_samples_leaf=1, min_samples_split=2,\n",
            "                       min_weight_fraction_leaf=0.0, presort='deprecated',\n",
            "                       random_state=0, splitter='best')\n"
          ],
          "name": "stdout"
        }
      ]
    },
    {
      "cell_type": "code",
      "metadata": {
        "id": "AL3iU7L947qJ"
      },
      "source": [
        "#Prediction\n",
        "Dtree_hash_vect_predict=Dtree_hash_vect.predict(hash_vect_test)"
      ],
      "execution_count": null,
      "outputs": []
    },
    {
      "cell_type": "markdown",
      "metadata": {
        "id": "abZtvUif47qK"
      },
      "source": [
        "#### Metrics"
      ]
    },
    {
      "cell_type": "code",
      "metadata": {
        "colab": {
          "base_uri": "https://localhost:8080/"
        },
        "id": "IrAP9KSX47qL",
        "outputId": "c42854e3-fde0-49a7-884e-6473683953f4"
      },
      "source": [
        "# Accuracy\n",
        "\n",
        "Dtree_hash_vect_acc = accuracy_score(score_test,Dtree_hash_vect_predict)\n",
        "print(\"Accuracy Using Decision Tree with hash vect :\",round(Dtree_hash_vect_acc*100,2),'%')"
      ],
      "execution_count": null,
      "outputs": [
        {
          "output_type": "stream",
          "text": [
            "Accuracy Using Decision Tree with hash vect : 69.77 %\n"
          ],
          "name": "stdout"
        }
      ]
    },
    {
      "cell_type": "code",
      "metadata": {
        "colab": {
          "base_uri": "https://localhost:8080/"
        },
        "id": "SrXKRdEU47qL",
        "outputId": "222d0f40-a5ba-47a5-cbc9-c5cf7126b830"
      },
      "source": [
        "#F1 Score\n",
        "Dtree_hash_vect_f1_score = f1_score(score_test,Dtree_hash_vect_predict)\n",
        "print(\"F1 Score Decision Tree classifier with hash vect :\",round(Dtree_hash_vect_f1_score,2))"
      ],
      "execution_count": null,
      "outputs": [
        {
          "output_type": "stream",
          "text": [
            "F1 Score Decision Tree classifier with hash vect : 0.81\n"
          ],
          "name": "stdout"
        }
      ]
    },
    {
      "cell_type": "code",
      "metadata": {
        "colab": {
          "base_uri": "https://localhost:8080/",
          "height": 278
        },
        "id": "yNAl6gOk47qM",
        "outputId": "925f95e9-339f-4f13-a99a-bc73c83fa568"
      },
      "source": [
        "#Confusion Matrix\n",
        "class_names = ['Negative','Positive']\n",
        "plot_confusion_matrix(Dtree_hash_vect, hash_vect_test, score_test,display_labels=class_names,cmap=plt.cm.Blues,values_format = '.0f')\n",
        "plt.show()"
      ],
      "execution_count": null,
      "outputs": [
        {
          "output_type": "display_data",
          "data": {
            "image/png": "[encoded data removed]",
            "text/plain": [
              "<Figure size 432x288 with 2 Axes>"
            ]
          },
          "metadata": {
            "tags": [],
            "needs_background": "light"
          }
        }
      ]
    },
    {
      "cell_type": "markdown",
      "metadata": {
        "id": "e6NMhyV7KXK8"
      },
      "source": [
        "## c. Logistic Regression"
      ]
    },
    {
      "cell_type": "markdown",
      "metadata": {
        "id": "jAq31DTrAv2A"
      },
      "source": [
        "### CountVectorizer"
      ]
    },
    {
      "cell_type": "code",
      "metadata": {
        "id": "ceJZVLTOvPhL",
        "colab": {
          "base_uri": "https://localhost:8080/"
        },
        "outputId": "d97b928b-2c2e-42ca-ddb1-9f34dad1b14a"
      },
      "source": [
        "#training  the model\n",
        "\n",
        "lr_count_vect = LogisticRegression(penalty='l2',max_iter=500,C=1,random_state=42)\n",
        "\n",
        "lr_count_vect = lr_count_vect.fit(count_vect_train,score_train)\n",
        "print(lr_count_vect)"
      ],
      "execution_count": null,
      "outputs": [
        {
          "output_type": "stream",
          "text": [
            "LogisticRegression(C=1, class_weight=None, dual=False, fit_intercept=True,\n",
            "                   intercept_scaling=1, l1_ratio=None, max_iter=500,\n",
            "                   multi_class='auto', n_jobs=None, penalty='l2',\n",
            "                   random_state=42, solver='lbfgs', tol=0.0001, verbose=0,\n",
            "                   warm_start=False)\n"
          ],
          "name": "stdout"
        }
      ]
    },
    {
      "cell_type": "code",
      "metadata": {
        "id": "IQKX6WunCYYp"
      },
      "source": [
        "#Prediction\n",
        "lr_count_vect_predict=lr_count_vect.predict(count_vect_test)"
      ],
      "execution_count": null,
      "outputs": []
    },
    {
      "cell_type": "markdown",
      "metadata": {
        "id": "M9NheWvBCjG4"
      },
      "source": [
        "#### Metrics"
      ]
    },
    {
      "cell_type": "code",
      "metadata": {
        "id": "7iIUMOlpvPmT",
        "colab": {
          "base_uri": "https://localhost:8080/"
        },
        "outputId": "64b35e70-6d59-40f8-c239-9886a8b898a9"
      },
      "source": [
        "# Accuracy\n",
        "\n",
        "lr_count_vect_acc = accuracy_score(score_test,lr_count_vect_predict)\n",
        "print(\"Accuracy Using Linear Regression and Count Vectorizer :\",round(lr_count_vect_acc*100,2),'%')"
      ],
      "execution_count": null,
      "outputs": [
        {
          "output_type": "stream",
          "text": [
            "Accuracy Using Linear Regression and Count Vectorizer : 86.14 %\n"
          ],
          "name": "stdout"
        }
      ]
    },
    {
      "cell_type": "code",
      "metadata": {
        "id": "0ogsRbjUNi48",
        "colab": {
          "base_uri": "https://localhost:8080/"
        },
        "outputId": "701cf893-6d35-4ca8-c38e-4e55c9625193"
      },
      "source": [
        "#F1 Score\n",
        "lr_count_vect_f1_score = f1_score(score_test,lr_count_vect_predict)\n",
        "print(\"F1 Score Using Linear Regression and Count Vectorizer :\",round(lr_count_vect_f1_score,2))"
      ],
      "execution_count": null,
      "outputs": [
        {
          "output_type": "stream",
          "text": [
            "F1 Score Using Linear Regression and Count Vectorizer : 0.91\n"
          ],
          "name": "stdout"
        }
      ]
    },
    {
      "cell_type": "code",
      "metadata": {
        "id": "UMbfzzcCDvCu",
        "colab": {
          "base_uri": "https://localhost:8080/",
          "height": 278
        },
        "outputId": "4d976fb2-aa3c-4119-a62b-0751d96a9317"
      },
      "source": [
        "#Confusion Matrix\n",
        "class_names = ['Negative','Positive']\n",
        "plot_confusion_matrix(lr_count_vect, count_vect_test, score_test,display_labels=class_names,cmap=plt.cm.Blues,values_format = '.0f')\n",
        "plt.show()"
      ],
      "execution_count": null,
      "outputs": [
        {
          "output_type": "display_data",
          "data": {
            "image/png": "[encoded data removed]",
            "text/plain": [
              "<Figure size 432x288 with 2 Axes>"
            ]
          },
          "metadata": {
            "tags": [],
            "needs_background": "light"
          }
        }
      ]
    },
    {
      "cell_type": "markdown",
      "metadata": {
        "id": "nj9vBzd4pbhB"
      },
      "source": [
        "### TF-IDF"
      ]
    },
    {
      "cell_type": "code",
      "metadata": {
        "id": "qDBBolmLpgjP",
        "colab": {
          "base_uri": "https://localhost:8080/"
        },
        "outputId": "8c2d6f0c-851c-4b2b-b8a2-42a0fbe4c67b"
      },
      "source": [
        "#training  the model\n",
        "\n",
        "lr_tf_idf_vect = LogisticRegression(penalty='l2',max_iter=500,C=1,random_state=42)\n",
        "\n",
        "lr_tf_idf_vect.fit(tf_idf_vect_train,score_train)\n",
        "print(lr_tf_idf_vect)"
      ],
      "execution_count": null,
      "outputs": [
        {
          "output_type": "stream",
          "text": [
            "LogisticRegression(C=1, class_weight=None, dual=False, fit_intercept=True,\n",
            "                   intercept_scaling=1, l1_ratio=None, max_iter=500,\n",
            "                   multi_class='auto', n_jobs=None, penalty='l2',\n",
            "                   random_state=42, solver='lbfgs', tol=0.0001, verbose=0,\n",
            "                   warm_start=False)\n"
          ],
          "name": "stdout"
        }
      ]
    },
    {
      "cell_type": "code",
      "metadata": {
        "colab": {
          "base_uri": "https://localhost:8080/"
        },
        "id": "VV6S-C-UfsSR",
        "outputId": "26d0267b-99ec-40fd-e9e5-61c1f5c7f371"
      },
      "source": [
        "from joblib import dump, load\n",
        "dump(lr_tf_idf_vect, 'lrmodel.joblib') "
      ],
      "execution_count": null,
      "outputs": [
        {
          "output_type": "execute_result",
          "data": {
            "text/plain": [
              "['lrmodel.joblib']"
            ]
          },
          "metadata": {
            "tags": []
          },
          "execution_count": 18
        }
      ]
    },
    {
      "cell_type": "code",
      "metadata": {
        "id": "0RC3l-RdpgjW"
      },
      "source": [
        "#Prediction\n",
        "lr_tf_idf_vect_predict=lr_tf_idf_vect.predict(tf_idf_vect_test)"
      ],
      "execution_count": null,
      "outputs": []
    },
    {
      "cell_type": "markdown",
      "metadata": {
        "id": "Eaoa3udypgjX"
      },
      "source": [
        "#### Metrics"
      ]
    },
    {
      "cell_type": "code",
      "metadata": {
        "id": "DZAf1pxDpgjY",
        "colab": {
          "base_uri": "https://localhost:8080/"
        },
        "outputId": "a6f0824f-5142-4c64-a5c6-509146e8e7b4"
      },
      "source": [
        "# Accuracy\n",
        "\n",
        "lr_tf_idf_vect_acc = accuracy_score(score_test,lr_tf_idf_vect_predict)\n",
        "print(\"Accuracy Using Linear Regression and TF-IDF Vector :\",round(lr_tf_idf_vect_acc*100,2),'%')"
      ],
      "execution_count": null,
      "outputs": [
        {
          "output_type": "stream",
          "text": [
            "Accuracy Using Linear Regression and TF-IDF Vector : 87.33 %\n"
          ],
          "name": "stdout"
        }
      ]
    },
    {
      "cell_type": "code",
      "metadata": {
        "id": "Vl1Jxs8EpgjZ",
        "colab": {
          "base_uri": "https://localhost:8080/"
        },
        "outputId": "4068d98b-6bff-48db-bd44-caf417c06cbe"
      },
      "source": [
        "#F1 Score\n",
        "lr_tf_idf_vect_f1_score = f1_score(score_test,lr_tf_idf_vect_predict)\n",
        "print(\"F1 Score Using Linear Regression and TF-IDF Vector :\",round(lr_tf_idf_vect_f1_score,2))"
      ],
      "execution_count": null,
      "outputs": [
        {
          "output_type": "stream",
          "text": [
            "F1 Score Using Linear Regression and TF-IDF Vector : 0.92\n"
          ],
          "name": "stdout"
        }
      ]
    },
    {
      "cell_type": "code",
      "metadata": {
        "id": "ciWPYRjFpgja",
        "colab": {
          "base_uri": "https://localhost:8080/"
        },
        "outputId": "5c772e07-946a-459f-9642-91c7cb8c2e78"
      },
      "source": [
        "#Confusion Matrix\n",
        "class_names = ['Negative','Positive']\n",
        "plot_confusion_matrix(lr_tf_idf_vect, tf_idf_vect_test, score_test,display_labels=class_names,cmap=plt.cm.Blues,values_format = '.0f')\n",
        "plt.show()"
      ],
      "execution_count": null,
      "outputs": [
        {
          "output_type": "display_data",
          "data": {
            "image/png": "[encoded data removed]",
            "text/plain": [
              "<Figure size 432x288 with 2 Axes>"
            ]
          },
          "metadata": {
            "tags": [],
            "needs_background": "light"
          }
        }
      ]
    },
    {
      "cell_type": "markdown",
      "metadata": {
        "id": "uBoNKgdv6GCR"
      },
      "source": [
        "### Hashing Vectorizer"
      ]
    },
    {
      "cell_type": "code",
      "metadata": {
        "colab": {
          "base_uri": "https://localhost:8080/"
        },
        "id": "jlvjz94V6GC4",
        "outputId": "6386ab6e-bb9f-4c4a-e805-9068b36bdb8b"
      },
      "source": [
        "#training  the model\n",
        "\n",
        "lr_hash_vect = LogisticRegression(penalty='l2',max_iter=500,C=1,random_state=42)\n",
        "\n",
        "lr_hash_vect = lr_hash_vect.fit(hash_vect_train,score_train)\n",
        "print(lr_hash_vect)"
      ],
      "execution_count": null,
      "outputs": [
        {
          "output_type": "stream",
          "text": [
            "LogisticRegression(C=1, class_weight=None, dual=False, fit_intercept=True,\n",
            "                   intercept_scaling=1, l1_ratio=None, max_iter=500,\n",
            "                   multi_class='auto', n_jobs=None, penalty='l2',\n",
            "                   random_state=42, solver='lbfgs', tol=0.0001, verbose=0,\n",
            "                   warm_start=False)\n"
          ],
          "name": "stdout"
        }
      ]
    },
    {
      "cell_type": "code",
      "metadata": {
        "id": "FqC9P-xJ6GC7"
      },
      "source": [
        "#Prediction\n",
        "lr_hash_vect_predict=lr_hash_vect.predict(hash_vect_test)"
      ],
      "execution_count": null,
      "outputs": []
    },
    {
      "cell_type": "markdown",
      "metadata": {
        "id": "ulNY18bd6GC8"
      },
      "source": [
        "#### Metrics"
      ]
    },
    {
      "cell_type": "code",
      "metadata": {
        "colab": {
          "base_uri": "https://localhost:8080/"
        },
        "id": "MAZf4ce46GC9",
        "outputId": "966e562c-9733-4492-af7f-d9471c4b2c9d"
      },
      "source": [
        "# Accuracy\n",
        "\n",
        "lr_hash_vect_acc = accuracy_score(score_test,lr_hash_vect_predict)\n",
        "print(\"Accuracy Using Linear Regression with hash vect :\",round(lr_hash_vect_acc*100,2),'%')"
      ],
      "execution_count": null,
      "outputs": [
        {
          "output_type": "stream",
          "text": [
            "Accuracy Using Linear Regression with hash vect : 79.83 %\n"
          ],
          "name": "stdout"
        }
      ]
    },
    {
      "cell_type": "code",
      "metadata": {
        "colab": {
          "base_uri": "https://localhost:8080/"
        },
        "id": "iK7eAmkp6GC-",
        "outputId": "3b7888c5-90c8-4c75-b417-a25244845694"
      },
      "source": [
        "#F1 Score\n",
        "lr_hash_vect_f1_score = f1_score(score_test,lr_hash_vect_predict)\n",
        "print(\"F1 Score Using Linear Regression classifier with hash vect :\",round(lr_hash_vect_f1_score,2))"
      ],
      "execution_count": null,
      "outputs": [
        {
          "output_type": "stream",
          "text": [
            "F1 Score Using Linear Regression classifier with hash vect : 0.89\n"
          ],
          "name": "stdout"
        }
      ]
    },
    {
      "cell_type": "code",
      "metadata": {
        "colab": {
          "base_uri": "https://localhost:8080/",
          "height": 278
        },
        "id": "nxebsLdp6GC_",
        "outputId": "ab90ea26-2b3d-4ae1-df5e-bd6bbb984060"
      },
      "source": [
        "#Confusion Matrix\n",
        "class_names = ['Negative','Positive']\n",
        "plot_confusion_matrix(lr_hash_vect, hash_vect_test, score_test,display_labels=class_names,cmap=plt.cm.Blues,values_format = '.0f')\n",
        "plt.show()"
      ],
      "execution_count": null,
      "outputs": [
        {
          "output_type": "display_data",
          "data": {
            "image/png": "[encoded data removed]",
            "text/plain": [
              "<Figure size 432x288 with 2 Axes>"
            ]
          },
          "metadata": {
            "tags": [],
            "needs_background": "light"
          }
        }
      ]
    },
    {
      "cell_type": "code",
      "metadata": {
        "id": "Susg3oCq6ysT"
      },
      "source": [
        ""
      ],
      "execution_count": null,
      "outputs": []
    }
  ]
}